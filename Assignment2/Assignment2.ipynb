{
  "nbformat": 4,
  "nbformat_minor": 0,
  "metadata": {
    "colab": {
      "name": "Assignment2.ipynb",
      "provenance": [],
      "include_colab_link": true
    },
    "kernelspec": {
      "name": "python3",
      "display_name": "Python 3"
    },
    "accelerator": "GPU"
  },
  "cells": [
    {
      "cell_type": "markdown",
      "metadata": {
        "id": "view-in-github",
        "colab_type": "text"
      },
      "source": [
        "<a href=\"https://colab.research.google.com/github/Swathi1309/ED18B034_ME18B133_Assignment1/blob/main/Assignment2/Assignment2.ipynb\" target=\"_parent\"><img src=\"https://colab.research.google.com/assets/colab-badge.svg\" alt=\"Open In Colab\"/></a>"
      ]
    },
    {
      "cell_type": "code",
      "metadata": {
        "id": "nwpC4SmUV2Am"
      },
      "source": [
        "import tensorflow as tf\n",
        "from tensorflow import keras\n",
        "import tensorflow as tf\n",
        "from tensorflow.keras.layers import Dense, Flatten, Conv1D,Conv2D, BatchNormalization, Dropout, Activation, Softmax, MaxPooling2D\n",
        "from tensorflow.keras import Model\n",
        "from tensorflow.keras.optimizers import Adam,RMSprop\n",
        "import numpy as np\n",
        "import pandas as pd\n",
        "import os\n",
        "import cv2\n",
        "from  matplotlib import pyplot as plt\n",
        "import matplotlib.image as mpimg\n",
        "import random\n",
        "import pprint\n",
        "%matplotlib inline\n",
        "# from google.colab import drive\n",
        "# drive.mount('/content/drive')\n",
        "from sklearn.model_selection import train_test_split\n",
        "\n",
        "classes = ['Amphibia', 'Animalia', 'Arachnida', 'Aves', 'Fungi', 'Insecta', 'Mammalia', 'Mollusca', 'Plantae', 'Reptilia']"
      ],
      "execution_count": 1,
      "outputs": []
    },
    {
      "cell_type": "code",
      "metadata": {
        "colab": {
          "base_uri": "https://localhost:8080/",
          "height": 35
        },
        "id": "htDfj7oTd5TD",
        "outputId": "34afec0c-54a6-4472-9d59-eabedd1bdfd5"
      },
      "source": [
        "tf.__version__"
      ],
      "execution_count": null,
      "outputs": [
        {
          "output_type": "execute_result",
          "data": {
            "application/vnd.google.colaboratory.intrinsic+json": {
              "type": "string"
            },
            "text/plain": [
              "'2.4.1'"
            ]
          },
          "metadata": {
            "tags": []
          },
          "execution_count": 9
        }
      ]
    },
    {
      "cell_type": "code",
      "metadata": {
        "colab": {
          "base_uri": "https://localhost:8080/"
        },
        "id": "0qDInjFlMBk3",
        "outputId": "ca5b9a2b-d1f0-430e-b7c9-fc5da6181199"
      },
      "source": [
        "!pip install wandb\n",
        "!wandb login"
      ],
      "execution_count": 2,
      "outputs": [
        {
          "output_type": "stream",
          "text": [
            "Requirement already satisfied: wandb in /usr/local/lib/python3.7/dist-packages (0.10.24)\n",
            "Requirement already satisfied: psutil>=5.0.0 in /usr/local/lib/python3.7/dist-packages (from wandb) (5.4.8)\n",
            "Requirement already satisfied: docker-pycreds>=0.4.0 in /usr/local/lib/python3.7/dist-packages (from wandb) (0.4.0)\n",
            "Requirement already satisfied: configparser>=3.8.1 in /usr/local/lib/python3.7/dist-packages (from wandb) (5.0.2)\n",
            "Requirement already satisfied: shortuuid>=0.5.0 in /usr/local/lib/python3.7/dist-packages (from wandb) (1.0.1)\n",
            "Requirement already satisfied: PyYAML in /usr/local/lib/python3.7/dist-packages (from wandb) (3.13)\n",
            "Requirement already satisfied: pathtools in /usr/local/lib/python3.7/dist-packages (from wandb) (0.1.2)\n",
            "Requirement already satisfied: protobuf>=3.12.0 in /usr/local/lib/python3.7/dist-packages (from wandb) (3.12.4)\n",
            "Requirement already satisfied: subprocess32>=3.5.3 in /usr/local/lib/python3.7/dist-packages (from wandb) (3.5.4)\n",
            "Requirement already satisfied: sentry-sdk>=0.4.0 in /usr/local/lib/python3.7/dist-packages (from wandb) (1.0.0)\n",
            "Requirement already satisfied: Click>=7.0 in /usr/local/lib/python3.7/dist-packages (from wandb) (7.1.2)\n",
            "Requirement already satisfied: promise<3,>=2.0 in /usr/local/lib/python3.7/dist-packages (from wandb) (2.3)\n",
            "Requirement already satisfied: requests<3,>=2.0.0 in /usr/local/lib/python3.7/dist-packages (from wandb) (2.23.0)\n",
            "Requirement already satisfied: six>=1.13.0 in /usr/local/lib/python3.7/dist-packages (from wandb) (1.15.0)\n",
            "Requirement already satisfied: GitPython>=1.0.0 in /usr/local/lib/python3.7/dist-packages (from wandb) (3.1.14)\n",
            "Requirement already satisfied: python-dateutil>=2.6.1 in /usr/local/lib/python3.7/dist-packages (from wandb) (2.8.1)\n",
            "Requirement already satisfied: setuptools in /usr/local/lib/python3.7/dist-packages (from protobuf>=3.12.0->wandb) (54.2.0)\n",
            "Requirement already satisfied: urllib3>=1.10.0 in /usr/local/lib/python3.7/dist-packages (from sentry-sdk>=0.4.0->wandb) (1.24.3)\n",
            "Requirement already satisfied: certifi in /usr/local/lib/python3.7/dist-packages (from sentry-sdk>=0.4.0->wandb) (2020.12.5)\n",
            "Requirement already satisfied: chardet<4,>=3.0.2 in /usr/local/lib/python3.7/dist-packages (from requests<3,>=2.0.0->wandb) (3.0.4)\n",
            "Requirement already satisfied: idna<3,>=2.5 in /usr/local/lib/python3.7/dist-packages (from requests<3,>=2.0.0->wandb) (2.10)\n",
            "Requirement already satisfied: gitdb<5,>=4.0.1 in /usr/local/lib/python3.7/dist-packages (from GitPython>=1.0.0->wandb) (4.0.7)\n",
            "Requirement already satisfied: smmap<5,>=3.0.1 in /usr/local/lib/python3.7/dist-packages (from gitdb<5,>=4.0.1->GitPython>=1.0.0->wandb) (4.0.0)\n",
            "\u001b[34m\u001b[1mwandb\u001b[0m: Currently logged in as: \u001b[33mnarendv\u001b[0m (use `wandb login --relogin` to force relogin)\n"
          ],
          "name": "stdout"
        }
      ]
    },
    {
      "cell_type": "code",
      "metadata": {
        "colab": {
          "base_uri": "https://localhost:8080/",
          "height": 579
        },
        "id": "EDroFRDmMXN0",
        "outputId": "f3a1a23b-4578-4593-a79a-6d3a4df4633e"
      },
      "source": [
        "import wandb\n",
        "wandb.init(project=\"CS6910-assg2\", entity=\"narendv\")"
      ],
      "execution_count": 4,
      "outputs": [
        {
          "output_type": "display_data",
          "data": {
            "text/html": [
              "\n",
              "                Tracking run with wandb version 0.10.24<br/>\n",
              "                Syncing run <strong style=\"color:#cdcd00\">bumbling-totem-1</strong> to <a href=\"https://wandb.ai\" target=\"_blank\">Weights & Biases</a> <a href=\"https://docs.wandb.com/integrations/jupyter.html\" target=\"_blank\">(Documentation)</a>.<br/>\n",
              "                Project page: <a href=\"https://wandb.ai/narendv/CS6910-assg2\" target=\"_blank\">https://wandb.ai/narendv/CS6910-assg2</a><br/>\n",
              "                Run page: <a href=\"https://wandb.ai/narendv/CS6910-assg2/runs/18quxy47\" target=\"_blank\">https://wandb.ai/narendv/CS6910-assg2/runs/18quxy47</a><br/>\n",
              "                Run data is saved locally in <code>/content/wandb/run-20210404_154640-18quxy47</code><br/><br/>\n",
              "            "
            ],
            "text/plain": [
              "<IPython.core.display.HTML object>"
            ]
          },
          "metadata": {
            "tags": []
          }
        },
        {
          "output_type": "execute_result",
          "data": {
            "text/plain": [
              "<wandb.sdk.wandb_run.Run at 0x7f42a7deab10>"
            ],
            "text/html": [
              "<h1>Run(18quxy47)</h1><iframe src=\"https://wandb.ai/narendv/CS6910-assg2/runs/18quxy47\" style=\"border:none;width:100%;height:400px\"></iframe>"
            ]
          },
          "metadata": {
            "tags": []
          },
          "execution_count": 4
        }
      ]
    },
    {
      "cell_type": "code",
      "metadata": {
        "id": "OM-zwdYSo1ap"
      },
      "source": [
        "def load_train_data(dir, augment= True,batch=128):\n",
        "  seed=42\n",
        "  train_datagen = tf.keras.preprocessing.image.ImageDataGenerator(\n",
        "    rescale = 1./255,\n",
        "    samplewise_center = 0,\n",
        "    horizontal_flip = True,\n",
        "    rotation_range = 30,\n",
        "    validation_split = 0.1)\n",
        "  val_datagen = tf.keras.preprocessing.image.ImageDataGenerator(\n",
        "    rescale = 1./255,\n",
        "    samplewise_center = 0,\n",
        "    validation_split = 0.1)\n",
        "  train_aug_dataset = train_datagen.flow_from_directory(\n",
        "    dir,\n",
        "    target_size=(150,150),\n",
        "    batch_size=batch,\n",
        "    classes = ['Amphibia', 'Animalia', 'Arachnida', 'Aves', 'Fungi', 'Insecta', 'Mammalia', 'Mollusca', 'Plantae', 'Reptilia'],\n",
        "    class_mode='categorical',\n",
        "    subset = 'training',\n",
        "    seed = seed)\n",
        "\n",
        "  train_dataset = val_datagen.flow_from_directory(\n",
        "    dir,\n",
        "    target_size=(150,150),\n",
        "    batch_size=batch,\n",
        "    classes = ['Amphibia', 'Animalia', 'Arachnida', 'Aves', 'Fungi', 'Insecta', 'Mammalia', 'Mollusca', 'Plantae', 'Reptilia'],\n",
        "    class_mode='categorical',\n",
        "    subset = 'training',\n",
        "    seed = seed)\n",
        "  \n",
        "  val_dataset = val_datagen.flow_from_directory(\n",
        "    dir,\n",
        "    target_size=(150,150),\n",
        "    batch_size=batch,\n",
        "    classes = ['Amphibia', 'Animalia', 'Arachnida', 'Aves', 'Fungi', 'Insecta', 'Mammalia', 'Mollusca', 'Plantae', 'Reptilia'],\n",
        "    class_mode='categorical',\n",
        "    subset = 'validation',\n",
        "    seed = seed)\n",
        "  \n",
        "  return train_dataset, val_dataset"
      ],
      "execution_count": 18,
      "outputs": []
    },
    {
      "cell_type": "code",
      "metadata": {
        "id": "tS1dbW14N2Gq"
      },
      "source": [
        "learn_rate = keras.optimizers.schedules.ExponentialDecay(\n",
        "    initial_learning_rate=1e-2,\n",
        "    decay_steps=1000,\n",
        "    decay_rate=0.9)\n",
        "\n",
        "callback = tf.keras.callbacks.EarlyStopping(monitor='val_loss', patience=3)\n"
      ],
      "execution_count": 22,
      "outputs": []
    },
    {
      "cell_type": "code",
      "metadata": {
        "id": "gzIoeqngVtLq"
      },
      "source": [
        "def CNN_wo_BN(filter_matrix, kernel_matrix, activation_matrix, fdropout=0, dense_no=256, learning_rate=0.001):\n",
        "\n",
        "  # Input layer\n",
        "  X_input = keras.Input(shape=(150,150,3))\n",
        "\n",
        "  # Layer 1\n",
        "  X = Conv2D(filter_matrix[0], kernel_matrix[0])(X_input)\n",
        "  X = Activation(activation_matrix[0])(X)\n",
        "  X = MaxPooling2D(pool_size=(2, 2))(X)\n",
        "\n",
        "  # Layer 2\n",
        "  X = Conv2D(filter_matrix[1], kernel_matrix[1])(X)\n",
        "  X = Activation(activation_matrix[1])(X)\n",
        "  X = MaxPooling2D(pool_size=(2, 2))(X)\n",
        "\n",
        "  # Layer 3\n",
        "  X = Conv2D(filter_matrix[2], kernel_matrix[2])(X)\n",
        "  X = Activation(activation_matrix[2])(X)\n",
        "  X = MaxPooling2D(pool_size=(2, 2))(X)\n",
        "\n",
        "  # Layer 4\n",
        "  X = Conv2D(filter_matrix[3], kernel_matrix[3])(X)\n",
        "  X = Activation(activation_matrix[3])(X)\n",
        "  X = MaxPooling2D(pool_size=(2, 2))(X)\n",
        "\n",
        "  # Layer 5\n",
        "  X = Conv2D(filter_matrix[4], kernel_matrix[4])(X)\n",
        "  X = Activation(activation_matrix[4])(X)\n",
        "  X = MaxPooling2D(pool_size=(2, 2))(X)\n",
        "\n",
        "  X = Flatten()(X)\n",
        "  X = Dense(dense_no,activation=activation_matrix[5])(X)\n",
        "  X = Dropout(fdropout)(X)\n",
        "  X = Dense(10,activation='softmax')(X)\n",
        "  \n",
        "  model=Model(inputs=X_input,outputs=X)\n",
        "  model.compile(optimizer=Adam(learn_rate), loss='categorical_crossentropy',  metrics=['accuracy'])\n",
        "\n",
        "  return model"
      ],
      "execution_count": 15,
      "outputs": []
    },
    {
      "cell_type": "code",
      "metadata": {
        "id": "ZvurXgaSfK8U"
      },
      "source": [
        "def CNN_w_BN(filter_matrix, kernel_matrix, activation_matrix, fdropout=0, dense_no=256, learning_rate=0.001):\n",
        "\n",
        "  # Input layer\n",
        "  X_input = keras.Input(shape=(150,150,3))\n",
        "\n",
        "  # Layer 1\n",
        "  X = Conv2D(filter_matrix[0], kernel_matrix[0])(X_input)\n",
        "  X = BatchNormalization()(X)\n",
        "  X = Activation(activation_matrix[0])(X)\n",
        "  X = MaxPooling2D(pool_size=(2, 2))(X)\n",
        "\n",
        "  # Layer 2\n",
        "  X = Conv2D(filter_matrix[1], kernel_matrix[1])(X)\n",
        "  X = BatchNormalization()(X)\n",
        "  X = Activation(activation_matrix[1])(X)\n",
        "  X = MaxPooling2D(pool_size=(2, 2))(X)\n",
        "\n",
        "  # Layer 3\n",
        "  X = Conv2D(filter_matrix[2], kernel_matrix[2])(X)\n",
        "  X = BatchNormalization()(X)\n",
        "  X = Activation(activation_matrix[2])(X)\n",
        "  X = MaxPooling2D(pool_size=(2, 2))(X)\n",
        "\n",
        "  # Layer 4\n",
        "  X = Conv2D(filter_matrix[3], kernel_matrix[3])(X)\n",
        "  X = BatchNormalization()(X)\n",
        "  X = Activation(activation_matrix[3])(X)\n",
        "  X = MaxPooling2D(pool_size=(2, 2))(X)\n",
        "\n",
        "  # Layer 5\n",
        "  X = Conv2D(filter_matrix[4], kernel_matrix[4])(X)\n",
        "  X = BatchNormalization()(X)\n",
        "  X = Activation(activation_matrix[4])(X)\n",
        "  X = MaxPooling2D(pool_size=(2, 2))(X)\n",
        "\n",
        "  X = Flatten()(X)\n",
        "  X = Dense(dense_no,activation=activation_matrix[5])(X)\n",
        "  X = Dropout(fdropout)(X)\n",
        "  X = Dense(10,activation='softmax')(X)\n",
        "  \n",
        "  model=Model(inputs=X_input,outputs=X)\n",
        "  model.compile(optimizer=Adam(learn_rate), loss='categorical_crossentropy',  metrics=['accuracy'])\n",
        "\n",
        "  return model"
      ],
      "execution_count": 16,
      "outputs": []
    },
    {
      "cell_type": "code",
      "metadata": {
        "id": "aKPL9RF3Xrs9"
      },
      "source": [
        "def model_choose(highest_filter, filter_type, kernel_matrix, activation_matrix, dropout=0, dense_no=256, batch_norm=True, learning_rate=0.001):\n",
        "  if filter_type == 'constant':\n",
        "    filter_matrix = [filter_start]*4\n",
        "  elif filter_type == 'doubling':\n",
        "    filter_matrix = [highest_filter/16, highest_filter/8, highest_filter/4, highest_filter/2, highest_filter]\n",
        "  elif filter_type == 'halving':\n",
        "    filter_matrix = [highest_filter, highest_filter/2, highest_filter/4, highest_filter/8, highest_filter/16]\n",
        "  # wandb.log({\"Filters\": filter_matrix})\n",
        "\n",
        "  if batch_norm == True:\n",
        "    model = CNN_w_BN(filter_matrix, kernel_matrix, activation_matrix, dropout, dense_no, learning_rate)\n",
        "  else:\n",
        "    model = CNN_wo_BN(filter_matrix, kernel_matrix, activation_matrix, dropout, dense_no, learning_rate)\n",
        "  \n",
        "  return model\n"
      ],
      "execution_count": 10,
      "outputs": []
    },
    {
      "cell_type": "code",
      "metadata": {
        "id": "x0Z8EWSzAYtv",
        "colab": {
          "base_uri": "https://localhost:8080/"
        },
        "outputId": "00214d65-aed5-440d-9f0d-116fd470d386"
      },
      "source": [
        "# Checking all above functions\n",
        "X=tf.random.normal((227,227,3))\n",
        "# filter_matrix = [32, 64, 256, 512, 1024]\n",
        "kernel_matrix = [(3,3)]*5\n",
        "activation_matrix = ['relu']*6;\n",
        "model = model_choose(1024, 'doubling', kernel_matrix, activation_matrix, batch_norm=False)\n",
        "model.summary()"
      ],
      "execution_count": 23,
      "outputs": [
        {
          "output_type": "stream",
          "text": [
            "Model: \"model_2\"\n",
            "_________________________________________________________________\n",
            "Layer (type)                 Output Shape              Param #   \n",
            "=================================================================\n",
            "input_3 (InputLayer)         [(None, 256, 256, 3)]     0         \n",
            "_________________________________________________________________\n",
            "conv2d_10 (Conv2D)           (None, 254, 254, 64)      1792      \n",
            "_________________________________________________________________\n",
            "activation_10 (Activation)   (None, 254, 254, 64)      0         \n",
            "_________________________________________________________________\n",
            "max_pooling2d_10 (MaxPooling (None, 127, 127, 64)      0         \n",
            "_________________________________________________________________\n",
            "conv2d_11 (Conv2D)           (None, 125, 125, 128)     73856     \n",
            "_________________________________________________________________\n",
            "activation_11 (Activation)   (None, 125, 125, 128)     0         \n",
            "_________________________________________________________________\n",
            "max_pooling2d_11 (MaxPooling (None, 62, 62, 128)       0         \n",
            "_________________________________________________________________\n",
            "conv2d_12 (Conv2D)           (None, 60, 60, 256)       295168    \n",
            "_________________________________________________________________\n",
            "activation_12 (Activation)   (None, 60, 60, 256)       0         \n",
            "_________________________________________________________________\n",
            "max_pooling2d_12 (MaxPooling (None, 30, 30, 256)       0         \n",
            "_________________________________________________________________\n",
            "conv2d_13 (Conv2D)           (None, 28, 28, 512)       1180160   \n",
            "_________________________________________________________________\n",
            "activation_13 (Activation)   (None, 28, 28, 512)       0         \n",
            "_________________________________________________________________\n",
            "max_pooling2d_13 (MaxPooling (None, 14, 14, 512)       0         \n",
            "_________________________________________________________________\n",
            "conv2d_14 (Conv2D)           (None, 12, 12, 1024)      4719616   \n",
            "_________________________________________________________________\n",
            "activation_14 (Activation)   (None, 12, 12, 1024)      0         \n",
            "_________________________________________________________________\n",
            "max_pooling2d_14 (MaxPooling (None, 6, 6, 1024)        0         \n",
            "_________________________________________________________________\n",
            "flatten_2 (Flatten)          (None, 36864)             0         \n",
            "_________________________________________________________________\n",
            "dense_4 (Dense)              (None, 512)               18874880  \n",
            "_________________________________________________________________\n",
            "dropout_2 (Dropout)          (None, 512)               0         \n",
            "_________________________________________________________________\n",
            "dense_5 (Dense)              (None, 10)                5130      \n",
            "=================================================================\n",
            "Total params: 25,150,602\n",
            "Trainable params: 25,150,602\n",
            "Non-trainable params: 0\n",
            "_________________________________________________________________\n"
          ],
          "name": "stdout"
        }
      ]
    },
    {
      "cell_type": "code",
      "metadata": {
        "id": "I0fTjJp1c2SF"
      },
      "source": [
        "@tf.custom_gradient\n",
        "def GBRelu(x):\n",
        "  def gradient(dy):\n",
        "    grad = tf.cast(dy>0,\"float32\")*tf.cast(x>0, \"float32\")*dy\n",
        "    return  grad\n",
        "  return tf.nn.relu(x), gradient\n",
        "# Here model is the best model\n",
        "GBModel = Model(inputs = [model.inputs],outputs = [model.get_layer(index=8).output]) # Here the index is to be checked\n",
        "layer_dict = [layer for layer in gb_model.layers[1:] if hasattr(layer,'activation')]\n",
        "for layer in layer_dict:\n",
        "  if layer.activation == tf.keras.activations.relu:\n",
        "    layer.activation = GBRelu\n",
        "\n",
        "with tf.GradientTape() as tape:\n",
        "  inputs = tf.cast(X_input, tf.float32)\n",
        "  tape.watch(inputs)\n",
        "  outputs = GBModel(inputs)\n",
        "\n",
        "grads = tape.gradient(outputs,inputs)[0]"
      ],
      "execution_count": null,
      "outputs": []
    },
    {
      "cell_type": "code",
      "metadata": {
        "id": "6V3TPqY4Bj_4",
        "colab": {
          "base_uri": "https://localhost:8080/"
        },
        "outputId": "aa1cb380-132f-445e-81ec-1c4694cb8062"
      },
      "source": [
        "sweep_config = {\n",
        "    'method': 'grid'\n",
        "    }\n",
        "parameters_dict = {\n",
        "    'highest_filter':{\n",
        "        'values': [256]\n",
        "      },\n",
        "    'kernel_matrix': {\n",
        "        'values': [0]\n",
        "      },\n",
        "    'learn_rate': {\n",
        "        'values': [1e-3]\n",
        "      },\n",
        "    'epochs': {\n",
        "        'values': [5,10]\n",
        "      },\n",
        "    'batch_size': {\n",
        "        'values': [256]\n",
        "      },\n",
        "    'dropout': {\n",
        "        'values': [0.2]\n",
        "      },\n",
        "    'batch_normalization': {\n",
        "        'values': [True]\n",
        "      },\n",
        "    'dense_number': {\n",
        "          'values': [512]\n",
        "      },\n",
        "    'augmentation':{\n",
        "        'values' : [True]\n",
        "    }\n",
        "}\n",
        "sweep_config['parameters'] = parameters_dict\n",
        "pprint.pprint(sweep_config)\n",
        "\n",
        "def training_sweep(config=None):\n",
        "    with wandb.init(config=config):\n",
        "        config = wandb.config\n",
        "        kernels = [[(3,3)]*5]\n",
        "        global K\n",
        "        K = kernels[config.kernel_matrix]\n",
        "        activation_matrix = ['relu']*6\n",
        "        model = model_choose(config.highest_filter, 'doubling', K, activation_matrix, config.dropout, config.dense_number, config.batch_normalization, config.learn_rate)\n",
        "        train, val = load_train_data('/content/drive/MyDrive/inaturalist_12K/train', config.augmentation,config.batch_size)\n",
        "        history = model.fit(train, \n",
        "                            epochs=config.epochs,\n",
        "                            validation_data = val,callbacks=callback\n",
        "                            )\n",
        "        wandb.log(history.history)"
      ],
      "execution_count": 9,
      "outputs": [
        {
          "output_type": "stream",
          "text": [
            "{'method': 'grid',\n",
            " 'parameters': {'augmentation': {'values': [True]},\n",
            "                'batch_normalization': {'values': [True, False]},\n",
            "                'batch_size': {'values': [256]},\n",
            "                'dense_number': {'values': [512]},\n",
            "                'dropout': {'values': [0.2]},\n",
            "                'epochs': {'values': [5, 10]},\n",
            "                'highest_filter': {'values': [1024]},\n",
            "                'kernel_matrix': {'values': [0]},\n",
            "                'learn_rate': {'values': [0.001]}}}\n"
          ],
          "name": "stdout"
        }
      ]
    },
    {
      "cell_type": "code",
      "metadata": {
        "id": "Agmt-aMLNOFu"
      },
      "source": [
        "sweep_id = wandb.sweep(sweep_config, project=\"CS6910-assg2\")\n",
        "wandb.agent(sweep_id, training_sweep)"
      ],
      "execution_count": null,
      "outputs": []
    },
    {
      "cell_type": "code",
      "metadata": {
        "id": "6aYJ-NyHQIs0",
        "colab": {
          "base_uri": "https://localhost:8080/"
        },
        "outputId": "64bafb1d-2668-45ff-a19d-1eef0416c9ba"
      },
      "source": [
        "k = [(3,3)]*5\n",
        "activation_matrix = ['relu']*6\n",
        "\n",
        "train, val = load_train_data('/content/drive/MyDrive/inaturalist_12K/train',True, 128)\n",
        "model = model_choose(256, 'doubling', k, activation_matrix, 0, 512, True, 0.001)\n",
        "\n",
        "model.fit(train, \n",
        "          epochs=5,\n",
        "          validation_data = val,\n",
        "          )"
      ],
      "execution_count": 20,
      "outputs": [
        {
          "output_type": "stream",
          "text": [
            "Found 9018 images belonging to 10 classes.\n",
            "Found 1001 images belonging to 10 classes.\n",
            "Epoch 1/5\n",
            "71/71 [==============================] - 1391s 20s/step - loss: 2.4553 - accuracy: 0.2098 - val_loss: 2.4281 - val_accuracy: 0.1029\n",
            "Epoch 2/5\n",
            "71/71 [==============================] - 176s 2s/step - loss: 1.9294 - accuracy: 0.3145 - val_loss: 2.4226 - val_accuracy: 0.1518\n",
            "Epoch 3/5\n",
            "71/71 [==============================] - 176s 2s/step - loss: 1.8629 - accuracy: 0.3450 - val_loss: 2.3838 - val_accuracy: 0.1768\n",
            "Epoch 4/5\n",
            "71/71 [==============================] - 172s 2s/step - loss: 1.7781 - accuracy: 0.3818 - val_loss: 2.6401 - val_accuracy: 0.1329\n",
            "Epoch 5/5\n",
            "71/71 [==============================] - 171s 2s/step - loss: 1.7321 - accuracy: 0.3896 - val_loss: 2.1608 - val_accuracy: 0.2438\n"
          ],
          "name": "stdout"
        },
        {
          "output_type": "execute_result",
          "data": {
            "text/plain": [
              "<tensorflow.python.keras.callbacks.History at 0x7fc20e5e4a50>"
            ]
          },
          "metadata": {
            "tags": []
          },
          "execution_count": 20
        }
      ]
    },
    {
      "cell_type": "code",
      "metadata": {
        "id": "dBTNOjoUlWX1",
        "outputId": "fa8b8b7c-f1ed-41e7-ab3f-19be1fa28897",
        "colab": {
          "base_uri": "https://localhost:8080/"
        }
      },
      "source": [
        "\n",
        "model.fit(train, \n",
        "          epochs=10,\n",
        "          validation_data = val, callbacks=[callback]\n",
        "          )"
      ],
      "execution_count": 24,
      "outputs": [
        {
          "output_type": "stream",
          "text": [
            "Epoch 1/10\n",
            "71/71 [==============================] - 174s 2s/step - loss: 2.0388 - accuracy: 0.2627 - val_loss: 2.2891 - val_accuracy: 0.1718\n",
            "Epoch 2/10\n",
            "71/71 [==============================] - 169s 2s/step - loss: 2.0038 - accuracy: 0.2782 - val_loss: 2.2991 - val_accuracy: 0.2078\n",
            "Epoch 3/10\n",
            "71/71 [==============================] - 176s 2s/step - loss: 1.9761 - accuracy: 0.2911 - val_loss: 2.3729 - val_accuracy: 0.2068\n",
            "Epoch 4/10\n",
            "71/71 [==============================] - 175s 2s/step - loss: 1.9480 - accuracy: 0.3000 - val_loss: 2.0793 - val_accuracy: 0.2597\n",
            "Epoch 5/10\n",
            "71/71 [==============================] - 172s 2s/step - loss: 1.9367 - accuracy: 0.3069 - val_loss: 2.5163 - val_accuracy: 0.2228\n",
            "Epoch 6/10\n",
            "71/71 [==============================] - 170s 2s/step - loss: 1.9140 - accuracy: 0.3158 - val_loss: 2.2765 - val_accuracy: 0.2517\n",
            "Epoch 7/10\n",
            "71/71 [==============================] - 170s 2s/step - loss: 1.8869 - accuracy: 0.3247 - val_loss: 2.4481 - val_accuracy: 0.1978\n"
          ],
          "name": "stdout"
        },
        {
          "output_type": "execute_result",
          "data": {
            "text/plain": [
              "<tensorflow.python.keras.callbacks.History at 0x7fc206cee6d0>"
            ]
          },
          "metadata": {
            "tags": []
          },
          "execution_count": 24
        }
      ]
    },
    {
      "cell_type": "code",
      "metadata": {
        "id": "p2eNBq8QLZ9M"
      },
      "source": [
        ""
      ],
      "execution_count": null,
      "outputs": []
    }
  ]
}