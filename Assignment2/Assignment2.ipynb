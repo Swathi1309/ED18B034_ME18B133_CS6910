{
  "nbformat": 4,
  "nbformat_minor": 0,
  "metadata": {
    "colab": {
      "name": "Assignment2.ipynb",
      "provenance": [],
      "authorship_tag": "ABX9TyPA0ekxO6PnXy8yOvUxuBDa",
      "include_colab_link": true
    },
    "kernelspec": {
      "name": "python3",
      "display_name": "Python 3"
    }
  },
  "cells": [
    {
      "cell_type": "markdown",
      "metadata": {
        "id": "view-in-github",
        "colab_type": "text"
      },
      "source": [
        "<a href=\"https://colab.research.google.com/github/Swathi1309/ED18B034_ME18B133_Assignment1/blob/main/Assignment2.ipynb\" target=\"_parent\"><img src=\"https://colab.research.google.com/assets/colab-badge.svg\" alt=\"Open In Colab\"/></a>"
      ]
    },
    {
      "cell_type": "code",
      "metadata": {
        "id": "nwpC4SmUV2Am"
      },
      "source": [
        "import tensorflow as tf\r\n",
        "from tensorflow import keras\r\n",
        "import tensorflow as tf\r\n",
        "from tensorflow.keras.layers import Dense, Flatten, Conv1D,Conv2D, BatchNormalization, Dropout, Activation, Softmax, MaxPooling2D\r\n",
        "from tensorflow.keras import Model\r\n",
        "from tensorflow.keras.optimizers import Adam,rmsprop\r\n",
        "import numpy as np"
      ],
      "execution_count": null,
      "outputs": []
    },
    {
      "cell_type": "code",
      "metadata": {
        "id": "gzIoeqngVtLq"
      },
      "source": [
        "def CNN_w/o_BN(X_train, filter_matrix, kernel_matrix, activation_matrix, dropout_matrix, dense_no):\r\n",
        "  # filter_matrix = 4X1, kernel_matrix = 4X2, activation_matrix = 5X1, dense_no = int\r\n",
        "  # Total number of parameters for each layer = (kernel_matrix[i,0]*kernel_matrix[i,1]*X_input.shape[1]+1)*X_output.shape[1]\r\n",
        "\r\n",
        "  # Input layer\r\n",
        "  X_input = keras.Input(shape=X_train.shape)\r\n",
        "\r\n",
        "  # Layer 1\r\n",
        "  X = Conv2D(filter_matrix[0], kernel_matrix[0]))(X_input)\r\n",
        "  X = Activation(activation_matrix[0])(X)\r\n",
        "  X = MaxPooling2D(pool_size=(2, 2))(X)\r\n",
        "  X = Dropout\r\n",
        "\r\n",
        "  # Layer 2\r\n",
        "  X = Conv2D(filter_matrix[1], kernel_matrix[1])(X)\r\n",
        "  X = Activation(activation_matrix[1])(X)\r\n",
        "  X = MaxPooling2D(pool_size=(2, 2))(X)\r\n",
        "\r\n",
        "  # Layer 3\r\n",
        "  X = Conv2D(filter_matrix[2], kernel_matrix[2])(X)\r\n",
        "  X = Activation(activation_matrix[2])(X)\r\n",
        "  X = MaxPooling2D(pool_size=(2, 2))(X)\r\n",
        "\r\n",
        "  # Layer 4\r\n",
        "  X = Conv2D(filter_matrix[3], kernel_matrix[3])(X)\r\n",
        "  X = Activation(activation_matrix[3])(X)\r\n",
        "  X = MaxPooling2D(pool_size=(2, 2))(X)\r\n",
        "\r\n",
        "  # Layer 5\r\n",
        "  X = Conv2D(filter_matrix[4], kernel_matrix[4])(X)\r\n",
        "  X = Activation(activation_matrix[4])(X)\r\n",
        "  X = MaxPooling2D(pool_size=(2, 2))(X)\r\n",
        "\r\n",
        "  X = Flatten()(X)\r\n",
        "  X = Dense(dense_no,activation=activation_matrix[5])(X)\r\n",
        "  \r\n",
        "  model=Model(inputs=X_input,outputs=X)\r\n",
        "  model.complile(optimizer=Adam(), loss='categorical_crossentropy',  metrics=['accuracy'])\r\n",
        "\r\n",
        "  return model"
      ],
      "execution_count": null,
      "outputs": []
    },
    {
      "cell_type": "code",
      "metadata": {
        "id": "ZvurXgaSfK8U"
      },
      "source": [
        "def CNN_w_BN(X_train, filter_matrix, kernel_matrix, activation_matrix, dropout_matrix, dense_no):\r\n",
        "  # filter_matrix = 4X1, kernel_matrix = 4X2, activation_matrix = 5X1, dense_no = int\r\n",
        "  # Total number of parameters for each layer = (kernel_matrix[i,0]*kernel_matrix[i,1]*X_input.shape[1]+1)*X_output.shape[1]\r\n",
        "\r\n",
        "  # Input layer\r\n",
        "  X_input = keras.Input(shape=X_train.shape)\r\n",
        "\r\n",
        "  # Layer 1\r\n",
        "  X = Conv2D(filter_matrix[0], kernel_matrix[0]))(X_input)\r\n",
        "  X = BatchNormalization()(X)\r\n",
        "  X = Activation(activation_matrix[0])(X)\r\n",
        "  X = MaxPooling2D(pool_size=(2, 2))(X)\r\n",
        "\r\n",
        "  # Layer 2\r\n",
        "  X = Conv2D(filter_matrix[1], kernel_matrix[1])(X)\r\n",
        "  X = BatchNormalization()(X)\r\n",
        "  X = Activation(activation_matrix[1])(X)\r\n",
        "  X = MaxPooling2D(pool_size=(2, 2))(X)\r\n",
        "\r\n",
        "  # Layer 3\r\n",
        "  X = Conv2D(filter_matrix[2], kernel_matrix[2])(X)\r\n",
        "  X = BatchNormalization()(X)\r\n",
        "  X = Activation(activation_matrix[2])(X)\r\n",
        "  X = MaxPooling2D(pool_size=(2, 2))(X)\r\n",
        "\r\n",
        "  # Layer 4\r\n",
        "  X = Conv2D(filter_matrix[3], kernel_matrix[3])(X)\r\n",
        "  X = BatchNormalization()(X)\r\n",
        "  X = Activation(activation_matrix[3])(X)\r\n",
        "  X = MaxPooling2D(pool_size=(2, 2))(X)\r\n",
        "\r\n",
        "  # Layer 5\r\n",
        "  X = Conv2D(filter_matrix[4], kernel_matrix[4])(X)\r\n",
        "  X = BatchNormalization()(X)\r\n",
        "  X = Activation(activation_matrix[4])(X)\r\n",
        "  X = MaxPooling2D(pool_size=(2, 2))(X)\r\n",
        "\r\n",
        "  X = Flatten()(X)\r\n",
        "  X = Dense(dense_no,activation=activation_matrix[5])(X)\r\n",
        "  X = Dense(10,activation='softmax')(X)\r\n",
        "  \r\n",
        "  model=Model(inputs=X_input,outputs=X)\r\n",
        "  model.complile(optimizer=Adam(), loss='categorical_crossentropy',  metrics=['accuracy'])\r\n",
        "\r\n",
        "  return model"
      ],
      "execution_count": null,
      "outputs": []
    },
    {
      "cell_type": "code",
      "metadata": {
        "id": "aKPL9RF3Xrs9"
      },
      "source": [
        "def model_choose(batch_norm, highest_filter, filters_type, dropout):\r\n",
        "  if filter_type == 'constant':\r\n",
        "    filter_matrix = [filter_start]*4\r\n",
        "  elif filter_type == 'doubling':\r\n",
        "    filter_matrix = [highest_filter/8, highest_filter/4, highest_filter/2, highest_filter]\r\n",
        "  else:\r\n",
        "    filter_matrix = [highest_filter, highest_filter/2, highest_filter/4, highest_filter/8]\r\n",
        "  if batch_norm = True:\r\n",
        "    model = CNN_w_BN(X_train, filter_matrix, kernel_matrix, activation_matrix, dropout_matrix, dense_no)\r\n",
        "  else:\r\n",
        "    model = CNN_w/o_BN(X_train, filter_matrix, kernel_matrix, activation_matrix, dropout_matrix, dense_no)\r\n",
        "  \r\n",
        "  return model, filter_matrix\r\n"
      ],
      "execution_count": null,
      "outputs": []
    },
    {
      "cell_type": "code",
      "metadata": {
        "id": "I0fTjJp1c2SF"
      },
      "source": [
        ""
      ],
      "execution_count": null,
      "outputs": []
    }
  ]
}
