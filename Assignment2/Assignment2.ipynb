{
  "nbformat": 4,
  "nbformat_minor": 0,
  "metadata": {
    "colab": {
      "name": "Assignment2.ipynb",
      "provenance": [],
      "include_colab_link": true
    },
    "kernelspec": {
      "name": "python3",
      "display_name": "Python 3"
    },
    "accelerator": "GPU"
  },
  "cells": [
    {
      "cell_type": "markdown",
      "metadata": {
        "id": "view-in-github",
        "colab_type": "text"
      },
      "source": [
        "<a href=\"https://colab.research.google.com/github/Swathi1309/ED18B034_ME18B133_Assignment1/blob/main/Assignment2/Assignment2.ipynb\" target=\"_parent\"><img src=\"https://colab.research.google.com/assets/colab-badge.svg\" alt=\"Open In Colab\"/></a>"
      ]
    },
    {
      "cell_type": "code",
      "metadata": {
        "id": "nwpC4SmUV2Am",
        "colab": {
          "base_uri": "https://localhost:8080/"
        },
        "outputId": "93b3251f-3d4b-4bc7-9a00-c5ce10e92d4f"
      },
      "source": [
        "import tensorflow as tf\n",
        "from tensorflow import keras\n",
        "import tensorflow as tf\n",
        "from tensorflow.keras.layers import Dense, Flatten, Conv1D,Conv2D, BatchNormalization, Dropout, Activation, Softmax, MaxPooling2D\n",
        "from tensorflow.keras import Model\n",
        "from tensorflow.keras.optimizers import Adam,RMSprop\n",
        "import numpy as np\n",
        "import pandas as pd\n",
        "import os\n",
        "import cv2\n",
        "from  matplotlib import pyplot as plt\n",
        "import matplotlib.image as mpimg\n",
        "import random\n",
        "%matplotlib inline\n",
        "from google.colab import drive\n",
        "drive.mount('/content/drive')\n",
        "from sklearn.model_selection import train_test_split\n",
        "\n",
        "classes = ['Amphibia', 'Animalia', 'Arachnida', 'Aves', 'Fungi', 'Insecta', 'Mammalia', 'Mollusca', 'Plantae', 'Reptilia']"
      ],
      "execution_count": 1,
      "outputs": [
        {
          "output_type": "stream",
          "text": [
            "Mounted at /content/drive\n"
          ],
          "name": "stdout"
        }
      ]
    },
    {
      "cell_type": "code",
      "metadata": {
        "colab": {
          "base_uri": "https://localhost:8080/",
          "height": 35
        },
        "id": "htDfj7oTd5TD",
        "outputId": "34afec0c-54a6-4472-9d59-eabedd1bdfd5"
      },
      "source": [
        "tf.__version__"
      ],
      "execution_count": 9,
      "outputs": [
        {
          "output_type": "execute_result",
          "data": {
            "application/vnd.google.colaboratory.intrinsic+json": {
              "type": "string"
            },
            "text/plain": [
              "'2.4.1'"
            ]
          },
          "metadata": {
            "tags": []
          },
          "execution_count": 9
        }
      ]
    },
    {
      "cell_type": "code",
      "metadata": {
        "colab": {
          "base_uri": "https://localhost:8080/"
        },
        "id": "wXzPiXFKT0rh",
        "outputId": "b6278912-dcdc-4677-f2e7-9282b96c04b7"
      },
      "source": [
        "resolver = tf.distribute.cluster_resolver.TPUClusterResolver(tpu='grpc://' + os.environ['COLAB_TPU_ADDR'])\n",
        "tf.config.experimental_connect_to_cluster(resolver)\n",
        "# This is the TPU initialization code that has to be at the beginning.\n",
        "tf.tpu.experimental.initialize_tpu_system(resolver)\n",
        "print(\"All devices: \", tf.config.list_logical_devices('TPU'))"
      ],
      "execution_count": 2,
      "outputs": [
        {
          "output_type": "stream",
          "text": [
            "INFO:tensorflow:Initializing the TPU system: grpc://10.2.98.58:8470\n"
          ],
          "name": "stdout"
        },
        {
          "output_type": "stream",
          "text": [
            "INFO:tensorflow:Initializing the TPU system: grpc://10.2.98.58:8470\n"
          ],
          "name": "stderr"
        },
        {
          "output_type": "stream",
          "text": [
            "INFO:tensorflow:Clearing out eager caches\n"
          ],
          "name": "stdout"
        },
        {
          "output_type": "stream",
          "text": [
            "INFO:tensorflow:Clearing out eager caches\n"
          ],
          "name": "stderr"
        },
        {
          "output_type": "stream",
          "text": [
            "INFO:tensorflow:Finished initializing TPU system.\n"
          ],
          "name": "stdout"
        },
        {
          "output_type": "stream",
          "text": [
            "INFO:tensorflow:Finished initializing TPU system.\n"
          ],
          "name": "stderr"
        },
        {
          "output_type": "stream",
          "text": [
            "All devices:  [LogicalDevice(name='/job:worker/replica:0/task:0/device:TPU:7', device_type='TPU'), LogicalDevice(name='/job:worker/replica:0/task:0/device:TPU:6', device_type='TPU'), LogicalDevice(name='/job:worker/replica:0/task:0/device:TPU:5', device_type='TPU'), LogicalDevice(name='/job:worker/replica:0/task:0/device:TPU:4', device_type='TPU'), LogicalDevice(name='/job:worker/replica:0/task:0/device:TPU:3', device_type='TPU'), LogicalDevice(name='/job:worker/replica:0/task:0/device:TPU:0', device_type='TPU'), LogicalDevice(name='/job:worker/replica:0/task:0/device:TPU:1', device_type='TPU'), LogicalDevice(name='/job:worker/replica:0/task:0/device:TPU:2', device_type='TPU')]\n"
          ],
          "name": "stdout"
        }
      ]
    },
    {
      "cell_type": "code",
      "metadata": {
        "colab": {
          "base_uri": "https://localhost:8080/"
        },
        "id": "v6yq6FHAUVBG",
        "outputId": "4d690882-a05d-4a49-da5b-eab2e2d06b3f"
      },
      "source": [
        "strategy = tf.distribute.TPUStrategy(resolver)"
      ],
      "execution_count": 3,
      "outputs": [
        {
          "output_type": "stream",
          "text": [
            "INFO:tensorflow:Found TPU system:\n"
          ],
          "name": "stdout"
        },
        {
          "output_type": "stream",
          "text": [
            "INFO:tensorflow:Found TPU system:\n"
          ],
          "name": "stderr"
        },
        {
          "output_type": "stream",
          "text": [
            "INFO:tensorflow:*** Num TPU Cores: 8\n"
          ],
          "name": "stdout"
        },
        {
          "output_type": "stream",
          "text": [
            "INFO:tensorflow:*** Num TPU Cores: 8\n"
          ],
          "name": "stderr"
        },
        {
          "output_type": "stream",
          "text": [
            "INFO:tensorflow:*** Num TPU Workers: 1\n"
          ],
          "name": "stdout"
        },
        {
          "output_type": "stream",
          "text": [
            "INFO:tensorflow:*** Num TPU Workers: 1\n"
          ],
          "name": "stderr"
        },
        {
          "output_type": "stream",
          "text": [
            "INFO:tensorflow:*** Num TPU Cores Per Worker: 8\n"
          ],
          "name": "stdout"
        },
        {
          "output_type": "stream",
          "text": [
            "INFO:tensorflow:*** Num TPU Cores Per Worker: 8\n"
          ],
          "name": "stderr"
        },
        {
          "output_type": "stream",
          "text": [
            "INFO:tensorflow:*** Available Device: _DeviceAttributes(/job:localhost/replica:0/task:0/device:CPU:0, CPU, 0, 0)\n"
          ],
          "name": "stdout"
        },
        {
          "output_type": "stream",
          "text": [
            "INFO:tensorflow:*** Available Device: _DeviceAttributes(/job:localhost/replica:0/task:0/device:CPU:0, CPU, 0, 0)\n"
          ],
          "name": "stderr"
        },
        {
          "output_type": "stream",
          "text": [
            "INFO:tensorflow:*** Available Device: _DeviceAttributes(/job:worker/replica:0/task:0/device:CPU:0, CPU, 0, 0)\n"
          ],
          "name": "stdout"
        },
        {
          "output_type": "stream",
          "text": [
            "INFO:tensorflow:*** Available Device: _DeviceAttributes(/job:worker/replica:0/task:0/device:CPU:0, CPU, 0, 0)\n"
          ],
          "name": "stderr"
        },
        {
          "output_type": "stream",
          "text": [
            "INFO:tensorflow:*** Available Device: _DeviceAttributes(/job:worker/replica:0/task:0/device:TPU:0, TPU, 0, 0)\n"
          ],
          "name": "stdout"
        },
        {
          "output_type": "stream",
          "text": [
            "INFO:tensorflow:*** Available Device: _DeviceAttributes(/job:worker/replica:0/task:0/device:TPU:0, TPU, 0, 0)\n"
          ],
          "name": "stderr"
        },
        {
          "output_type": "stream",
          "text": [
            "INFO:tensorflow:*** Available Device: _DeviceAttributes(/job:worker/replica:0/task:0/device:TPU:1, TPU, 0, 0)\n"
          ],
          "name": "stdout"
        },
        {
          "output_type": "stream",
          "text": [
            "INFO:tensorflow:*** Available Device: _DeviceAttributes(/job:worker/replica:0/task:0/device:TPU:1, TPU, 0, 0)\n"
          ],
          "name": "stderr"
        },
        {
          "output_type": "stream",
          "text": [
            "INFO:tensorflow:*** Available Device: _DeviceAttributes(/job:worker/replica:0/task:0/device:TPU:2, TPU, 0, 0)\n"
          ],
          "name": "stdout"
        },
        {
          "output_type": "stream",
          "text": [
            "INFO:tensorflow:*** Available Device: _DeviceAttributes(/job:worker/replica:0/task:0/device:TPU:2, TPU, 0, 0)\n"
          ],
          "name": "stderr"
        },
        {
          "output_type": "stream",
          "text": [
            "INFO:tensorflow:*** Available Device: _DeviceAttributes(/job:worker/replica:0/task:0/device:TPU:3, TPU, 0, 0)\n"
          ],
          "name": "stdout"
        },
        {
          "output_type": "stream",
          "text": [
            "INFO:tensorflow:*** Available Device: _DeviceAttributes(/job:worker/replica:0/task:0/device:TPU:3, TPU, 0, 0)\n"
          ],
          "name": "stderr"
        },
        {
          "output_type": "stream",
          "text": [
            "INFO:tensorflow:*** Available Device: _DeviceAttributes(/job:worker/replica:0/task:0/device:TPU:4, TPU, 0, 0)\n"
          ],
          "name": "stdout"
        },
        {
          "output_type": "stream",
          "text": [
            "INFO:tensorflow:*** Available Device: _DeviceAttributes(/job:worker/replica:0/task:0/device:TPU:4, TPU, 0, 0)\n"
          ],
          "name": "stderr"
        },
        {
          "output_type": "stream",
          "text": [
            "INFO:tensorflow:*** Available Device: _DeviceAttributes(/job:worker/replica:0/task:0/device:TPU:5, TPU, 0, 0)\n"
          ],
          "name": "stdout"
        },
        {
          "output_type": "stream",
          "text": [
            "INFO:tensorflow:*** Available Device: _DeviceAttributes(/job:worker/replica:0/task:0/device:TPU:5, TPU, 0, 0)\n"
          ],
          "name": "stderr"
        },
        {
          "output_type": "stream",
          "text": [
            "INFO:tensorflow:*** Available Device: _DeviceAttributes(/job:worker/replica:0/task:0/device:TPU:6, TPU, 0, 0)\n"
          ],
          "name": "stdout"
        },
        {
          "output_type": "stream",
          "text": [
            "INFO:tensorflow:*** Available Device: _DeviceAttributes(/job:worker/replica:0/task:0/device:TPU:6, TPU, 0, 0)\n"
          ],
          "name": "stderr"
        },
        {
          "output_type": "stream",
          "text": [
            "INFO:tensorflow:*** Available Device: _DeviceAttributes(/job:worker/replica:0/task:0/device:TPU:7, TPU, 0, 0)\n"
          ],
          "name": "stdout"
        },
        {
          "output_type": "stream",
          "text": [
            "INFO:tensorflow:*** Available Device: _DeviceAttributes(/job:worker/replica:0/task:0/device:TPU:7, TPU, 0, 0)\n"
          ],
          "name": "stderr"
        },
        {
          "output_type": "stream",
          "text": [
            "INFO:tensorflow:*** Available Device: _DeviceAttributes(/job:worker/replica:0/task:0/device:TPU_SYSTEM:0, TPU_SYSTEM, 0, 0)\n"
          ],
          "name": "stdout"
        },
        {
          "output_type": "stream",
          "text": [
            "INFO:tensorflow:*** Available Device: _DeviceAttributes(/job:worker/replica:0/task:0/device:TPU_SYSTEM:0, TPU_SYSTEM, 0, 0)\n"
          ],
          "name": "stderr"
        },
        {
          "output_type": "stream",
          "text": [
            "INFO:tensorflow:*** Available Device: _DeviceAttributes(/job:worker/replica:0/task:0/device:XLA_CPU:0, XLA_CPU, 0, 0)\n"
          ],
          "name": "stdout"
        },
        {
          "output_type": "stream",
          "text": [
            "INFO:tensorflow:*** Available Device: _DeviceAttributes(/job:worker/replica:0/task:0/device:XLA_CPU:0, XLA_CPU, 0, 0)\n"
          ],
          "name": "stderr"
        }
      ]
    },
    {
      "cell_type": "code",
      "metadata": {
        "colab": {
          "base_uri": "https://localhost:8080/"
        },
        "id": "0qDInjFlMBk3",
        "outputId": "a9780dcc-0711-4612-adea-345e2a61c195"
      },
      "source": [
        "!pip install wandb\n",
        "!wandb login"
      ],
      "execution_count": 2,
      "outputs": [
        {
          "output_type": "stream",
          "text": [
            "Collecting wandb\n",
            "\u001b[?25l  Downloading https://files.pythonhosted.org/packages/26/70/a0f47563dc06df4dad4db96938d65a10efeb8ea909a423c96a0bfffc845c/wandb-0.10.24-py2.py3-none-any.whl (2.0MB)\n",
            "\r\u001b[K     |▏                               | 10kB 22.1MB/s eta 0:00:01\r\u001b[K     |▎                               | 20kB 28.1MB/s eta 0:00:01\r\u001b[K     |▌                               | 30kB 21.9MB/s eta 0:00:01\r\u001b[K     |▋                               | 40kB 25.5MB/s eta 0:00:01\r\u001b[K     |▉                               | 51kB 25.5MB/s eta 0:00:01\r\u001b[K     |█                               | 61kB 28.3MB/s eta 0:00:01\r\u001b[K     |█▏                              | 71kB 19.0MB/s eta 0:00:01\r\u001b[K     |█▎                              | 81kB 20.3MB/s eta 0:00:01\r\u001b[K     |█▍                              | 92kB 18.9MB/s eta 0:00:01\r\u001b[K     |█▋                              | 102kB 19.0MB/s eta 0:00:01\r\u001b[K     |█▊                              | 112kB 19.0MB/s eta 0:00:01\r\u001b[K     |██                              | 122kB 19.0MB/s eta 0:00:01\r\u001b[K     |██                              | 133kB 19.0MB/s eta 0:00:01\r\u001b[K     |██▎                             | 143kB 19.0MB/s eta 0:00:01\r\u001b[K     |██▍                             | 153kB 19.0MB/s eta 0:00:01\r\u001b[K     |██▋                             | 163kB 19.0MB/s eta 0:00:01\r\u001b[K     |██▊                             | 174kB 19.0MB/s eta 0:00:01\r\u001b[K     |██▉                             | 184kB 19.0MB/s eta 0:00:01\r\u001b[K     |███                             | 194kB 19.0MB/s eta 0:00:01\r\u001b[K     |███▏                            | 204kB 19.0MB/s eta 0:00:01\r\u001b[K     |███▍                            | 215kB 19.0MB/s eta 0:00:01\r\u001b[K     |███▌                            | 225kB 19.0MB/s eta 0:00:01\r\u001b[K     |███▊                            | 235kB 19.0MB/s eta 0:00:01\r\u001b[K     |███▉                            | 245kB 19.0MB/s eta 0:00:01\r\u001b[K     |████                            | 256kB 19.0MB/s eta 0:00:01\r\u001b[K     |████▏                           | 266kB 19.0MB/s eta 0:00:01\r\u001b[K     |████▎                           | 276kB 19.0MB/s eta 0:00:01\r\u001b[K     |████▌                           | 286kB 19.0MB/s eta 0:00:01\r\u001b[K     |████▋                           | 296kB 19.0MB/s eta 0:00:01\r\u001b[K     |████▉                           | 307kB 19.0MB/s eta 0:00:01\r\u001b[K     |█████                           | 317kB 19.0MB/s eta 0:00:01\r\u001b[K     |█████▏                          | 327kB 19.0MB/s eta 0:00:01\r\u001b[K     |█████▎                          | 337kB 19.0MB/s eta 0:00:01\r\u001b[K     |█████▍                          | 348kB 19.0MB/s eta 0:00:01\r\u001b[K     |█████▋                          | 358kB 19.0MB/s eta 0:00:01\r\u001b[K     |█████▊                          | 368kB 19.0MB/s eta 0:00:01\r\u001b[K     |██████                          | 378kB 19.0MB/s eta 0:00:01\r\u001b[K     |██████                          | 389kB 19.0MB/s eta 0:00:01\r\u001b[K     |██████▎                         | 399kB 19.0MB/s eta 0:00:01\r\u001b[K     |██████▍                         | 409kB 19.0MB/s eta 0:00:01\r\u001b[K     |██████▋                         | 419kB 19.0MB/s eta 0:00:01\r\u001b[K     |██████▊                         | 430kB 19.0MB/s eta 0:00:01\r\u001b[K     |██████▉                         | 440kB 19.0MB/s eta 0:00:01\r\u001b[K     |███████                         | 450kB 19.0MB/s eta 0:00:01\r\u001b[K     |███████▏                        | 460kB 19.0MB/s eta 0:00:01\r\u001b[K     |███████▍                        | 471kB 19.0MB/s eta 0:00:01\r\u001b[K     |███████▌                        | 481kB 19.0MB/s eta 0:00:01\r\u001b[K     |███████▊                        | 491kB 19.0MB/s eta 0:00:01\r\u001b[K     |███████▉                        | 501kB 19.0MB/s eta 0:00:01\r\u001b[K     |████████                        | 512kB 19.0MB/s eta 0:00:01\r\u001b[K     |████████▏                       | 522kB 19.0MB/s eta 0:00:01\r\u001b[K     |████████▎                       | 532kB 19.0MB/s eta 0:00:01\r\u001b[K     |████████▌                       | 542kB 19.0MB/s eta 0:00:01\r\u001b[K     |████████▋                       | 552kB 19.0MB/s eta 0:00:01\r\u001b[K     |████████▉                       | 563kB 19.0MB/s eta 0:00:01\r\u001b[K     |█████████                       | 573kB 19.0MB/s eta 0:00:01\r\u001b[K     |█████████▏                      | 583kB 19.0MB/s eta 0:00:01\r\u001b[K     |█████████▎                      | 593kB 19.0MB/s eta 0:00:01\r\u001b[K     |█████████▍                      | 604kB 19.0MB/s eta 0:00:01\r\u001b[K     |█████████▋                      | 614kB 19.0MB/s eta 0:00:01\r\u001b[K     |█████████▊                      | 624kB 19.0MB/s eta 0:00:01\r\u001b[K     |██████████                      | 634kB 19.0MB/s eta 0:00:01\r\u001b[K     |██████████                      | 645kB 19.0MB/s eta 0:00:01\r\u001b[K     |██████████▎                     | 655kB 19.0MB/s eta 0:00:01\r\u001b[K     |██████████▍                     | 665kB 19.0MB/s eta 0:00:01\r\u001b[K     |██████████▌                     | 675kB 19.0MB/s eta 0:00:01\r\u001b[K     |██████████▊                     | 686kB 19.0MB/s eta 0:00:01\r\u001b[K     |██████████▉                     | 696kB 19.0MB/s eta 0:00:01\r\u001b[K     |███████████                     | 706kB 19.0MB/s eta 0:00:01\r\u001b[K     |███████████▏                    | 716kB 19.0MB/s eta 0:00:01\r\u001b[K     |███████████▍                    | 727kB 19.0MB/s eta 0:00:01\r\u001b[K     |███████████▌                    | 737kB 19.0MB/s eta 0:00:01\r\u001b[K     |███████████▊                    | 747kB 19.0MB/s eta 0:00:01\r\u001b[K     |███████████▉                    | 757kB 19.0MB/s eta 0:00:01\r\u001b[K     |████████████                    | 768kB 19.0MB/s eta 0:00:01\r\u001b[K     |████████████▏                   | 778kB 19.0MB/s eta 0:00:01\r\u001b[K     |████████████▎                   | 788kB 19.0MB/s eta 0:00:01\r\u001b[K     |████████████▌                   | 798kB 19.0MB/s eta 0:00:01\r\u001b[K     |████████████▋                   | 808kB 19.0MB/s eta 0:00:01\r\u001b[K     |████████████▉                   | 819kB 19.0MB/s eta 0:00:01\r\u001b[K     |█████████████                   | 829kB 19.0MB/s eta 0:00:01\r\u001b[K     |█████████████▏                  | 839kB 19.0MB/s eta 0:00:01\r\u001b[K     |█████████████▎                  | 849kB 19.0MB/s eta 0:00:01\r\u001b[K     |█████████████▍                  | 860kB 19.0MB/s eta 0:00:01\r\u001b[K     |█████████████▋                  | 870kB 19.0MB/s eta 0:00:01\r\u001b[K     |█████████████▊                  | 880kB 19.0MB/s eta 0:00:01\r\u001b[K     |██████████████                  | 890kB 19.0MB/s eta 0:00:01\r\u001b[K     |██████████████                  | 901kB 19.0MB/s eta 0:00:01\r\u001b[K     |██████████████▎                 | 911kB 19.0MB/s eta 0:00:01\r\u001b[K     |██████████████▍                 | 921kB 19.0MB/s eta 0:00:01\r\u001b[K     |██████████████▌                 | 931kB 19.0MB/s eta 0:00:01\r\u001b[K     |██████████████▊                 | 942kB 19.0MB/s eta 0:00:01\r\u001b[K     |██████████████▉                 | 952kB 19.0MB/s eta 0:00:01\r\u001b[K     |███████████████                 | 962kB 19.0MB/s eta 0:00:01\r\u001b[K     |███████████████▏                | 972kB 19.0MB/s eta 0:00:01\r\u001b[K     |███████████████▍                | 983kB 19.0MB/s eta 0:00:01\r\u001b[K     |███████████████▌                | 993kB 19.0MB/s eta 0:00:01\r\u001b[K     |███████████████▊                | 1.0MB 19.0MB/s eta 0:00:01\r\u001b[K     |███████████████▉                | 1.0MB 19.0MB/s eta 0:00:01\r\u001b[K     |████████████████                | 1.0MB 19.0MB/s eta 0:00:01\r\u001b[K     |████████████████▏               | 1.0MB 19.0MB/s eta 0:00:01\r\u001b[K     |████████████████▎               | 1.0MB 19.0MB/s eta 0:00:01\r\u001b[K     |████████████████▌               | 1.1MB 19.0MB/s eta 0:00:01\r\u001b[K     |████████████████▋               | 1.1MB 19.0MB/s eta 0:00:01\r\u001b[K     |████████████████▉               | 1.1MB 19.0MB/s eta 0:00:01\r\u001b[K     |█████████████████               | 1.1MB 19.0MB/s eta 0:00:01\r\u001b[K     |█████████████████▏              | 1.1MB 19.0MB/s eta 0:00:01\r\u001b[K     |█████████████████▎              | 1.1MB 19.0MB/s eta 0:00:01\r\u001b[K     |█████████████████▍              | 1.1MB 19.0MB/s eta 0:00:01\r\u001b[K     |█████████████████▋              | 1.1MB 19.0MB/s eta 0:00:01\r\u001b[K     |█████████████████▊              | 1.1MB 19.0MB/s eta 0:00:01\r\u001b[K     |██████████████████              | 1.1MB 19.0MB/s eta 0:00:01\r\u001b[K     |██████████████████              | 1.2MB 19.0MB/s eta 0:00:01\r\u001b[K     |██████████████████▎             | 1.2MB 19.0MB/s eta 0:00:01\r\u001b[K     |██████████████████▍             | 1.2MB 19.0MB/s eta 0:00:01\r\u001b[K     |██████████████████▌             | 1.2MB 19.0MB/s eta 0:00:01\r\u001b[K     |██████████████████▊             | 1.2MB 19.0MB/s eta 0:00:01\r\u001b[K     |██████████████████▉             | 1.2MB 19.0MB/s eta 0:00:01\r\u001b[K     |███████████████████             | 1.2MB 19.0MB/s eta 0:00:01\r\u001b[K     |███████████████████▏            | 1.2MB 19.0MB/s eta 0:00:01\r\u001b[K     |███████████████████▍            | 1.2MB 19.0MB/s eta 0:00:01\r\u001b[K     |███████████████████▌            | 1.2MB 19.0MB/s eta 0:00:01\r\u001b[K     |███████████████████▊            | 1.3MB 19.0MB/s eta 0:00:01\r\u001b[K     |███████████████████▉            | 1.3MB 19.0MB/s eta 0:00:01\r\u001b[K     |████████████████████            | 1.3MB 19.0MB/s eta 0:00:01\r\u001b[K     |████████████████████▏           | 1.3MB 19.0MB/s eta 0:00:01\r\u001b[K     |████████████████████▎           | 1.3MB 19.0MB/s eta 0:00:01\r\u001b[K     |████████████████████▌           | 1.3MB 19.0MB/s eta 0:00:01\r\u001b[K     |████████████████████▋           | 1.3MB 19.0MB/s eta 0:00:01\r\u001b[K     |████████████████████▉           | 1.3MB 19.0MB/s eta 0:00:01\r\u001b[K     |█████████████████████           | 1.3MB 19.0MB/s eta 0:00:01\r\u001b[K     |█████████████████████           | 1.4MB 19.0MB/s eta 0:00:01\r\u001b[K     |█████████████████████▎          | 1.4MB 19.0MB/s eta 0:00:01\r\u001b[K     |█████████████████████▍          | 1.4MB 19.0MB/s eta 0:00:01\r\u001b[K     |█████████████████████▋          | 1.4MB 19.0MB/s eta 0:00:01\r\u001b[K     |█████████████████████▊          | 1.4MB 19.0MB/s eta 0:00:01\r\u001b[K     |██████████████████████          | 1.4MB 19.0MB/s eta 0:00:01\r\u001b[K     |██████████████████████          | 1.4MB 19.0MB/s eta 0:00:01\r\u001b[K     |██████████████████████▎         | 1.4MB 19.0MB/s eta 0:00:01\r\u001b[K     |██████████████████████▍         | 1.4MB 19.0MB/s eta 0:00:01\r\u001b[K     |██████████████████████▌         | 1.4MB 19.0MB/s eta 0:00:01\r\u001b[K     |██████████████████████▊         | 1.5MB 19.0MB/s eta 0:00:01\r\u001b[K     |██████████████████████▉         | 1.5MB 19.0MB/s eta 0:00:01\r\u001b[K     |███████████████████████         | 1.5MB 19.0MB/s eta 0:00:01\r\u001b[K     |███████████████████████▏        | 1.5MB 19.0MB/s eta 0:00:01\r\u001b[K     |███████████████████████▍        | 1.5MB 19.0MB/s eta 0:00:01\r\u001b[K     |███████████████████████▌        | 1.5MB 19.0MB/s eta 0:00:01\r\u001b[K     |███████████████████████▊        | 1.5MB 19.0MB/s eta 0:00:01\r\u001b[K     |███████████████████████▉        | 1.5MB 19.0MB/s eta 0:00:01\r\u001b[K     |████████████████████████        | 1.5MB 19.0MB/s eta 0:00:01\r\u001b[K     |████████████████████████▏       | 1.5MB 19.0MB/s eta 0:00:01\r\u001b[K     |████████████████████████▎       | 1.6MB 19.0MB/s eta 0:00:01\r\u001b[K     |████████████████████████▌       | 1.6MB 19.0MB/s eta 0:00:01\r\u001b[K     |████████████████████████▋       | 1.6MB 19.0MB/s eta 0:00:01\r\u001b[K     |████████████████████████▉       | 1.6MB 19.0MB/s eta 0:00:01\r\u001b[K     |█████████████████████████       | 1.6MB 19.0MB/s eta 0:00:01\r\u001b[K     |█████████████████████████       | 1.6MB 19.0MB/s eta 0:00:01\r\u001b[K     |█████████████████████████▎      | 1.6MB 19.0MB/s eta 0:00:01\r\u001b[K     |█████████████████████████▍      | 1.6MB 19.0MB/s eta 0:00:01\r\u001b[K     |█████████████████████████▋      | 1.6MB 19.0MB/s eta 0:00:01\r\u001b[K     |█████████████████████████▊      | 1.6MB 19.0MB/s eta 0:00:01\r\u001b[K     |██████████████████████████      | 1.7MB 19.0MB/s eta 0:00:01\r\u001b[K     |██████████████████████████      | 1.7MB 19.0MB/s eta 0:00:01\r\u001b[K     |██████████████████████████▎     | 1.7MB 19.0MB/s eta 0:00:01\r\u001b[K     |██████████████████████████▍     | 1.7MB 19.0MB/s eta 0:00:01\r\u001b[K     |██████████████████████████▌     | 1.7MB 19.0MB/s eta 0:00:01\r\u001b[K     |██████████████████████████▊     | 1.7MB 19.0MB/s eta 0:00:01\r\u001b[K     |██████████████████████████▉     | 1.7MB 19.0MB/s eta 0:00:01\r\u001b[K     |███████████████████████████     | 1.7MB 19.0MB/s eta 0:00:01\r\u001b[K     |███████████████████████████▏    | 1.7MB 19.0MB/s eta 0:00:01\r\u001b[K     |███████████████████████████▍    | 1.8MB 19.0MB/s eta 0:00:01\r\u001b[K     |███████████████████████████▌    | 1.8MB 19.0MB/s eta 0:00:01\r\u001b[K     |███████████████████████████▋    | 1.8MB 19.0MB/s eta 0:00:01\r\u001b[K     |███████████████████████████▉    | 1.8MB 19.0MB/s eta 0:00:01\r\u001b[K     |████████████████████████████    | 1.8MB 19.0MB/s eta 0:00:01\r\u001b[K     |████████████████████████████▏   | 1.8MB 19.0MB/s eta 0:00:01\r\u001b[K     |████████████████████████████▎   | 1.8MB 19.0MB/s eta 0:00:01\r\u001b[K     |████████████████████████████▌   | 1.8MB 19.0MB/s eta 0:00:01\r\u001b[K     |████████████████████████████▋   | 1.8MB 19.0MB/s eta 0:00:01\r\u001b[K     |████████████████████████████▉   | 1.8MB 19.0MB/s eta 0:00:01\r\u001b[K     |█████████████████████████████   | 1.9MB 19.0MB/s eta 0:00:01\r\u001b[K     |█████████████████████████████   | 1.9MB 19.0MB/s eta 0:00:01\r\u001b[K     |█████████████████████████████▎  | 1.9MB 19.0MB/s eta 0:00:01\r\u001b[K     |█████████████████████████████▍  | 1.9MB 19.0MB/s eta 0:00:01\r\u001b[K     |█████████████████████████████▋  | 1.9MB 19.0MB/s eta 0:00:01\r\u001b[K     |█████████████████████████████▊  | 1.9MB 19.0MB/s eta 0:00:01\r\u001b[K     |██████████████████████████████  | 1.9MB 19.0MB/s eta 0:00:01\r\u001b[K     |██████████████████████████████  | 1.9MB 19.0MB/s eta 0:00:01\r\u001b[K     |██████████████████████████████▎ | 1.9MB 19.0MB/s eta 0:00:01\r\u001b[K     |██████████████████████████████▍ | 1.9MB 19.0MB/s eta 0:00:01\r\u001b[K     |██████████████████████████████▌ | 2.0MB 19.0MB/s eta 0:00:01\r\u001b[K     |██████████████████████████████▊ | 2.0MB 19.0MB/s eta 0:00:01\r\u001b[K     |██████████████████████████████▉ | 2.0MB 19.0MB/s eta 0:00:01\r\u001b[K     |███████████████████████████████ | 2.0MB 19.0MB/s eta 0:00:01\r\u001b[K     |███████████████████████████████▏| 2.0MB 19.0MB/s eta 0:00:01\r\u001b[K     |███████████████████████████████▍| 2.0MB 19.0MB/s eta 0:00:01\r\u001b[K     |███████████████████████████████▌| 2.0MB 19.0MB/s eta 0:00:01\r\u001b[K     |███████████████████████████████▋| 2.0MB 19.0MB/s eta 0:00:01\r\u001b[K     |███████████████████████████████▉| 2.0MB 19.0MB/s eta 0:00:01\r\u001b[K     |████████████████████████████████| 2.0MB 19.0MB/s eta 0:00:01\r\u001b[K     |████████████████████████████████| 2.1MB 19.0MB/s \n",
            "\u001b[?25hCollecting shortuuid>=0.5.0\n",
            "  Downloading https://files.pythonhosted.org/packages/25/a6/2ecc1daa6a304e7f1b216f0896b26156b78e7c38e1211e9b798b4716c53d/shortuuid-1.0.1-py3-none-any.whl\n",
            "Requirement already satisfied: requests<3,>=2.0.0 in /usr/local/lib/python3.7/dist-packages (from wandb) (2.23.0)\n",
            "Collecting docker-pycreds>=0.4.0\n",
            "  Downloading https://files.pythonhosted.org/packages/f5/e8/f6bd1eee09314e7e6dee49cbe2c5e22314ccdb38db16c9fc72d2fa80d054/docker_pycreds-0.4.0-py2.py3-none-any.whl\n",
            "Collecting pathtools\n",
            "  Downloading https://files.pythonhosted.org/packages/e7/7f/470d6fcdf23f9f3518f6b0b76be9df16dcc8630ad409947f8be2eb0ed13a/pathtools-0.1.2.tar.gz\n",
            "Requirement already satisfied: psutil>=5.0.0 in /usr/local/lib/python3.7/dist-packages (from wandb) (5.4.8)\n",
            "Requirement already satisfied: Click>=7.0 in /usr/local/lib/python3.7/dist-packages (from wandb) (7.1.2)\n",
            "Collecting sentry-sdk>=0.4.0\n",
            "\u001b[?25l  Downloading https://files.pythonhosted.org/packages/f3/92/5a33be64990ba815364a8f2dd9e6f51de60d23dfddafb4f1fc5577d4dc64/sentry_sdk-1.0.0-py2.py3-none-any.whl (131kB)\n",
            "\u001b[K     |████████████████████████████████| 133kB 54.8MB/s \n",
            "\u001b[?25hRequirement already satisfied: python-dateutil>=2.6.1 in /usr/local/lib/python3.7/dist-packages (from wandb) (2.8.1)\n",
            "Requirement already satisfied: six>=1.13.0 in /usr/local/lib/python3.7/dist-packages (from wandb) (1.15.0)\n",
            "Requirement already satisfied: promise<3,>=2.0 in /usr/local/lib/python3.7/dist-packages (from wandb) (2.3)\n",
            "Requirement already satisfied: PyYAML in /usr/local/lib/python3.7/dist-packages (from wandb) (3.13)\n",
            "Collecting configparser>=3.8.1\n",
            "  Downloading https://files.pythonhosted.org/packages/fd/01/ff260a18caaf4457eb028c96eeb405c4a230ca06c8ec9c1379f813caa52e/configparser-5.0.2-py3-none-any.whl\n",
            "Collecting subprocess32>=3.5.3\n",
            "\u001b[?25l  Downloading https://files.pythonhosted.org/packages/32/c8/564be4d12629b912ea431f1a50eb8b3b9d00f1a0b1ceff17f266be190007/subprocess32-3.5.4.tar.gz (97kB)\n",
            "\u001b[K     |████████████████████████████████| 102kB 11.5MB/s \n",
            "\u001b[?25hCollecting GitPython>=1.0.0\n",
            "\u001b[?25l  Downloading https://files.pythonhosted.org/packages/a6/99/98019716955ba243657daedd1de8f3a88ca1f5b75057c38e959db22fb87b/GitPython-3.1.14-py3-none-any.whl (159kB)\n",
            "\u001b[K     |████████████████████████████████| 163kB 49.8MB/s \n",
            "\u001b[?25hRequirement already satisfied: protobuf>=3.12.0 in /usr/local/lib/python3.7/dist-packages (from wandb) (3.12.4)\n",
            "Requirement already satisfied: idna<3,>=2.5 in /usr/local/lib/python3.7/dist-packages (from requests<3,>=2.0.0->wandb) (2.10)\n",
            "Requirement already satisfied: chardet<4,>=3.0.2 in /usr/local/lib/python3.7/dist-packages (from requests<3,>=2.0.0->wandb) (3.0.4)\n",
            "Requirement already satisfied: certifi>=2017.4.17 in /usr/local/lib/python3.7/dist-packages (from requests<3,>=2.0.0->wandb) (2020.12.5)\n",
            "Requirement already satisfied: urllib3!=1.25.0,!=1.25.1,<1.26,>=1.21.1 in /usr/local/lib/python3.7/dist-packages (from requests<3,>=2.0.0->wandb) (1.24.3)\n",
            "Collecting gitdb<5,>=4.0.1\n",
            "\u001b[?25l  Downloading https://files.pythonhosted.org/packages/ea/e8/f414d1a4f0bbc668ed441f74f44c116d9816833a48bf81d22b697090dba8/gitdb-4.0.7-py3-none-any.whl (63kB)\n",
            "\u001b[K     |████████████████████████████████| 71kB 10.3MB/s \n",
            "\u001b[?25hRequirement already satisfied: setuptools in /usr/local/lib/python3.7/dist-packages (from protobuf>=3.12.0->wandb) (54.2.0)\n",
            "Collecting smmap<5,>=3.0.1\n",
            "  Downloading https://files.pythonhosted.org/packages/68/ee/d540eb5e5996eb81c26ceffac6ee49041d473bc5125f2aa995cf51ec1cf1/smmap-4.0.0-py2.py3-none-any.whl\n",
            "Building wheels for collected packages: pathtools, subprocess32\n",
            "  Building wheel for pathtools (setup.py) ... \u001b[?25l\u001b[?25hdone\n",
            "  Created wheel for pathtools: filename=pathtools-0.1.2-cp37-none-any.whl size=8786 sha256=07f31b02153332c8254dfe52b81859019b9c3d8566cc3ff4421093a8136976b0\n",
            "  Stored in directory: /root/.cache/pip/wheels/0b/04/79/c3b0c3a0266a3cb4376da31e5bfe8bba0c489246968a68e843\n",
            "  Building wheel for subprocess32 (setup.py) ... \u001b[?25l\u001b[?25hdone\n",
            "  Created wheel for subprocess32: filename=subprocess32-3.5.4-cp37-none-any.whl size=6489 sha256=bfe976944240b2437686b8db3fcc84ad27c8c2376fbd69777aa49fffecce4a06\n",
            "  Stored in directory: /root/.cache/pip/wheels/68/39/1a/5e402bdfdf004af1786c8b853fd92f8c4a04f22aad179654d1\n",
            "Successfully built pathtools subprocess32\n",
            "Installing collected packages: shortuuid, docker-pycreds, pathtools, sentry-sdk, configparser, subprocess32, smmap, gitdb, GitPython, wandb\n",
            "Successfully installed GitPython-3.1.14 configparser-5.0.2 docker-pycreds-0.4.0 gitdb-4.0.7 pathtools-0.1.2 sentry-sdk-1.0.0 shortuuid-1.0.1 smmap-4.0.0 subprocess32-3.5.4 wandb-0.10.24\n",
            "\u001b[34m\u001b[1mwandb\u001b[0m: You can find your API key in your browser here: https://wandb.ai/authorize\n",
            "\u001b[34m\u001b[1mwandb\u001b[0m: Paste an API key from your profile and hit enter: \n",
            "\u001b[34m\u001b[1mwandb\u001b[0m: Appending key for api.wandb.ai to your netrc file: /root/.netrc\n"
          ],
          "name": "stdout"
        }
      ]
    },
    {
      "cell_type": "code",
      "metadata": {
        "colab": {
          "base_uri": "https://localhost:8080/",
          "height": 597
        },
        "id": "EDroFRDmMXN0",
        "outputId": "f58c1c36-a5f2-4588-b403-30236548afa0"
      },
      "source": [
        "import wandb\n",
        "wandb.init(project=\"CS6910-assg2\", entity=\"swathi\")"
      ],
      "execution_count": 3,
      "outputs": [
        {
          "output_type": "stream",
          "text": [
            "\u001b[34m\u001b[1mwandb\u001b[0m: Currently logged in as: \u001b[33mswathi\u001b[0m (use `wandb login --relogin` to force relogin)\n"
          ],
          "name": "stderr"
        },
        {
          "output_type": "display_data",
          "data": {
            "text/html": [
              "\n",
              "                Tracking run with wandb version 0.10.24<br/>\n",
              "                Syncing run <strong style=\"color:#cdcd00\">lyric-lion-15</strong> to <a href=\"https://wandb.ai\" target=\"_blank\">Weights & Biases</a> <a href=\"https://docs.wandb.com/integrations/jupyter.html\" target=\"_blank\">(Documentation)</a>.<br/>\n",
              "                Project page: <a href=\"https://wandb.ai/swathi/CS6910-assg2\" target=\"_blank\">https://wandb.ai/swathi/CS6910-assg2</a><br/>\n",
              "                Run page: <a href=\"https://wandb.ai/swathi/CS6910-assg2/runs/1m2r0dna\" target=\"_blank\">https://wandb.ai/swathi/CS6910-assg2/runs/1m2r0dna</a><br/>\n",
              "                Run data is saved locally in <code>/content/wandb/run-20210403_114048-1m2r0dna</code><br/><br/>\n",
              "            "
            ],
            "text/plain": [
              "<IPython.core.display.HTML object>"
            ]
          },
          "metadata": {
            "tags": []
          }
        },
        {
          "output_type": "execute_result",
          "data": {
            "text/plain": [
              "<wandb.sdk.wandb_run.Run at 0x7f721e7e2a10>"
            ],
            "text/html": [
              "<h1>Run(1m2r0dna)</h1><iframe src=\"https://wandb.ai/swathi/CS6910-assg2/runs/1m2r0dna\" style=\"border:none;width:100%;height:400px\"></iframe>"
            ]
          },
          "metadata": {
            "tags": []
          },
          "execution_count": 3
        }
      ]
    },
    {
      "cell_type": "code",
      "metadata": {
        "id": "OM-zwdYSo1ap"
      },
      "source": [
        "def load_train_data(dir, augment= True):\n",
        "  train_datagen = tf.keras.preprocessing.image.ImageDataGenerator(\n",
        "    rescale = 1./255,\n",
        "    samplewise_center = 0,\n",
        "    horizontal_flip = True,\n",
        "    rotation_range = 30,\n",
        "    validation_split = 0.1)\n",
        "  val_datagen = tf.keras.preprocessing.image.ImageDataGenerator(\n",
        "    rescale = 1./255,\n",
        "    samplewise_center = 0,\n",
        "    validation_split = 0.1)\n",
        "  if (augment ==True):\n",
        "    train_dataset = train_datagen.flow_from_directory(\n",
        "      dir,\n",
        "      batch_size=256,\n",
        "      classes = ['Amphibia', 'Animalia', 'Arachnida', 'Aves', 'Fungi', 'Insecta', 'Mammalia', 'Mollusca', 'Plantae', 'Reptilia'],\n",
        "      class_mode='categorical',\n",
        "      subset = 'training',\n",
        "      seed = 0)\n",
        "  else:\n",
        "    train_dataset = val_datagen.flow_from_directory(\n",
        "      dir,\n",
        "      batch_size=256,\n",
        "      classes = ['Amphibia', 'Animalia', 'Arachnida', 'Aves', 'Fungi', 'Insecta', 'Mammalia', 'Mollusca', 'Plantae', 'Reptilia'],\n",
        "      class_mode='categorical',\n",
        "      subset = 'training',\n",
        "      seed = 0)\n",
        "  val_dataset = val_datagen.flow_from_directory(\n",
        "    dir,\n",
        "    batch_size=256,\n",
        "    classes = ['Amphibia', 'Animalia', 'Arachnida', 'Aves', 'Fungi', 'Insecta', 'Mammalia', 'Mollusca', 'Plantae', 'Reptilia'],\n",
        "    class_mode='categorical',\n",
        "    subset = 'validation',\n",
        "    seed = 0)\n",
        "  \n",
        "  return train_dataset, val_dataset"
      ],
      "execution_count": 4,
      "outputs": []
    },
    {
      "cell_type": "code",
      "metadata": {
        "id": "Ib7m4DYGjKkq"
      },
      "source": [
        "x,y = train_generator.next()"
      ],
      "execution_count": null,
      "outputs": []
    },
    {
      "cell_type": "code",
      "metadata": {
        "colab": {
          "base_uri": "https://localhost:8080/"
        },
        "id": "XCzOuD4ujkTf",
        "outputId": "9ae61aee-8ea1-4292-e7a8-29f9badbebbb"
      },
      "source": [
        "print (x.shape)"
      ],
      "execution_count": 16,
      "outputs": [
        {
          "output_type": "stream",
          "text": [
            "(32, 256, 256, 3)\n"
          ],
          "name": "stdout"
        }
      ]
    },
    {
      "cell_type": "code",
      "metadata": {
        "colab": {
          "base_uri": "https://localhost:8080/",
          "height": 286
        },
        "id": "qbxNwpw0j4PA",
        "outputId": "b9e9cb5a-111a-4676-807d-0e12e5828705"
      },
      "source": [
        "plt.imshow(x[10])\n",
        "print (y[10])"
      ],
      "execution_count": 18,
      "outputs": [
        {
          "output_type": "stream",
          "text": [
            "[0. 0. 0. 1. 0. 0. 0. 0. 0. 0.]\n"
          ],
          "name": "stdout"
        },
        {
          "output_type": "display_data",
          "data": {
            "image/png": "[encoded data removed]",
            "text/plain": [
              "<Figure size 432x288 with 1 Axes>"
            ]
          },
          "metadata": {
            "tags": [],
            "needs_background": "light"
          }
        }
      ]
    },
    {
      "cell_type": "code",
      "metadata": {
        "id": "a13f77JUi662"
      },
      "source": [
        "print (type(train_generator))"
      ],
      "execution_count": null,
      "outputs": []
    },
    {
      "cell_type": "code",
      "metadata": {
        "id": "gzIoeqngVtLq"
      },
      "source": [
        "def CNN_wo_BN(filter_matrix, kernel_matrix, activation_matrix, fdropout=0, dense_no=512, learning_rate=0.001):\n",
        "\n",
        "  # Input layer\n",
        "  X_input = keras.Input(shape=(256,256,3))\n",
        "\n",
        "  # Layer 1\n",
        "  X = Conv2D(filter_matrix[0], kernel_matrix[0])(X_input)\n",
        "  X = Activation(activation_matrix[0])(X)\n",
        "  X = MaxPooling2D(pool_size=(2, 2))(X)\n",
        "\n",
        "  # Layer 2\n",
        "  X = Conv2D(filter_matrix[1], kernel_matrix[1])(X)\n",
        "  X = Activation(activation_matrix[1])(X)\n",
        "  X = MaxPooling2D(pool_size=(2, 2))(X)\n",
        "\n",
        "  # Layer 3\n",
        "  X = Conv2D(filter_matrix[2], kernel_matrix[2])(X)\n",
        "  X = Activation(activation_matrix[2])(X)\n",
        "  X = MaxPooling2D(pool_size=(2, 2))(X)\n",
        "\n",
        "  # Layer 4\n",
        "  X = Conv2D(filter_matrix[3], kernel_matrix[3])(X)\n",
        "  X = Activation(activation_matrix[3])(X)\n",
        "  X = MaxPooling2D(pool_size=(2, 2))(X)\n",
        "\n",
        "  # Layer 5\n",
        "  X = Conv2D(filter_matrix[4], kernel_matrix[4])(X)\n",
        "  X = Activation(activation_matrix[4])(X)\n",
        "  X = MaxPooling2D(pool_size=(2, 2))(X)\n",
        "\n",
        "  X = Flatten()(X)\n",
        "  X = Dense(dense_no,activation=activation_matrix[5])(X)\n",
        "  X = Dropout(fdropout)(X)\n",
        "  X = Dense(10,activation='softmax')(X)\n",
        "  \n",
        "  model=Model(inputs=X_input,outputs=X)\n",
        "  model.compile(optimizer=Adam(learning_rate), loss='categorical_crossentropy',  metrics=['accuracy'])\n",
        "\n",
        "  return model"
      ],
      "execution_count": 5,
      "outputs": []
    },
    {
      "cell_type": "code",
      "metadata": {
        "id": "ZvurXgaSfK8U"
      },
      "source": [
        "def CNN_w_BN(filter_matrix, kernel_matrix, activation_matrix, fdropout=0, dense_no=512, learning_rate=0.001):\n",
        "\n",
        "  # Input layer\n",
        "  X_input = keras.Input(shape=(256,256,3))\n",
        "\n",
        "  # Layer 1\n",
        "  X = Conv2D(filter_matrix[0], kernel_matrix[0])(X_input)\n",
        "  X = BatchNormalization()(X)\n",
        "  X = Activation(activation_matrix[0])(X)\n",
        "  X = MaxPooling2D(pool_size=(2, 2))(X)\n",
        "\n",
        "  # Layer 2\n",
        "  X = Conv2D(filter_matrix[1], kernel_matrix[1])(X)\n",
        "  X = BatchNormalization()(X)\n",
        "  X = Activation(activation_matrix[1])(X)\n",
        "  X = MaxPooling2D(pool_size=(2, 2))(X)\n",
        "\n",
        "  # Layer 3\n",
        "  X = Conv2D(filter_matrix[2], kernel_matrix[2])(X)\n",
        "  X = BatchNormalization()(X)\n",
        "  X = Activation(activation_matrix[2])(X)\n",
        "  X = MaxPooling2D(pool_size=(2, 2))(X)\n",
        "\n",
        "  # Layer 4\n",
        "  X = Conv2D(filter_matrix[3], kernel_matrix[3])(X)\n",
        "  X = BatchNormalization()(X)\n",
        "  X = Activation(activation_matrix[3])(X)\n",
        "  X = MaxPooling2D(pool_size=(2, 2))(X)\n",
        "\n",
        "  # Layer 5\n",
        "  X = Conv2D(filter_matrix[4], kernel_matrix[4])(X)\n",
        "  X = BatchNormalization()(X)\n",
        "  X = Activation(activation_matrix[4])(X)\n",
        "  X = MaxPooling2D(pool_size=(2, 2))(X)\n",
        "\n",
        "  X = Flatten()(X)\n",
        "  X = Dense(dense_no,activation=activation_matrix[5])(X)\n",
        "  X = Dropout(fdropout)(X)\n",
        "  X = Dense(10,activation='softmax')(X)\n",
        "  \n",
        "  model=Model(inputs=X_input,outputs=X)\n",
        "  model.compile(optimizer=Adam(learning_rate), loss='categorical_crossentropy',  metrics=['accuracy'])\n",
        "\n",
        "  return model"
      ],
      "execution_count": 6,
      "outputs": []
    },
    {
      "cell_type": "code",
      "metadata": {
        "id": "aKPL9RF3Xrs9"
      },
      "source": [
        "def model_choose(highest_filter, filter_type, kernel_matrix, activation_matrix, dropout=0, dense_no=512, batch_norm=True, learning_rate=0.001):\n",
        "  if filter_type == 'constant':\n",
        "    filter_matrix = [filter_start]*4\n",
        "  elif filter_type == 'doubling':\n",
        "    filter_matrix = [highest_filter/16, highest_filter/8, highest_filter/4, highest_filter/2, highest_filter]\n",
        "  elif filter_type == 'halving':\n",
        "    filter_matrix = [highest_filter, highest_filter/2, highest_filter/4, highest_filter/8, highest_filter/16]\n",
        "  # wandb.log({\"Filters\": filter_matrix})\n",
        "\n",
        "  if batch_norm == True:\n",
        "    model = CNN_w_BN(filter_matrix, kernel_matrix, activation_matrix, dropout, dense_no, learning_rate)\n",
        "  else:\n",
        "    model = CNN_wo_BN(filter_matrix, kernel_matrix, activation_matrix, dropout, dense_no, learning_rate)\n",
        "  \n",
        "  return model\n"
      ],
      "execution_count": 7,
      "outputs": []
    },
    {
      "cell_type": "code",
      "metadata": {
        "id": "x0Z8EWSzAYtv"
      },
      "source": [
        "# Checking all above functions\n",
        "X=tf.random.normal((227,227,3))\n",
        "filter_matrix = [32, 64, 256, 512, 1024]\n",
        "kernel_matrix = [(3,3)]*5\n",
        "activation_matrix = ['relu']*6;\n",
        "model = model_choose(X, 1024, 'doubling', kernel_matrix, activation_matrix)\n",
        "model.summary()"
      ],
      "execution_count": null,
      "outputs": []
    },
    {
      "cell_type": "code",
      "metadata": {
        "id": "I0fTjJp1c2SF"
      },
      "source": [
        "@tf.custom_gradient\n",
        "def GBRelu(x):\n",
        "  def gradient(dy):\n",
        "    grad = tf.cast(dy>0,\"float32\")*tf.cast(x>0, \"float32\")*dy\n",
        "    return  grad\n",
        "  return tf.nn.relu(x), gradient\n",
        "# Here model is the best model\n",
        "GBModel = Model(inputs = [model.inputs],outputs = [model.get_layer(index=8).output]) # Here the index is to be checked\n",
        "layer_dict = [layer for layer in gb_model.layers[1:] if hasattr(layer,'activation')]\n",
        "for layer in layer_dict:\n",
        "  if layer.activation == tf.keras.activations.relu:\n",
        "    layer.activation = GBRelu\n",
        "\n",
        "with tf.GradientTape() as tape:\n",
        "  inputs = tf.cast(X_input, tf.float32)\n",
        "  tape.watch(inputs)\n",
        "  outputs = GBModel(inputs)\n",
        "\n",
        "grads = tape.gradient(outputs,inputs)[0]"
      ],
      "execution_count": null,
      "outputs": []
    },
    {
      "cell_type": "code",
      "metadata": {
        "id": "64qEStFZNIaY"
      },
      "source": [
        "import pprint"
      ],
      "execution_count": 8,
      "outputs": []
    },
    {
      "cell_type": "code",
      "metadata": {
        "id": "6V3TPqY4Bj_4",
        "colab": {
          "base_uri": "https://localhost:8080/"
        },
        "outputId": "b1946e62-9a96-4d23-adc1-c31827be4cc1"
      },
      "source": [
        "sweep_config = {\n",
        "    'method': 'grid'\n",
        "    }\n",
        "parameters_dict = {\n",
        "    'highest_filter':{\n",
        "        'values': [1024]\n",
        "      },\n",
        "    'kernel_matrix': {\n",
        "        'values': [0]\n",
        "      },\n",
        "    'learn_rate': {\n",
        "        'values': [1e-3]\n",
        "      },\n",
        "    'epochs': {\n",
        "        'values': [15,30]\n",
        "      },\n",
        "    'batch_size': {\n",
        "        'values': [256]\n",
        "      },\n",
        "    'dropout': {\n",
        "        'values': [0.2]\n",
        "      },\n",
        "    'batch_normalization': {\n",
        "        'values': [True, False]\n",
        "      },\n",
        "    'dense_number': {\n",
        "          'values': [512]\n",
        "      },\n",
        "    'augmentation':{\n",
        "        'values' : [True]\n",
        "    }\n",
        "}\n",
        "sweep_config['parameters'] = parameters_dict\n",
        "pprint.pprint(sweep_config)\n",
        "\n",
        "def training_sweep(config=None):\n",
        "    with wandb.init(config=config):\n",
        "        config = wandb.config\n",
        "        kernels = [[(3,3)]*5]\n",
        "        global K\n",
        "        K = kernels[config.kernel_matrix]\n",
        "        activation_matrix = ['relu']*6\n",
        "        model = model_choose(config.highest_filter, 'doubling', K, activation_matrix, config.dropout, config.dense_number, config.batch_normalization, config.learn_rate)\n",
        "        train, val = load_train_data('/content/drive/MyDrive/inaturalist_12K/train', config.augmentation)\n",
        "        history = model.fit(train, \n",
        "                            epochs=config.epochs,\n",
        "                            validation_data = val,\n",
        "                            )\n",
        "        wandb.log(history.history)"
      ],
      "execution_count": 9,
      "outputs": [
        {
          "output_type": "stream",
          "text": [
            "{'method': 'grid',\n",
            " 'parameters': {'augmentation': {'values': [True]},\n",
            "                'batch_normalization': {'values': [True, False]},\n",
            "                'batch_size': {'values': [256]},\n",
            "                'dense_number': {'values': [512]},\n",
            "                'dropout': {'values': [0.2]},\n",
            "                'epochs': {'values': [15, 30]},\n",
            "                'highest_filter': {'values': [1024]},\n",
            "                'kernel_matrix': {'values': [0]},\n",
            "                'learn_rate': {'values': [0.001]}}}\n"
          ],
          "name": "stdout"
        }
      ]
    },
    {
      "cell_type": "code",
      "metadata": {
        "colab": {
          "base_uri": "https://localhost:8080/"
        },
        "id": "Agmt-aMLNOFu",
        "outputId": "3b753e4e-7f67-487e-945b-77779ff57257"
      },
      "source": [
        "sweep_id = wandb.sweep(sweep_config, project=\"CS6910-assg2\")\n",
        "wandb.agent(sweep_id, training_sweep)"
      ],
      "execution_count": 10,
      "outputs": [
        {
          "output_type": "stream",
          "text": [
            "\u001b[34m\u001b[1mwandb\u001b[0m: Ctrl + C detected. Stopping sweep.\n"
          ],
          "name": "stderr"
        }
      ]
    },
    {
      "cell_type": "code",
      "metadata": {
        "id": "EbaPejZdUqJd"
      },
      "source": [
        "@tf.function\n",
        "def train_model(model, train, val):\n",
        "  history = model.fit(train, \n",
        "                      epochs=5,\n",
        "                      validation_data = val,\n",
        "                      )\n",
        "  return history"
      ],
      "execution_count": 14,
      "outputs": []
    },
    {
      "cell_type": "code",
      "metadata": {
        "id": "6aYJ-NyHQIs0"
      },
      "source": [
        "k = [(3,3)]*5\n",
        "activation_matrix = ['relu']*6\n",
        "\n",
        "train, val = load_train_data('/content/drive/MyDrive/inaturalist_12K/train', True)\n",
        "#history = strategy.run(train_model, args=(model,train,val))\n",
        "\n",
        "with strategy.scope():\n",
        "  model = model_choose(1024, 'doubling', k, activation_matrix, 0, 512, True, 0.001)\n",
        "\n",
        "model.fit(train, \n",
        "          epochs=5,\n",
        "          validation_data = val,\n",
        "          )"
      ],
      "execution_count": null,
      "outputs": []
    }
  ]
}