{
  "nbformat": 4,
  "nbformat_minor": 0,
  "metadata": {
    "colab": {
      "name": "Assignment2_B.ipynb",
      "provenance": [],
      "include_colab_link": true
    },
    "kernelspec": {
      "name": "python3",
      "display_name": "Python 3"
    },
    "language_info": {
      "name": "python"
    },
    "accelerator": "GPU"
  },
  "cells": [
    {
      "cell_type": "markdown",
      "metadata": {
        "id": "view-in-github",
        "colab_type": "text"
      },
      "source": [
        "<a href=\"https://colab.research.google.com/github/Swathi1309/ED18B034_ME18B133_CS6910/blob/main/Assignment2/PartB.ipynb\" target=\"_parent\"><img src=\"https://colab.research.google.com/assets/colab-badge.svg\" alt=\"Open In Colab\"/></a>"
      ]
    },
    {
      "cell_type": "markdown",
      "metadata": {
        "id": "7J8JYgVJvYDY"
      },
      "source": [
        "# Fine-tuning a pre-trained model"
      ]
    },
    {
      "cell_type": "markdown",
      "metadata": {
        "id": "63lwNVvZvdKU"
      },
      "source": [
        "# Initial Setup"
      ]
    },
    {
      "cell_type": "code",
      "metadata": {
        "id": "MYSa2Jo_EcsX"
      },
      "source": [
        "import numpy as np\n",
        "import tensorflow as tf\n",
        "from tensorflow import keras\n",
        "from tensorflow.keras.layers import Dense, GlobalAveragePooling2D, Dropout\n",
        "from tensorflow.keras import Model\n",
        "from tensorflow.keras.optimizers import Adam\n",
        "from tensorflow.keras.applications import Xception\n",
        "import pprint"
      ],
      "execution_count": null,
      "outputs": []
    },
    {
      "cell_type": "code",
      "metadata": {
        "id": "nP9u0KYfHOHh"
      },
      "source": [
        "from google.colab import drive\n",
        "drive.mount('/content/drive')\n",
        "\n",
        "classes = ['Amphibia', 'Animalia', 'Arachnida', 'Aves', 'Fungi', 'Insecta', 'Mammalia', 'Mollusca', 'Plantae', 'Reptilia']"
      ],
      "execution_count": null,
      "outputs": []
    },
    {
      "cell_type": "code",
      "metadata": {
        "id": "mmhWnUkEHTbR"
      },
      "source": [
        "!pip install wandb\n",
        "!wandb login\n",
        "import wandb\n",
        "from wandb.keras import WandbCallback\n",
        "wandb.init(project=\"CS6910-assg2\", entity=\"swathi\")"
      ],
      "execution_count": null,
      "outputs": []
    },
    {
      "cell_type": "markdown",
      "metadata": {
        "id": "9pWSHtEEvf--"
      },
      "source": [
        "# Function to load the model and data\n",
        "To change the model from Xception to any other, the base_model can be changed in the below cell."
      ]
    },
    {
      "cell_type": "code",
      "metadata": {
        "id": "f9fXtX8uGG02"
      },
      "source": [
        "def load_model(dropout, learning_rate, unfreeze):\n",
        "  unfreeze = -1*unfreeze\n",
        "  input = keras.Input(shape=(img_dim,img_dim,channel_no))\n",
        "  # The model can be changed to any other as required\n",
        "  base_model = Xception(weights=\"imagenet\",\n",
        "                        input_shape=(img_dim, img_dim, channel_no),\n",
        "                        include_top=False,)\n",
        "  \n",
        "  for layer in base_model.layers:\n",
        "    layer.trainable = False\n",
        "  if (unfreeze !=0):\n",
        "    for layer in base_model.layers[unfreeze:]:\n",
        "      layer.trainable = True\n",
        "  \n",
        "  X = base_model(input, training=False)\n",
        "  X = GlobalAveragePooling2D()(X)\n",
        "  X = Dropout(0.2)(X)\n",
        "  output = Dense(10,activation='softmax')(X)\n",
        "  model = Model(inputs=input,outputs=output)\n",
        "  model.compile(optimizer = Adam(learning_rate),\n",
        "                loss='categorical_crossentropy',\n",
        "                metrics=['accuracy'])\n",
        "  \n",
        "  return base_model, model"
      ],
      "execution_count": null,
      "outputs": []
    },
    {
      "cell_type": "code",
      "metadata": {
        "id": "_Kr67HNGizm7"
      },
      "source": [
        "def load_data(dir_train, dir_test, batch):\n",
        "  \n",
        "  seed = 42\n",
        "  \n",
        "  train_datagen = tf.keras.preprocessing.image.ImageDataGenerator(\n",
        "    rescale = 1./255,\n",
        "    samplewise_center = 0,\n",
        "    horizontal_flip = True,\n",
        "    rotation_range = 30,\n",
        "    validation_split = 0.1)\n",
        "  \n",
        "  val_datagen = tf.keras.preprocessing.image.ImageDataGenerator(\n",
        "    rescale = 1./255,\n",
        "    samplewise_center = 0,\n",
        "    validation_split = 0.1)\n",
        "  \n",
        "  test_datagen = tf.keras.preprocessing.image.ImageDataGenerator(\n",
        "    rescale = 1./255,\n",
        "    samplewise_center = 0)\n",
        "  \n",
        "  train_aug_dataset = train_datagen.flow_from_directory(\n",
        "    dir_train,\n",
        "    target_size = (img_dim,img_dim),\n",
        "    batch_size = batch,\n",
        "    classes = ['Amphibia', 'Animalia', 'Arachnida', 'Aves', 'Fungi', 'Insecta', 'Mammalia', 'Mollusca', 'Plantae', 'Reptilia'],\n",
        "    class_mode='categorical',\n",
        "    subset = 'training',\n",
        "    seed = seed)\n",
        "\n",
        "  train_dataset = val_datagen.flow_from_directory(\n",
        "    dir_train,\n",
        "    target_size = (img_dim,img_dim),\n",
        "    batch_size = batch,\n",
        "    classes = ['Amphibia', 'Animalia', 'Arachnida', 'Aves', 'Fungi', 'Insecta', 'Mammalia', 'Mollusca', 'Plantae', 'Reptilia'],\n",
        "    class_mode='categorical',\n",
        "    subset = 'training',\n",
        "    seed = seed)\n",
        "  \n",
        "  val_dataset = val_datagen.flow_from_directory(\n",
        "    dir_train,\n",
        "    target_size = (img_dim,img_dim),\n",
        "    batch_size = batch,\n",
        "    classes = ['Amphibia', 'Animalia', 'Arachnida', 'Aves', 'Fungi', 'Insecta', 'Mammalia', 'Mollusca', 'Plantae', 'Reptilia'],\n",
        "    class_mode='categorical',\n",
        "    subset = 'validation',\n",
        "    seed = seed)\n",
        "  \n",
        "  test_dataset = test_datagen.flow_from_directory(\n",
        "    dir_test,\n",
        "    target_size = (img_dim,img_dim),\n",
        "    batch_size = batch,\n",
        "    classes = ['Amphibia', 'Animalia', 'Arachnida', 'Aves', 'Fungi', 'Insecta', 'Mammalia', 'Mollusca', 'Plantae', 'Reptilia'],\n",
        "    class_mode='categorical',\n",
        "    subset = None,\n",
        "    seed = seed\n",
        "  )\n",
        "  \n",
        "  return train_aug_dataset, train_dataset, val_dataset, test_dataset"
      ],
      "execution_count": null,
      "outputs": []
    },
    {
      "cell_type": "markdown",
      "metadata": {
        "id": "DrhwtceMv-8V"
      },
      "source": [
        "# Defining parameters"
      ]
    },
    {
      "cell_type": "code",
      "metadata": {
        "id": "_q0Q3uFjGldO"
      },
      "source": [
        "global img_dim\n",
        "img_dim = 200\n",
        "\n",
        "global channel_no\n",
        "channel_no = 3 #3 for RGB images, 1 for greyscale\n",
        "\n",
        "global batch\n",
        "batch = 128\n",
        "\n",
        "global train_aug_dataset, train_dataset, val_dataset, test_datagen\n",
        "train_aug_dataset, train_dataset, val_dataset, test_dataset = load_data('/content/drive/MyDrive/inaturalist_12K/train', '/content/drive/MyDrive/inaturalist_12K/val', batch)"
      ],
      "execution_count": null,
      "outputs": []
    },
    {
      "cell_type": "markdown",
      "metadata": {
        "id": "YPNuSu89v1Ej"
      },
      "source": [
        "# Hyperparameter sweeps"
      ]
    },
    {
      "cell_type": "code",
      "metadata": {
        "id": "K-2pnJf6hXiZ"
      },
      "source": [
        "sweep_config = {\n",
        "    'method': 'grid'\n",
        "    }\n",
        "\n",
        "parameters_dict = {\n",
        "    'unfreeze' : {\n",
        "        'values' : [0] # 0,1,2\n",
        "    },\n",
        "    'unfreeze_fine_tune' : {\n",
        "        'values' : [30] #0,30\n",
        "    },\n",
        "    'fine_tune_rate' : {\n",
        "        'values' : [1e-5]\n",
        "    },\n",
        "    'learning_rate' : {\n",
        "        'values' : [1e-3]\n",
        "    },\n",
        "    'dropout' : {\n",
        "        'values' : [0.5] #0.2,0.5\n",
        "    },\n",
        "    'epochs_train' : {\n",
        "        'values' : [10]\n",
        "    },\n",
        "    'epochs_fine_tune' : {\n",
        "        'values' : [10]\n",
        "    },\n",
        "    'augmentation' : {\n",
        "        'values' : [True]\n",
        "    }\n",
        "}\n",
        "\n",
        "sweep_config['parameters'] = parameters_dict\n",
        "pprint.pprint(sweep_config)\n",
        "\n",
        "def training_sweep(config=None):\n",
        "    with wandb.init(config=config):\n",
        "        config = wandb.config\n",
        "        base_model, model = load_model(config.dropout, config.learning_rate, config.unfreeze)\n",
        "        if config.augmentation == True:\n",
        "          train = train_aug_dataset\n",
        "        else:\n",
        "          train = train_dataset\n",
        "        history = model.fit(train, \n",
        "                            epochs=config.epochs_train,\n",
        "                            validation_data = val_dataset,\n",
        "                            callbacks = [WandbCallback(data_type='image', labels = classes)]\n",
        "                            )\n",
        "        if (config.unfreeze_fine_tune!= 0):\n",
        "          for layer in base_model.layers[config.unfreeze_fine_tune:]:\n",
        "            layer.trainable = True\n",
        "          model.compile(optimizer = Adam(config.fine_tune_rate),\n",
        "                      loss='categorical_crossentropy',\n",
        "                      metrics=['accuracy'])\n",
        "          history = model.fit(train, \n",
        "                              epochs=config.epochs_fine_tune,\n",
        "                              validation_data = val_dataset,\n",
        "                              callbacks = [WandbCallback(data_type='image', labels = classes)]\n",
        "                              )"
      ],
      "execution_count": null,
      "outputs": []
    },
    {
      "cell_type": "code",
      "metadata": {
        "id": "RurIkLlklD_Y"
      },
      "source": [
        "sweep_id = wandb.sweep(sweep_config, project=\"CS6910-assg2\")\n",
        "wandb.agent(sweep_id, training_sweep)"
      ],
      "execution_count": null,
      "outputs": []
    }
  ]
}