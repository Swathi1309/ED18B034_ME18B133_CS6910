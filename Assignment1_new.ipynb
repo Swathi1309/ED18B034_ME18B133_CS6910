{
  "nbformat": 4,
  "nbformat_minor": 0,
  "metadata": {
    "colab": {
      "name": "Assignment1.ipynb",
      "provenance": [],
      "include_colab_link": true
    },
    "kernelspec": {
      "name": "python3",
      "display_name": "Python 3"
    }
  },
  "cells": [
    {
      "cell_type": "markdown",
      "metadata": {
        "id": "view-in-github",
        "colab_type": "text"
      },
      "source": [
        "<a href=\"https://colab.research.google.com/github/Swathi1309/ED18B034_ME18B133_Assignment1/blob/main/Assignment1_new.ipynb\" target=\"_parent\"><img src=\"https://colab.research.google.com/assets/colab-badge.svg\" alt=\"Open In Colab\"/></a>"
      ]
    },
    {
      "cell_type": "code",
      "metadata": {
        "id": "Gpn2gtJcHhV7",
        "colab": {
          "base_uri": "https://localhost:8080/"
        },
        "outputId": "15ff84d2-4e86-4fd4-f0ed-3027bc621fbe"
      },
      "source": [
        "!pip install wandb\n",
        "!wandb login"
      ],
      "execution_count": null,
      "outputs": [
        {
          "output_type": "stream",
          "text": [
            "Collecting wandb\n",
            "\u001b[?25l  Downloading https://files.pythonhosted.org/packages/00/17/b1e27f77c3d47f6915a774ecf632e3f5a7d49d9fa3991547729e7f19bedd/wandb-0.10.21-py2.py3-none-any.whl (2.0MB)\n",
            "\u001b[K     |████████████████████████████████| 2.0MB 5.7MB/s \n",
            "\u001b[?25hRequirement already satisfied: psutil>=5.0.0 in /usr/local/lib/python3.7/dist-packages (from wandb) (5.4.8)\n",
            "Requirement already satisfied: six>=1.13.0 in /usr/local/lib/python3.7/dist-packages (from wandb) (1.15.0)\n",
            "Collecting sentry-sdk>=0.4.0\n",
            "\u001b[?25l  Downloading https://files.pythonhosted.org/packages/f3/92/5a33be64990ba815364a8f2dd9e6f51de60d23dfddafb4f1fc5577d4dc64/sentry_sdk-1.0.0-py2.py3-none-any.whl (131kB)\n",
            "\u001b[K     |████████████████████████████████| 133kB 31.2MB/s \n",
            "\u001b[?25hRequirement already satisfied: python-dateutil>=2.6.1 in /usr/local/lib/python3.7/dist-packages (from wandb) (2.8.1)\n",
            "Collecting shortuuid>=0.5.0\n",
            "  Downloading https://files.pythonhosted.org/packages/25/a6/2ecc1daa6a304e7f1b216f0896b26156b78e7c38e1211e9b798b4716c53d/shortuuid-1.0.1-py3-none-any.whl\n",
            "Collecting subprocess32>=3.5.3\n",
            "\u001b[?25l  Downloading https://files.pythonhosted.org/packages/32/c8/564be4d12629b912ea431f1a50eb8b3b9d00f1a0b1ceff17f266be190007/subprocess32-3.5.4.tar.gz (97kB)\n",
            "\u001b[K     |████████████████████████████████| 102kB 9.1MB/s \n",
            "\u001b[?25hCollecting configparser>=3.8.1\n",
            "  Downloading https://files.pythonhosted.org/packages/fd/01/ff260a18caaf4457eb028c96eeb405c4a230ca06c8ec9c1379f813caa52e/configparser-5.0.2-py3-none-any.whl\n",
            "Requirement already satisfied: PyYAML in /usr/local/lib/python3.7/dist-packages (from wandb) (3.13)\n",
            "Collecting GitPython>=1.0.0\n",
            "\u001b[?25l  Downloading https://files.pythonhosted.org/packages/a6/99/98019716955ba243657daedd1de8f3a88ca1f5b75057c38e959db22fb87b/GitPython-3.1.14-py3-none-any.whl (159kB)\n",
            "\u001b[K     |████████████████████████████████| 163kB 27.2MB/s \n",
            "\u001b[?25hCollecting docker-pycreds>=0.4.0\n",
            "  Downloading https://files.pythonhosted.org/packages/f5/e8/f6bd1eee09314e7e6dee49cbe2c5e22314ccdb38db16c9fc72d2fa80d054/docker_pycreds-0.4.0-py2.py3-none-any.whl\n",
            "Requirement already satisfied: protobuf>=3.12.0 in /usr/local/lib/python3.7/dist-packages (from wandb) (3.12.4)\n",
            "Collecting pathtools\n",
            "  Downloading https://files.pythonhosted.org/packages/e7/7f/470d6fcdf23f9f3518f6b0b76be9df16dcc8630ad409947f8be2eb0ed13a/pathtools-0.1.2.tar.gz\n",
            "Requirement already satisfied: Click>=7.0 in /usr/local/lib/python3.7/dist-packages (from wandb) (7.1.2)\n",
            "Requirement already satisfied: requests<3,>=2.0.0 in /usr/local/lib/python3.7/dist-packages (from wandb) (2.23.0)\n",
            "Requirement already satisfied: promise<3,>=2.0 in /usr/local/lib/python3.7/dist-packages (from wandb) (2.3)\n",
            "Requirement already satisfied: certifi in /usr/local/lib/python3.7/dist-packages (from sentry-sdk>=0.4.0->wandb) (2020.12.5)\n",
            "Requirement already satisfied: urllib3>=1.10.0 in /usr/local/lib/python3.7/dist-packages (from sentry-sdk>=0.4.0->wandb) (1.24.3)\n",
            "Collecting gitdb<5,>=4.0.1\n",
            "\u001b[?25l  Downloading https://files.pythonhosted.org/packages/48/11/d1800bca0a3bae820b84b7d813ad1eff15a48a64caea9c823fc8c1b119e8/gitdb-4.0.5-py3-none-any.whl (63kB)\n",
            "\u001b[K     |████████████████████████████████| 71kB 7.1MB/s \n",
            "\u001b[?25hRequirement already satisfied: setuptools in /usr/local/lib/python3.7/dist-packages (from protobuf>=3.12.0->wandb) (54.0.0)\n",
            "Requirement already satisfied: idna<3,>=2.5 in /usr/local/lib/python3.7/dist-packages (from requests<3,>=2.0.0->wandb) (2.10)\n",
            "Requirement already satisfied: chardet<4,>=3.0.2 in /usr/local/lib/python3.7/dist-packages (from requests<3,>=2.0.0->wandb) (3.0.4)\n",
            "Collecting smmap<4,>=3.0.1\n",
            "  Downloading https://files.pythonhosted.org/packages/d5/1e/6130925131f639b2acde0f7f18b73e33ce082ff2d90783c436b52040af5a/smmap-3.0.5-py2.py3-none-any.whl\n",
            "Building wheels for collected packages: subprocess32, pathtools\n",
            "  Building wheel for subprocess32 (setup.py) ... \u001b[?25l\u001b[?25hdone\n",
            "  Created wheel for subprocess32: filename=subprocess32-3.5.4-cp37-none-any.whl size=6489 sha256=498c4566abce21d04ed9a097346ba76b61234af03a68e97e8af71d7e786668f7\n",
            "  Stored in directory: /root/.cache/pip/wheels/68/39/1a/5e402bdfdf004af1786c8b853fd92f8c4a04f22aad179654d1\n",
            "  Building wheel for pathtools (setup.py) ... \u001b[?25l\u001b[?25hdone\n",
            "  Created wheel for pathtools: filename=pathtools-0.1.2-cp37-none-any.whl size=8786 sha256=41490cb54757523c5fe92431889a0ec5978f0db2ac78f18c24264473d7e80551\n",
            "  Stored in directory: /root/.cache/pip/wheels/0b/04/79/c3b0c3a0266a3cb4376da31e5bfe8bba0c489246968a68e843\n",
            "Successfully built subprocess32 pathtools\n",
            "Installing collected packages: sentry-sdk, shortuuid, subprocess32, configparser, smmap, gitdb, GitPython, docker-pycreds, pathtools, wandb\n",
            "Successfully installed GitPython-3.1.14 configparser-5.0.2 docker-pycreds-0.4.0 gitdb-4.0.5 pathtools-0.1.2 sentry-sdk-1.0.0 shortuuid-1.0.1 smmap-3.0.5 subprocess32-3.5.4 wandb-0.10.21\n",
            "\u001b[34m\u001b[1mwandb\u001b[0m: You can find your API key in your browser here: https://wandb.ai/authorize\n",
            "\u001b[34m\u001b[1mwandb\u001b[0m: Paste an API key from your profile and hit enter: \n",
            "\u001b[34m\u001b[1mwandb\u001b[0m: Appending key for api.wandb.ai to your netrc file: /root/.netrc\n"
          ],
          "name": "stdout"
        }
      ]
    },
    {
      "cell_type": "code",
      "metadata": {
        "id": "wXg4HOMu8wJD"
      },
      "source": [
        "import keras\n",
        "from keras.datasets import fashion_mnist\n",
        "from PIL import Image\n",
        "# import wandb\n",
        "import numpy as np\n",
        "import pandas as pd\n",
        "import matplotlib.pyplot as plt\n",
        "import random\n",
        "import math\n",
        "import sklearn\n",
        "\n",
        "# wandb.init(project=\"assignment-1\", entity=\"swathi\")\n",
        "# classes = ['T-shirt/top','Trouser','Pullover','Dress','Coat','Sandal','Shirt','Sneaker','Bag','Ankle boot']"
      ],
      "execution_count": 1,
      "outputs": []
    },
    {
      "cell_type": "code",
      "metadata": {
        "id": "cOUoJ_iG22la"
      },
      "source": [
        "def load_images():\n",
        "  (x_train,y_train),(x_test,y_test) = fashion_mnist.load_data()\n",
        "  X_train_img = x_train[:54000]\n",
        "  X_validation_img = x_train[54000:]\n",
        "  X_test_img = x_test\n",
        "  return X_train_img, X_validation_img, X_test_img"
      ],
      "execution_count": null,
      "outputs": []
    },
    {
      "cell_type": "code",
      "metadata": {
        "id": "0OflOIHBH7zF"
      },
      "source": [
        "def load_data():\n",
        "  (x_train,y_train),(x_test,y_test) = fashion_mnist.load_data()\n",
        "  X_train = np.transpose((np.array(x_train[:54000],dtype=int).reshape([54000,784]))/255)\n",
        "  Y_train = np.transpose((np.array(y_train[:54000],dtype=int).reshape([54000,1])))\n",
        "  X_validation = np.transpose((np.array(x_train[54000:],dtype=int).reshape([6000,784]))/255)\n",
        "  Y_validation = np.transpose(np.array(y_train[54000:],dtype=int).reshape([6000,1]))\n",
        "  X_test = np.transpose((np.array(x_test,dtype=int).reshape([10000,784]))/255)\n",
        "  Y_test = np.transpose(np.array(y_test,dtype=int).reshape([10000,1]))\n",
        "  return X_train, Y_train, X_validation, Y_validation, X_test, Y_test"
      ],
      "execution_count": 2,
      "outputs": []
    },
    {
      "cell_type": "code",
      "metadata": {
        "id": "WxTCqTQhJr53"
      },
      "source": [
        "def log_images():\n",
        "  images = []\n",
        "  labels = []\n",
        "  for i in range(len(X_train_img)):\n",
        "    if len(labels)==len(classes):\n",
        "      break\n",
        "    j = random.randint(0,53999)\n",
        "    if classes[Y_train[j,0]] not in labels:\n",
        "      images.append(X_train_img[j])\n",
        "      labels.append(classes[Y_train[j,0]])\n",
        "  wandb.log({\"Examples\": [wandb.Image(img, caption=caption) for img,caption in zip(images,labels)]})"
      ],
      "execution_count": null,
      "outputs": []
    },
    {
      "cell_type": "markdown",
      "metadata": {
        "id": "gT6homXx3him"
      },
      "source": [
        "Loading data"
      ]
    },
    {
      "cell_type": "code",
      "metadata": {
        "id": "TiL_Gr183hFI",
        "colab": {
          "base_uri": "https://localhost:8080/"
        },
        "outputId": "76095fe0-5e87-41ef-c344-9f62101b4b66"
      },
      "source": [
        "X_train, Y_train, X_validation, Y_validation, X_test, Y_test = load_data()"
      ],
      "execution_count": 3,
      "outputs": [
        {
          "output_type": "stream",
          "text": [
            "Downloading data from https://storage.googleapis.com/tensorflow/tf-keras-datasets/train-labels-idx1-ubyte.gz\n",
            "32768/29515 [=================================] - 0s 0us/step\n",
            "Downloading data from https://storage.googleapis.com/tensorflow/tf-keras-datasets/train-images-idx3-ubyte.gz\n",
            "26427392/26421880 [==============================] - 0s 0us/step\n",
            "Downloading data from https://storage.googleapis.com/tensorflow/tf-keras-datasets/t10k-labels-idx1-ubyte.gz\n",
            "8192/5148 [===============================================] - 0s 0us/step\n",
            "Downloading data from https://storage.googleapis.com/tensorflow/tf-keras-datasets/t10k-images-idx3-ubyte.gz\n",
            "4423680/4422102 [==============================] - 0s 0us/step\n"
          ],
          "name": "stdout"
        }
      ]
    },
    {
      "cell_type": "code",
      "metadata": {
        "id": "ogWSbd-2IHe7",
        "colab": {
          "base_uri": "https://localhost:8080/",
          "height": 282
        },
        "outputId": "89402e9e-f2d2-4678-ac7c-096de148060d"
      },
      "source": [
        "log_images()"
      ],
      "execution_count": null,
      "outputs": [
        {
          "output_type": "error",
          "ename": "IndexError",
          "evalue": "ignored",
          "traceback": [
            "\u001b[0;31m---------------------------------------------------------------------------\u001b[0m",
            "\u001b[0;31mIndexError\u001b[0m                                Traceback (most recent call last)",
            "\u001b[0;32m<ipython-input-225-9a88bbfe8842>\u001b[0m in \u001b[0;36m<module>\u001b[0;34m()\u001b[0m\n\u001b[0;32m----> 1\u001b[0;31m \u001b[0mlog_images\u001b[0m\u001b[0;34m(\u001b[0m\u001b[0;34m)\u001b[0m\u001b[0;34m\u001b[0m\u001b[0;34m\u001b[0m\u001b[0m\n\u001b[0m",
            "\u001b[0;32m<ipython-input-223-4908c78f6d1a>\u001b[0m in \u001b[0;36mlog_images\u001b[0;34m()\u001b[0m\n\u001b[1;32m      6\u001b[0m       \u001b[0;32mbreak\u001b[0m\u001b[0;34m\u001b[0m\u001b[0;34m\u001b[0m\u001b[0m\n\u001b[1;32m      7\u001b[0m     \u001b[0mj\u001b[0m \u001b[0;34m=\u001b[0m \u001b[0mrandom\u001b[0m\u001b[0;34m.\u001b[0m\u001b[0mrandint\u001b[0m\u001b[0;34m(\u001b[0m\u001b[0;36m0\u001b[0m\u001b[0;34m,\u001b[0m\u001b[0;36m53999\u001b[0m\u001b[0;34m)\u001b[0m\u001b[0;34m\u001b[0m\u001b[0;34m\u001b[0m\u001b[0m\n\u001b[0;32m----> 8\u001b[0;31m     \u001b[0;32mif\u001b[0m \u001b[0mclasses\u001b[0m\u001b[0;34m[\u001b[0m\u001b[0mY_train\u001b[0m\u001b[0;34m[\u001b[0m\u001b[0mj\u001b[0m\u001b[0;34m,\u001b[0m\u001b[0;36m0\u001b[0m\u001b[0;34m]\u001b[0m\u001b[0;34m]\u001b[0m \u001b[0;32mnot\u001b[0m \u001b[0;32min\u001b[0m \u001b[0mlabels\u001b[0m\u001b[0;34m:\u001b[0m\u001b[0;34m\u001b[0m\u001b[0;34m\u001b[0m\u001b[0m\n\u001b[0m\u001b[1;32m      9\u001b[0m       \u001b[0mimages\u001b[0m\u001b[0;34m.\u001b[0m\u001b[0mappend\u001b[0m\u001b[0;34m(\u001b[0m\u001b[0mX_train_img\u001b[0m\u001b[0;34m[\u001b[0m\u001b[0mj\u001b[0m\u001b[0;34m]\u001b[0m\u001b[0;34m)\u001b[0m\u001b[0;34m\u001b[0m\u001b[0;34m\u001b[0m\u001b[0m\n\u001b[1;32m     10\u001b[0m       \u001b[0mlabels\u001b[0m\u001b[0;34m.\u001b[0m\u001b[0mappend\u001b[0m\u001b[0;34m(\u001b[0m\u001b[0mclasses\u001b[0m\u001b[0;34m[\u001b[0m\u001b[0mY_train\u001b[0m\u001b[0;34m[\u001b[0m\u001b[0mj\u001b[0m\u001b[0;34m,\u001b[0m\u001b[0;36m0\u001b[0m\u001b[0;34m]\u001b[0m\u001b[0;34m]\u001b[0m\u001b[0;34m)\u001b[0m\u001b[0;34m\u001b[0m\u001b[0;34m\u001b[0m\u001b[0m\n",
            "\u001b[0;31mIndexError\u001b[0m: index 11604 is out of bounds for axis 0 with size 1"
          ]
        }
      ]
    },
    {
      "cell_type": "markdown",
      "metadata": {
        "id": "HwJFFq1kUPqQ"
      },
      "source": [
        "Defining basic parameters"
      ]
    },
    {
      "cell_type": "code",
      "metadata": {
        "id": "qMaOIUmf2Eq3"
      },
      "source": [
        "N= [0,64,32,16,10]  #Insert the number of neurons in each layer\r\n",
        "N[0]=X_train.shape[0]\r\n",
        "l = len(N) - 1"
      ],
      "execution_count": 4,
      "outputs": []
    },
    {
      "cell_type": "markdown",
      "metadata": {
        "id": "4vBflv512qTz"
      },
      "source": [
        "Weights initialising"
      ]
    },
    {
      "cell_type": "code",
      "metadata": {
        "id": "3s-bO1Ma4Njm"
      },
      "source": [
        "def initialize_weights(N):\r\n",
        "  np.random.seed(0)\r\n",
        "  W = []\r\n",
        "  b = []\r\n",
        "  W.append(0)\r\n",
        "  b.append(0)\r\n",
        "  for i in range(1,l+1):\r\n",
        "    W.append(np.random.randn(N[i],N[i-1]))\r\n",
        "    b.append(np.zeros((N[i],1)))\r\n",
        "\r\n",
        "  return W,b\r\n",
        "  "
      ],
      "execution_count": 5,
      "outputs": []
    },
    {
      "cell_type": "code",
      "metadata": {
        "id": "Vdm7xIKwGeCr"
      },
      "source": [
        "def one_hot(y):\r\n",
        "  one_hot_y=np.zeros((10,X_train.shape[1]))\r\n",
        "  for i in range(X_train.shape[1]):\r\n",
        "    one_hot_y[y[0,i],i] = 1\r\n",
        "  \r\n",
        "  return one_hot_y"
      ],
      "execution_count": 6,
      "outputs": []
    },
    {
      "cell_type": "code",
      "metadata": {
        "id": "zacEW9KteWQ4",
        "colab": {
          "base_uri": "https://localhost:8080/"
        },
        "outputId": "73f2c38c-ff84-4937-aa08-6e38bc4f90cf"
      },
      "source": [
        "print (one_hot(Y_train)[:,7])"
      ],
      "execution_count": 7,
      "outputs": [
        {
          "output_type": "stream",
          "text": [
            "[0. 0. 1. 0. 0. 0. 0. 0. 0. 0.]\n"
          ],
          "name": "stdout"
        }
      ]
    },
    {
      "cell_type": "markdown",
      "metadata": {
        "id": "jV6U6or95zmJ"
      },
      "source": [
        "Softmax"
      ]
    },
    {
      "cell_type": "code",
      "metadata": {
        "id": "AyqPByXy5zCH"
      },
      "source": [
        "def softmax(a):\r\n",
        "  return np.exp(a)/sum(np.exp(a))"
      ],
      "execution_count": 6,
      "outputs": []
    },
    {
      "cell_type": "markdown",
      "metadata": {
        "id": "I5yGR0372cUy"
      },
      "source": [
        "Sigmoid"
      ]
    },
    {
      "cell_type": "code",
      "metadata": {
        "id": "uPwCKGgb2bdu"
      },
      "source": [
        "def sigmoid(a):\r\n",
        "\r\n",
        "  return 1/(1+np.exp(-a))\r\n"
      ],
      "execution_count": 7,
      "outputs": []
    },
    {
      "cell_type": "markdown",
      "metadata": {
        "id": "92u-imWt2hxs"
      },
      "source": [
        "Sigmoid derivative"
      ]
    },
    {
      "cell_type": "code",
      "metadata": {
        "id": "p5uTPF1i2lMY"
      },
      "source": [
        "def dSigmoid(a):\r\n",
        "\r\n",
        "  return sigmoid(a)*(1-sigmoid(a))"
      ],
      "execution_count": 8,
      "outputs": []
    },
    {
      "cell_type": "markdown",
      "metadata": {
        "id": "8TbfCt8Ug7rx"
      },
      "source": [
        "Cross Entropy"
      ]
    },
    {
      "cell_type": "code",
      "metadata": {
        "id": "MLnSSsh8I6B9"
      },
      "source": [
        "def calculate_loss(y_hat,Y):\n",
        "  loss = 0\n",
        "  for i in range(Y.shape[1]):\n",
        "    loss -= np.log(y_hat[Y[0,i],i])\n",
        "  print (loss)"
      ],
      "execution_count": 14,
      "outputs": []
    },
    {
      "cell_type": "markdown",
      "metadata": {
        "id": "jCvIgxjM2ljg"
      },
      "source": [
        "Feed forward network"
      ]
    },
    {
      "cell_type": "code",
      "metadata": {
        "id": "08Sm_UhH2o7h"
      },
      "source": [
        "def feedforward(X_input, W, b, N, l):\r\n",
        "  a=[]\r\n",
        "  a.append(0)\r\n",
        "  h=[]\r\n",
        "  h.append(X_input)\r\n",
        "  for i in range(1,l):\r\n",
        "    # print(i)\r\n",
        "    #print (W[i].shape)\r\n",
        "    #print (h[i-1].shape)\r\n",
        "    #print (b[i].shape)\r\n",
        "    a_new=b[i]+np.matmul(W[i],h[i-1])\r\n",
        "    h_new=sigmoid(a_new)\r\n",
        "    a.append(a_new)\r\n",
        "    h.append(h_new)\r\n",
        "\r\n",
        "  a_new=b[l]+np.matmul(W[l],h[l-1])\r\n",
        "  y_hat=softmax(a_new)\r\n",
        "  a.append(a_new)\r\n",
        "\r\n",
        "  return a,h,y_hat"
      ],
      "execution_count": 9,
      "outputs": []
    },
    {
      "cell_type": "markdown",
      "metadata": {
        "id": "sGT3LrJS2v6E"
      },
      "source": [
        "Backpropogation"
      ]
    },
    {
      "cell_type": "code",
      "metadata": {
        "id": "SOCuH5gQ2zU6"
      },
      "source": [
        "def backrop(y,y_hat,W,a,h):\r\n",
        "  grad_W=[]\r\n",
        "  grad_b=[]\r\n",
        "  grad_a=[]\r\n",
        "  grad_h=[]\r\n",
        "  \r\n",
        "  da = y_hat - one_hot(y)\r\n",
        "  grad_a.append(da)\r\n",
        "\r\n",
        "  for i in reversed(range(1,l+1)):\r\n",
        "    dw = np.matmul(da,np.transpose(h[i-1]))\r\n",
        "    db = np.sum(da, axis=1, keepdims=True)\r\n",
        "    dh_prev = np.matmul(np.transpose(W[i]),da)\r\n",
        "    da_prev = dh_prev*dSigmoid(a[i-1])\r\n",
        "    \r\n",
        "    grad_W.append(dw)\r\n",
        "    grad_b.append(db)\r\n",
        "    grad_a.append(da_prev)\r\n",
        "    grad_h.append(dh_prev)\r\n",
        "    da=da_prev\r\n",
        "\r\n",
        "  grad_W.append(0)\r\n",
        "  grad_b.append(0)\r\n",
        "  grad_W.reverse()\r\n",
        "  grad_b.reverse()\r\n",
        "  grad_a.reverse()\r\n",
        "  grad_h.reverse()\r\n",
        "  \r\n",
        "\r\n",
        "  return grad_W,grad_b,grad_a,grad_h\r\n"
      ],
      "execution_count": 10,
      "outputs": []
    },
    {
      "cell_type": "markdown",
      "metadata": {
        "id": "vELX4H752zuc"
      },
      "source": [
        "Gradient Descent"
      ]
    },
    {
      "cell_type": "code",
      "metadata": {
        "id": "uoPbeu1v22YS"
      },
      "source": [
        "def grad_descent(W,b,grad_W,grad_b,learn_rate=0.001):\r\n",
        "  W_new=[]\r\n",
        "  W_new.append(0)\r\n",
        "  b_new=[]\r\n",
        "  b_new.append(0)\r\n",
        "  m=X_train.shape[1]\r\n",
        "  for i in range(1,l+1):\r\n",
        "    #print(W[i].shape,grad_W[i].shape,b[i].shape,grad_b[i].shape)\r\n",
        "    W_new.append(W[i] - (learn_rate*grad_W[i])/m)\r\n",
        "    b_new.append(b[i] - (learn_rate*grad_b[i])/m)\r\n",
        "  return W_new,b_new\r\n"
      ],
      "execution_count": 11,
      "outputs": []
    },
    {
      "cell_type": "code",
      "metadata": {
        "id": "hiKhOpkeI9sx"
      },
      "source": [
        "def gradient_descent(epochs, learn_rate):\n",
        "  W, b = initialize_weights()\n",
        "  W_new = W\n",
        "  b_new = b\n",
        "  for i in range(epochs):\n",
        "    a, h, y_hat = feed_forward(W,b)\n",
        "    calculate_loss(y_hat, Y)\n",
        "    grad_W, grad_b, grad_h, grad_a = backrop(Y, y_hat, W, a, h)\n",
        "    for j in range(1,L+1):\n",
        "      W_new[j] = W[j] - grad_W[j]\n",
        "      b_new[j] = b[j] - grad_b[j]\n",
        "    W = W_new\n",
        "    b = b_new\n",
        "    #print (b_new[1].shape)\n",
        "  a, h, y_hat = feed_forward(W,b)\n",
        "  calculate_loss(y_hat, Y)"
      ],
      "execution_count": null,
      "outputs": []
    },
    {
      "cell_type": "markdown",
      "metadata": {
        "id": "CIxTyHzm22zY"
      },
      "source": [
        "Training"
      ]
    },
    {
      "cell_type": "code",
      "metadata": {
        "id": "rKVlEjb425bX"
      },
      "source": [
        "def training(N,l,epochs,batch_size,learn_rate,X_input,y):\r\n",
        "  W , b = initialize_weights(N)\r\n",
        "  n=(np.floor(X_input.shape[1]/batch_size)+1).astype(int)\r\n",
        "  for j in range(epochs):\r\n",
        "    for j in range(n):\r\n",
        "      X=X_input[:,[j*batch_size,(j+1)*batch_size]]\r\n",
        "      a , h , y_hat = feedforward(X_input, W, b, N, l) \r\n",
        "      grad_W , grad_b = backrop(y,y_hat,W,a,h)[0:2]\r\n",
        "      W , b = grad_descent(W,b,grad_W,grad_b,learn_rate)\r\n",
        "    \r\n",
        "    calculate_loss(y_hat,y)\r\n",
        "  \r\n",
        "  return W,b\r\n"
      ],
      "execution_count": 12,
      "outputs": []
    },
    {
      "cell_type": "code",
      "metadata": {
        "id": "Cd46S3v6QCFc"
      },
      "source": [
        "def predict(W,b,X_test,N,l):\r\n",
        "  y_hat = feedforward(X_test, W, b, N, l)[2]\r\n",
        "  y_class = np.argmax(y_hat,axis=0).reshape([1,X_test.shape[1]])\r\n",
        "\r\n",
        "  return y_class"
      ],
      "execution_count": 13,
      "outputs": []
    },
    {
      "cell_type": "code",
      "metadata": {
        "id": "LEoCmwyOHH89",
        "colab": {
          "base_uri": "https://localhost:8080/",
          "height": 303
        },
        "outputId": "186f9111-6c1e-4e3b-d3b2-eec17e745b8e"
      },
      "source": [
        "W_new,b_new= training(N,l,10,64,X_train,Y_train)"
      ],
      "execution_count": 33,
      "outputs": [
        {
          "output_type": "error",
          "ename": "KeyboardInterrupt",
          "evalue": "ignored",
          "traceback": [
            "\u001b[0;31m---------------------------------------------------------------------------\u001b[0m",
            "\u001b[0;31mKeyboardInterrupt\u001b[0m                         Traceback (most recent call last)",
            "\u001b[0;32m<ipython-input-33-d760b2a40a49>\u001b[0m in \u001b[0;36m<module>\u001b[0;34m()\u001b[0m\n\u001b[0;32m----> 1\u001b[0;31m \u001b[0mW_new\u001b[0m\u001b[0;34m,\u001b[0m\u001b[0mb_new\u001b[0m\u001b[0;34m=\u001b[0m \u001b[0mtraining\u001b[0m\u001b[0;34m(\u001b[0m\u001b[0mN\u001b[0m\u001b[0;34m,\u001b[0m\u001b[0ml\u001b[0m\u001b[0;34m,\u001b[0m\u001b[0;36m10\u001b[0m\u001b[0;34m,\u001b[0m\u001b[0;36m64\u001b[0m\u001b[0;34m,\u001b[0m\u001b[0mX_train\u001b[0m\u001b[0;34m,\u001b[0m\u001b[0mY_train\u001b[0m\u001b[0;34m)\u001b[0m\u001b[0;34m\u001b[0m\u001b[0;34m\u001b[0m\u001b[0m\n\u001b[0m",
            "\u001b[0;32m<ipython-input-32-26f434b3d9ed>\u001b[0m in \u001b[0;36mtraining\u001b[0;34m(N, l, epochs, batch_size, X_input, y)\u001b[0m\n\u001b[1;32m      6\u001b[0m       \u001b[0mX\u001b[0m\u001b[0;34m=\u001b[0m\u001b[0mX_input\u001b[0m\u001b[0;34m[\u001b[0m\u001b[0;34m:\u001b[0m\u001b[0;34m,\u001b[0m\u001b[0;34m[\u001b[0m\u001b[0mj\u001b[0m\u001b[0;34m*\u001b[0m\u001b[0mbatch_size\u001b[0m\u001b[0;34m,\u001b[0m\u001b[0;34m(\u001b[0m\u001b[0mj\u001b[0m\u001b[0;34m+\u001b[0m\u001b[0;36m1\u001b[0m\u001b[0;34m)\u001b[0m\u001b[0;34m*\u001b[0m\u001b[0mbatch_size\u001b[0m\u001b[0;34m]\u001b[0m\u001b[0;34m]\u001b[0m\u001b[0;34m\u001b[0m\u001b[0;34m\u001b[0m\u001b[0m\n\u001b[1;32m      7\u001b[0m       \u001b[0ma\u001b[0m \u001b[0;34m,\u001b[0m \u001b[0mh\u001b[0m \u001b[0;34m,\u001b[0m \u001b[0my_hat\u001b[0m \u001b[0;34m=\u001b[0m \u001b[0mfeedforward\u001b[0m\u001b[0;34m(\u001b[0m\u001b[0mX_input\u001b[0m\u001b[0;34m,\u001b[0m \u001b[0mW\u001b[0m\u001b[0;34m,\u001b[0m \u001b[0mb\u001b[0m\u001b[0;34m,\u001b[0m \u001b[0mN\u001b[0m\u001b[0;34m,\u001b[0m \u001b[0ml\u001b[0m\u001b[0;34m)\u001b[0m\u001b[0;34m\u001b[0m\u001b[0;34m\u001b[0m\u001b[0m\n\u001b[0;32m----> 8\u001b[0;31m       \u001b[0mgrad_W\u001b[0m \u001b[0;34m,\u001b[0m \u001b[0mgrad_b\u001b[0m \u001b[0;34m=\u001b[0m \u001b[0mbackrop\u001b[0m\u001b[0;34m(\u001b[0m\u001b[0my\u001b[0m\u001b[0;34m,\u001b[0m\u001b[0my_hat\u001b[0m\u001b[0;34m,\u001b[0m\u001b[0mW\u001b[0m\u001b[0;34m,\u001b[0m\u001b[0ma\u001b[0m\u001b[0;34m,\u001b[0m\u001b[0mh\u001b[0m\u001b[0;34m)\u001b[0m\u001b[0;34m[\u001b[0m\u001b[0;36m0\u001b[0m\u001b[0;34m:\u001b[0m\u001b[0;36m2\u001b[0m\u001b[0;34m]\u001b[0m\u001b[0;34m\u001b[0m\u001b[0;34m\u001b[0m\u001b[0m\n\u001b[0m\u001b[1;32m      9\u001b[0m       \u001b[0mW\u001b[0m \u001b[0;34m,\u001b[0m \u001b[0mb\u001b[0m \u001b[0;34m=\u001b[0m \u001b[0mgrad_descent\u001b[0m\u001b[0;34m(\u001b[0m\u001b[0mW\u001b[0m\u001b[0;34m,\u001b[0m\u001b[0mb\u001b[0m\u001b[0;34m,\u001b[0m\u001b[0mgrad_W\u001b[0m\u001b[0;34m,\u001b[0m\u001b[0mgrad_b\u001b[0m\u001b[0;34m)\u001b[0m\u001b[0;34m\u001b[0m\u001b[0;34m\u001b[0m\u001b[0m\n\u001b[1;32m     10\u001b[0m \u001b[0;34m\u001b[0m\u001b[0m\n",
            "\u001b[0;32m<ipython-input-12-e71af821b32f>\u001b[0m in \u001b[0;36mbackrop\u001b[0;34m(y, y_hat, W, a, h)\u001b[0m\n\u001b[1;32m     12\u001b[0m     \u001b[0mdb\u001b[0m \u001b[0;34m=\u001b[0m \u001b[0mnp\u001b[0m\u001b[0;34m.\u001b[0m\u001b[0msum\u001b[0m\u001b[0;34m(\u001b[0m\u001b[0mda\u001b[0m\u001b[0;34m,\u001b[0m \u001b[0maxis\u001b[0m\u001b[0;34m=\u001b[0m\u001b[0;36m1\u001b[0m\u001b[0;34m,\u001b[0m \u001b[0mkeepdims\u001b[0m\u001b[0;34m=\u001b[0m\u001b[0;32mTrue\u001b[0m\u001b[0;34m)\u001b[0m\u001b[0;34m\u001b[0m\u001b[0;34m\u001b[0m\u001b[0m\n\u001b[1;32m     13\u001b[0m     \u001b[0mdh_prev\u001b[0m \u001b[0;34m=\u001b[0m \u001b[0mnp\u001b[0m\u001b[0;34m.\u001b[0m\u001b[0mmatmul\u001b[0m\u001b[0;34m(\u001b[0m\u001b[0mnp\u001b[0m\u001b[0;34m.\u001b[0m\u001b[0mtranspose\u001b[0m\u001b[0;34m(\u001b[0m\u001b[0mW\u001b[0m\u001b[0;34m[\u001b[0m\u001b[0mi\u001b[0m\u001b[0;34m]\u001b[0m\u001b[0;34m)\u001b[0m\u001b[0;34m,\u001b[0m\u001b[0mda\u001b[0m\u001b[0;34m)\u001b[0m\u001b[0;34m\u001b[0m\u001b[0;34m\u001b[0m\u001b[0m\n\u001b[0;32m---> 14\u001b[0;31m     \u001b[0mda_prev\u001b[0m \u001b[0;34m=\u001b[0m \u001b[0mdh_prev\u001b[0m\u001b[0;34m*\u001b[0m\u001b[0mdSigmoid\u001b[0m\u001b[0;34m(\u001b[0m\u001b[0ma\u001b[0m\u001b[0;34m[\u001b[0m\u001b[0mi\u001b[0m\u001b[0;34m-\u001b[0m\u001b[0;36m1\u001b[0m\u001b[0;34m]\u001b[0m\u001b[0;34m)\u001b[0m\u001b[0;34m\u001b[0m\u001b[0;34m\u001b[0m\u001b[0m\n\u001b[0m\u001b[1;32m     15\u001b[0m \u001b[0;34m\u001b[0m\u001b[0m\n\u001b[1;32m     16\u001b[0m     \u001b[0mgrad_W\u001b[0m\u001b[0;34m.\u001b[0m\u001b[0mappend\u001b[0m\u001b[0;34m(\u001b[0m\u001b[0mdw\u001b[0m\u001b[0;34m)\u001b[0m\u001b[0;34m\u001b[0m\u001b[0;34m\u001b[0m\u001b[0m\n",
            "\u001b[0;31mKeyboardInterrupt\u001b[0m: "
          ]
        }
      ]
    },
    {
      "cell_type": "code",
      "metadata": {
        "colab": {
          "base_uri": "https://localhost:8080/"
        },
        "id": "ku_2uDh6q5ZZ",
        "outputId": "0b8b2f13-14b1-4344-c48b-dd5097bf7013"
      },
      "source": [
        "y_hat=feedforward(X_train, W_new, b_new, N, l)[2]\r\n",
        "print(y_hat[:,0:4])"
      ],
      "execution_count": null,
      "outputs": [
        {
          "output_type": "stream",
          "text": [
            "[[7.95438641e-04 5.06923535e-04 2.72384172e-04 2.89546831e-04]\n",
            " [5.54728207e-03 8.37974101e-03 9.19908637e-03 9.82112961e-03]\n",
            " [5.96238437e-04 3.57710876e-04 6.20491689e-04 5.54516655e-04]\n",
            " [1.70443892e-02 4.46402932e-03 6.63305384e-03 4.23114800e-03]\n",
            " [1.31518876e-03 1.06975692e-02 1.37143730e-03 2.31333945e-03]\n",
            " [2.00000523e-03 1.13297207e-03 6.98664703e-03 4.32605725e-03]\n",
            " [6.23692176e-01 6.41550739e-01 1.90095725e-01 1.34658239e-01]\n",
            " [2.94504801e-01 2.32681272e-01 6.16109611e-01 6.24439117e-01]\n",
            " [3.32833417e-03 4.83720628e-03 6.32890351e-03 5.45661290e-03]\n",
            " [5.11761470e-02 9.53918369e-02 1.62382660e-01 2.13910293e-01]]\n"
          ],
          "name": "stdout"
        }
      ]
    },
    {
      "cell_type": "code",
      "metadata": {
        "colab": {
          "base_uri": "https://localhost:8080/"
        },
        "id": "d6IcGjcqs99K",
        "outputId": "7a70e11d-6ff2-4a27-9414-68938edbd612"
      },
      "source": [
        "Y_predict = predict(W_new,b_new,X_train,N,l)\r\n",
        "print (Y_predict[0,0:4])\r\n",
        "print (Y_test[0,0:4])\r\n",
        "#sklearn.metrics.accuracy_score(Y_test, Y_predict)"
      ],
      "execution_count": null,
      "outputs": [
        {
          "output_type": "stream",
          "text": [
            "[6 6 7 7]\n",
            "[9 2 1 1]\n"
          ],
          "name": "stdout"
        }
      ]
    },
    {
      "cell_type": "code",
      "metadata": {
        "id": "ismRltbN4qZI"
      },
      "source": [
        "sweep_config = {\r\n",
        "    'method': 'random'\r\n",
        "    }"
      ],
      "execution_count": null,
      "outputs": []
    },
    {
      "cell_type": "code",
      "metadata": {
        "id": "Q6AiOlvAjAPH"
      },
      "source": [
        "parameters_dict = {\r\n",
        "    'epochs': {\r\n",
        "        'values': [5, 10]\r\n",
        "      },\r\n",
        "    'l': {\r\n",
        "        'values': [3, 4, 5]\r\n",
        "      },\r\n",
        "    'size of each layer': {\r\n",
        "        'values': [32, 64, 128]\r\n",
        "      },\r\n",
        "    'weight decay': {\r\n",
        "        'values': [0, 0.0005, 0.5]\r\n",
        "      },\r\n",
        "    'learn_rate': {\r\n",
        "        'values': [1e-3,1e-4]\r\n",
        "      },\r\n",
        "    'epochs': {\r\n",
        "        'values': [5,10]\r\n",
        "      },\r\n",
        "    'batch_size': {\r\n",
        "        'values': [16,32,64]\r\n",
        "      },\r\n",
        "    'weights_initialization': {\r\n",
        "        'values': ['random', 'Xavier']\r\n",
        "      },\r\n",
        "    'optimizer': {\r\n",
        "        'values': ['sgd', 'mom', 'nest', 'rms', 'adam', 'nadam']\r\n",
        "      },\r\n",
        "    'act_func': {\r\n",
        "          'values': ['sigmoid', 'tanh', 'ReLU']\r\n",
        "      }\r\n",
        "    }\r\n",
        "\r\n",
        "sweep_config['parameters'] = parameters_dict"
      ],
      "execution_count": null,
      "outputs": []
    },
    {
      "cell_type": "code",
      "metadata": {
        "id": "UkGk8qkEpCMW"
      },
      "source": [
        "import pprint\r\n",
        "\r\n",
        "pprint.pprint(sweep_config)"
      ],
      "execution_count": null,
      "outputs": []
    },
    {
      "cell_type": "code",
      "metadata": {
        "id": "zmT81TCgpL7Q"
      },
      "source": [
        "sweep_id = wandb.sweep(sweep_config, project=\"pytorch-sweeps-demo\")"
      ],
      "execution_count": null,
      "outputs": []
    },
    {
      "cell_type": "code",
      "metadata": {
        "id": "BcMfn5Swpkzv"
      },
      "source": [
        "wandb.agent(sweep_id, train, count=5)"
      ],
      "execution_count": null,
      "outputs": []
    },
    {
      "cell_type": "code",
      "metadata": {
        "id": "xYCjEtwereDl"
      },
      "source": [
        "def training_sweep(N,l,X_input,y,config=None):\r\n",
        "  \r\n",
        "  # Initialize a new wandb run\r\n",
        "    with wandb.init(config=config):\r\n",
        "        # If called by wandb.agent, as below,\r\n",
        "        # this config will be set by Sweep Controller\r\n",
        "        config = wandb.config\r\n",
        "\r\n",
        "        training(N,l,config.epochs,config.batch_size,config.learn_rate,X_input,y)\r\n",
        "            wandb.log({\"loss\": avg_loss, \"epoch\": epoch})"
      ],
      "execution_count": null,
      "outputs": []
    }
  ]
}