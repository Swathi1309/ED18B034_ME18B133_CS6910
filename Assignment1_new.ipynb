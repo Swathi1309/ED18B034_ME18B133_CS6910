{
  "nbformat": 4,
  "nbformat_minor": 0,
  "metadata": {
    "colab": {
      "name": "Assignment1.ipynb",
      "provenance": [],
      "include_colab_link": true
    },
    "kernelspec": {
      "name": "python3",
      "display_name": "Python 3"
    }
  },
  "cells": [
    {
      "cell_type": "markdown",
      "metadata": {
        "id": "view-in-github",
        "colab_type": "text"
      },
      "source": [
        "<a href=\"https://colab.research.google.com/github/Swathi1309/ED18B034_ME18B133_Assignment1/blob/main/Assignment1_new.ipynb\" target=\"_parent\"><img src=\"https://colab.research.google.com/assets/colab-badge.svg\" alt=\"Open In Colab\"/></a>"
      ]
    },
    {
      "cell_type": "code",
      "metadata": {
        "id": "Gpn2gtJcHhV7"
      },
      "source": [
        "!pip install wandb\n",
        "!wandb login"
      ],
      "execution_count": null,
      "outputs": []
    },
    {
      "cell_type": "code",
      "metadata": {
        "id": "wXg4HOMu8wJD"
      },
      "source": [
        "import keras\n",
        "from keras.datasets import fashion_mnist\n",
        "from PIL import Image\n",
        "import wandb\n",
        "import numpy as np\n",
        "import pandas as pd\n",
        "import matplotlib.pyplot as plt\n",
        "import random\n",
        "\n",
        "wandb.init(project=\"assignment-1\", entity=\"swathi\")\n",
        "classes = ['T-shirt/top','Trouser','Pullover','Dress','Coat','Sandal','Shirt','Sneaker','Bag','Ankle boot']"
      ],
      "execution_count": null,
      "outputs": []
    },
    {
      "cell_type": "code",
      "metadata": {
        "id": "0OflOIHBH7zF"
      },
      "source": [
        "def load_data():\n",
        "  (x_train,y_train),(x_test,y_test) = fashion_mnist.load_data()\n",
        "  X_train = np.transpose((np.array(x_train[:54000],dtype=int).reshape([54000,784]))/255)\n",
        "  Y_train = np.transpose((np.array(y_train[:54000],dtype=int).reshape([54000,1])))\n",
        "  X_validation = np.transpose((np.array(x_train[54000:],dtype=int).reshape([6000,784]))/255)\n",
        "  Y_validation = np.transpose(np.array(y_train[54000:],dtype=int).reshape([6000,1]))\n",
        "  X_test = np.transpose((np.array(x_test,dtype=int).reshape([10000,784]))/255)\n",
        "  Y_test = np.transpose(np.array(y_test,dtype=int).reshape([10000,1]))\n",
        "  return X_train, Y_train, X_validation, Y_validation, X_test, Y_test"
      ],
      "execution_count": 6,
      "outputs": []
    },
    {
      "cell_type": "code",
      "metadata": {
        "id": "WxTCqTQhJr53"
      },
      "source": [
        "def log_images():\n",
        "  images = []\n",
        "  labels = []\n",
        "  for i in range(len(X_train)):\n",
        "    if len(labels)==len(classes):\n",
        "      break\n",
        "    j = random.randint(0,53999)\n",
        "    if classes[Y_train[0,j]] not in labels:\n",
        "      images.append(X_train[:,j].reshape([28,28]))\n",
        "      labels.append(classes[Y_train[0,j]])\n",
        "  wandb.log({\"Examples\": [wandb.Image(img, caption=caption) for img,caption in zip(images,labels)]})"
      ],
      "execution_count": 7,
      "outputs": []
    },
    {
      "cell_type": "markdown",
      "metadata": {
        "id": "gT6homXx3him"
      },
      "source": [
        "Loading data"
      ]
    },
    {
      "cell_type": "code",
      "metadata": {
        "id": "TiL_Gr183hFI"
      },
      "source": [
        "X_train, Y_train, X_validation, Y_validation, X_test, Y_test = load_data()"
      ],
      "execution_count": null,
      "outputs": []
    },
    {
      "cell_type": "code",
      "metadata": {
        "id": "ogWSbd-2IHe7"
      },
      "source": [
        "log_images()"
      ],
      "execution_count": 9,
      "outputs": []
    },
    {
      "cell_type": "markdown",
      "metadata": {
        "id": "HwJFFq1kUPqQ"
      },
      "source": [
        "Defining basic parameters"
      ]
    },
    {
      "cell_type": "code",
      "metadata": {
        "id": "qMaOIUmf2Eq3"
      },
      "source": [
        "N= [0,64,32,16,10]  #Insert the number of neurons in each layer\r\n",
        "N[0]=X_train.shape[0]\r\n",
        "l = len(N) - 1"
      ],
      "execution_count": 10,
      "outputs": []
    },
    {
      "cell_type": "markdown",
      "metadata": {
        "id": "4vBflv512qTz"
      },
      "source": [
        "Weights initialising"
      ]
    },
    {
      "cell_type": "code",
      "metadata": {
        "id": "3s-bO1Ma4Njm"
      },
      "source": [
        "def initialize_weights(N):\r\n",
        "  np.random.seed(1)\r\n",
        "  W = []\r\n",
        "  b = []\r\n",
        "  W.append(0)\r\n",
        "  b.append(0)\r\n",
        "  for i in range(1,l+1):\r\n",
        "    W.append((np.random.randn(N[i],N[i-1])))\r\n",
        "    b.append(np.zeros((N[i],1)))\r\n",
        "\r\n",
        "  return W,b "
      ],
      "execution_count": 64,
      "outputs": []
    },
    {
      "cell_type": "code",
      "metadata": {
        "id": "Vdm7xIKwGeCr"
      },
      "source": [
        "def one_hot(y):\r\n",
        "  one_hot_y=np.zeros((10,X_train.shape[1]))\r\n",
        "  for i in range(X_train.shape[1]):\r\n",
        "    one_hot_y[y[0,i],i] = 1\r\n",
        "  \r\n",
        "  return one_hot_y"
      ],
      "execution_count": 12,
      "outputs": []
    },
    {
      "cell_type": "markdown",
      "metadata": {
        "id": "jV6U6or95zmJ"
      },
      "source": [
        "Softmax"
      ]
    },
    {
      "cell_type": "code",
      "metadata": {
        "id": "AyqPByXy5zCH"
      },
      "source": [
        "def softmax(a):\r\n",
        "  return np.exp(a)/sum(np.exp(a))"
      ],
      "execution_count": 13,
      "outputs": []
    },
    {
      "cell_type": "markdown",
      "metadata": {
        "id": "I5yGR0372cUy"
      },
      "source": [
        "Sigmoid"
      ]
    },
    {
      "cell_type": "code",
      "metadata": {
        "id": "uPwCKGgb2bdu"
      },
      "source": [
        "def sigmoid(a):\r\n",
        "\r\n",
        "  return 1/(1+np.exp(-a))\r\n"
      ],
      "execution_count": 14,
      "outputs": []
    },
    {
      "cell_type": "markdown",
      "metadata": {
        "id": "92u-imWt2hxs"
      },
      "source": [
        "Sigmoid derivative"
      ]
    },
    {
      "cell_type": "code",
      "metadata": {
        "id": "p5uTPF1i2lMY"
      },
      "source": [
        "def dSigmoid(a):\r\n",
        "\r\n",
        "  return sigmoid(a)*(1-sigmoid(a))"
      ],
      "execution_count": 15,
      "outputs": []
    },
    {
      "cell_type": "markdown",
      "metadata": {
        "id": "8TbfCt8Ug7rx"
      },
      "source": [
        "Cross Entropy"
      ]
    },
    {
      "cell_type": "code",
      "metadata": {
        "id": "MLnSSsh8I6B9"
      },
      "source": [
        "def calculate_loss(y_hat,Y):\n",
        "  loss = 0\n",
        "  for i in range(Y.shape[1]):\n",
        "    loss -= np.log(y_hat[Y[0,i],i])\n",
        "  print (loss)"
      ],
      "execution_count": 16,
      "outputs": []
    },
    {
      "cell_type": "markdown",
      "metadata": {
        "id": "jCvIgxjM2ljg"
      },
      "source": [
        "Feed forward network"
      ]
    },
    {
      "cell_type": "code",
      "metadata": {
        "id": "08Sm_UhH2o7h"
      },
      "source": [
        "def feedforward(X_input, W, b, N, l):\r\n",
        "  a=[]\r\n",
        "  a.append(0)\r\n",
        "  h=[]\r\n",
        "  h.append(X_input)\r\n",
        "  for i in range(1,l):\r\n",
        "    a_new=b[i]+np.matmul(W[i],h[i-1])\r\n",
        "    h_new=sigmoid(a_new)\r\n",
        "    a.append(a_new)\r\n",
        "    h.append(h_new)\r\n",
        "\r\n",
        "  a_new=b[l]+np.matmul(W[l],h[l-1])\r\n",
        "  y_hat=softmax(a_new)\r\n",
        "  a.append(a_new)\r\n",
        "\r\n",
        "  return a,h,y_hat"
      ],
      "execution_count": 17,
      "outputs": []
    },
    {
      "cell_type": "markdown",
      "metadata": {
        "id": "sGT3LrJS2v6E"
      },
      "source": [
        "Backpropogation"
      ]
    },
    {
      "cell_type": "code",
      "metadata": {
        "id": "SOCuH5gQ2zU6"
      },
      "source": [
        "def backrop(y,y_hat,W,a,h):\r\n",
        "  grad_W=[]\r\n",
        "  grad_b=[]\r\n",
        "  grad_a=[]\r\n",
        "  grad_h=[]\r\n",
        "  \r\n",
        "  da = y_hat - one_hot(y)\r\n",
        "  grad_a.append(da)\r\n",
        "\r\n",
        "  for i in reversed(range(1,l+1)):\r\n",
        "    dw = np.matmul(da,np.transpose(h[i-1]))\r\n",
        "    db = np.sum(da, axis=1, keepdims=True)\r\n",
        "    dh_prev = np.matmul(np.transpose(W[i]),da)\r\n",
        "    da_prev = dh_prev*dSigmoid(a[i-1])\r\n",
        "    \r\n",
        "    grad_W.append(dw)\r\n",
        "    grad_b.append(db)\r\n",
        "    grad_a.append(da_prev)\r\n",
        "    grad_h.append(dh_prev)\r\n",
        "    da=da_prev\r\n",
        "\r\n",
        "  grad_W.append(0)\r\n",
        "  grad_b.append(0)\r\n",
        "  grad_W.reverse()\r\n",
        "  grad_b.reverse()\r\n",
        "  grad_a.reverse()\r\n",
        "  grad_h.reverse()\r\n",
        "  \r\n",
        "\r\n",
        "  return grad_W,grad_b,grad_a,grad_h\r\n"
      ],
      "execution_count": 18,
      "outputs": []
    },
    {
      "cell_type": "markdown",
      "metadata": {
        "id": "vELX4H752zuc"
      },
      "source": [
        "Gradient Descent"
      ]
    },
    {
      "cell_type": "code",
      "metadata": {
        "id": "hiKhOpkeI9sx"
      },
      "source": [
        "def gradient_descent(epochs, learn_rate):\n",
        "  W, b = initialize_weights(N)\n",
        "  for i in range(epochs):\n",
        "    a, h, y_hat = feedforward(X_train, W, b, N, l)\n",
        "    calculate_loss(y_hat, Y_train)\n",
        "    grad_W, grad_b = backrop(Y_train, y_hat, W, a, h)[0:2]\n",
        "    W_new =[]\n",
        "    W_new.append(0)\n",
        "    b_new =[]\n",
        "    b_new.append(0)\n",
        "    m=X_train.shape[1]\n",
        "    for j in range(1,l+1):\n",
        "      W_new.append(W[j] - (learn_rate*grad_W[j])/m)\n",
        "      b_new.append(b[j] - (learn_rate*grad_b[j])/m)\n",
        "    W = W_new\n",
        "    b = b_new\n",
        "  return W, b"
      ],
      "execution_count": 20,
      "outputs": []
    },
    {
      "cell_type": "markdown",
      "metadata": {
        "id": "ijzvwjoxYrbD"
      },
      "source": [
        "Momentum based gradient descent"
      ]
    },
    {
      "cell_type": "code",
      "metadata": {
        "id": "RwyYIiC-Yu6A"
      },
      "source": [
        "def mom_grad_descent(epochs, learn_rate, gamma):\n",
        "  W, b = initialize_weights(N)\n",
        "  update_prev_w = []\n",
        "  update_prev_w.append(0)\n",
        "  update_prev_b = []\n",
        "  update_prev_b.append(0)\n",
        "  for i in range(1,l+1):\n",
        "    update_prev_w.append(np.zeros(W[i].shape))\n",
        "    update_prev_b.append(np.zeros(b[i].shape))\n",
        "  for i in range(epochs):\n",
        "    update_w = []\n",
        "    update_w.append(0)\n",
        "    update_b = []\n",
        "    update_b.append(0)\n",
        "    a, h, y_hat = feedforward(X_train, W, b, N, l)\n",
        "    calculate_loss(y_hat, Y_train)\n",
        "    grad_W, grad_b = backrop(Y_train, y_hat, W, a, h)[0:2]\n",
        "    W_new =[]\n",
        "    W_new.append(0)\n",
        "    b_new =[]\n",
        "    b_new.append(0)\n",
        "    m=X_train.shape[1]\n",
        "    for j in range(1,l+1):\n",
        "      update_w.append(np.zeros(W[j].shape))\n",
        "      update_b.append(np.zeros(b[j].shape))\n",
        "      update_w[j] = gamma*update_prev_w[j] + learn_rate*grad_W[j]\n",
        "      update_b[j] = gamma*update_prev_b[j] + learn_rate*grad_b[j]\n",
        "      W_new.append((W[j] - update_w[j])/m)\n",
        "      b_new.append((b[j] - update_b[j])/m)\n",
        "      update_prev_w[j]=update_w[j]\n",
        "      update_prev_b[j]=update_b[j]\n",
        "    del update_w\n",
        "    del update_b\n",
        "    W = W_new\n",
        "    b = b_new\n",
        "  return W, b"
      ],
      "execution_count": 22,
      "outputs": []
    },
    {
      "cell_type": "markdown",
      "metadata": {
        "id": "GlvrMGJk9x-y"
      },
      "source": [
        "Nesterov accelerated gradient descent"
      ]
    },
    {
      "cell_type": "code",
      "metadata": {
        "id": "XP_DI7lC4Dfm"
      },
      "source": [
        "def nesterov_grad_descent(epochs, learn_rate, gamma):\n",
        "  W, b = initialize_weights(N)\n",
        "  update_prev_w = []\n",
        "  update_prev_w.append(0)\n",
        "  update_prev_b = []\n",
        "  update_prev_b.append(0)\n",
        "  for i in range(1,l+1):\n",
        "    update_prev_w.append(np.zeros(W[i].shape))\n",
        "    update_prev_b.append(np.zeros(b[i].shape))\n",
        "  for i in range(epochs):\n",
        "    update_w = []\n",
        "    update_w.append(0)\n",
        "    update_b = []\n",
        "    update_b.append(0)\n",
        "    a, h, y_hat = feedforward(X_train, W, b, N, l)\n",
        "    calculate_loss(y_hat, Y_train)\n",
        "    W_new =[]\n",
        "    W_new.append(0)\n",
        "    b_new =[]\n",
        "    b_new.append(0)\n",
        "    m=X_train.shape[1]\n",
        "    for j in range(1,l+1):\n",
        "      update_w.append(np.zeros(W[j].shape))\n",
        "      update_b.append(np.zeros(b[j].shape))\n",
        "      update_w[j] = gamma*update_prev_w[j]\n",
        "      update_b[j] = gamma*update_prev_b[j]\n",
        "      W_new.append((W[j] - update_w[j])/m)\n",
        "      b_new.append((b[j] - update_b[j])/m)\n",
        "    W = W_new\n",
        "    b = b_new\n",
        "    grad_W, grad_b = backrop(Y_train, y_hat, W, a, h)[0:2]\n",
        "    for j in range(1,l+1):\n",
        "      update_w[j] = gamma*update_prev_w[j] + learn_rate*grad_W[j]\n",
        "      update_b[j] = gamma*update_prev_b[j] + learn_rate*grad_b[j]\n",
        "      W_new.append((W[j] - update_w[j])/m)\n",
        "      b_new.append((b[j] - update_b[j])/m)\n",
        "      update_prev_w[j]=update_w[j]\n",
        "      update_prev_b[j]=update_b[j]\n",
        "    del update_w\n",
        "    del update_b\n",
        "    W = W_new\n",
        "    b = b_new\n",
        "  return W, b"
      ],
      "execution_count": 39,
      "outputs": []
    },
    {
      "cell_type": "markdown",
      "metadata": {
        "id": "EEEwMl0J-PQY"
      },
      "source": [
        "RMS Prop"
      ]
    },
    {
      "cell_type": "code",
      "metadata": {
        "id": "MWDkLuJc92sH"
      },
      "source": [
        "def rms_prop(epochs, learn_rate, beta, epsilon):\n",
        "  W, b = initialize_weights(N)\n",
        "  update_prev_w = []\n",
        "  update_prev_w.append(0)\n",
        "  update_prev_b = []\n",
        "  update_prev_b.append(0)\n",
        "  for i in range(1,l+1):\n",
        "    update_prev_w.append(np.zeros(W[i].shape))\n",
        "    update_prev_b.append(np.zeros(b[i].shape))\n",
        "  for i in range(epochs):\n",
        "    update_w = []\n",
        "    update_w.append(0)\n",
        "    update_b = []\n",
        "    update_b.append(0)\n",
        "    a, h, y_hat = feedforward(X_train, W, b, N, l)\n",
        "    calculate_loss(y_hat, Y_train)\n",
        "    grad_W, grad_b = backrop(Y_train, y_hat, W, a, h)[0:2]\n",
        "    W_new =[]\n",
        "    W_new.append(0)\n",
        "    b_new =[]\n",
        "    b_new.append(0)\n",
        "    m=X_train.shape[1]\n",
        "    for j in range(1,l+1):\n",
        "      update_w.append(np.zeros(W[j].shape))\n",
        "      update_b.append(np.zeros(b[j].shape))\n",
        "      update_w[j] = beta*update_prev_w[j] + (1-beta)*np.square(grad_W[j])\n",
        "      update_b[j] = beta*update_prev_b[j] + (1-beta)*np.square(grad_b[j])\n",
        "      W_new.append((W[j] - (learn_rate*np.divide(grad_W[j],(np.sqrt(update_w[j]+epsilon))))))\n",
        "      b_new.append((b[j] - (learn_rate*np.divide(grad_b[j],(np.sqrt(update_b[j]+epsilon))))))\n",
        "      update_prev_w[j]=update_w[j]\n",
        "      update_prev_b[j]=update_b[j]\n",
        "    del update_w\n",
        "    del update_b\n",
        "    W = W_new\n",
        "    b = b_new\n",
        "  return W, b"
      ],
      "execution_count": 43,
      "outputs": []
    },
    {
      "cell_type": "code",
      "metadata": {
        "id": "CBNrBL8-MabD"
      },
      "source": [
        "def adam(epochs, learn_rate, beta1, beta2, epsilon):\n",
        "  W, b = initialize_weights(N)\n",
        "  m_prev_w = []\n",
        "  m_prev_w.append(0)\n",
        "  m_prev_b = []\n",
        "  m_prev_b.append(0)\n",
        "  v_prev_w = []\n",
        "  v_prev_w.append(0)\n",
        "  v_prev_b = []\n",
        "  v_prev_b.append(0)\n",
        "  for i in range(1,l+1):\n",
        "    m_prev_w.append(np.zeros(W[i].shape))\n",
        "    m_prev_b.append(np.zeros(b[i].shape))\n",
        "    v_prev_w.append(np.zeros(W[i].shape))\n",
        "    v_prev_b.append(np.zeros(b[i].shape))\n",
        "  for i in range(epochs):\n",
        "    m_w = []\n",
        "    m_w.append(0)\n",
        "    v_w = []\n",
        "    v_w.append(0)\n",
        "    m_b = []\n",
        "    m_b.append(0)\n",
        "    v_b = []\n",
        "    v_b.append(0)\n",
        "    a, h, y_hat = feedforward(X_train, W, b, N, l)\n",
        "    calculate_loss(y_hat, Y_train)\n",
        "    grad_W, grad_b = backrop(Y_train, y_hat, W, a, h)[0:2]\n",
        "    W_new =[]\n",
        "    W_new.append(0)\n",
        "    b_new =[]\n",
        "    b_new.append(0)\n",
        "    m=X_train.shape[1]\n",
        "    for j in range(1,l+1):\n",
        "      m_w.append(np.zeros(W[j].shape))\n",
        "      v_w.append(np.zeros(W[j].shape))\n",
        "      m_b.append(np.zeros(b[j].shape))\n",
        "      v_b.append(np.zeros(b[j].shape))\n",
        "      m_w[j] = (beta1*m_prev_w[j] + (1-beta1)*grad_W[j])/(1-(beta1**(i+1)))\n",
        "      v_w[j] = (beta2*v_prev_w[j] + (1-beta2)*np.square(grad_W[j]))/(1-(beta2**(i+1)))\n",
        "      m_b[j] = (beta1*m_prev_b[j] + (1-beta1)*grad_b[j])/(1-beta1**(i+1))\n",
        "      v_b[j] = (beta2*v_prev_b[j] + (1-beta2)*np.square(grad_b[j]))/(1-beta2**(i+1))\n",
        "      W_new.append((W[j] - (learn_rate*np.divide(m_w[j],(np.sqrt(v_w[j]+epsilon)))))/m)\n",
        "      b_new.append((b[j] - (learn_rate*np.divide(m_b[j],(np.sqrt(v_b[j]+epsilon)))))/m)\n",
        "      m_prev_w[j] = m_w[j]\n",
        "      v_prev_w[j] = v_w[j]\n",
        "      m_prev_b[j] = m_b[j]\n",
        "      v_prev_b[j] = v_b[j]\n",
        "    del m_w\n",
        "    del v_w\n",
        "    del m_b\n",
        "    del v_b\n",
        "    W = W_new\n",
        "    b = b_new\n",
        "  return W, b"
      ],
      "execution_count": 56,
      "outputs": []
    },
    {
      "cell_type": "code",
      "metadata": {
        "id": "6qtdZi4cD40f"
      },
      "source": [
        "def nadam(epochs, learn_rate, beta1, beta2, epsilon):\n",
        "  W, b = initialize_weights(N)\n",
        "  m_prev_w = []\n",
        "  m_prev_w.append(0)\n",
        "  m_prev_b = []\n",
        "  m_prev_b.append(0)\n",
        "  v_prev_w = []\n",
        "  v_prev_w.append(0)\n",
        "  v_prev_b = []\n",
        "  v_prev_b.append(0)\n",
        "  for i in range(1,l+1):\n",
        "    m_prev_w.append(np.zeros(W[i].shape))\n",
        "    m_prev_b.append(np.zeros(b[i].shape))\n",
        "    v_prev_w.append(np.zeros(W[i].shape))\n",
        "    v_prev_b.append(np.zeros(b[i].shape))\n",
        "  for i in range(epochs):\n",
        "    m_w = []\n",
        "    m_w.append(0)\n",
        "    v_w = []\n",
        "    v_w.append(0)\n",
        "    m_b = []\n",
        "    m_b.append(0)\n",
        "    v_b = []\n",
        "    v_b.append(0)\n",
        "    a, h, y_hat = feedforward(X_train, W, b, N, l)\n",
        "    calculate_loss(y_hat, Y_train)\n",
        "    #grad_W, grad_b = backrop(Y_train, y_hat, W, a, h)[0:2]\n",
        "    W_new =[]\n",
        "    W_new.append(0)\n",
        "    b_new =[]\n",
        "    b_new.append(0)\n",
        "    m=X_train.shape[1]\n",
        "    for j in range(1,l+1):\n",
        "      m_w.append(np.zeros(W[j].shape))\n",
        "      v_w.append(np.zeros(W[j].shape))\n",
        "      m_b.append(np.zeros(b[j].shape))\n",
        "      v_b.append(np.zeros(b[j].shape))\n",
        "      m_w[j] = (beta1*m_prev_w[j])/(1-(beta1**(i+1))) #+ (1-beta1)*grad_W[j])/(1-(beta1**(i+1)))\n",
        "      v_w[j] = (beta2*v_prev_w[j])/(1-(beta2**(i+1))) #+ (1-beta2)*np.square(grad_W[j]))/(1-(beta2**(i+1)))\n",
        "      m_b[j] = (beta1*m_prev_b[j])/(1-beta1**(i+1)) #+ (1-beta1)*grad_b[j])/(1-beta1**(i+1))\n",
        "      v_b[j] = (beta2*v_prev_b[j])/(1-beta2**(i+1)) #+ (1-beta2)*np.square(grad_b[j]))/(1-beta2**(i+1))\n",
        "      W_new.append((W[j] - (learn_rate*np.divide(m_w[j],(np.sqrt(v_w[j]+epsilon)))))/m)\n",
        "      b_new.append((b[j] - (learn_rate*np.divide(m_b[j],(np.sqrt(v_b[j]+epsilon)))))/m)\n",
        "    W = W_new\n",
        "    b = b_new\n",
        "    grad_W, grad_b = backrop(Y_train, y_hat, W, a, h)[0:2]\n",
        "    for i in range(1,l+1):\n",
        "      m_w[j] = (beta1*m_prev_w[j] + (1-beta1)*grad_W[j])/(1-(beta1**(i+1)))\n",
        "      v_w[j] = (beta2*v_prev_w[j] + (1-beta2)*np.square(grad_W[j]))/(1-(beta2**(i+1)))\n",
        "      m_b[j] = (beta1*m_prev_b[j] + (1-beta1)*grad_b[j])/(1-beta1**(i+1))\n",
        "      v_b[j] = (beta2*v_prev_b[j] + (1-beta2)*np.square(grad_b[j]))/(1-beta2**(i+1))\n",
        "      W_new.append((W[j] - (learn_rate*np.divide(m_w[j],(np.sqrt(v_w[j]+epsilon)))))/m)\n",
        "      b_new.append((b[j] - (learn_rate*np.divide(m_b[j],(np.sqrt(v_b[j]+epsilon)))))/m)\n",
        "      m_prev_w[j] = m_w[j]\n",
        "      v_prev_w[j] = v_w[j]\n",
        "      m_prev_b[j] = m_b[j]\n",
        "      v_prev_b[j] = v_b[j]\n",
        "    del m_w\n",
        "    del v_w\n",
        "    del m_b\n",
        "    del v_b\n",
        "    W = W_new\n",
        "    b = b_new\n",
        "  return W, b"
      ],
      "execution_count": 55,
      "outputs": []
    },
    {
      "cell_type": "code",
      "metadata": {
        "colab": {
          "base_uri": "https://localhost:8080/"
        },
        "id": "TQWgLfV0YS4X",
        "outputId": "c999530c-9cc9-4207-f25b-fde360bf5270"
      },
      "source": [
        "W,b = gradient_descent(10,0.001)"
      ],
      "execution_count": 65,
      "outputs": [
        {
          "output_type": "stream",
          "text": [
            "237097.25797024355\n",
            "236504.65984101634\n",
            "235915.35319173572\n",
            "235329.34641918368\n",
            "234746.64739842658\n",
            "234167.26348595432\n",
            "233591.20152293865\n",
            "233018.46783869923\n",
            "232449.06825427685\n",
            "231883.00808620665\n"
          ],
          "name": "stdout"
        }
      ]
    },
    {
      "cell_type": "code",
      "metadata": {
        "colab": {
          "base_uri": "https://localhost:8080/"
        },
        "id": "fXJR8BTh7EkN",
        "outputId": "42ba3ad6-55f6-43a3-c50e-01c0b11d7736"
      },
      "source": [
        "W, b = mom_grad_descent(10,0.001,0.9)"
      ],
      "execution_count": 66,
      "outputs": [
        {
          "output_type": "stream",
          "text": [
            "237097.25797024355\n",
            "124339.75983499788\n",
            "124339.74639880835\n",
            "124339.7280160919\n",
            "124339.71197558675\n",
            "124339.69794780001\n",
            "124339.68565384808\n",
            "124339.67485794003\n",
            "124339.66535917204\n",
            "124339.65698696091\n"
          ],
          "name": "stdout"
        }
      ]
    },
    {
      "cell_type": "code",
      "metadata": {
        "colab": {
          "base_uri": "https://localhost:8080/"
        },
        "id": "EWEpvqvK6fmB",
        "outputId": "0ad78f34-039a-41c0-b8f9-e88ab76ac27a"
      },
      "source": [
        "W, b = nesterov_grad_descent(10, 0.001,0.9)"
      ],
      "execution_count": 67,
      "outputs": [
        {
          "output_type": "stream",
          "text": [
            "237097.25797024355\n",
            "124339.58899904974\n",
            "124339.74714389283\n",
            "124339.72883288187\n",
            "124339.71276140434\n",
            "124339.69870684533\n",
            "124339.68638983679\n",
            "124339.67557375261\n",
            "124339.66605760994\n",
            "124339.65767029299\n"
          ],
          "name": "stdout"
        }
      ]
    },
    {
      "cell_type": "code",
      "metadata": {
        "colab": {
          "base_uri": "https://localhost:8080/"
        },
        "id": "QMmjyz8jBZlz",
        "outputId": "369e7089-dc56-4450-a420-5f15d8c89e9c"
      },
      "source": [
        "W, b = rms_prop(10,0.001,0.9,10**-8)"
      ],
      "execution_count": 68,
      "outputs": [
        {
          "output_type": "stream",
          "text": [
            "237097.25797024355\n",
            "214830.29208012726\n",
            "201936.1924680934\n",
            "193211.79765857002\n",
            "186902.9557671088\n",
            "182119.50637335723\n",
            "178339.09890728793\n",
            "175232.86178824556\n",
            "172593.21492231012\n",
            "170288.68858802624\n"
          ],
          "name": "stdout"
        }
      ]
    },
    {
      "cell_type": "code",
      "metadata": {
        "colab": {
          "base_uri": "https://localhost:8080/"
        },
        "id": "Vk9sjVxrG3NO",
        "outputId": "a9ec8897-5066-447c-aaf2-f4982f246f0b"
      },
      "source": [
        "W, b = adam(10,0.001,0.9,0.99, 10**-8)"
      ],
      "execution_count": 69,
      "outputs": [
        {
          "output_type": "stream",
          "text": [
            "237097.25797024355\n",
            "124339.58901029307\n",
            "124339.59502887553\n",
            "124339.59502579755\n",
            "124339.59502381136\n",
            "124339.5950227172\n",
            "124339.5950221481\n",
            "124339.59502194778\n",
            "124339.59502172102\n",
            "124339.59502166658\n"
          ],
          "name": "stdout"
        }
      ]
    },
    {
      "cell_type": "code",
      "metadata": {
        "colab": {
          "base_uri": "https://localhost:8080/"
        },
        "id": "UwB5dq5dNz9A",
        "outputId": "2a3c7f5f-55ae-42d7-fe2d-5d06bfb90883"
      },
      "source": [
        "W, b = nadam(10, 0.001,0.9,0.99,10**-8)"
      ],
      "execution_count": 70,
      "outputs": [
        {
          "output_type": "stream",
          "text": [
            "237097.25797024355\n",
            "124339.58899904974\n",
            "124339.59502261173\n",
            "124339.5950217716\n",
            "124339.59502175263\n",
            "124339.59502154215\n",
            "124339.5950217865\n",
            "124339.59502177621\n",
            "124339.59502177626\n",
            "124339.59502177626\n"
          ],
          "name": "stdout"
        }
      ]
    },
    {
      "cell_type": "code",
      "metadata": {
        "id": "uoPbeu1v22YS"
      },
      "source": [
        "def grad_descent(W,b,grad_W,grad_b,learn_rate=0.001):\r\n",
        "  W_new=[]\r\n",
        "  W_new.append(0)\r\n",
        "  b_new=[]\r\n",
        "  b_new.append(0)\r\n",
        "  m=X_train.shape[1]\r\n",
        "  for i in range(1,l+1):\r\n",
        "    #print(W[i].shape,grad_W[i].shape,b[i].shape,grad_b[i].shape)\r\n",
        "    W_new.append(W[i] - (learn_rate*grad_W[i])/m)\r\n",
        "    b_new.append(b[i] - (learn_rate*grad_b[i])/m)\r\n",
        "  return W_new,b_new\r\n"
      ],
      "execution_count": 71,
      "outputs": []
    },
    {
      "cell_type": "markdown",
      "metadata": {
        "id": "CIxTyHzm22zY"
      },
      "source": [
        "Training"
      ]
    },
    {
      "cell_type": "code",
      "metadata": {
        "id": "rKVlEjb425bX"
      },
      "source": [
        "def training(N,l,epochs,batch_size,learn_rate,X_input,y):\r\n",
        "  W , b = initialize_weights(N)\r\n",
        "  n=(np.floor(X_input.shape[1]/batch_size)+1).astype(int)\r\n",
        "  for j in range(epochs):\r\n",
        "    for j in range(n):\r\n",
        "      X=X_input[:,[j*batch_size,(j+1)*batch_size]]\r\n",
        "      a , h , y_hat = feedforward(X_input, W, b, N, l) \r\n",
        "      grad_W , grad_b = backrop(y,y_hat,W,a,h)[0:2]\r\n",
        "      W , b = grad_descent(W,b,grad_W,grad_b,learn_rate)\r\n",
        "    \r\n",
        "    calculate_loss(y_hat,y)\r\n",
        "  \r\n",
        "  return W,b\r\n"
      ],
      "execution_count": 64,
      "outputs": []
    },
    {
      "cell_type": "code",
      "metadata": {
        "id": "Cd46S3v6QCFc"
      },
      "source": [
        "def predict(W,b,X_test,N,l):\r\n",
        "  y_hat = feedforward(X_test, W, b, N, l)[2]\r\n",
        "  y_class = np.argmax(y_hat,axis=0).reshape([1,X_test.shape[1]])\r\n",
        "\r\n",
        "  return y_class"
      ],
      "execution_count": null,
      "outputs": []
    },
    {
      "cell_type": "code",
      "metadata": {
        "colab": {
          "base_uri": "https://localhost:8080/"
        },
        "id": "d6IcGjcqs99K",
        "outputId": "7a70e11d-6ff2-4a27-9414-68938edbd612"
      },
      "source": [
        "Y_predict = predict(W_new,b_new,X_train,N,l)\r\n",
        "print (Y_predict[0,0:4])\r\n",
        "print (Y_test[0,0:4])\r\n",
        "#sklearn.metrics.accuracy_score(Y_test, Y_predict)"
      ],
      "execution_count": null,
      "outputs": [
        {
          "output_type": "stream",
          "text": [
            "[6 6 7 7]\n",
            "[9 2 1 1]\n"
          ],
          "name": "stdout"
        }
      ]
    },
    {
      "cell_type": "code",
      "metadata": {
        "id": "ismRltbN4qZI"
      },
      "source": [
        "sweep_config = {\r\n",
        "    'method': 'random'\r\n",
        "    }"
      ],
      "execution_count": null,
      "outputs": []
    },
    {
      "cell_type": "code",
      "metadata": {
        "id": "Q6AiOlvAjAPH"
      },
      "source": [
        "parameters_dict = {\r\n",
        "    'epochs': {\r\n",
        "        'values': [5, 10]\r\n",
        "      },\r\n",
        "    'l': {\r\n",
        "        'values': [3, 4, 5]\r\n",
        "      },\r\n",
        "    'size of each layer': {\r\n",
        "        'values': [32, 64, 128]\r\n",
        "      },\r\n",
        "    'weight decay': {\r\n",
        "        'values': [0, 0.0005, 0.5]\r\n",
        "      },\r\n",
        "    'learn_rate': {\r\n",
        "        'values': [1e-3,1e-4]\r\n",
        "      },\r\n",
        "    'epochs': {\r\n",
        "        'values': [5,10]\r\n",
        "      },\r\n",
        "    'batch_size': {\r\n",
        "        'values': [16,32,64]\r\n",
        "      },\r\n",
        "    'weights_initialization': {\r\n",
        "        'values': ['random', 'Xavier']\r\n",
        "      },\r\n",
        "    'optimizer': {\r\n",
        "        'values': ['sgd', 'mom', 'nest', 'rms', 'adam', 'nadam']\r\n",
        "      },\r\n",
        "    'act_func': {\r\n",
        "          'values': ['sigmoid', 'tanh', 'ReLU']\r\n",
        "      }\r\n",
        "    }\r\n",
        "\r\n",
        "sweep_config['parameters'] = parameters_dict"
      ],
      "execution_count": null,
      "outputs": []
    },
    {
      "cell_type": "code",
      "metadata": {
        "id": "UkGk8qkEpCMW"
      },
      "source": [
        "import pprint\r\n",
        "\r\n",
        "pprint.pprint(sweep_config)"
      ],
      "execution_count": null,
      "outputs": []
    },
    {
      "cell_type": "code",
      "metadata": {
        "id": "zmT81TCgpL7Q"
      },
      "source": [
        "sweep_id = wandb.sweep(sweep_config, project=\"pytorch-sweeps-demo\")"
      ],
      "execution_count": null,
      "outputs": []
    },
    {
      "cell_type": "code",
      "metadata": {
        "id": "BcMfn5Swpkzv"
      },
      "source": [
        "wandb.agent(sweep_id, train, count=5)"
      ],
      "execution_count": null,
      "outputs": []
    },
    {
      "cell_type": "code",
      "metadata": {
        "id": "xYCjEtwereDl"
      },
      "source": [
        "def training_sweep(N,l,X_input,y,config=None):\r\n",
        "  \r\n",
        "  # Initialize a new wandb run\r\n",
        "    with wandb.init(config=config):\r\n",
        "        # If called by wandb.agent, as below,\r\n",
        "        # this config will be set by Sweep Controller\r\n",
        "        config = wandb.config\r\n",
        "\r\n",
        "        training(N,l,config.epochs,config.batch_size,config.learn_rate,X_input,y)\r\n",
        "            wandb.log({\"loss\": avg_loss, \"epoch\": epoch})"
      ],
      "execution_count": null,
      "outputs": []
    }
  ]
}