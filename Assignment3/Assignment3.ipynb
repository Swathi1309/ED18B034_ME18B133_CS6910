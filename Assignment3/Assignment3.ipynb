{
  "nbformat": 4,
  "nbformat_minor": 0,
  "metadata": {
    "colab": {
      "name": "Assignment3.ipynb",
      "provenance": [],
      "collapsed_sections": [],
      "include_colab_link": true
    },
    "kernelspec": {
      "name": "python3",
      "display_name": "Python 3"
    },
    "language_info": {
      "name": "python"
    },
    "accelerator": "GPU",
    "widgets": {
      "application/vnd.jupyter.widget-state+json": {
        "08ee7c96b7c64f3c9798670c1a953287": {
          "model_module": "@jupyter-widgets/controls",
          "model_name": "VBoxModel",
          "state": {
            "_view_name": "VBoxView",
            "_dom_classes": [],
            "_model_name": "VBoxModel",
            "_view_module": "@jupyter-widgets/controls",
            "_model_module_version": "1.5.0",
            "_view_count": null,
            "_view_module_version": "1.5.0",
            "box_style": "",
            "layout": "IPY_MODEL_6404f712d19946d5ba2ccc3b2dd8f822",
            "_model_module": "@jupyter-widgets/controls",
            "children": [
              "IPY_MODEL_fd825a8459354b07b6792e59a189cf75",
              "IPY_MODEL_4bf9f3243f0948d88b53ab16fd4ccce1"
            ]
          }
        },
        "6404f712d19946d5ba2ccc3b2dd8f822": {
          "model_module": "@jupyter-widgets/base",
          "model_name": "LayoutModel",
          "state": {
            "_view_name": "LayoutView",
            "grid_template_rows": null,
            "right": null,
            "justify_content": null,
            "_view_module": "@jupyter-widgets/base",
            "overflow": null,
            "_model_module_version": "1.2.0",
            "_view_count": null,
            "flex_flow": null,
            "width": null,
            "min_width": null,
            "border": null,
            "align_items": null,
            "bottom": null,
            "_model_module": "@jupyter-widgets/base",
            "top": null,
            "grid_column": null,
            "overflow_y": null,
            "overflow_x": null,
            "grid_auto_flow": null,
            "grid_area": null,
            "grid_template_columns": null,
            "flex": null,
            "_model_name": "LayoutModel",
            "justify_items": null,
            "grid_row": null,
            "max_height": null,
            "align_content": null,
            "visibility": null,
            "align_self": null,
            "height": null,
            "min_height": null,
            "padding": null,
            "grid_auto_rows": null,
            "grid_gap": null,
            "max_width": null,
            "order": null,
            "_view_module_version": "1.2.0",
            "grid_template_areas": null,
            "object_position": null,
            "object_fit": null,
            "grid_auto_columns": null,
            "margin": null,
            "display": null,
            "left": null
          }
        },
        "fd825a8459354b07b6792e59a189cf75": {
          "model_module": "@jupyter-widgets/controls",
          "model_name": "LabelModel",
          "state": {
            "_view_name": "LabelView",
            "style": "IPY_MODEL_819eb24354434ab3b2e8bc1912e70a91",
            "_dom_classes": [],
            "description": "",
            "_model_name": "LabelModel",
            "placeholder": "​",
            "_view_module": "@jupyter-widgets/controls",
            "_model_module_version": "1.5.0",
            "value": " 5.06MB of 5.06MB uploaded (0.00MB deduped)\r",
            "_view_count": null,
            "_view_module_version": "1.5.0",
            "description_tooltip": null,
            "_model_module": "@jupyter-widgets/controls",
            "layout": "IPY_MODEL_bc834e1d39cf4975be045ae3099166bc"
          }
        },
        "4bf9f3243f0948d88b53ab16fd4ccce1": {
          "model_module": "@jupyter-widgets/controls",
          "model_name": "FloatProgressModel",
          "state": {
            "_view_name": "ProgressView",
            "style": "IPY_MODEL_5290330c875a43519e016b2fe9fc9ae7",
            "_dom_classes": [],
            "description": "",
            "_model_name": "FloatProgressModel",
            "bar_style": "",
            "max": 1,
            "_view_module": "@jupyter-widgets/controls",
            "_model_module_version": "1.5.0",
            "value": 1,
            "_view_count": null,
            "_view_module_version": "1.5.0",
            "orientation": "horizontal",
            "min": 0,
            "description_tooltip": null,
            "_model_module": "@jupyter-widgets/controls",
            "layout": "IPY_MODEL_8e575780ff08472ea553a8aa633c94d2"
          }
        },
        "819eb24354434ab3b2e8bc1912e70a91": {
          "model_module": "@jupyter-widgets/controls",
          "model_name": "DescriptionStyleModel",
          "state": {
            "_view_name": "StyleView",
            "_model_name": "DescriptionStyleModel",
            "description_width": "",
            "_view_module": "@jupyter-widgets/base",
            "_model_module_version": "1.5.0",
            "_view_count": null,
            "_view_module_version": "1.2.0",
            "_model_module": "@jupyter-widgets/controls"
          }
        },
        "bc834e1d39cf4975be045ae3099166bc": {
          "model_module": "@jupyter-widgets/base",
          "model_name": "LayoutModel",
          "state": {
            "_view_name": "LayoutView",
            "grid_template_rows": null,
            "right": null,
            "justify_content": null,
            "_view_module": "@jupyter-widgets/base",
            "overflow": null,
            "_model_module_version": "1.2.0",
            "_view_count": null,
            "flex_flow": null,
            "width": null,
            "min_width": null,
            "border": null,
            "align_items": null,
            "bottom": null,
            "_model_module": "@jupyter-widgets/base",
            "top": null,
            "grid_column": null,
            "overflow_y": null,
            "overflow_x": null,
            "grid_auto_flow": null,
            "grid_area": null,
            "grid_template_columns": null,
            "flex": null,
            "_model_name": "LayoutModel",
            "justify_items": null,
            "grid_row": null,
            "max_height": null,
            "align_content": null,
            "visibility": null,
            "align_self": null,
            "height": null,
            "min_height": null,
            "padding": null,
            "grid_auto_rows": null,
            "grid_gap": null,
            "max_width": null,
            "order": null,
            "_view_module_version": "1.2.0",
            "grid_template_areas": null,
            "object_position": null,
            "object_fit": null,
            "grid_auto_columns": null,
            "margin": null,
            "display": null,
            "left": null
          }
        },
        "5290330c875a43519e016b2fe9fc9ae7": {
          "model_module": "@jupyter-widgets/controls",
          "model_name": "ProgressStyleModel",
          "state": {
            "_view_name": "StyleView",
            "_model_name": "ProgressStyleModel",
            "description_width": "",
            "_view_module": "@jupyter-widgets/base",
            "_model_module_version": "1.5.0",
            "_view_count": null,
            "_view_module_version": "1.2.0",
            "bar_color": null,
            "_model_module": "@jupyter-widgets/controls"
          }
        },
        "8e575780ff08472ea553a8aa633c94d2": {
          "model_module": "@jupyter-widgets/base",
          "model_name": "LayoutModel",
          "state": {
            "_view_name": "LayoutView",
            "grid_template_rows": null,
            "right": null,
            "justify_content": null,
            "_view_module": "@jupyter-widgets/base",
            "overflow": null,
            "_model_module_version": "1.2.0",
            "_view_count": null,
            "flex_flow": null,
            "width": null,
            "min_width": null,
            "border": null,
            "align_items": null,
            "bottom": null,
            "_model_module": "@jupyter-widgets/base",
            "top": null,
            "grid_column": null,
            "overflow_y": null,
            "overflow_x": null,
            "grid_auto_flow": null,
            "grid_area": null,
            "grid_template_columns": null,
            "flex": null,
            "_model_name": "LayoutModel",
            "justify_items": null,
            "grid_row": null,
            "max_height": null,
            "align_content": null,
            "visibility": null,
            "align_self": null,
            "height": null,
            "min_height": null,
            "padding": null,
            "grid_auto_rows": null,
            "grid_gap": null,
            "max_width": null,
            "order": null,
            "_view_module_version": "1.2.0",
            "grid_template_areas": null,
            "object_position": null,
            "object_fit": null,
            "grid_auto_columns": null,
            "margin": null,
            "display": null,
            "left": null
          }
        }
      }
    }
  },
  "cells": [
    {
      "cell_type": "markdown",
      "metadata": {
        "id": "view-in-github",
        "colab_type": "text"
      },
      "source": [
        "<a href=\"https://colab.research.google.com/github/Swathi1309/ED18B034_ME18B133_CS6910/blob/main/Assignment3/Assignment3.ipynb\" target=\"_parent\"><img src=\"https://colab.research.google.com/assets/colab-badge.svg\" alt=\"Open In Colab\"/></a>"
      ]
    },
    {
      "cell_type": "code",
      "metadata": {
        "id": "ppVny72Q-SPg"
      },
      "source": [
        "import numpy as np\n",
        "import tensorflow\n",
        "from tensorflow import keras\n",
        "from keras import Model\n",
        "from keras.layers import SimpleRNN, LSTM, GRU, Dense, Dropout\n",
        "import tarfile\n",
        "import random"
      ],
      "execution_count": 82,
      "outputs": []
    },
    {
      "cell_type": "code",
      "metadata": {
        "id": "vV6TzDuChLd8"
      },
      "source": [
        "!pip install wandb\n",
        "!wandb login\n",
        "import wandb\n",
        "from wandb.keras import WandbCallback\n",
        "wandb.init(project=\"CS6910-assg3\", entity=\"narendv\")"
      ],
      "execution_count": null,
      "outputs": []
    },
    {
      "cell_type": "code",
      "metadata": {
        "id": "3d2LNP-C3PD6",
        "colab": {
          "base_uri": "https://localhost:8080/"
        },
        "outputId": "c4a430d6-4b59-42e6-c365-166f14501a56"
      },
      "source": [
        "from google.colab import drive\n",
        "drive.mount('/content/drive')"
      ],
      "execution_count": 2,
      "outputs": [
        {
          "output_type": "stream",
          "text": [
            "Mounted at /content/drive\n"
          ],
          "name": "stdout"
        }
      ]
    },
    {
      "cell_type": "markdown",
      "metadata": {
        "id": "fcMrqAD0GVTJ"
      },
      "source": [
        "Loading Data"
      ]
    },
    {
      "cell_type": "code",
      "metadata": {
        "id": "CV1gW8TTyr7x"
      },
      "source": [
        "\n",
        "my_tar = tarfile.open('/content/drive/MyDrive/Dakshina dataset/dakshina_dataset_v1.0.tar')\n",
        "my_tar.extractall('/content/drive/MyDrive/Dakshina dataset') # specify which folder to extract to\n",
        "my_tar.close()"
      ],
      "execution_count": null,
      "outputs": []
    },
    {
      "cell_type": "markdown",
      "metadata": {
        "id": "2Pn0kolbGcbE"
      },
      "source": [
        "Examples"
      ]
    },
    {
      "cell_type": "code",
      "metadata": {
        "id": "IDYd7sMK4s8_",
        "colab": {
          "base_uri": "https://localhost:8080/"
        },
        "outputId": "c79e5834-ec85-4934-a079-8816e7ad3d67"
      },
      "source": [
        "import csv\n",
        "hi_to_eng = open(\"/content/drive/MyDrive/Dakshina dataset/dakshina_dataset_v1.0/hi/lexicons/hi.translit.sampled.train.tsv\")\n",
        "read_tsv = csv.reader(hi_to_eng, delimiter=\"\\t\")\n",
        "i=0\n",
        "for row in read_tsv:\n",
        "  i +=1\n",
        "  print(row)\n",
        "  if i==30:\n",
        "    break\n",
        "hi_to_eng.close()"
      ],
      "execution_count": 8,
      "outputs": [
        {
          "output_type": "stream",
          "text": [
            "['अं', 'an', '3']\n",
            "['अंकगणित', 'ankganit', '3']\n",
            "['अंकल', 'uncle', '4']\n",
            "['अंकुर', 'ankur', '4']\n",
            "['अंकुरण', 'ankuran', '3']\n",
            "['अंकुरित', 'ankurit', '3']\n",
            "['अंकुश', 'aankush', '1']\n",
            "['अंकुश', 'ankush', '3']\n",
            "['अंग', 'ang', '2']\n",
            "['अंग', 'anga', '1']\n",
            "['अंगद', 'agandh', '1']\n",
            "['अंगद', 'angad', '2']\n",
            "['अंगने', 'angane', '3']\n",
            "['अंगभंग', 'angbhang', '3']\n",
            "['अंगरक्षक', 'angarakshak', '1']\n",
            "['अंगरक्षक', 'angrakshak', '2']\n",
            "['अंगारा', 'angara', '3']\n",
            "['अंगारे', 'angaare', '1']\n",
            "['अंगारे', 'angare', '2']\n",
            "['अंगी', 'angi', '3']\n",
            "['अंगीकार', 'angikar', '3']\n",
            "['अंगुठे', 'anguthe', '3']\n",
            "['अंगुल', 'angul', '3']\n",
            "['अंगुलियों', 'anguliyon', '3']\n",
            "['अंगुली', 'anguli', '2']\n",
            "['अंगुली', 'ungli', '1']\n",
            "['अंगूठा', 'angutha', '3']\n",
            "['अंगूठियों', 'aanguthiyon', '1']\n",
            "['अंगूठियों', 'anguthiyon', '2']\n",
            "['अंगूठी', 'anguthi', '3']\n"
          ],
          "name": "stdout"
        }
      ]
    },
    {
      "cell_type": "code",
      "metadata": {
        "id": "5ap4sT1mhcnJ"
      },
      "source": [
        "  # Number of samples to train on.\n",
        "# Path to the data txt file on disk.\n",
        "data_path_train = \"/content/drive/MyDrive/Dakshina dataset/dakshina_dataset_v1.0/hi/lexicons/hi.translit.sampled.train.tsv\"\n",
        "data_path_dev = '/content/drive/MyDrive/Dakshina dataset/dakshina_dataset_v1.0/hi/lexicons/hi.translit.sampled.dev.tsv'"
      ],
      "execution_count": 7,
      "outputs": []
    },
    {
      "cell_type": "code",
      "metadata": {
        "id": "HoMs0KpchYxh"
      },
      "source": [
        "def load_inputs(data_path,data):\n",
        "  # Vectorize the data.\n",
        "  input_texts = []\n",
        "  target_texts = []\n",
        "  input_characters = set()\n",
        "  target_characters = set()\n",
        "  with open(data_path, \"r\", encoding=\"utf-8\") as f:\n",
        "      lines = f.read().split(\"\\n\")\n",
        "  for line in lines[: (len(lines) - 1)]:\n",
        "      input_text, target_text, _ = line.split(\"\\t\")\n",
        "      # We use \"tab\" as the \"start sequence\" character\n",
        "      # for the targets, and \"\\n\" as \"end sequence\" character.\n",
        "      target_text = \"\\t\" + target_text + \"\\n\"\n",
        "      input_texts.append(input_text)\n",
        "      target_texts.append(target_text)\n",
        "      for char in input_text:\n",
        "          if char not in input_characters:\n",
        "              input_characters.add(char)\n",
        "      for char in target_text:\n",
        "          if char not in target_characters:\n",
        "              target_characters.add(char)\n",
        "\n",
        "  input_characters = sorted(list(input_characters))\n",
        "  target_characters = sorted(list(target_characters))\n",
        "  num_encoder_tokens = len(input_characters)\n",
        "  num_decoder_tokens = len(target_characters)\n",
        "  max_encoder_seq_length = max([len(txt) for txt in input_texts])\n",
        "  max_decoder_seq_length = max([len(txt) for txt in target_texts])\n",
        "\n",
        "  # print(\"Number of samples:\", len(input_texts))\n",
        "  # print(\"Number of unique input tokens:\", num_encoder_tokens)\n",
        "  # print(\"Number of unique output tokens:\", num_decoder_tokens)\n",
        "  # print(\"Max sequence length for inputs:\", max_encoder_seq_length)\n",
        "  # print(\"Max sequence length for outputs:\", max_decoder_seq_length)\n",
        "\n",
        "  input_token_index = dict([(char, i) for i, char in enumerate(input_characters)])\n",
        "  target_token_index = dict([(char, i) for i, char in enumerate(target_characters)])\n",
        "  if data == 'train':\n",
        "    encoder_input_data = np.zeros(\n",
        "        (len(input_texts), max_encoder_seq_length, num_encoder_tokens), dtype=\"float32\"\n",
        "    )\n",
        "    decoder_input_data = np.zeros(\n",
        "        (len(input_texts), max_decoder_seq_length, num_decoder_tokens), dtype=\"float32\"\n",
        "    )\n",
        "    decoder_target_data = np.zeros(\n",
        "        (len(input_texts), max_decoder_seq_length, num_decoder_tokens), dtype=\"float32\"\n",
        "    )\n",
        "  if data == 'dev':\n",
        "    encoder_input_data = np.zeros(\n",
        "        (len(input_texts), max_encoder_seq_length, input_token_train), dtype=\"float32\"\n",
        "    )\n",
        "    decoder_input_data = np.zeros(\n",
        "        (len(input_texts), max_decoder_seq_length, output_token_train), dtype=\"float32\"\n",
        "    )\n",
        "    decoder_target_data = np.zeros(\n",
        "        (len(input_texts), max_decoder_seq_length, output_token_train), dtype=\"float32\"\n",
        "    )\n",
        "  \n",
        "  random.seed(0)\n",
        "  temp = list(zip(input_texts, target_texts))\n",
        "  random.shuffle(temp)\n",
        "  it, tt = zip(*temp)\n",
        "  \n",
        "  for i, (input_text, target_text) in enumerate(zip(it, tt)):\n",
        "      for t, char in enumerate(input_text):\n",
        "          encoder_input_data[i, t, input_token_index[char]] = 1.0\n",
        "      # encoder_input_data[i, (t + 1):, input_token_index[\" \"]] = 1.0\n",
        "      for t, char in enumerate(target_text):\n",
        "          # decoder_target_data is ahead of decoder_input_data by one timestep\n",
        "          decoder_input_data[i, t, target_token_index[char]] = 1.0\n",
        "          if t > 0:\n",
        "              # decoder_target_data will be ahead by one timestep\n",
        "              # and will not include the start character.\n",
        "              decoder_target_data[i, t - 1, target_token_index[char]] = 1.0\n",
        "      # decoder_input_data[i, t + 1 :, target_token_index[\" \"]] = 1.0\n",
        "      # decoder_target_data[i, t:, target_token_index[\" \"]] = 1.0\n",
        "\n",
        "  return encoder_input_data, decoder_input_data, decoder_target_data, num_encoder_tokens, num_decoder_tokens"
      ],
      "execution_count": 93,
      "outputs": []
    },
    {
      "cell_type": "code",
      "metadata": {
        "id": "q83Qb1QcASDh"
      },
      "source": [
        "global enc_input_train, dec_input_train, dec_target_train, input_token_train, output_token_train\n",
        "global enc_input_dev, dec_input_dev, dec_target_dev\n",
        "enc_input_train, dec_input_train, dec_target_train, input_token_train, output_token_train = load_inputs(data_path_train,'train')\n",
        "enc_input_dev, dec_input_dev, dec_target_dev, _, _ = load_inputs(data_path_dev,'dev')"
      ],
      "execution_count": 94,
      "outputs": []
    },
    {
      "cell_type": "code",
      "metadata": {
        "id": "NJHFjZGFxpCb"
      },
      "source": [
        "def encoder(enc_out,in_token_no,enc_block, latent_dim):\n",
        "  for i in range(0,1):\n",
        "    if enc_block =='LSTM':\n",
        "      enc_out ,h ,c = LSTM(latent_dim, return_state=True, return_sequences=True)(enc_out)\n",
        "      s = [h,c]\n",
        "    elif enc_block =='GRU':\n",
        "      enc_out ,s = GRU(latent_dim, return_state=True, return_sequences=True)(enc_out)\n",
        "    else:\n",
        "      enc_out ,s = SimpleRNN(latent_dim, return_state=True, return_sequences=True)(enc_out)\n",
        "    \n",
        "  return enc_out,s\n"
      ],
      "execution_count": 103,
      "outputs": []
    },
    {
      "cell_type": "code",
      "metadata": {
        "id": "4tgqA46f6gtJ"
      },
      "source": [
        "def decoder(X_input_dec, hs_init, latent_dim, out_token_no, dec_block,dense_no,drop_no):\n",
        "  \n",
        "\n",
        "  if dec_block == 'LSTM':\n",
        "    out_dec, _, _ = LSTM(latent_dim, return_sequences=True, return_state=True)(X_input_dec, initial_state = hs_init)\n",
        "  elif dec_block == 'GRU':\n",
        "    out_dec, _ = GRU(latent_dim, return_sequences=True, return_state=True)(X_input_dec, initial_state = hs_init)\n",
        "  else:\n",
        "    out_dec, _ = SimpleRNN(latent_dim, return_sequences=True, return_state=True)(X_input_dec, initial_state = hs_init)\n",
        "  \n",
        "  out_dec = Dense(dense_no/2, activation='tanh')(out_dec)\n",
        "  out_dec = Dropout(drop_no)(out_dec)\n",
        "  out_dec = Dense(out_token_no, activation=\"softmax\")(out_dec)\n",
        "\n",
        "  return out_dec"
      ],
      "execution_count": 98,
      "outputs": []
    },
    {
      "cell_type": "code",
      "metadata": {
        "id": "YAWVP3PL8kdB"
      },
      "source": [
        "def RNN_model(in_token_no, enc_block, latent_dim, out_token_no, dec_block,dense_no,drop_no):\n",
        "  X_input_enc = keras.Input(shape=(None, in_token_no))\n",
        "  X_input_dec = keras.Input(shape=(None, out_token_no))\n",
        "  _,s_init = encoder(X_input_enc,in_token_no,enc_block,latent_dim)\n",
        "  out_dec = decoder(X_input_dec,s_init,latent_dim, out_token_no, dec_block, dense_no,drop_no)\n",
        "  model = Model(inputs = [X_input_enc,X_input_dec], outputs = out_dec)\n",
        "\n",
        "  return model"
      ],
      "execution_count": 99,
      "outputs": []
    },
    {
      "cell_type": "code",
      "metadata": {
        "id": "V_TGrMKevEEH",
        "outputId": "e8d20d2a-c64d-4935-d49c-60a98559c2e1",
        "colab": {
          "base_uri": "https://localhost:8080/",
          "height": 195
        }
      },
      "source": [
        "enc_out = keras.Input(shape=(None, input_token_train))\n",
        "out=encoder(enc_out,input_token_train,'LSTM', 512)\n",
        "tf.shape(out)"
      ],
      "execution_count": 100,
      "outputs": [
        {
          "output_type": "error",
          "ename": "NameError",
          "evalue": "ignored",
          "traceback": [
            "\u001b[0;31m---------------------------------------------------------------------------\u001b[0m",
            "\u001b[0;31mNameError\u001b[0m                                 Traceback (most recent call last)",
            "\u001b[0;32m<ipython-input-100-55ef6e1262f1>\u001b[0m in \u001b[0;36m<module>\u001b[0;34m()\u001b[0m\n\u001b[1;32m      1\u001b[0m \u001b[0menc_out\u001b[0m \u001b[0;34m=\u001b[0m \u001b[0mkeras\u001b[0m\u001b[0;34m.\u001b[0m\u001b[0mInput\u001b[0m\u001b[0;34m(\u001b[0m\u001b[0mshape\u001b[0m\u001b[0;34m=\u001b[0m\u001b[0;34m(\u001b[0m\u001b[0;32mNone\u001b[0m\u001b[0;34m,\u001b[0m \u001b[0minput_token_train\u001b[0m\u001b[0;34m)\u001b[0m\u001b[0;34m)\u001b[0m\u001b[0;34m\u001b[0m\u001b[0;34m\u001b[0m\u001b[0m\n\u001b[1;32m      2\u001b[0m \u001b[0mout\u001b[0m\u001b[0;34m=\u001b[0m\u001b[0mencoder\u001b[0m\u001b[0;34m(\u001b[0m\u001b[0menc_out\u001b[0m\u001b[0;34m,\u001b[0m\u001b[0minput_token_train\u001b[0m\u001b[0;34m,\u001b[0m\u001b[0;34m'LSTM'\u001b[0m\u001b[0;34m,\u001b[0m \u001b[0;36m512\u001b[0m\u001b[0;34m)\u001b[0m\u001b[0;34m\u001b[0m\u001b[0;34m\u001b[0m\u001b[0m\n\u001b[0;32m----> 3\u001b[0;31m \u001b[0mtf\u001b[0m\u001b[0;34m.\u001b[0m\u001b[0mshape\u001b[0m\u001b[0;34m(\u001b[0m\u001b[0mout\u001b[0m\u001b[0;34m)\u001b[0m\u001b[0;34m\u001b[0m\u001b[0;34m\u001b[0m\u001b[0m\n\u001b[0m",
            "\u001b[0;31mNameError\u001b[0m: name 'tf' is not defined"
          ]
        }
      ]
    },
    {
      "cell_type": "code",
      "metadata": {
        "id": "h_8eeDMhed_v",
        "colab": {
          "base_uri": "https://localhost:8080/",
          "height": 754
        },
        "outputId": "efa0964f-379d-4e69-e2cd-30acc188a296"
      },
      "source": [
        "lat_dim=512\n",
        "model = RNN_model(input_token_train,'LSTM',lat_dim,output_token_train,'LSTM', 256,0)\n",
        "keras.utils.plot_model(model,show_shapes=True)"
      ],
      "execution_count": 101,
      "outputs": [
        {
          "output_type": "execute_result",
          "data": {
            "image/png": "[encoded data removed]",
            "text/plain": [
              "<IPython.core.display.Image object>"
            ]
          },
          "metadata": {
            "tags": []
          },
          "execution_count": 101
        }
      ]
    },
    {
      "cell_type": "code",
      "metadata": {
        "id": "oquP5kRhmm8H"
      },
      "source": [
        "def enc_inference(model):\n",
        "  X_in_enc = model.input[0]\n",
        "  enc_out ,h ,s = model.layers[2].output\n",
        "  X_out_enc = [h,s]\n",
        "  enc_model = keras.Model(inputs = X_in_enc, outputs = X_out_enc)\n",
        "\n",
        "  return enc_model\n",
        "\n",
        "def dec_inference(model):\n",
        "  dec_inputs = model.input[1]\n",
        "  dec_input_h = keras.Input(shape=(latent_dim,))\n",
        "  dec_input_s = keras.Input(shape=(latent_dim,))\n",
        "  hs_inputs = [dec_input_h,dec_input_s]\n",
        "  dec_model = model.layers[3]\n",
        "  dec_outputs, h_dec, s_dec = dec_model(dec_inputs, initial_state=hs_inputs)\n",
        "  hs_outputs = [h_dec, s_dec]\n",
        "  dec_dense = model.layers[4]\n",
        "  dec_outputs = dec_dense(dec_outputs)\n",
        "  dec_model = keras.Model(inputs = [dec_inputs] + hs_inputs, outputs = [decoder_outputs]\n",
        "                              + hs_outputs)\n",
        "  \n",
        "  return dec_model\n",
        "\n",
        "def decode_sequence(input_seq):\n",
        "    # Encode the input as state vectors.\n",
        "    states_value = encoder_model.predict(input_seq)\n",
        "\n",
        "    # Generate empty target sequence of length 1.\n",
        "    target_seq = np.zeros((1, 1, num_decoder_tokens))\n",
        "    # Populate the first character of target sequence with the start character.\n",
        "    target_seq[0, 0, target_token_index[\"\\t\"]] = 1.0\n",
        "\n",
        "    # Sampling loop for a batch of sequences\n",
        "    # (to simplify, here we assume a batch of size 1).\n",
        "    stop_condition = False\n",
        "    decoded_sentence = \"\"\n",
        "    while not stop_condition:\n",
        "        output_tokens, h, c = decoder_model.predict([target_seq] + states_value)\n",
        "\n",
        "        # Sample a token\n",
        "        sampled_token_index = np.argmax(output_tokens[0, -1, :])\n",
        "        sampled_char = reverse_target_char_index[sampled_token_index]\n",
        "        decoded_sentence += sampled_char\n",
        "\n",
        "        # Exit condition: either hit max length\n",
        "        # or find stop character.\n",
        "        if sampled_char == \"\\n\" or len(decoded_sentence) > max_decoder_seq_length:\n",
        "            stop_condition = True\n",
        "\n",
        "        # Update the target sequence (of length 1).\n",
        "        target_seq = np.zeros((1, 1, num_decoder_tokens))\n",
        "        target_seq[0, 0, sampled_token_index] = 1.0\n",
        "\n",
        "        # Update states\n",
        "        states_value = [h, c]\n",
        "    return decoded_sentence"
      ],
      "execution_count": null,
      "outputs": []
    },
    {
      "cell_type": "code",
      "metadata": {
        "colab": {
          "base_uri": "https://localhost:8080/"
        },
        "id": "ZUPZBlssPUtq",
        "outputId": "a58482d3-a564-4233-d2dc-0be8569da1b3"
      },
      "source": [
        "# model.compile(optimizer='rmsprop', loss = 'categorical_crossentropy', metrics='accuracy')\n",
        "model.fit([enc_input_train,dec_input_train], dec_target_train,\n",
        "          batch_size = 64,epochs=40, validation_data=([enc_input_dev,dec_input_dev], dec_target_dev))"
      ],
      "execution_count": 104,
      "outputs": [
        {
          "output_type": "stream",
          "text": [
            "Epoch 1/40\n",
            "691/691 [==============================] - 14s 20ms/step - loss: 0.0687 - accuracy: 0.3440 - val_loss: 1.7601 - val_accuracy: 0.1122\n",
            "Epoch 2/40\n",
            "691/691 [==============================] - 14s 20ms/step - loss: 0.0673 - accuracy: 0.3443 - val_loss: 1.7725 - val_accuracy: 0.1106\n",
            "Epoch 3/40\n",
            "691/691 [==============================] - 14s 20ms/step - loss: 0.0661 - accuracy: 0.3446 - val_loss: 1.7877 - val_accuracy: 0.1085\n",
            "Epoch 4/40\n",
            "691/691 [==============================] - 14s 20ms/step - loss: 0.0654 - accuracy: 0.3448 - val_loss: 1.7691 - val_accuracy: 0.1104\n",
            "Epoch 5/40\n",
            "691/691 [==============================] - 14s 20ms/step - loss: 0.0641 - accuracy: 0.3451 - val_loss: 1.8109 - val_accuracy: 0.1087\n",
            "Epoch 6/40\n",
            "691/691 [==============================] - 14s 20ms/step - loss: 0.0637 - accuracy: 0.3452 - val_loss: 1.7869 - val_accuracy: 0.1101\n",
            "Epoch 7/40\n",
            "691/691 [==============================] - 14s 20ms/step - loss: 0.0633 - accuracy: 0.3453 - val_loss: 1.7981 - val_accuracy: 0.1097\n",
            "Epoch 8/40\n",
            "691/691 [==============================] - 14s 21ms/step - loss: 0.0629 - accuracy: 0.3456 - val_loss: 1.8344 - val_accuracy: 0.1061\n",
            "Epoch 9/40\n",
            "691/691 [==============================] - 14s 21ms/step - loss: 0.0626 - accuracy: 0.3456 - val_loss: 1.8121 - val_accuracy: 0.1085\n",
            "Epoch 10/40\n",
            "691/691 [==============================] - 14s 21ms/step - loss: 0.0627 - accuracy: 0.3455 - val_loss: 1.8081 - val_accuracy: 0.1097\n",
            "Epoch 11/40\n",
            "691/691 [==============================] - 14s 21ms/step - loss: 0.0624 - accuracy: 0.3456 - val_loss: 1.8015 - val_accuracy: 0.1104\n",
            "Epoch 12/40\n",
            "691/691 [==============================] - 14s 20ms/step - loss: 0.0624 - accuracy: 0.3458 - val_loss: 1.8061 - val_accuracy: 0.1106\n",
            "Epoch 13/40\n",
            "691/691 [==============================] - 14s 21ms/step - loss: 0.0625 - accuracy: 0.3459 - val_loss: 1.7978 - val_accuracy: 0.1110\n",
            "Epoch 14/40\n",
            "691/691 [==============================] - 14s 20ms/step - loss: 0.0627 - accuracy: 0.3457 - val_loss: 1.7976 - val_accuracy: 0.1085\n",
            "Epoch 15/40\n",
            "691/691 [==============================] - 14s 21ms/step - loss: 0.0629 - accuracy: 0.3457 - val_loss: 1.8142 - val_accuracy: 0.1096\n",
            "Epoch 16/40\n",
            "691/691 [==============================] - 14s 20ms/step - loss: 0.0631 - accuracy: 0.3457 - val_loss: 1.8199 - val_accuracy: 0.1067\n",
            "Epoch 17/40\n",
            "691/691 [==============================] - 14s 21ms/step - loss: 0.0634 - accuracy: 0.3460 - val_loss: 1.8012 - val_accuracy: 0.1084\n",
            "Epoch 18/40\n",
            "691/691 [==============================] - 14s 20ms/step - loss: 0.0638 - accuracy: 0.3458 - val_loss: 1.8233 - val_accuracy: 0.1080\n",
            "Epoch 19/40\n",
            "691/691 [==============================] - 14s 20ms/step - loss: 0.0639 - accuracy: 0.3460 - val_loss: 1.8080 - val_accuracy: 0.1103\n",
            "Epoch 20/40\n",
            "691/691 [==============================] - 14s 21ms/step - loss: 0.0646 - accuracy: 0.3459 - val_loss: 1.7912 - val_accuracy: 0.1078\n",
            "Epoch 21/40\n",
            "691/691 [==============================] - 14s 20ms/step - loss: 0.0651 - accuracy: 0.3458 - val_loss: 1.8202 - val_accuracy: 0.1085\n",
            "Epoch 22/40\n",
            "691/691 [==============================] - 14s 20ms/step - loss: 0.0656 - accuracy: 0.3456 - val_loss: 1.8078 - val_accuracy: 0.1077\n",
            "Epoch 23/40\n",
            "691/691 [==============================] - 14s 20ms/step - loss: 0.0659 - accuracy: 0.3457 - val_loss: 1.8120 - val_accuracy: 0.1081\n",
            "Epoch 24/40\n",
            "691/691 [==============================] - 14s 21ms/step - loss: 0.0664 - accuracy: 0.3458 - val_loss: 1.8212 - val_accuracy: 0.1075\n",
            "Epoch 25/40\n",
            "691/691 [==============================] - 14s 20ms/step - loss: 0.0667 - accuracy: 0.3457 - val_loss: 1.7646 - val_accuracy: 0.1069\n",
            "Epoch 26/40\n",
            "691/691 [==============================] - 14s 20ms/step - loss: 0.0670 - accuracy: 0.3457 - val_loss: 1.7986 - val_accuracy: 0.1052\n",
            "Epoch 27/40\n",
            "691/691 [==============================] - 14s 20ms/step - loss: 0.0680 - accuracy: 0.3454 - val_loss: 1.7768 - val_accuracy: 0.1088\n",
            "Epoch 28/40\n",
            "691/691 [==============================] - 14s 20ms/step - loss: 0.0683 - accuracy: 0.3453 - val_loss: 1.8072 - val_accuracy: 0.1068\n",
            "Epoch 29/40\n",
            "691/691 [==============================] - 14s 21ms/step - loss: 0.0686 - accuracy: 0.3455 - val_loss: 1.8015 - val_accuracy: 0.1063\n",
            "Epoch 30/40\n",
            "691/691 [==============================] - 14s 20ms/step - loss: 0.0691 - accuracy: 0.3453 - val_loss: 1.7918 - val_accuracy: 0.1074\n",
            "Epoch 31/40\n",
            "691/691 [==============================] - 14s 21ms/step - loss: 0.0694 - accuracy: 0.3454 - val_loss: 1.7981 - val_accuracy: 0.1043\n",
            "Epoch 32/40\n",
            "691/691 [==============================] - 14s 20ms/step - loss: 0.0698 - accuracy: 0.3452 - val_loss: 1.7457 - val_accuracy: 0.1065\n",
            "Epoch 33/40\n",
            "691/691 [==============================] - 14s 20ms/step - loss: 0.0703 - accuracy: 0.3451 - val_loss: 1.8068 - val_accuracy: 0.1040\n",
            "Epoch 34/40\n",
            "691/691 [==============================] - 14s 20ms/step - loss: 0.0708 - accuracy: 0.3452 - val_loss: 1.8146 - val_accuracy: 0.1049\n",
            "Epoch 35/40\n",
            "691/691 [==============================] - 14s 20ms/step - loss: 0.0709 - accuracy: 0.3451 - val_loss: 1.7852 - val_accuracy: 0.1076\n",
            "Epoch 36/40\n",
            "691/691 [==============================] - 14s 21ms/step - loss: 0.0711 - accuracy: 0.3450 - val_loss: 1.8033 - val_accuracy: 0.1060\n",
            "Epoch 37/40\n",
            "691/691 [==============================] - 14s 21ms/step - loss: 0.0719 - accuracy: 0.3449 - val_loss: 1.7877 - val_accuracy: 0.1073\n",
            "Epoch 38/40\n",
            "691/691 [==============================] - 14s 20ms/step - loss: 0.0723 - accuracy: 0.3448 - val_loss: 1.8108 - val_accuracy: 0.1036\n",
            "Epoch 39/40\n",
            "691/691 [==============================] - 14s 20ms/step - loss: 0.0724 - accuracy: 0.3448 - val_loss: 1.7987 - val_accuracy: 0.1038\n",
            "Epoch 40/40\n",
            "691/691 [==============================] - 14s 20ms/step - loss: 0.0729 - accuracy: 0.3448 - val_loss: 1.8295 - val_accuracy: 0.1024\n"
          ],
          "name": "stdout"
        },
        {
          "output_type": "execute_result",
          "data": {
            "text/plain": [
              "<tensorflow.python.keras.callbacks.History at 0x7f7af59a4d50>"
            ]
          },
          "metadata": {
            "tags": []
          },
          "execution_count": 104
        }
      ]
    },
    {
      "cell_type": "code",
      "metadata": {
        "id": "eOgRw2Vb7FlA"
      },
      "source": [
        "import pprint"
      ],
      "execution_count": null,
      "outputs": []
    },
    {
      "cell_type": "code",
      "metadata": {
        "id": "Oq0DRwp1W7_f",
        "colab": {
          "base_uri": "https://localhost:8080/"
        },
        "outputId": "508b598b-dd74-4778-a8b8-14ad48a106b2"
      },
      "source": [
        "sweep_config = {\n",
        "    'method': 'grid'\n",
        "    }\n",
        "\n",
        "parameters_dict = {\n",
        "    'encoder_block':{\n",
        "        'values': ['LSTM']\n",
        "      },\n",
        "    # 'encoder_layers': {\n",
        "    #     'values': [1,2,3]\n",
        "    #   },\n",
        "    'decoder_block':{\n",
        "      'values' : ['LSTM']\n",
        "      },\n",
        "    # 'decoder_layers': {\n",
        "    #     'values': [1,2,3]\n",
        "    #   },\n",
        "    'latent_dimension': {\n",
        "        'values': [256]\n",
        "      },\n",
        "    'hidden_layer': {\n",
        "        'values': [128]\n",
        "      },\n",
        "    'dropout': {\n",
        "        'values': [0]\n",
        "      },\n",
        "    'epochs' : {\n",
        "        'values' : [60]\n",
        "    }\n",
        "}\n",
        "\n",
        "sweep_config['parameters'] = parameters_dict\n",
        "pprint.pprint(sweep_config)\n",
        "\n",
        "def training_sweep(config=None):\n",
        "    with wandb.init(config=config):\n",
        "        print(input_token_train)\n",
        "        config = wandb.config\n",
        "        print(output_token_train)\n",
        "        model = RNN_model(input_token_train, config.encoder_block, config.latent_dimension, output_token_train, config.decoder_block,  config.hidden_layer, config.dropout)\n",
        "        print('lol')\n",
        "        model.compile(optimizer='rmsprop', loss = 'categorical_crossentropy', metrics='accuracy')\n",
        "        print('lol')\n",
        "        history = model.fit([enc_input_train,dec_input_train], dec_target_train, \n",
        "                            epochs=config.epochs,\n",
        "                            validation_data = ([enc_input_dev,dec_input_dev], dec_target_dev),\n",
        "                            callbacks = [WandbCallback()]\n",
        "                            )\n",
        "        print('lol')\n",
        "        # name = str(config.encoder_block) + '_' + str(config.encoder_layers) + '_' + str(config.decoder_block) + '_' + str(config.decoder_layers) + '_' + str(config.hidden_layer) + '_' + str(config.dropout) + '_' + str(config.epochs)\n",
        "        # location = '/content/drive/MyDrive/Transliteration/' + name\n",
        "        # model.save(location)"
      ],
      "execution_count": null,
      "outputs": [
        {
          "output_type": "stream",
          "text": [
            "{'method': 'grid',\n",
            " 'parameters': {'decoder_block': {'values': ['LSTM']},\n",
            "                'dropout': {'values': [0]},\n",
            "                'encoder_block': {'values': ['LSTM']},\n",
            "                'epochs': {'values': [60]},\n",
            "                'hidden_layer': {'values': [128]},\n",
            "                'latent_dimension': {'values': [256]}}}\n"
          ],
          "name": "stdout"
        }
      ]
    },
    {
      "cell_type": "code",
      "metadata": {
        "id": "G1shGb7ZrJqH",
        "colab": {
          "base_uri": "https://localhost:8080/",
          "height": 1000,
          "referenced_widgets": [
            "08ee7c96b7c64f3c9798670c1a953287",
            "6404f712d19946d5ba2ccc3b2dd8f822",
            "fd825a8459354b07b6792e59a189cf75",
            "4bf9f3243f0948d88b53ab16fd4ccce1",
            "819eb24354434ab3b2e8bc1912e70a91",
            "bc834e1d39cf4975be045ae3099166bc",
            "5290330c875a43519e016b2fe9fc9ae7",
            "8e575780ff08472ea553a8aa633c94d2"
          ]
        },
        "outputId": "3e31ab26-78ee-4955-f4e4-eb1601dde283"
      },
      "source": [
        "sweep_id = wandb.sweep(sweep_config, project=\"CS6910-assg3\")\n",
        "wandb.agent(sweep_id, training_sweep)"
      ],
      "execution_count": null,
      "outputs": [
        {
          "output_type": "stream",
          "text": [
            "Create sweep with ID: bes2wpdh\n",
            "Sweep URL: https://wandb.ai/narendv/CS6910-assg3/sweeps/bes2wpdh\n"
          ],
          "name": "stdout"
        },
        {
          "output_type": "stream",
          "text": [
            "\u001b[34m\u001b[1mwandb\u001b[0m: Agent Starting Run: h4d1mleg with config:\n",
            "\u001b[34m\u001b[1mwandb\u001b[0m: \tdecoder_block: LSTM\n",
            "\u001b[34m\u001b[1mwandb\u001b[0m: \tdropout: 0\n",
            "\u001b[34m\u001b[1mwandb\u001b[0m: \tencoder_block: LSTM\n",
            "\u001b[34m\u001b[1mwandb\u001b[0m: \tepochs: 60\n",
            "\u001b[34m\u001b[1mwandb\u001b[0m: \thidden_layer: 128\n",
            "\u001b[34m\u001b[1mwandb\u001b[0m: \tlatent_dimension: 256\n"
          ],
          "name": "stderr"
        },
        {
          "output_type": "display_data",
          "data": {
            "text/html": [
              "\n",
              "                Tracking run with wandb version 0.10.28<br/>\n",
              "                Syncing run <strong style=\"color:#cdcd00\">stoic-sweep-1</strong> to <a href=\"https://wandb.ai\" target=\"_blank\">Weights & Biases</a> <a href=\"https://docs.wandb.com/integrations/jupyter.html\" target=\"_blank\">(Documentation)</a>.<br/>\n",
              "                Project page: <a href=\"https://wandb.ai/narendv/CS6910-assg3\" target=\"_blank\">https://wandb.ai/narendv/CS6910-assg3</a><br/>\n",
              "                Sweep page: <a href=\"https://wandb.ai/narendv/CS6910-assg3/sweeps/bes2wpdh\" target=\"_blank\">https://wandb.ai/narendv/CS6910-assg3/sweeps/bes2wpdh</a><br/>\n",
              "Run page: <a href=\"https://wandb.ai/narendv/CS6910-assg3/runs/h4d1mleg\" target=\"_blank\">https://wandb.ai/narendv/CS6910-assg3/runs/h4d1mleg</a><br/>\n",
              "                Run data is saved locally in <code>/content/wandb/run-20210430_175948-h4d1mleg</code><br/><br/>\n",
              "            "
            ],
            "text/plain": [
              "<IPython.core.display.HTML object>"
            ]
          },
          "metadata": {
            "tags": []
          }
        },
        {
          "output_type": "stream",
          "text": [
            "63\n",
            "28\n",
            "lol\n",
            "lol\n",
            "Epoch 1/60\n",
            "1382/1382 [==============================] - 16s 9ms/step - loss: 0.9539 - accuracy: 0.1051 - val_loss: 1.1106 - val_accuracy: 0.1125\n",
            "Epoch 2/60\n",
            "1382/1382 [==============================] - 12s 9ms/step - loss: 0.5539 - accuracy: 0.2062 - val_loss: 1.4016 - val_accuracy: 0.0769\n",
            "Epoch 3/60\n",
            "1382/1382 [==============================] - 12s 9ms/step - loss: 0.3737 - accuracy: 0.2605 - val_loss: 1.5165 - val_accuracy: 0.0789\n",
            "Epoch 4/60\n",
            "1382/1382 [==============================] - 12s 9ms/step - loss: 0.2665 - accuracy: 0.2919 - val_loss: 1.5546 - val_accuracy: 0.0883\n",
            "Epoch 5/60\n",
            "1382/1382 [==============================] - 12s 9ms/step - loss: 0.2093 - accuracy: 0.3084 - val_loss: 1.5771 - val_accuracy: 0.0901\n",
            "Epoch 6/60\n",
            "1382/1382 [==============================] - 12s 9ms/step - loss: 0.1765 - accuracy: 0.3188 - val_loss: 1.5795 - val_accuracy: 0.0923\n",
            "Epoch 7/60\n",
            "1382/1382 [==============================] - 12s 9ms/step - loss: 0.1558 - accuracy: 0.3239 - val_loss: 1.6227 - val_accuracy: 0.0922\n",
            "Epoch 8/60\n",
            "1382/1382 [==============================] - 12s 9ms/step - loss: 0.1409 - accuracy: 0.3282 - val_loss: 1.6339 - val_accuracy: 0.0921\n",
            "Epoch 9/60\n",
            "1382/1382 [==============================] - 12s 9ms/step - loss: 0.1288 - accuracy: 0.3299 - val_loss: 1.6428 - val_accuracy: 0.0945\n",
            "Epoch 10/60\n",
            "1382/1382 [==============================] - 12s 9ms/step - loss: 0.1204 - accuracy: 0.3326 - val_loss: 1.6104 - val_accuracy: 0.0990\n",
            "Epoch 11/60\n",
            "1382/1382 [==============================] - 12s 9ms/step - loss: 0.1134 - accuracy: 0.3347 - val_loss: 1.6490 - val_accuracy: 0.0964\n",
            "Epoch 12/60\n",
            "1382/1382 [==============================] - 12s 9ms/step - loss: 0.1077 - accuracy: 0.3368 - val_loss: 1.6646 - val_accuracy: 0.0973\n",
            "Epoch 13/60\n",
            "1382/1382 [==============================] - 12s 9ms/step - loss: 0.1026 - accuracy: 0.3379 - val_loss: 1.6554 - val_accuracy: 0.0971\n",
            "Epoch 14/60\n",
            "1382/1382 [==============================] - 12s 9ms/step - loss: 0.0992 - accuracy: 0.3388 - val_loss: 1.6904 - val_accuracy: 0.0989\n",
            "Epoch 15/60\n",
            "1382/1382 [==============================] - 12s 9ms/step - loss: 0.0945 - accuracy: 0.3405 - val_loss: 1.7028 - val_accuracy: 0.0988\n",
            "Epoch 16/60\n",
            "1382/1382 [==============================] - 12s 9ms/step - loss: 0.0913 - accuracy: 0.3405 - val_loss: 1.7197 - val_accuracy: 0.0946\n",
            "Epoch 17/60\n",
            "1382/1382 [==============================] - 12s 9ms/step - loss: 0.0883 - accuracy: 0.3409 - val_loss: 1.7421 - val_accuracy: 0.0944\n",
            "Epoch 18/60\n",
            "1382/1382 [==============================] - 12s 9ms/step - loss: 0.0863 - accuracy: 0.3421 - val_loss: 1.7201 - val_accuracy: 0.0956\n",
            "Epoch 19/60\n",
            "1382/1382 [==============================] - 12s 9ms/step - loss: 0.0836 - accuracy: 0.3418 - val_loss: 1.7045 - val_accuracy: 0.0971\n",
            "Epoch 20/60\n",
            "1382/1382 [==============================] - 12s 9ms/step - loss: 0.0822 - accuracy: 0.3426 - val_loss: 1.7664 - val_accuracy: 0.0948\n",
            "Epoch 21/60\n",
            "1382/1382 [==============================] - 12s 9ms/step - loss: 0.0818 - accuracy: 0.3428 - val_loss: 1.7095 - val_accuracy: 0.0981\n",
            "Epoch 22/60\n",
            "1382/1382 [==============================] - 12s 9ms/step - loss: 0.0797 - accuracy: 0.3432 - val_loss: 1.7442 - val_accuracy: 0.0958\n",
            "Epoch 23/60\n",
            "1382/1382 [==============================] - 12s 9ms/step - loss: 0.0790 - accuracy: 0.3430 - val_loss: 1.7101 - val_accuracy: 0.0974\n",
            "Epoch 24/60\n",
            "1382/1382 [==============================] - 12s 9ms/step - loss: 0.0794 - accuracy: 0.3430 - val_loss: 1.7792 - val_accuracy: 0.0945\n",
            "Epoch 25/60\n",
            "1382/1382 [==============================] - 12s 9ms/step - loss: 0.0785 - accuracy: 0.3434 - val_loss: 1.7446 - val_accuracy: 0.0978\n",
            "Epoch 26/60\n",
            "1382/1382 [==============================] - 12s 9ms/step - loss: 0.0778 - accuracy: 0.3438 - val_loss: 1.7472 - val_accuracy: 0.0964\n",
            "Epoch 27/60\n",
            "1382/1382 [==============================] - 12s 9ms/step - loss: 0.0779 - accuracy: 0.3446 - val_loss: 1.7436 - val_accuracy: 0.0974\n",
            "Epoch 28/60\n",
            "1382/1382 [==============================] - 12s 9ms/step - loss: 0.0778 - accuracy: 0.3432 - val_loss: 1.7125 - val_accuracy: 0.0980\n",
            "Epoch 29/60\n",
            "1382/1382 [==============================] - 12s 9ms/step - loss: 0.0776 - accuracy: 0.3448 - val_loss: 1.7587 - val_accuracy: 0.0971\n",
            "Epoch 30/60\n",
            "1382/1382 [==============================] - 12s 9ms/step - loss: 0.0776 - accuracy: 0.3431 - val_loss: 1.7436 - val_accuracy: 0.0957\n",
            "Epoch 31/60\n",
            "1382/1382 [==============================] - 12s 9ms/step - loss: 0.0785 - accuracy: 0.3446 - val_loss: 1.7601 - val_accuracy: 0.0939\n",
            "Epoch 32/60\n",
            "1382/1382 [==============================] - 12s 9ms/step - loss: 0.0789 - accuracy: 0.3438 - val_loss: 1.7746 - val_accuracy: 0.0935\n",
            "Epoch 33/60\n",
            "1382/1382 [==============================] - 12s 9ms/step - loss: 0.0795 - accuracy: 0.3440 - val_loss: 1.7532 - val_accuracy: 0.0930\n",
            "Epoch 34/60\n",
            "1382/1382 [==============================] - 12s 9ms/step - loss: 0.0789 - accuracy: 0.3444 - val_loss: 1.7727 - val_accuracy: 0.0954\n",
            "Epoch 35/60\n",
            "1382/1382 [==============================] - 12s 9ms/step - loss: 0.0803 - accuracy: 0.3435 - val_loss: 1.7520 - val_accuracy: 0.0939\n",
            "Epoch 36/60\n",
            "1382/1382 [==============================] - 12s 9ms/step - loss: 0.0816 - accuracy: 0.3434 - val_loss: 1.7557 - val_accuracy: 0.0928\n",
            "Epoch 37/60\n",
            "1382/1382 [==============================] - 12s 9ms/step - loss: 0.0826 - accuracy: 0.3428 - val_loss: 1.7514 - val_accuracy: 0.0943\n",
            "Epoch 38/60\n",
            "1382/1382 [==============================] - 12s 9ms/step - loss: 0.0821 - accuracy: 0.3434 - val_loss: 1.7645 - val_accuracy: 0.0925\n",
            "Epoch 39/60\n",
            "1382/1382 [==============================] - 12s 9ms/step - loss: 0.0839 - accuracy: 0.3429 - val_loss: 1.7713 - val_accuracy: 0.0920\n",
            "Epoch 40/60\n",
            "1382/1382 [==============================] - 12s 9ms/step - loss: 0.0845 - accuracy: 0.3429 - val_loss: 1.7415 - val_accuracy: 0.0907\n",
            "Epoch 41/60\n",
            "1382/1382 [==============================] - 11s 8ms/step - loss: 0.0856 - accuracy: 0.3423 - val_loss: 1.7495 - val_accuracy: 0.0926\n",
            "Epoch 42/60\n",
            "1382/1382 [==============================] - 12s 9ms/step - loss: 0.0864 - accuracy: 0.3414 - val_loss: 1.7755 - val_accuracy: 0.0905\n",
            "Epoch 43/60\n",
            "1382/1382 [==============================] - 12s 8ms/step - loss: 0.0870 - accuracy: 0.3430 - val_loss: 1.7543 - val_accuracy: 0.0915\n",
            "Epoch 44/60\n",
            "1382/1382 [==============================] - 12s 9ms/step - loss: 0.0884 - accuracy: 0.3426 - val_loss: 1.7395 - val_accuracy: 0.0931\n",
            "Epoch 45/60\n",
            "1382/1382 [==============================] - 12s 9ms/step - loss: 0.0886 - accuracy: 0.3419 - val_loss: 1.7339 - val_accuracy: 0.0910\n",
            "Epoch 46/60\n",
            "1382/1382 [==============================] - 12s 9ms/step - loss: 0.0900 - accuracy: 0.3417 - val_loss: 1.7129 - val_accuracy: 0.0935\n",
            "Epoch 47/60\n",
            "1382/1382 [==============================] - 12s 9ms/step - loss: 0.0911 - accuracy: 0.3410 - val_loss: 1.7213 - val_accuracy: 0.0917\n",
            "Epoch 48/60\n",
            "1382/1382 [==============================] - 12s 9ms/step - loss: 0.0921 - accuracy: 0.3425 - val_loss: 1.7176 - val_accuracy: 0.0914\n",
            "Epoch 49/60\n",
            "1382/1382 [==============================] - 12s 9ms/step - loss: 0.0932 - accuracy: 0.3410 - val_loss: 1.7209 - val_accuracy: 0.0931\n",
            "Epoch 50/60\n",
            "1382/1382 [==============================] - 12s 9ms/step - loss: 0.0939 - accuracy: 0.3409 - val_loss: 1.7514 - val_accuracy: 0.0883\n",
            "Epoch 51/60\n",
            "1382/1382 [==============================] - 12s 9ms/step - loss: 0.0959 - accuracy: 0.3420 - val_loss: 1.7379 - val_accuracy: 0.0896\n",
            "Epoch 52/60\n",
            "1382/1382 [==============================] - 12s 9ms/step - loss: 0.0961 - accuracy: 0.3410 - val_loss: 1.7235 - val_accuracy: 0.0884\n",
            "Epoch 53/60\n",
            "1382/1382 [==============================] - 12s 9ms/step - loss: 0.0965 - accuracy: 0.3404 - val_loss: 1.7099 - val_accuracy: 0.0907\n",
            "Epoch 54/60\n",
            "1382/1382 [==============================] - 12s 9ms/step - loss: 0.0968 - accuracy: 0.3404 - val_loss: 1.7209 - val_accuracy: 0.0891\n",
            "Epoch 55/60\n",
            "1382/1382 [==============================] - 12s 9ms/step - loss: 0.0983 - accuracy: 0.3399 - val_loss: 1.7171 - val_accuracy: 0.0892\n",
            "Epoch 56/60\n",
            "1382/1382 [==============================] - 12s 9ms/step - loss: 0.0995 - accuracy: 0.3400 - val_loss: 1.7637 - val_accuracy: 0.0859\n",
            "Epoch 57/60\n",
            "1382/1382 [==============================] - 12s 9ms/step - loss: 0.1003 - accuracy: 0.3394 - val_loss: 1.7168 - val_accuracy: 0.0888\n",
            "Epoch 58/60\n",
            "1382/1382 [==============================] - 12s 9ms/step - loss: 0.1013 - accuracy: 0.3395 - val_loss: 1.7121 - val_accuracy: 0.0878\n",
            "Epoch 59/60\n",
            "1382/1382 [==============================] - 12s 9ms/step - loss: 0.1025 - accuracy: 0.3394 - val_loss: 1.7013 - val_accuracy: 0.0899\n",
            "Epoch 60/60\n",
            "1382/1382 [==============================] - 12s 9ms/step - loss: 0.1019 - accuracy: 0.3391 - val_loss: 1.7237 - val_accuracy: 0.0873\n",
            "lol\n"
          ],
          "name": "stdout"
        },
        {
          "output_type": "display_data",
          "data": {
            "text/html": [
              "<br/>Waiting for W&B process to finish, PID 1698<br/>Program ended successfully."
            ],
            "text/plain": [
              "<IPython.core.display.HTML object>"
            ]
          },
          "metadata": {
            "tags": []
          }
        },
        {
          "output_type": "display_data",
          "data": {
            "application/vnd.jupyter.widget-view+json": {
              "model_id": "08ee7c96b7c64f3c9798670c1a953287",
              "version_minor": 0,
              "version_major": 2
            },
            "text/plain": [
              "VBox(children=(Label(value=' 5.05MB of 5.05MB uploaded (0.00MB deduped)\\r'), FloatProgress(value=1.0, max=1.0)…"
            ]
          },
          "metadata": {
            "tags": []
          }
        },
        {
          "output_type": "display_data",
          "data": {
            "text/html": [
              "Find user logs for this run at: <code>/content/wandb/run-20210430_175948-h4d1mleg/logs/debug.log</code>"
            ],
            "text/plain": [
              "<IPython.core.display.HTML object>"
            ]
          },
          "metadata": {
            "tags": []
          }
        },
        {
          "output_type": "display_data",
          "data": {
            "text/html": [
              "Find internal logs for this run at: <code>/content/wandb/run-20210430_175948-h4d1mleg/logs/debug-internal.log</code>"
            ],
            "text/plain": [
              "<IPython.core.display.HTML object>"
            ]
          },
          "metadata": {
            "tags": []
          }
        },
        {
          "output_type": "display_data",
          "data": {
            "text/html": [
              "<h3>Run summary:</h3><br/><style>\n",
              "    table.wandb td:nth-child(1) { padding: 0 10px; text-align: right }\n",
              "    </style><table class=\"wandb\">\n",
              "<tr><td>epoch</td><td>59</td></tr><tr><td>loss</td><td>0.1043</td></tr><tr><td>accuracy</td><td>0.33862</td></tr><tr><td>val_loss</td><td>1.72374</td></tr><tr><td>val_accuracy</td><td>0.08725</td></tr><tr><td>_runtime</td><td>737</td></tr><tr><td>_timestamp</td><td>1619806325</td></tr><tr><td>_step</td><td>59</td></tr><tr><td>best_val_loss</td><td>1.11063</td></tr><tr><td>best_epoch</td><td>0</td></tr></table>"
            ],
            "text/plain": [
              "<IPython.core.display.HTML object>"
            ]
          },
          "metadata": {
            "tags": []
          }
        },
        {
          "output_type": "display_data",
          "data": {
            "text/html": [
              "<h3>Run history:</h3><br/><style>\n",
              "    table.wandb td:nth-child(1) { padding: 0 10px; text-align: right }\n",
              "    </style><table class=\"wandb\">\n",
              "<tr><td>epoch</td><td>▁▁▁▁▂▂▂▂▂▃▃▃▃▃▃▄▄▄▄▄▅▅▅▅▅▅▆▆▆▆▆▆▇▇▇▇▇███</td></tr><tr><td>loss</td><td>█▅▃▂▂▂▁▁▁▁▁▁▁▁▁▁▁▁▁▁▁▁▁▁▁▁▁▁▁▁▁▁▁▁▁▁▁▁▁▁</td></tr><tr><td>accuracy</td><td>▁▄▆▇▇▇██████████████████████████████████</td></tr><tr><td>val_loss</td><td>▁▄▆▆▆▇▆▇▇▇▇█▇██▇██▇███████████▇▇▇█▇▇▇█▇▇</td></tr><tr><td>val_accuracy</td><td>█▁▃▄▄▄▅▅▅▅▄▄▅▅▅▅▅▅▅▅▄▄▅▄▄▄▄▄▄▄▄▄▄▃▃▄▃▃▃▃</td></tr><tr><td>_runtime</td><td>▁▁▁▁▂▂▂▂▂▃▃▃▃▃▃▄▄▄▄▄▅▅▅▅▅▅▆▆▆▆▆▆▇▇▇▇▇███</td></tr><tr><td>_timestamp</td><td>▁▁▁▁▂▂▂▂▂▃▃▃▃▃▃▄▄▄▄▄▅▅▅▅▅▅▆▆▆▆▆▆▇▇▇▇▇███</td></tr><tr><td>_step</td><td>▁▁▁▁▂▂▂▂▂▃▃▃▃▃▃▄▄▄▄▄▅▅▅▅▅▅▆▆▆▆▆▆▇▇▇▇▇███</td></tr></table><br/>"
            ],
            "text/plain": [
              "<IPython.core.display.HTML object>"
            ]
          },
          "metadata": {
            "tags": []
          }
        },
        {
          "output_type": "display_data",
          "data": {
            "text/html": [
              "Synced 5 W&B file(s), 1 media file(s), 0 artifact file(s) and 1 other file(s)"
            ],
            "text/plain": [
              "<IPython.core.display.HTML object>"
            ]
          },
          "metadata": {
            "tags": []
          }
        },
        {
          "output_type": "display_data",
          "data": {
            "text/html": [
              "\n",
              "                    <br/>Synced <strong style=\"color:#cdcd00\">stoic-sweep-1</strong>: <a href=\"https://wandb.ai/narendv/CS6910-assg3/runs/h4d1mleg\" target=\"_blank\">https://wandb.ai/narendv/CS6910-assg3/runs/h4d1mleg</a><br/>\n",
              "                "
            ],
            "text/plain": [
              "<IPython.core.display.HTML object>"
            ]
          },
          "metadata": {
            "tags": []
          }
        },
        {
          "output_type": "stream",
          "text": [
            "\u001b[34m\u001b[1mwandb\u001b[0m: Sweep Agent: Waiting for job.\n",
            "\u001b[34m\u001b[1mwandb\u001b[0m: Sweep Agent: Exiting.\n"
          ],
          "name": "stderr"
        }
      ]
    },
    {
      "cell_type": "code",
      "metadata": {
        "id": "ElpQiw-l7KUg"
      },
      "source": [
        ""
      ],
      "execution_count": null,
      "outputs": []
    }
  ]
}