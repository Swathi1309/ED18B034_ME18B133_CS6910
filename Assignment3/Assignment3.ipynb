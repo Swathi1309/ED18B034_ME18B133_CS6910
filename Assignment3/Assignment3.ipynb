{
  "nbformat": 4,
  "nbformat_minor": 0,
  "metadata": {
    "colab": {
      "name": "Assignment3.ipynb",
      "provenance": [],
      "collapsed_sections": [],
      "include_colab_link": true
    },
    "kernelspec": {
      "name": "python3",
      "display_name": "Python 3"
    },
    "language_info": {
      "name": "python"
    },
    "accelerator": "GPU"
  },
  "cells": [
    {
      "cell_type": "markdown",
      "metadata": {
        "id": "view-in-github",
        "colab_type": "text"
      },
      "source": [
        "<a href=\"https://colab.research.google.com/github/Swathi1309/ED18B034_ME18B133_CS6910/blob/main/Assignment3/Assignment3.ipynb\" target=\"_parent\"><img src=\"https://colab.research.google.com/assets/colab-badge.svg\" alt=\"Open In Colab\"/></a>"
      ]
    },
    {
      "cell_type": "markdown",
      "metadata": {
        "id": "ERdcRt08YczS"
      },
      "source": [
        "# Import"
      ]
    },
    {
      "cell_type": "code",
      "metadata": {
        "id": "ppVny72Q-SPg",
        "colab": {
          "base_uri": "https://localhost:8080/"
        },
        "outputId": "65fd1487-7ec7-4961-a0ec-0f29ebac16ba"
      },
      "source": [
        "!pip install webcolors\n",
        "\n",
        "import numpy as np\n",
        "import tensorflow as tf\n",
        "from tensorflow import keras\n",
        "from keras import Model\n",
        "from keras.layers import SimpleRNN, LSTM, GRU, Dense, Dropout, TimeDistributed, Lambda, Activation, Reshape,\\\n",
        "Softmax, Multiply, AdditiveAttention, Concatenate, Add, RepeatVector\n",
        "import tarfile\n",
        "import random\n",
        "from keras.optimizers import RMSprop, Adam, SGD\n",
        "from keras.utils import to_categorical\n",
        "\n",
        "from math import log\n",
        "from numpy import array, argmax\n",
        "import sklearn\n",
        "\n",
        "import matplotlib\n",
        "from __future__ import unicode_literals\n",
        "import matplotlib.pyplot as plt\n",
        "import matplotlib.ticker as ticker\n",
        "\n",
        "from IPython.display import HTML as html_print\n",
        "from IPython.display import display\n",
        "\n",
        "from webcolors import rgb_to_hex\n",
        "\n",
        "import pprint"
      ],
      "execution_count": 1,
      "outputs": [
        {
          "output_type": "stream",
          "text": [
            "Collecting webcolors\n",
            "  Downloading https://files.pythonhosted.org/packages/12/05/3350559de9714b202e443a9e6312937341bd5f79f4e4f625744295e7dd17/webcolors-1.11.1-py3-none-any.whl\n",
            "Installing collected packages: webcolors\n",
            "Successfully installed webcolors-1.11.1\n"
          ],
          "name": "stdout"
        }
      ]
    },
    {
      "cell_type": "code",
      "metadata": {
        "id": "vV6TzDuChLd8"
      },
      "source": [
        "!pip install wandb\n",
        "!wandb login\n",
        "import wandb\n",
        "from wandb.keras import WandbCallback\n",
        "wandb.init(project=\"assg3\", entity='cs6910_project')"
      ],
      "execution_count": null,
      "outputs": []
    },
    {
      "cell_type": "code",
      "metadata": {
        "id": "3d2LNP-C3PD6",
        "colab": {
          "base_uri": "https://localhost:8080/"
        },
        "outputId": "e292c4ca-5b50-4c86-a762-87e5c75e459c"
      },
      "source": [
        "from google.colab import drive\n",
        "drive.mount('/content/drive')"
      ],
      "execution_count": 2,
      "outputs": [
        {
          "output_type": "stream",
          "text": [
            "Mounted at /content/drive\n"
          ],
          "name": "stdout"
        }
      ]
    },
    {
      "cell_type": "markdown",
      "metadata": {
        "id": "mEjUih-v4Ad7"
      },
      "source": [
        "# Examples"
      ]
    },
    {
      "cell_type": "markdown",
      "metadata": {
        "id": "fcMrqAD0GVTJ"
      },
      "source": [
        "File extraction"
      ]
    },
    {
      "cell_type": "code",
      "metadata": {
        "id": "CV1gW8TTyr7x"
      },
      "source": [
        "my_tar = tarfile.open('/content/drive/MyDrive/Dakshina dataset/dakshina_dataset_v1.0.tar')\n",
        "my_tar.extractall('/content/drive/MyDrive/Dakshina dataset') # specify which folder to extract to\n",
        "my_tar.close()"
      ],
      "execution_count": null,
      "outputs": []
    },
    {
      "cell_type": "markdown",
      "metadata": {
        "id": "2Pn0kolbGcbE"
      },
      "source": [
        "Examples"
      ]
    },
    {
      "cell_type": "code",
      "metadata": {
        "id": "IDYd7sMK4s8_"
      },
      "source": [
        "import csv\n",
        "hi_to_eng = open(\"/content/drive/MyDrive/Dakshina dataset/dakshina_dataset_v1.0/hi/lexicons/hi.translit.sampled.train.tsv\")\n",
        "read_tsv = csv.reader(hi_to_eng, delimiter=\"\\t\")\n",
        "i=0\n",
        "for row in read_tsv:\n",
        "  i +=1\n",
        "  print(row)\n",
        "  if i==30:\n",
        "    break\n",
        "hi_to_eng.close()"
      ],
      "execution_count": null,
      "outputs": []
    },
    {
      "cell_type": "markdown",
      "metadata": {
        "id": "hZPMhq4O4F78"
      },
      "source": [
        "# Loading datasets"
      ]
    },
    {
      "cell_type": "code",
      "metadata": {
        "id": "6DWRiV13NFdC"
      },
      "source": [
        "def load_data(data_path, data):\n",
        "  input_texts=[]\n",
        "  target_texts = []\n",
        "  global tk_input, tk_target, num_input_tokens, num_target_tokens\n",
        "  \n",
        "  with open(data_path, \"r\", encoding=\"utf-8\") as f:\n",
        "    lines = f.read().split(\"\\n\")\n",
        "  for line in lines[: (len(lines) - 1)]:\n",
        "    input_text, target_text, _ = line.split(\"\\t\")\n",
        "    # We use \"tab\" as the \"start sequence\" character for the targets, and \"\\n\" as \"end sequence\" character.\n",
        "    target_text = \"\\t\" + target_text + \"\\n\"\n",
        "    input_texts.append(input_text)\n",
        "    target_texts.append(target_text)\n",
        "    \n",
        "  if (data ==\"test\"):\n",
        "    global  input_texts_test\n",
        "    input_texts_test = input_texts\n",
        "  \n",
        "  if (data == \"train\"):\n",
        "    tk_input = keras.preprocessing.text.Tokenizer(num_words=None, char_level=True)\n",
        "    tk_input.fit_on_texts(input_texts)\n",
        "    enc_input = tk_input.texts_to_sequences(input_texts)\n",
        "    enc_input = tf.keras.preprocessing.sequence.pad_sequences(enc_input, padding='post')\n",
        "\n",
        "    tk_target = keras.preprocessing.text.Tokenizer(num_words=None, char_level=True)\n",
        "    tk_target.fit_on_texts(target_texts)\n",
        "    dec_target = tk_target.texts_to_sequences(target_texts)\n",
        "    dec_target = tf.keras.preprocessing.sequence.pad_sequences(dec_target, padding='post')\n",
        "\n",
        "    dec_input = np.zeros(dec_target.shape)\n",
        "    dec_input[:,:(dec_target.shape[1]-1)] = dec_target[:,1:]\n",
        "  \n",
        "  else:  \n",
        "    enc_input = tk_input.texts_to_sequences(input_texts)\n",
        "    enc_input = tf.keras.preprocessing.sequence.pad_sequences(enc_input, padding='post', maxlen = max_input_length)\n",
        "\n",
        "    dec_target = tk_target.texts_to_sequences(target_texts)\n",
        "    dec_target = tf.keras.preprocessing.sequence.pad_sequences(dec_target, padding='post', maxlen = max_target_length)\n",
        "\n",
        "    dec_input = np.zeros(dec_target.shape)\n",
        "    dec_input[:,:(dec_target.shape[1]-1)] = dec_target[:,1:]\n",
        "  \n",
        "  return enc_input, dec_target, dec_input"
      ],
      "execution_count": 3,
      "outputs": []
    },
    {
      "cell_type": "code",
      "metadata": {
        "id": "4xJb4hbNNPO-"
      },
      "source": [
        "data_path_train = \"/content/drive/MyDrive/Dakshina dataset/dakshina_dataset_v1.0/hi/lexicons/hi.translit.sampled.train.tsv\"\n",
        "data_path_dev = '/content/drive/MyDrive/Dakshina dataset/dakshina_dataset_v1.0/hi/lexicons/hi.translit.sampled.dev.tsv'\n",
        "data_path_test = '/content/drive/MyDrive/Dakshina dataset/dakshina_dataset_v1.0/hi/lexicons/hi.translit.sampled.test.tsv'\n",
        "\n",
        "global enc_input_train, dec_input_train, dec_target_train, enc_input_dev, dec_input_dev, dec_target_dev\n",
        "global tk_input, tk_target, reverse_input_char_index, reverse_target_char_index\n",
        "global input_token_train, output_token_train, max_input_length, max_target_length\n",
        "global y_true_dev, y_true_train\n",
        "global classes\n",
        "global input_texts_test\n",
        "\n",
        "# Loading datasets\n",
        "enc_input_train, dec_input_train, dec_target_train = load_data(data_path_train,'train')\n",
        "\n",
        "max_input_length = enc_input_train.shape[1]\n",
        "max_target_length = dec_target_train.shape[1]\n",
        "\n",
        "num_input_tokens = len(tk_input.word_index)+1\n",
        "num_target_tokens = len(tk_target.word_index)+1\n",
        "\n",
        "enc_input_dev, dec_input_dev, dec_target_dev = load_data(data_path_dev,'dev')\n",
        "enc_input_test, dec_input_test, dec_target_test = load_data(data_path_test,'test')\n",
        "\n",
        "# One hot encoding of target outputs\n",
        "y_true_dev = np.zeros((dec_target_dev.shape[0],dec_target_dev.shape[1], num_target_tokens))\n",
        "for i in range(0,dec_target_dev.shape[0]):\n",
        "  y_true_dev[i] = to_categorical(dec_target_dev[i], num_classes = num_target_tokens)\n",
        "\n",
        "y_true_train = np.zeros((dec_target_train.shape[0],dec_target_train.shape[1], num_target_tokens))\n",
        "for i in range(0,dec_target_train.shape[0]):\n",
        "  y_true_train[i] = to_categorical(dec_target_train[i], num_classes = num_target_tokens)\n",
        "\n",
        "# Integer to character dictionary\n",
        "reverse_input_char_index = dict((i, char) for char, i in tk_input.word_index.items())\n",
        "reverse_target_char_index = dict((i, char) for char, i in tk_target.word_index.items())\n",
        "\n",
        "# Defining classes\n",
        "classes = [\"0\"]\n",
        "for i in range(1,29):\n",
        "  classes.append(reverse_target_char_index[i])"
      ],
      "execution_count": 4,
      "outputs": []
    },
    {
      "cell_type": "markdown",
      "metadata": {
        "id": "5JFCpjQw8WuD"
      },
      "source": [
        "# Defining functions"
      ]
    },
    {
      "cell_type": "markdown",
      "metadata": {
        "id": "FBsU_wpbCkSH"
      },
      "source": [
        "Training models"
      ]
    },
    {
      "cell_type": "code",
      "metadata": {
        "id": "NJHFjZGFxpCb"
      },
      "source": [
        "# Encoder\n",
        "def encoder(enc_out,enc_block, latent_dim, enc_layers):\n",
        "  states = []\n",
        "  for i in range(0,enc_layers):\n",
        "    if enc_block =='LSTM':\n",
        "      enc_out ,h ,c = LSTM(latent_dim, return_state=True, return_sequences=True, name='encoder'+str(i))(enc_out)\n",
        "      s = [h,c]\n",
        "      states.append(s)\n",
        "    elif enc_block =='GRU':\n",
        "      enc_out ,s = GRU(latent_dim, return_state=True, return_sequences=True, name='encoder'+str(i))(enc_out)\n",
        "      states.append(s)\n",
        "    else:\n",
        "      enc_out ,s = SimpleRNN(latent_dim, return_state=True, return_sequences=True, name='encoder'+str(i))(enc_out)\n",
        "      states.append(s)\n",
        "    \n",
        "  return enc_out,states\n",
        "\n",
        "# Decoder\n",
        "def decoder(X_input_dec, hs_init, latent_dim, dec_block, dec_layers, dense_no, drop_no, attn):\n",
        "  out_dec = X_input_dec\n",
        "  hs = hs_init\n",
        "  for i in range (0,dec_layers):\n",
        "    if i == 0 and attn == True:\n",
        "      hs[i] = None\n",
        "    if dec_block == 'LSTM':\n",
        "      out_dec, h, s = LSTM(latent_dim, return_sequences=True, return_state=True, name='decoder'+str(i))(out_dec, initial_state = hs[i])\n",
        "    elif dec_block == 'GRU':\n",
        "      out_dec, _ = GRU(latent_dim, return_sequences=True, return_state=True, name='decoder'+str(i))(out_dec, initial_state = hs[i])\n",
        "    else:\n",
        "      out_dec, _ = SimpleRNN(latent_dim, return_sequences=True, return_state=True, name='decoder'+str(i))(out_dec, initial_state = hs[i])\n",
        "  \n",
        "  if dense_no != 0:\n",
        "    out_dec = TimeDistributed(Dense(dense_no, activation=\"relu\", name = 'output'), name = 'dense_hidden')(out_dec)\n",
        "    out_dec = Dropout(drop_no)(out_dec)\n",
        "  out_dec = TimeDistributed(Dense(num_target_tokens, activation=\"softmax\", name = 'output'), name = 'dense')(out_dec)\n",
        "  \n",
        "  return out_dec\n",
        "\n",
        "def decoder_new(X_input_dec, hs_init, latent_dim, dec_block, dec_layers, dense_no, drop_no, attn):\n",
        "  out_dec = X_input_dec\n",
        "  hs = hs_init\n",
        "  for i in range (0,dec_layers):\n",
        "    if dec_block == 'LSTM':\n",
        "      out_dec, h, s = LSTM(latent_dim, return_sequences=True, return_state=True, name='decoder'+str(i))(out_dec, initial_state = hs[i])\n",
        "    elif dec_block == 'GRU':\n",
        "      out_dec, _ = GRU(latent_dim, return_sequences=True, return_state=True, name='decoder'+str(i))(out_dec, initial_state = hs[i])\n",
        "    else:\n",
        "      out_dec, _ = SimpleRNN(latent_dim, return_sequences=True, return_state=True, name='decoder'+str(i))(out_dec, initial_state = hs[i])\n",
        "  return out_dec\n",
        "\n",
        "# Bahnadau Attention\n",
        "def b_attention(latent_dim):\n",
        "  query_in = keras.Input((max_target_length,latent_dim))\n",
        "  values_in = keras.Input((max_input_length,latent_dim))\n",
        "  # query_mask = tf.ones(tf.shape(query)[:-1], dtype= bool)\n",
        "  # value_mask = mask\n",
        "  # query = Reshape((1,latent_dim), name='query_reshape')(query_in)\n",
        "  score_unit2 = Dense(num_target_tokens, name='score_unitq')(query_in)\n",
        "  score_unit1 = Dense(num_target_tokens, name='score_unitv')(values_in)\n",
        "  context_vector, attention_weights = tf.keras.layers.AdditiveAttention()([score_unit2, score_unit1], return_attention_scores = True)\n",
        "  # score_unit12 = Add()([score_unit1, score_unit2])\n",
        "  # score_unit12 = Activation('tanh')(score_unit12)\n",
        "  # score = Dense(1)(score_unit12)\n",
        "  # attention_weights = Softmax(axis=1)(score)\n",
        "  # context_vector = Multiply()([attention_weights,values_in])\n",
        "  # context_vector = Lambda(lambda x: tf.reduce_sum(x,axis=1))(context_vector)\n",
        "  # context_vector = RepeatVector(max_target_length)(context_vector)\n",
        "\n",
        "  model = Model(inputs = [query_in,values_in], outputs = [context_vector, attention_weights], name='attention')\n",
        "  return model\n",
        "\n",
        "# Final RNN model for training\n",
        "def RNN_model(embedding_no, enc_block, latent_dim, dec_block, dense_no, drop_no, enc_layers, dec_layers):\n",
        "  X_input_enc = keras.Input(shape=(max_input_length,))\n",
        "  X_input_dec = keras.Input(shape=(max_target_length,))\n",
        "  X_enc = tf.keras.layers.Embedding(num_input_tokens, embedding_no, name = 'embedding_enc')(X_input_enc)\n",
        "  X_dec = tf.keras.layers.Embedding(num_target_tokens, embedding_no, name = 'embedding_dec')(X_input_dec)\n",
        "  _,s_init = encoder(X_enc,enc_block, latent_dim, enc_layers)\n",
        "  out_dec = decoder(X_dec,s_init, latent_dim, dec_block, dec_layers, dense_no, drop_no, False)\n",
        "  model = Model(inputs = [X_input_enc,X_input_dec], outputs = out_dec, name = 'train_model')\n",
        "  return model\n",
        "\n",
        "# Final RNN model with attention for training\n",
        "def RNN_w_att(embedding_no, enc_block, latent_dim, dec_block, dense_no, drop_no, enc_layers, dec_layers):\n",
        "  X_input_enc = keras.Input(shape=(max_input_length,))\n",
        "  X_input_dec = keras.Input(shape=(max_target_length,))\n",
        "\n",
        "  X_enc = tf.keras.layers.Embedding(num_input_tokens, embedding_no, name = 'embedding_enc')(X_input_enc)\n",
        "  X_dec = tf.keras.layers.Embedding(num_target_tokens, embedding_no, name = 'embedding_dec')(X_input_dec)\n",
        "\n",
        "  values,s_init = encoder(X_enc,enc_block, latent_dim, enc_layers)\n",
        "  context_vector, weights = b_attention(latent_dim)([s_init[len(s_init)-1][0], values])\n",
        "  X_dec = Concatenate(name = 'concatenate')([context_vector,X_dec])\n",
        "\n",
        "  out_dec = decoder(X_dec,s_init, latent_dim, dec_block, dec_layers, dense_no, drop_no, True)\n",
        "  model = Model(inputs = [X_input_enc,X_input_dec], outputs = out_dec, name = 'train_model')\n",
        "\n",
        "  return model\n",
        "\n",
        "def RNN_w_att_new(embedding_no, enc_block, latent_dim, dec_block, dense_no, drop_no, enc_layers, dec_layers):\n",
        "  X_input_enc = keras.Input(shape=(max_input_length,))\n",
        "  X_input_dec = keras.Input(shape=(max_target_length,))\n",
        "\n",
        "  X_enc = tf.keras.layers.Embedding(num_input_tokens, embedding_no, name = 'embedding_enc')(X_input_enc)\n",
        "  X_dec = tf.keras.layers.Embedding(num_target_tokens, embedding_no, name = 'embedding_dec')(X_input_dec)\n",
        "\n",
        "  out_enc ,s_init = encoder(X_enc,enc_block, latent_dim, enc_layers)\n",
        "  # context_vector, weights = b_attention(latent_dim)([s_init[len(s_init)-1][0], values])\n",
        "  # X_dec = Concatenate(name = 'concatenate')([context_vector,X_dec])\n",
        "\n",
        "  out_dec = decoder_new(X_dec,s_init, latent_dim, dec_block, dec_layers, dense_no, drop_no, True)\n",
        "  context_vector, weights = b_attention(latent_dim)([out_dec, out_enc])\n",
        "  out_dec = Concatenate(name = 'concatenate')([context_vector,out_dec])\n",
        "  dense_layer = Dense(num_target_tokens, activation=\"softmax\", name = 'dense')\n",
        "  out_dec = TimeDistributed(dense_layer, name = 'time_dis')(out_dec)\n",
        "  model = Model(inputs = [X_input_enc,X_input_dec], outputs = out_dec, name = 'train_model')\n",
        "\n",
        "  return model"
      ],
      "execution_count": 69,
      "outputs": []
    },
    {
      "cell_type": "markdown",
      "metadata": {
        "id": "0JuwWrzxDE93"
      },
      "source": [
        "Inference models"
      ]
    },
    {
      "cell_type": "code",
      "metadata": {
        "id": "oquP5kRhmm8H"
      },
      "source": [
        "# Encoder model for inference\n",
        "def enc_inference(model,enc_layers,rnn_block):\n",
        "  X_enc = model.input[0]\n",
        "  X_in_enc = model.get_layer('embedding_enc')(X_enc)\n",
        "  enc_outputs = X_in_enc\n",
        "  states = []\n",
        "  if rnn_block == 'LSTM':\n",
        "    for i in range(0,enc_layers):\n",
        "      enc_outputs, h_enc, s_enc = model.get_layer('encoder'+str(i))(enc_outputs)\n",
        "      states.append([h_enc, s_enc])\n",
        "  else:\n",
        "    for i in range(0,enc_layers):\n",
        "      enc_outputs, s_enc = model.get_layer('encoder'+str(i))(enc_outputs)\n",
        "      states.append(s_enc)\n",
        "  \n",
        "  enc_model = keras.Model(inputs = X_enc, outputs = [enc_outputs, states])\n",
        "  return enc_model\n",
        "\n",
        "# Decoder model for inference\n",
        "def dec_inference(model, latent_dim, dec_layers, rnn_block, attn, embedding_dim):\n",
        "  # if attn==True:\n",
        "  #   dec_inputs = keras.Input(shape=(max_target_length, latent_dim+embedding_dim))\n",
        "  #   dec_outputs = dec_inputs\n",
        "  # else:\n",
        "  dec_inputs = model.input[1]\n",
        "  dec_outputs = model.get_layer('embedding_dec')(dec_inputs)\n",
        "  hs_inputs = []\n",
        "  \n",
        "  if rnn_block == 'LSTM':\n",
        "    for i in range(0,dec_layers):\n",
        "      h = keras.Input(shape=(latent_dim,))\n",
        "      c = keras.Input(shape=(latent_dim,))\n",
        "      hs_inputs.append([h,c])\n",
        "    hs_outputs = []\n",
        "    for i in range(0,dec_layers):\n",
        "      # if i == 0 and attn == True:\n",
        "      #   dec_outputs, h_dec, s_dec = model.get_layer('decoder'+str(i))(dec_outputs)\n",
        "      #   hs_outputs.append([h_dec,s_dec])\n",
        "      # else:\n",
        "      dec_outputs, h_dec, s_dec = model.get_layer('decoder'+str(i))(dec_outputs, initial_state = hs_inputs[i])\n",
        "      hs_outputs.append([h_dec,s_dec])\n",
        "\n",
        "  else:\n",
        "    for i in range(0,dec_layers):\n",
        "      c = keras.Input(shape=(latent_dim,))\n",
        "      hs_inputs.append(c)\n",
        "    hs_outputs = []\n",
        "    for i in range(0,dec_layers):\n",
        "      dec_outputs, s_dec = model.get_layer('decoder'+str(i))(dec_outputs, initial_state = hs_inputs[i])\n",
        "      hs_outputs.append(s_dec)\n",
        "\n",
        "  # dec_dense = model.get_layer('dense')\n",
        "  # dec_outputs = dec_dense(dec_outputs)\n",
        "  dec_model = keras.Model(inputs = [dec_inputs, hs_inputs], outputs = [dec_outputs, hs_outputs])  \n",
        "  return dec_model"
      ],
      "execution_count": 6,
      "outputs": []
    },
    {
      "cell_type": "markdown",
      "metadata": {
        "id": "4In3RXxGIaxT"
      },
      "source": [
        "Decoder functions for model without attention"
      ]
    },
    {
      "cell_type": "code",
      "metadata": {
        "id": "GPN10ST5IY15"
      },
      "source": [
        "# Greedy decoder\n",
        "def greedy_decoder(enc_inf, dec_inf, input_seq, rnn_block):\n",
        "  _, states = enc_inf.predict(input_seq)\n",
        "  target_seq = np.zeros((input_seq.shape[0],1))\n",
        "  target_seq[:,0] = tk_target.word_index[\"\\t\"]\n",
        "  pred = [[tk_target.word_index[\"\\t\"]] for _ in range (input_seq.shape[0])]\n",
        "  \n",
        "  if rnn_block == 'LSTM':\n",
        "    for i in range(max_target_length):\n",
        "      output_tokens, state_final = dec_inf.predict([target_seq, states])\n",
        "      x = np.argmax(output_tokens, axis=-1)\n",
        "      target_seq = x\n",
        "      for j in range(input_seq.shape[0]):\n",
        "        pred[j].append(target_seq[j][0])\n",
        "      states = state_final\n",
        "\n",
        "  else:\n",
        "    for i in range(max_target_length):\n",
        "      output_tokens, c = dec_inf.predict([target_seq, states])\n",
        "      x = np.argmax(output_tokens, axis=-1)\n",
        "      target_seq = x\n",
        "      for j in range(input_seq.shape[0]):\n",
        "        pred[j].append(target_seq[j][0])\n",
        "      states = c\n",
        "\n",
        "  return pred\n",
        "\n",
        "# Beam search function\n",
        "def beam_search(enc_inf, dec_inf, input_seq, k):\n",
        "  _, states = enc_inf.predict(input_seq)\n",
        "  target_seq = np.zeros((k,1))\n",
        "  target_seq[:,0] = tk_target.word_index[\"\\t\"]\n",
        "  pred = [[[tk_target.word_index[\"\\t\"]], 0.0] for _ in range (k)]\n",
        "\n",
        "  for i in range(max_target_length):\n",
        "    all_candidates = list()\n",
        "    output_tokens, state_final = dec_inf.predict([target_seq, states])\n",
        "    states = state_final\n",
        "    for j in range(len(pred)):\n",
        "      seq, score = pred[j]\n",
        "      for l in range(output_tokens.shape[-1]):\n",
        "        candidate = [seq + [l], score - log(output_tokens[j][0][l])]\n",
        "        all_candidates.append(candidate)\n",
        "      if i==0:\n",
        "        break\n",
        "    ordered = sorted(all_candidates, key=lambda tup:tup[1])\n",
        "    pred = ordered[:k]\n",
        "    for j in range (k):\n",
        "      target_seq[j] = pred[j][0][i+1]\n",
        "\n",
        "  final_pred = ordered[:1]\n",
        "  return (final_pred[0][0])\n",
        "\n",
        "# Beam search decoder\n",
        "def beam_search_decoder(enc_inf, dec_inf, input_seq, k):\n",
        "  pred = []\n",
        "  for i in range(input_seq.shape[0]):\n",
        "    input = input_seq[i:i+1,:]\n",
        "    input = np.concatenate((input,)*k, axis = 0)\n",
        "    pred.append(beam_search(enc_inf, dec_inf, input, k))\n",
        "    if i%100 == 0:\n",
        "      print((i/input_seq.shape[0])*100)\n",
        "  return pred"
      ],
      "execution_count": 7,
      "outputs": []
    },
    {
      "cell_type": "markdown",
      "metadata": {
        "id": "s620ERBtUtRw"
      },
      "source": [
        "Decoder function for model with attention"
      ]
    },
    {
      "cell_type": "code",
      "metadata": {
        "id": "H7qprgya8ili"
      },
      "source": [
        "# Greedy decoder for model with attention\n",
        "def greedy_decoder_attn(enc_inf, dec_inf, att_inf, tim_dis, input_seq):\n",
        "  output_enc, s_init = enc_inf.predict(input_seq)\n",
        "  target_seq = np.zeros((input_seq.shape[0],1))\n",
        "  target_seq[:,0] = tk_target.word_index[\"\\t\"]\n",
        "\n",
        "  pred = [[tk_target.word_index[\"\\t\"]] for _ in range (input_seq.shape[0])]\n",
        "  attention_weights = [[] for _ in range(input_seq.shape[0])]\n",
        "  for i in range(max_target_length-1):\n",
        "    # context_vector, weights = att_inf.predict([s_init[len(s_init)-1][0], values])\n",
        "    # output_tokens = Concatenate()([context_vector, model.get_layer('embedding_dec')(target_seq)])\n",
        "    #print (len(s_init))\n",
        "    output_dec, state_final = dec_inf.predict([target_seq, s_init])\n",
        "    output_dec = np.squeeze(output_dec)\n",
        "    output_dec = tf.keras.layers.RepeatVector(22)(output_dec)\n",
        "    context_vector, weights = att_inf.predict([output_dec, output_enc])\n",
        "    output_dec = Concatenate(name = 'concatenate')([context_vector,output_dec])\n",
        "    output_dec = tim_dis(output_dec)\n",
        "    x = np.argmax(output_dec[:,i,:], axis = -1)\n",
        "    for j in range(input_seq.shape[0]):\n",
        "      attention_weights[j].append(weights[j])\n",
        "      target_seq[j][0] = x[j]\n",
        "      pred[j].append(target_seq[j][0])\n",
        "    s_init = state_final\n",
        "\n",
        "\n",
        "  return pred, attention_weights"
      ],
      "execution_count": 61,
      "outputs": []
    },
    {
      "cell_type": "markdown",
      "metadata": {
        "id": "p-MIXTexI0QQ"
      },
      "source": [
        "Word accuracy metric"
      ]
    },
    {
      "cell_type": "code",
      "metadata": {
        "id": "jHGzLag7yzoc"
      },
      "source": [
        "def word_accuracy(true_words, pred_words):\n",
        "  count = len([i for i, j in zip(true_words, pred_words) if i==j])\n",
        "  return count/len(pred_words)"
      ],
      "execution_count": 9,
      "outputs": []
    },
    {
      "cell_type": "markdown",
      "metadata": {
        "id": "RQ1YkgLoDopr"
      },
      "source": [
        "Encoding to Word conversion"
      ]
    },
    {
      "cell_type": "code",
      "metadata": {
        "id": "g2zgV0O2iPTo"
      },
      "source": [
        "def transliteration(inputs):\n",
        "  start = tk_target.word_index[\"\\t\"]\n",
        "  end = 0\n",
        "  words = []\n",
        "  for i in range(len(inputs)):\n",
        "    start_index = inputs[i].index(start)\n",
        "    try:\n",
        "      end_index = inputs[i].index(end)\n",
        "      temp = inputs[i][start_index+1:end_index]\n",
        "    except ValueError:\n",
        "      temp = inputs[i][start_index+1:]\n",
        "    word = list(map(reverse_target_char_index.__getitem__, temp))\n",
        "    if (word[-1]==\"\\n\"):\n",
        "      word.pop(-1)\n",
        "    separator = ''\n",
        "    word_new = separator.join(word)\n",
        "    words.append(word_new)\n",
        "  return words"
      ],
      "execution_count": 62,
      "outputs": []
    },
    {
      "cell_type": "markdown",
      "metadata": {
        "id": "_WpWZK4G8dvA"
      },
      "source": [
        "# Sweeps"
      ]
    },
    {
      "cell_type": "code",
      "metadata": {
        "id": "Oq0DRwp1W7_f",
        "colab": {
          "base_uri": "https://localhost:8080/"
        },
        "outputId": "73ec1a93-335b-497a-ca32-676b911bb3b3"
      },
      "source": [
        "sweep_config = {\n",
        "    'method': 'grid'\n",
        "    }\n",
        "\n",
        "parameters_dict = {\n",
        "    'embedding_no':{\n",
        "        'values': [512]\n",
        "      },\n",
        "    'rnn_block':{\n",
        "        'values': ['LSTM']\n",
        "      },\n",
        "    'no_of_layers': {\n",
        "        'values': [2]\n",
        "      },\n",
        "    'latent_dimension': {\n",
        "        'values': [512]\n",
        "      },\n",
        "    'hidden_layer': {\n",
        "        'values': [0]\n",
        "      },\n",
        "    'dropout': {\n",
        "        'values': [0]\n",
        "      },\n",
        "    'beam_search': {\n",
        "        'values': [4, 2]\n",
        "      },\n",
        "    'epochs' : {\n",
        "        'values' : [20]\n",
        "      },\n",
        "    'optimizer' : {\n",
        "        'values' : ['rmsprop']\n",
        "      },\n",
        "    'learning_rate' : {\n",
        "        'values' : [1e-3]\n",
        "      },\n",
        "    'attention' : {\n",
        "        'values' : [False]\n",
        "    }\n",
        "}\n",
        "\n",
        "sweep_config['parameters'] = parameters_dict\n",
        "pprint.pprint(sweep_config)\n",
        "\n",
        "def training_sweep(config=None):\n",
        "    with wandb.init(config=config):\n",
        "        config = wandb.config\n",
        "        if config.attention == True:\n",
        "          model = RNN_w_att(config.embedding_no, config.rnn_block, config.latent_dimension, config.rnn_block,\n",
        "                            config.hidden_layer, config.dropout, config.no_of_layers, config.no_of_layers)\n",
        "        else:\n",
        "          model = RNN_model(config.embedding_no, config.rnn_block, config.latent_dimension, config.rnn_block,\n",
        "                            config.hidden_layer, config.dropout, config.no_of_layers, config.no_of_layers)\n",
        "        \n",
        "        if config.optimizer == 'adam':\n",
        "          opt = Adam(config.learning_rate)\n",
        "        else:\n",
        "          opt = RMSprop(config.learning_rate)\n",
        "        model.compile(optimizer = opt, loss = 'categorical_crossentropy', metrics=['accuracy'])\n",
        "\n",
        "        # #model.fit([enc_input_train,dec_input_train], y_true_train, \n",
        "        #                     epochs=config.epochs,\n",
        "        #                     validation_data = ([enc_input_dev,dec_input_dev], y_true_dev),\n",
        "        #                     callbacks = [WandbCallback()]\n",
        "        #                     )\n",
        "\n",
        "        name = str(config.rnn_block) + '_' + str(config.no_of_layers) + '_' + str(config.embedding_no) + '_' + str(config.latent_dimension) + '_' + str(config.hidden_layer) + '_' + str(config.epochs)\n",
        "        location = '/content/drive/MyDrive/Transliteration/' + name\n",
        "        model.save(location)\n",
        "\n",
        "        enc_inf = enc_inference(model, config.no_of_layers, config.rnn_block)\n",
        "        dec_inf = dec_inference(model, config.latent_dimension, config.no_of_layers, config.rnn_block, config.attention, config.embedding_no)\n",
        "\n",
        "        if (config.beam_search!=0):\n",
        "          predictions = beam_search_decoder(enc_inf, dec_inf, enc_input_dev, config.beam_search)\n",
        "        else:\n",
        "          predictions = greedy_decoder(enc_inf, dec_inf, enc_input_dev, config.rnn_block)\n",
        "\n",
        "          # word_acc = word_accuracy(dec_target_dev,np.array(predictions))\n",
        "          # word_acc = sklearn.metrics.accuracy_score(dec_target_dev,np.array(predictions))\n",
        "          pred_words = transliteration(predictions)\n",
        "\n",
        "          true = list(list(dec_input_dev[i]) for i in range(dec_input_dev.shape[0]))\n",
        "          true_words = transliteration(list(true))\n",
        "          word_acc = word_accuracy(true_words, pred_words)\n",
        "          wandb.log({'word_level_accuracy': word_acc})"
      ],
      "execution_count": null,
      "outputs": [
        {
          "output_type": "stream",
          "text": [
            "{'method': 'grid',\n",
            " 'parameters': {'attention': {'values': [False]},\n",
            "                'beam_search': {'values': [4, 2]},\n",
            "                'dropout': {'values': [0]},\n",
            "                'embedding_no': {'values': [512]},\n",
            "                'epochs': {'values': [20]},\n",
            "                'hidden_layer': {'values': [0]},\n",
            "                'latent_dimension': {'values': [512]},\n",
            "                'learning_rate': {'values': [0.001]},\n",
            "                'no_of_layers': {'values': [2]},\n",
            "                'optimizer': {'values': ['rmsprop']},\n",
            "                'rnn_block': {'values': ['LSTM']}}}\n"
          ],
          "name": "stdout"
        }
      ]
    },
    {
      "cell_type": "code",
      "metadata": {
        "id": "G1shGb7ZrJqH"
      },
      "source": [
        "sweep_id = wandb.sweep(sweep_config, project=\"assg3\")\n",
        "wandb.agent(sweep_id, training_sweep)"
      ],
      "execution_count": null,
      "outputs": []
    },
    {
      "cell_type": "markdown",
      "metadata": {
        "id": "39j_dgjQGZ-g"
      },
      "source": [
        "# Plotting confusion matrix"
      ]
    },
    {
      "cell_type": "code",
      "metadata": {
        "id": "PB9UTuIDpx32"
      },
      "source": [
        "def labels(true_words, pred_words):\n",
        "  true = []\n",
        "  pred = []\n",
        "  for i in range(len(true_words)):\n",
        "    word1 = true_words[i]\n",
        "    word2 = pred_words[i]\n",
        "    len1 = len(word1)\n",
        "    len2 = len(word2)\n",
        "    \n",
        "    for letter1 in word1:\n",
        "      true.append(tk_target.word_index[letter1])\n",
        "    for letter2 in word2:\n",
        "      pred.append(tk_target.word_index[letter2])\n",
        "    \n",
        "    if len1<len2:\n",
        "      for i in range(len2-len1):\n",
        "        true.append(0)\n",
        "    if len1>len2:\n",
        "      for i in range(len1-len2):\n",
        "        pred.append(0)\n",
        "\n",
        "  return true, pred\n",
        "\n",
        "def confusion_matrix(true, pred):\n",
        "  wandb.log({\"conf_mat\" : wandb.plot.confusion_matrix(probs=None, y_true=true, preds=pred, class_names=classes)})"
      ],
      "execution_count": null,
      "outputs": []
    },
    {
      "cell_type": "code",
      "metadata": {
        "id": "jrQtJipmFVXl"
      },
      "source": [
        "true, pred = labels(true_words, pred_words)\n",
        "confusion_matrix(true,pred)"
      ],
      "execution_count": null,
      "outputs": []
    },
    {
      "cell_type": "markdown",
      "metadata": {
        "id": "0aZufzizU0fh"
      },
      "source": [
        "# Plotting attention heatmaps"
      ]
    },
    {
      "cell_type": "code",
      "metadata": {
        "id": "-E7az615UzsJ"
      },
      "source": [
        "def plot_attention(attention, input_word, predicted_word):\n",
        "  attention = np.squeeze(np.array(attention))\n",
        "  attention = attention[:len(pred), :len(word)]\n",
        "  print(attention)\n",
        "  fig = plt.figure(figsize=(10, 10))\n",
        "  ax = fig.add_subplot(1, 1, 1)\n",
        "  ax.matshow(attention, cmap='gray')\n",
        "  fontdict = {'fontsize': 14}\n",
        "\n",
        "  # ax.set_xticklabels([''] + list(input_word), rotation=90)\n",
        "  ax.set_yticklabels([''] + list(predicted_word))\n",
        "\n",
        "  ax.xaxis.set_major_locator(ticker.MultipleLocator(1))\n",
        "  ax.yaxis.set_major_locator(ticker.MultipleLocator(1))\n",
        "  plt.show()"
      ],
      "execution_count": 78,
      "outputs": []
    },
    {
      "cell_type": "code",
      "metadata": {
        "colab": {
          "base_uri": "https://localhost:8080/",
          "height": 212
        },
        "id": "b7YPpQVJVCZT",
        "outputId": "e08ff3ed-4058-4969-a2d0-fc454a945ef3"
      },
      "source": [
        "num = np.random.randint(0, len(input_texts_test))\n",
        "word = input_texts_test[num]\n",
        "pred = pred_words[num]\n",
        "weight = weights[num]\n",
        "weights.shape\n",
        "plot_attention(weight, word, pred)"
      ],
      "execution_count": 80,
      "outputs": [
        {
          "output_type": "error",
          "ename": "AttributeError",
          "evalue": "ignored",
          "traceback": [
            "\u001b[0;31m---------------------------------------------------------------------------\u001b[0m",
            "\u001b[0;31mAttributeError\u001b[0m                            Traceback (most recent call last)",
            "\u001b[0;32m<ipython-input-80-9b79bd301c2f>\u001b[0m in \u001b[0;36m<module>\u001b[0;34m()\u001b[0m\n\u001b[1;32m      3\u001b[0m \u001b[0mpred\u001b[0m \u001b[0;34m=\u001b[0m \u001b[0mpred_words\u001b[0m\u001b[0;34m[\u001b[0m\u001b[0mnum\u001b[0m\u001b[0;34m]\u001b[0m\u001b[0;34m\u001b[0m\u001b[0;34m\u001b[0m\u001b[0m\n\u001b[1;32m      4\u001b[0m \u001b[0mweight\u001b[0m \u001b[0;34m=\u001b[0m \u001b[0mweights\u001b[0m\u001b[0;34m[\u001b[0m\u001b[0mnum\u001b[0m\u001b[0;34m]\u001b[0m\u001b[0;34m\u001b[0m\u001b[0;34m\u001b[0m\u001b[0m\n\u001b[0;32m----> 5\u001b[0;31m \u001b[0mweights\u001b[0m\u001b[0;34m.\u001b[0m\u001b[0mshape\u001b[0m\u001b[0;34m\u001b[0m\u001b[0;34m\u001b[0m\u001b[0m\n\u001b[0m\u001b[1;32m      6\u001b[0m \u001b[0mplot_attention\u001b[0m\u001b[0;34m(\u001b[0m\u001b[0mweight\u001b[0m\u001b[0;34m,\u001b[0m \u001b[0mword\u001b[0m\u001b[0;34m,\u001b[0m \u001b[0mpred\u001b[0m\u001b[0;34m)\u001b[0m\u001b[0;34m\u001b[0m\u001b[0;34m\u001b[0m\u001b[0m\n",
            "\u001b[0;31mAttributeError\u001b[0m: 'list' object has no attribute 'shape'"
          ]
        }
      ]
    },
    {
      "cell_type": "markdown",
      "metadata": {
        "id": "J5m1ILIGgeKZ"
      },
      "source": [
        "# Visualization"
      ]
    },
    {
      "cell_type": "code",
      "metadata": {
        "id": "AH1ZWDTIS2G8"
      },
      "source": [
        "def cstr(s, color='black', indent = False):\n",
        "\tif s == '':\n",
        "\t\treturn \"<text style=color:#000;font-family:verdana;padding-left:30px;background-color:{}> </text>\".format(color, s)   #position:relative;\n",
        "\telse:\n",
        "\t\treturn \"<text style=color:#000;font-family:verdana;background-color:{}>{} </text>\".format(color, s)\n",
        "\n",
        "def print_color(t):\n",
        "\tdisplay(html_print(''.join([cstr(ti, color=ci) for ti,ci in t])))\n",
        " \n",
        "def grad_color(value):\n",
        "  gb = int(value*510)\n",
        "  hex_color = rgb_to_hex((255,255-gb,255-gb))\n",
        "  return hex_color\n",
        "\n",
        "def final_vis(attention_weights, input_word, output_word):\n",
        "  input_word_list = list(input_word)\n",
        "  output_word_list = list(output_word)\n",
        "  # Let output_values be of shape (num_tokens_output_word,num_tokens_input_word)\n",
        "  # Print the input with the colour fills\n",
        "  for i in range(len(output_word_list)):  # For each word\n",
        "    text_colours = []\n",
        "    for j in range(len(input_word_list)):\n",
        "      text = (input_word_list[j], grad_color(attention_weights[i][j]))\n",
        "      text_colours.append(text)\n",
        "    print_color(text_colours)\n",
        "    print(''.join(output_word_list[0:i]) + \"\\033[4m\" + output_word_list[i] + \"\\033[0m\" + ''.join(output_word_list[i+1:]))\n",
        "    print('  ')"
      ],
      "execution_count": null,
      "outputs": []
    },
    {
      "cell_type": "code",
      "metadata": {
        "id": "cnGBsf-YghlC",
        "colab": {
          "base_uri": "https://localhost:8080/",
          "height": 1000
        },
        "outputId": "b686e57d-d4b1-4175-c12c-908d037169ed"
      },
      "source": [
        "# num = np.random.randint(0, len(input_texts_test))\n",
        "word = input_texts_test[num]\n",
        "pred = pred_words[num]\n",
        "weight = weights[num]\n",
        "final_vis(weight, word, pred)"
      ],
      "execution_count": 86,
      "outputs": [
        {
          "output_type": "stream",
          "text": [
            "[[0.76845163 0.1466015  0.01039488 0.01975789 0.00418192 0.00228176\n",
            "  0.0019115  0.00183571 0.00186807 0.00189835 0.00188833 0.00189857\n",
            "  0.0020207  0.00238859 0.0031962  0.00455339 0.00631843 0.00826611\n",
            "  0.01028644]\n",
            " [0.76845163 0.1466015  0.01039488 0.01975789 0.00418192 0.00228176\n",
            "  0.0019115  0.00183571 0.00186807 0.00189835 0.00188833 0.00189857\n",
            "  0.0020207  0.00238859 0.0031962  0.00455339 0.00631843 0.00826611\n",
            "  0.01028644]\n",
            " [0.76845163 0.1466015  0.01039488 0.01975789 0.00418192 0.00228176\n",
            "  0.0019115  0.00183571 0.00186807 0.00189835 0.00188833 0.00189857\n",
            "  0.0020207  0.00238859 0.0031962  0.00455339 0.00631843 0.00826611\n",
            "  0.01028644]\n",
            " [0.76845163 0.1466015  0.01039488 0.01975789 0.00418192 0.00228176\n",
            "  0.0019115  0.00183571 0.00186807 0.00189835 0.00188833 0.00189857\n",
            "  0.0020207  0.00238859 0.0031962  0.00455339 0.00631843 0.00826611\n",
            "  0.01028644]\n",
            " [0.76845163 0.1466015  0.01039488 0.01975789 0.00418192 0.00228176\n",
            "  0.0019115  0.00183571 0.00186807 0.00189835 0.00188833 0.00189857\n",
            "  0.0020207  0.00238859 0.0031962  0.00455339 0.00631843 0.00826611\n",
            "  0.01028644]\n",
            " [0.76845163 0.1466015  0.01039488 0.01975789 0.00418192 0.00228176\n",
            "  0.0019115  0.00183571 0.00186807 0.00189835 0.00188833 0.00189857\n",
            "  0.0020207  0.00238859 0.0031962  0.00455339 0.00631843 0.00826611\n",
            "  0.01028644]\n",
            " [0.76845163 0.1466015  0.01039488 0.01975789 0.00418192 0.00228176\n",
            "  0.0019115  0.00183571 0.00186807 0.00189835 0.00188833 0.00189857\n",
            "  0.0020207  0.00238859 0.0031962  0.00455339 0.00631843 0.00826611\n",
            "  0.01028644]\n",
            " [0.76845163 0.1466015  0.01039488 0.01975789 0.00418192 0.00228176\n",
            "  0.0019115  0.00183571 0.00186807 0.00189835 0.00188833 0.00189857\n",
            "  0.0020207  0.00238859 0.0031962  0.00455339 0.00631843 0.00826611\n",
            "  0.01028644]\n",
            " [0.76845163 0.1466015  0.01039488 0.01975789 0.00418192 0.00228176\n",
            "  0.0019115  0.00183571 0.00186807 0.00189835 0.00188833 0.00189857\n",
            "  0.0020207  0.00238859 0.0031962  0.00455339 0.00631843 0.00826611\n",
            "  0.01028644]\n",
            " [0.76845163 0.1466015  0.01039488 0.01975789 0.00418192 0.00228176\n",
            "  0.0019115  0.00183571 0.00186807 0.00189835 0.00188833 0.00189857\n",
            "  0.0020207  0.00238859 0.0031962  0.00455339 0.00631843 0.00826611\n",
            "  0.01028644]\n",
            " [0.76845163 0.1466015  0.01039488 0.01975789 0.00418192 0.00228176\n",
            "  0.0019115  0.00183571 0.00186807 0.00189835 0.00188833 0.00189857\n",
            "  0.0020207  0.00238859 0.0031962  0.00455339 0.00631843 0.00826611\n",
            "  0.01028644]\n",
            " [0.76845163 0.1466015  0.01039488 0.01975789 0.00418192 0.00228176\n",
            "  0.0019115  0.00183571 0.00186807 0.00189835 0.00188833 0.00189857\n",
            "  0.0020207  0.00238859 0.0031962  0.00455339 0.00631843 0.00826611\n",
            "  0.01028644]\n",
            " [0.76845163 0.1466015  0.01039488 0.01975789 0.00418192 0.00228176\n",
            "  0.0019115  0.00183571 0.00186807 0.00189835 0.00188833 0.00189857\n",
            "  0.0020207  0.00238859 0.0031962  0.00455339 0.00631843 0.00826611\n",
            "  0.01028644]\n",
            " [0.76845163 0.1466015  0.01039488 0.01975789 0.00418192 0.00228176\n",
            "  0.0019115  0.00183571 0.00186807 0.00189835 0.00188833 0.00189857\n",
            "  0.0020207  0.00238859 0.0031962  0.00455339 0.00631843 0.00826611\n",
            "  0.01028644]\n",
            " [0.76845163 0.1466015  0.01039488 0.01975789 0.00418192 0.00228176\n",
            "  0.0019115  0.00183571 0.00186807 0.00189835 0.00188833 0.00189857\n",
            "  0.0020207  0.00238859 0.0031962  0.00455339 0.00631843 0.00826611\n",
            "  0.01028644]\n",
            " [0.76845163 0.1466015  0.01039488 0.01975789 0.00418192 0.00228176\n",
            "  0.0019115  0.00183571 0.00186807 0.00189835 0.00188833 0.00189857\n",
            "  0.0020207  0.00238859 0.0031962  0.00455339 0.00631843 0.00826611\n",
            "  0.01028644]\n",
            " [0.76845163 0.1466015  0.01039488 0.01975789 0.00418192 0.00228176\n",
            "  0.0019115  0.00183571 0.00186807 0.00189835 0.00188833 0.00189857\n",
            "  0.0020207  0.00238859 0.0031962  0.00455339 0.00631843 0.00826611\n",
            "  0.01028644]\n",
            " [0.76845163 0.1466015  0.01039488 0.01975789 0.00418192 0.00228176\n",
            "  0.0019115  0.00183571 0.00186807 0.00189835 0.00188833 0.00189857\n",
            "  0.0020207  0.00238859 0.0031962  0.00455339 0.00631843 0.00826611\n",
            "  0.01028644]\n",
            " [0.76845163 0.1466015  0.01039488 0.01975789 0.00418192 0.00228176\n",
            "  0.0019115  0.00183571 0.00186807 0.00189835 0.00188833 0.00189857\n",
            "  0.0020207  0.00238859 0.0031962  0.00455339 0.00631843 0.00826611\n",
            "  0.01028644]\n",
            " [0.76845163 0.1466015  0.01039488 0.01975789 0.00418192 0.00228176\n",
            "  0.0019115  0.00183571 0.00186807 0.00189835 0.00188833 0.00189857\n",
            "  0.0020207  0.00238859 0.0031962  0.00455339 0.00631843 0.00826611\n",
            "  0.01028644]\n",
            " [0.76845163 0.1466015  0.01039488 0.01975789 0.00418192 0.00228176\n",
            "  0.0019115  0.00183571 0.00186807 0.00189835 0.00188833 0.00189857\n",
            "  0.0020207  0.00238859 0.0031962  0.00455339 0.00631843 0.00826611\n",
            "  0.01028644]\n",
            " [0.76845163 0.1466015  0.01039488 0.01975789 0.00418192 0.00228176\n",
            "  0.0019115  0.00183571 0.00186807 0.00189835 0.00188833 0.00189857\n",
            "  0.0020207  0.00238859 0.0031962  0.00455339 0.00631843 0.00826611\n",
            "  0.01028644]]\n"
          ],
          "name": "stdout"
        },
        {
          "output_type": "error",
          "ename": "NameError",
          "evalue": "ignored",
          "traceback": [
            "\u001b[0;31m---------------------------------------------------------------------------\u001b[0m",
            "\u001b[0;31mNameError\u001b[0m                                 Traceback (most recent call last)",
            "\u001b[0;32m<ipython-input-86-0155b33426bf>\u001b[0m in \u001b[0;36m<module>\u001b[0;34m()\u001b[0m\n\u001b[1;32m      4\u001b[0m \u001b[0mweight\u001b[0m \u001b[0;34m=\u001b[0m \u001b[0mweights\u001b[0m\u001b[0;34m[\u001b[0m\u001b[0mnum\u001b[0m\u001b[0;34m]\u001b[0m\u001b[0;34m\u001b[0m\u001b[0;34m\u001b[0m\u001b[0m\n\u001b[1;32m      5\u001b[0m \u001b[0mprint\u001b[0m\u001b[0;34m(\u001b[0m\u001b[0mweights\u001b[0m\u001b[0;34m[\u001b[0m\u001b[0;36m0\u001b[0m\u001b[0;34m]\u001b[0m\u001b[0;34m[\u001b[0m\u001b[0;36m0\u001b[0m\u001b[0;34m]\u001b[0m\u001b[0;34m)\u001b[0m\u001b[0;34m\u001b[0m\u001b[0;34m\u001b[0m\u001b[0m\n\u001b[0;32m----> 6\u001b[0;31m \u001b[0mfinal_vis\u001b[0m\u001b[0;34m(\u001b[0m\u001b[0mweight\u001b[0m\u001b[0;34m,\u001b[0m \u001b[0mword\u001b[0m\u001b[0;34m,\u001b[0m \u001b[0mpred\u001b[0m\u001b[0;34m)\u001b[0m\u001b[0;34m\u001b[0m\u001b[0;34m\u001b[0m\u001b[0m\n\u001b[0m",
            "\u001b[0;31mNameError\u001b[0m: name 'final_vis' is not defined"
          ]
        }
      ]
    },
    {
      "cell_type": "markdown",
      "metadata": {
        "id": "oHmU_QVfBhtb"
      },
      "source": [
        "# Saving Predictions"
      ]
    },
    {
      "cell_type": "code",
      "metadata": {
        "id": "upC-hEv9BkhB"
      },
      "source": [
        ""
      ],
      "execution_count": null,
      "outputs": []
    },
    {
      "cell_type": "markdown",
      "metadata": {
        "id": "XzptGDXSJPIq"
      },
      "source": [
        "# Rest of the code"
      ]
    },
    {
      "cell_type": "code",
      "metadata": {
        "id": "NarUpfA4Mtb1",
        "colab": {
          "base_uri": "https://localhost:8080/",
          "height": 865
        },
        "outputId": "9c3021a1-f34c-4c5f-a2ab-7beab93b1f9c"
      },
      "source": [
        "model = RNN_w_att_new(512, 'LSTM', 256, 'LSTM', 0,0,2,2)\n",
        "keras.utils.plot_model(model, show_shapes = True)"
      ],
      "execution_count": 71,
      "outputs": [
        {
          "output_type": "execute_result",
          "data": {
            "image/png": "[encoded data removed]",
            "text/plain": [
              "<IPython.core.display.Image object>"
            ]
          },
          "metadata": {
            "tags": []
          },
          "execution_count": 71
        }
      ]
    },
    {
      "cell_type": "code",
      "metadata": {
        "id": "8K0_aZnYxBPA",
        "colab": {
          "base_uri": "https://localhost:8080/"
        },
        "outputId": "a019dd1a-3f0e-4253-b226-762cc52c0be0"
      },
      "source": [
        "model.compile(optimizer=RMSprop(1e-3), loss = 'categorical_crossentropy', metrics=['accuracy'])\n",
        "model.fit([enc_input_train,dec_input_train], y_true_train, batch_size = 128,epochs=10, validation_data=([enc_input_dev,dec_input_dev], y_true_dev))"
      ],
      "execution_count": 72,
      "outputs": [
        {
          "output_type": "stream",
          "text": [
            "Epoch 1/10\n",
            "346/346 [==============================] - 29s 65ms/step - loss: 1.0769 - accuracy: 0.7079 - val_loss: 0.4864 - val_accuracy: 0.8520\n",
            "Epoch 2/10\n",
            "346/346 [==============================] - 21s 60ms/step - loss: 0.4457 - accuracy: 0.8630 - val_loss: 0.3044 - val_accuracy: 0.9061\n",
            "Epoch 3/10\n",
            "346/346 [==============================] - 21s 61ms/step - loss: 0.2734 - accuracy: 0.9145 - val_loss: 0.2344 - val_accuracy: 0.9268\n",
            "Epoch 4/10\n",
            "346/346 [==============================] - 21s 60ms/step - loss: 0.1982 - accuracy: 0.9385 - val_loss: 0.1869 - val_accuracy: 0.9423\n",
            "Epoch 5/10\n",
            "346/346 [==============================] - 21s 61ms/step - loss: 0.1570 - accuracy: 0.9501 - val_loss: 0.1746 - val_accuracy: 0.9465\n",
            "Epoch 6/10\n",
            "346/346 [==============================] - 21s 60ms/step - loss: 0.1321 - accuracy: 0.9566 - val_loss: 0.1525 - val_accuracy: 0.9518\n",
            "Epoch 7/10\n",
            "346/346 [==============================] - 21s 60ms/step - loss: 0.1160 - accuracy: 0.9610 - val_loss: 0.1472 - val_accuracy: 0.9529\n",
            "Epoch 8/10\n",
            "346/346 [==============================] - 21s 60ms/step - loss: 0.1039 - accuracy: 0.9639 - val_loss: 0.1458 - val_accuracy: 0.9530\n",
            "Epoch 9/10\n",
            "346/346 [==============================] - 21s 60ms/step - loss: 0.0951 - accuracy: 0.9660 - val_loss: 0.1351 - val_accuracy: 0.9577\n",
            "Epoch 10/10\n",
            "346/346 [==============================] - 21s 60ms/step - loss: 0.0876 - accuracy: 0.9676 - val_loss: 0.1387 - val_accuracy: 0.9568\n"
          ],
          "name": "stdout"
        },
        {
          "output_type": "execute_result",
          "data": {
            "text/plain": [
              "<tensorflow.python.keras.callbacks.History at 0x7fcfa0e00890>"
            ]
          },
          "metadata": {
            "tags": []
          },
          "execution_count": 72
        }
      ]
    },
    {
      "cell_type": "code",
      "metadata": {
        "id": "f-TXM2HpA2HO",
        "colab": {
          "base_uri": "https://localhost:8080/"
        },
        "outputId": "0d2e7395-4f48-48d9-e1be-0b746ac1f8f3"
      },
      "source": [
        "enc_inf = enc_inference(model, 2,'LSTM')\n",
        "dec_inf = dec_inference(model, 256, 2, 'LSTM', True, 512)\n",
        "att_inf = model.get_layer('attention')\n",
        "tim_dis = model.get_layer('time_dis')\n",
        "\n",
        "predictions, weights = greedy_decoder_attn(enc_inf, dec_inf, att_inf, tim_dis, enc_input_test)\n",
        "\n",
        "pred_words = transliteration(predictions)\n",
        "\n",
        "true = list(list(dec_input_test[i]) for i in range(dec_input_test.shape[0]))\n",
        "true_words = transliteration(list(true))\n",
        "word_acc = word_accuracy(true_words, pred_words)"
      ],
      "execution_count": 74,
      "outputs": [
        {
          "output_type": "stream",
          "text": [
            "WARNING:tensorflow:Model was constructed with shape (None, 22) for input KerasTensor(type_spec=TensorSpec(shape=(None, 22), dtype=tf.float32, name='input_50'), name='input_50', description=\"created by layer 'input_50'\"), but it was called on an input with incompatible shape (None, 1).\n"
          ],
          "name": "stdout"
        }
      ]
    },
    {
      "cell_type": "code",
      "metadata": {
        "id": "WnSFVv-75r2V",
        "colab": {
          "base_uri": "https://localhost:8080/"
        },
        "outputId": "70e27828-d531-4d2b-bfa2-5b01a12dc81c"
      },
      "source": [
        "pred_words[0:10]"
      ],
      "execution_count": 75,
      "outputs": [
        {
          "output_type": "execute_result",
          "data": {
            "text/plain": [
              "['ank',\n",
              " 'ank',\n",
              " 'ankit',\n",
              " 'ankon',\n",
              " 'ankon',\n",
              " 'ankon',\n",
              " 'ankor',\n",
              " 'ankor',\n",
              " 'angarak',\n",
              " 'angarak']"
            ]
          },
          "metadata": {
            "tags": []
          },
          "execution_count": 75
        }
      ]
    },
    {
      "cell_type": "code",
      "metadata": {
        "id": "Px2ROc8U5v8m",
        "colab": {
          "base_uri": "https://localhost:8080/"
        },
        "outputId": "78135cef-c57b-499c-f539-e87219df85f7"
      },
      "source": [
        "true_words[0:10]"
      ],
      "execution_count": 76,
      "outputs": [
        {
          "output_type": "execute_result",
          "data": {
            "text/plain": [
              "['ank',\n",
              " 'anka',\n",
              " 'ankit',\n",
              " 'anakon',\n",
              " 'ankhon',\n",
              " 'ankon',\n",
              " 'angkor',\n",
              " 'ankor',\n",
              " 'angaarak',\n",
              " 'angarak']"
            ]
          },
          "metadata": {
            "tags": []
          },
          "execution_count": 76
        }
      ]
    },
    {
      "cell_type": "code",
      "metadata": {
        "id": "9fwzRhjrEDKD",
        "colab": {
          "base_uri": "https://localhost:8080/"
        },
        "outputId": "cda45837-ef42-4fc5-ab20-9e0ef5db1f35"
      },
      "source": [
        "word_acc"
      ],
      "execution_count": 77,
      "outputs": [
        {
          "output_type": "execute_result",
          "data": {
            "text/plain": [
              "0.37383385162150157"
            ]
          },
          "metadata": {
            "tags": []
          },
          "execution_count": 77
        }
      ]
    },
    {
      "cell_type": "code",
      "metadata": {
        "id": "BHi3CPzn4wu9"
      },
      "source": [
        "att_model = b_attention(256)\n",
        "keras.utils.plot_model(att_model,show_shapes=True, rankdir='TB')"
      ],
      "execution_count": null,
      "outputs": []
    },
    {
      "cell_type": "code",
      "metadata": {
        "id": "nddHQjK_zCJ1"
      },
      "source": [
        "model = RNN_model(512, 'LSTM', 512, 'LSTM', 0, 0, 2, 2)\n",
        "keras.utils.plot_model(model,show_shapes=True, rankdir='TB')"
      ],
      "execution_count": null,
      "outputs": []
    },
    {
      "cell_type": "code",
      "metadata": {
        "id": "RQSfyq2TPwMv"
      },
      "source": [
        "enc_inf = enc_inference(model, 2, \"LSTM\")\n",
        "dec_inf = dec_inference(model, 512, 2, 'LSTM', False, 512)\n",
        "\n",
        "predictions = greedy_decoder(enc_inf, dec_inf, enc_input_dev[0:10])\n",
        "\n",
        "pred_words = transliteration(predictions)\n",
        "true = list(list(dec_input_dev[i]) for i in range(dec_input_dev.shape[0]))\n",
        "true_words = transliteration(list(true))\n",
        "word_acc = word_accuracy(true_words, pred_words)"
      ],
      "execution_count": null,
      "outputs": []
    },
    {
      "cell_type": "code",
      "metadata": {
        "id": "YOPHIlJNK-FJ"
      },
      "source": [
        "list_input = list(tk_input.word_index.keys())\n",
        "input_word_list = random.sample(list_input,8)\n",
        "print(input_word_list)"
      ],
      "execution_count": null,
      "outputs": []
    },
    {
      "cell_type": "code",
      "metadata": {
        "id": "7uh9NpIbZe1H"
      },
      "source": [
        "output_values = np.random.uniform(size=(5,8))\n",
        "output_word_list = list('nocul')\n",
        "final_vis(output_values, input_word_list, output_word_list)"
      ],
      "execution_count": null,
      "outputs": []
    }
  ]
}