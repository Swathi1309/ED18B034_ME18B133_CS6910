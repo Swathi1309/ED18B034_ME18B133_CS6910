{
  "nbformat": 4,
  "nbformat_minor": 0,
  "metadata": {
    "colab": {
      "name": "Assignment3.ipynb",
      "provenance": [],
      "collapsed_sections": [],
      "include_colab_link": true
    },
    "kernelspec": {
      "name": "python3",
      "display_name": "Python 3"
    },
    "language_info": {
      "name": "python"
    },
    "accelerator": "GPU",
    "widgets": {
      "application/vnd.jupyter.widget-state+json": {
        "edb91b71021a4d7f99e33b4af981ce4b": {
          "model_module": "@jupyter-widgets/controls",
          "model_name": "VBoxModel",
          "state": {
            "_view_name": "VBoxView",
            "_dom_classes": [],
            "_model_name": "VBoxModel",
            "_view_module": "@jupyter-widgets/controls",
            "_model_module_version": "1.5.0",
            "_view_count": null,
            "_view_module_version": "1.5.0",
            "box_style": "",
            "layout": "IPY_MODEL_bf4f10f8dae74a4c8c164fb83eea80c0",
            "_model_module": "@jupyter-widgets/controls",
            "children": [
              "IPY_MODEL_e6da6f89e4764771bdab69b48a12af30",
              "IPY_MODEL_51a825908b5c4faaad125deb7ae88803"
            ]
          }
        },
        "bf4f10f8dae74a4c8c164fb83eea80c0": {
          "model_module": "@jupyter-widgets/base",
          "model_name": "LayoutModel",
          "state": {
            "_view_name": "LayoutView",
            "grid_template_rows": null,
            "right": null,
            "justify_content": null,
            "_view_module": "@jupyter-widgets/base",
            "overflow": null,
            "_model_module_version": "1.2.0",
            "_view_count": null,
            "flex_flow": null,
            "width": null,
            "min_width": null,
            "border": null,
            "align_items": null,
            "bottom": null,
            "_model_module": "@jupyter-widgets/base",
            "top": null,
            "grid_column": null,
            "overflow_y": null,
            "overflow_x": null,
            "grid_auto_flow": null,
            "grid_area": null,
            "grid_template_columns": null,
            "flex": null,
            "_model_name": "LayoutModel",
            "justify_items": null,
            "grid_row": null,
            "max_height": null,
            "align_content": null,
            "visibility": null,
            "align_self": null,
            "height": null,
            "min_height": null,
            "padding": null,
            "grid_auto_rows": null,
            "grid_gap": null,
            "max_width": null,
            "order": null,
            "_view_module_version": "1.2.0",
            "grid_template_areas": null,
            "object_position": null,
            "object_fit": null,
            "grid_auto_columns": null,
            "margin": null,
            "display": null,
            "left": null
          }
        },
        "e6da6f89e4764771bdab69b48a12af30": {
          "model_module": "@jupyter-widgets/controls",
          "model_name": "LabelModel",
          "state": {
            "_view_name": "LabelView",
            "style": "IPY_MODEL_f088f47dc81c41c881b5ed5cb9c16956",
            "_dom_classes": [],
            "description": "",
            "_model_name": "LabelModel",
            "placeholder": "​",
            "_view_module": "@jupyter-widgets/controls",
            "_model_module_version": "1.5.0",
            "value": " 7.07MB of 7.07MB uploaded (0.00MB deduped)\r",
            "_view_count": null,
            "_view_module_version": "1.5.0",
            "description_tooltip": null,
            "_model_module": "@jupyter-widgets/controls",
            "layout": "IPY_MODEL_cb41aaf258074249a6eedc809cd9cf0a"
          }
        },
        "51a825908b5c4faaad125deb7ae88803": {
          "model_module": "@jupyter-widgets/controls",
          "model_name": "FloatProgressModel",
          "state": {
            "_view_name": "ProgressView",
            "style": "IPY_MODEL_21f5a0d2a07e4ef490eb43bcfb2d8bb8",
            "_dom_classes": [],
            "description": "",
            "_model_name": "FloatProgressModel",
            "bar_style": "",
            "max": 1,
            "_view_module": "@jupyter-widgets/controls",
            "_model_module_version": "1.5.0",
            "value": 1,
            "_view_count": null,
            "_view_module_version": "1.5.0",
            "orientation": "horizontal",
            "min": 0,
            "description_tooltip": null,
            "_model_module": "@jupyter-widgets/controls",
            "layout": "IPY_MODEL_2630e25e3414456882e33d2dcd2a9a91"
          }
        },
        "f088f47dc81c41c881b5ed5cb9c16956": {
          "model_module": "@jupyter-widgets/controls",
          "model_name": "DescriptionStyleModel",
          "state": {
            "_view_name": "StyleView",
            "_model_name": "DescriptionStyleModel",
            "description_width": "",
            "_view_module": "@jupyter-widgets/base",
            "_model_module_version": "1.5.0",
            "_view_count": null,
            "_view_module_version": "1.2.0",
            "_model_module": "@jupyter-widgets/controls"
          }
        },
        "cb41aaf258074249a6eedc809cd9cf0a": {
          "model_module": "@jupyter-widgets/base",
          "model_name": "LayoutModel",
          "state": {
            "_view_name": "LayoutView",
            "grid_template_rows": null,
            "right": null,
            "justify_content": null,
            "_view_module": "@jupyter-widgets/base",
            "overflow": null,
            "_model_module_version": "1.2.0",
            "_view_count": null,
            "flex_flow": null,
            "width": null,
            "min_width": null,
            "border": null,
            "align_items": null,
            "bottom": null,
            "_model_module": "@jupyter-widgets/base",
            "top": null,
            "grid_column": null,
            "overflow_y": null,
            "overflow_x": null,
            "grid_auto_flow": null,
            "grid_area": null,
            "grid_template_columns": null,
            "flex": null,
            "_model_name": "LayoutModel",
            "justify_items": null,
            "grid_row": null,
            "max_height": null,
            "align_content": null,
            "visibility": null,
            "align_self": null,
            "height": null,
            "min_height": null,
            "padding": null,
            "grid_auto_rows": null,
            "grid_gap": null,
            "max_width": null,
            "order": null,
            "_view_module_version": "1.2.0",
            "grid_template_areas": null,
            "object_position": null,
            "object_fit": null,
            "grid_auto_columns": null,
            "margin": null,
            "display": null,
            "left": null
          }
        },
        "21f5a0d2a07e4ef490eb43bcfb2d8bb8": {
          "model_module": "@jupyter-widgets/controls",
          "model_name": "ProgressStyleModel",
          "state": {
            "_view_name": "StyleView",
            "_model_name": "ProgressStyleModel",
            "description_width": "",
            "_view_module": "@jupyter-widgets/base",
            "_model_module_version": "1.5.0",
            "_view_count": null,
            "_view_module_version": "1.2.0",
            "bar_color": null,
            "_model_module": "@jupyter-widgets/controls"
          }
        },
        "2630e25e3414456882e33d2dcd2a9a91": {
          "model_module": "@jupyter-widgets/base",
          "model_name": "LayoutModel",
          "state": {
            "_view_name": "LayoutView",
            "grid_template_rows": null,
            "right": null,
            "justify_content": null,
            "_view_module": "@jupyter-widgets/base",
            "overflow": null,
            "_model_module_version": "1.2.0",
            "_view_count": null,
            "flex_flow": null,
            "width": null,
            "min_width": null,
            "border": null,
            "align_items": null,
            "bottom": null,
            "_model_module": "@jupyter-widgets/base",
            "top": null,
            "grid_column": null,
            "overflow_y": null,
            "overflow_x": null,
            "grid_auto_flow": null,
            "grid_area": null,
            "grid_template_columns": null,
            "flex": null,
            "_model_name": "LayoutModel",
            "justify_items": null,
            "grid_row": null,
            "max_height": null,
            "align_content": null,
            "visibility": null,
            "align_self": null,
            "height": null,
            "min_height": null,
            "padding": null,
            "grid_auto_rows": null,
            "grid_gap": null,
            "max_width": null,
            "order": null,
            "_view_module_version": "1.2.0",
            "grid_template_areas": null,
            "object_position": null,
            "object_fit": null,
            "grid_auto_columns": null,
            "margin": null,
            "display": null,
            "left": null
          }
        },
        "c19dbaa174794fca9ba80e27e8c194ed": {
          "model_module": "@jupyter-widgets/controls",
          "model_name": "VBoxModel",
          "state": {
            "_view_name": "VBoxView",
            "_dom_classes": [],
            "_model_name": "VBoxModel",
            "_view_module": "@jupyter-widgets/controls",
            "_model_module_version": "1.5.0",
            "_view_count": null,
            "_view_module_version": "1.5.0",
            "box_style": "",
            "layout": "IPY_MODEL_9ce77fd3b3234d5b98e490ed0938e96f",
            "_model_module": "@jupyter-widgets/controls",
            "children": [
              "IPY_MODEL_fd35c94950f34975b766e2d6f7ad9641",
              "IPY_MODEL_15e87f58e8e14f10a0e720b7ac98715e"
            ]
          }
        },
        "9ce77fd3b3234d5b98e490ed0938e96f": {
          "model_module": "@jupyter-widgets/base",
          "model_name": "LayoutModel",
          "state": {
            "_view_name": "LayoutView",
            "grid_template_rows": null,
            "right": null,
            "justify_content": null,
            "_view_module": "@jupyter-widgets/base",
            "overflow": null,
            "_model_module_version": "1.2.0",
            "_view_count": null,
            "flex_flow": null,
            "width": null,
            "min_width": null,
            "border": null,
            "align_items": null,
            "bottom": null,
            "_model_module": "@jupyter-widgets/base",
            "top": null,
            "grid_column": null,
            "overflow_y": null,
            "overflow_x": null,
            "grid_auto_flow": null,
            "grid_area": null,
            "grid_template_columns": null,
            "flex": null,
            "_model_name": "LayoutModel",
            "justify_items": null,
            "grid_row": null,
            "max_height": null,
            "align_content": null,
            "visibility": null,
            "align_self": null,
            "height": null,
            "min_height": null,
            "padding": null,
            "grid_auto_rows": null,
            "grid_gap": null,
            "max_width": null,
            "order": null,
            "_view_module_version": "1.2.0",
            "grid_template_areas": null,
            "object_position": null,
            "object_fit": null,
            "grid_auto_columns": null,
            "margin": null,
            "display": null,
            "left": null
          }
        },
        "fd35c94950f34975b766e2d6f7ad9641": {
          "model_module": "@jupyter-widgets/controls",
          "model_name": "LabelModel",
          "state": {
            "_view_name": "LabelView",
            "style": "IPY_MODEL_1f561f42a53c4e10a695c4494afbfcb3",
            "_dom_classes": [],
            "description": "",
            "_model_name": "LabelModel",
            "placeholder": "​",
            "_view_module": "@jupyter-widgets/controls",
            "_model_module_version": "1.5.0",
            "value": " 9.31MB of 9.31MB uploaded (0.00MB deduped)\r",
            "_view_count": null,
            "_view_module_version": "1.5.0",
            "description_tooltip": null,
            "_model_module": "@jupyter-widgets/controls",
            "layout": "IPY_MODEL_8c36e24fb8ba4658ba5235265b0a64c7"
          }
        },
        "15e87f58e8e14f10a0e720b7ac98715e": {
          "model_module": "@jupyter-widgets/controls",
          "model_name": "FloatProgressModel",
          "state": {
            "_view_name": "ProgressView",
            "style": "IPY_MODEL_0671a2b061f44274a8a5727ab2931e06",
            "_dom_classes": [],
            "description": "",
            "_model_name": "FloatProgressModel",
            "bar_style": "",
            "max": 1,
            "_view_module": "@jupyter-widgets/controls",
            "_model_module_version": "1.5.0",
            "value": 1,
            "_view_count": null,
            "_view_module_version": "1.5.0",
            "orientation": "horizontal",
            "min": 0,
            "description_tooltip": null,
            "_model_module": "@jupyter-widgets/controls",
            "layout": "IPY_MODEL_4bfbb1229c894c9e9b5ddde0387c8d17"
          }
        },
        "1f561f42a53c4e10a695c4494afbfcb3": {
          "model_module": "@jupyter-widgets/controls",
          "model_name": "DescriptionStyleModel",
          "state": {
            "_view_name": "StyleView",
            "_model_name": "DescriptionStyleModel",
            "description_width": "",
            "_view_module": "@jupyter-widgets/base",
            "_model_module_version": "1.5.0",
            "_view_count": null,
            "_view_module_version": "1.2.0",
            "_model_module": "@jupyter-widgets/controls"
          }
        },
        "8c36e24fb8ba4658ba5235265b0a64c7": {
          "model_module": "@jupyter-widgets/base",
          "model_name": "LayoutModel",
          "state": {
            "_view_name": "LayoutView",
            "grid_template_rows": null,
            "right": null,
            "justify_content": null,
            "_view_module": "@jupyter-widgets/base",
            "overflow": null,
            "_model_module_version": "1.2.0",
            "_view_count": null,
            "flex_flow": null,
            "width": null,
            "min_width": null,
            "border": null,
            "align_items": null,
            "bottom": null,
            "_model_module": "@jupyter-widgets/base",
            "top": null,
            "grid_column": null,
            "overflow_y": null,
            "overflow_x": null,
            "grid_auto_flow": null,
            "grid_area": null,
            "grid_template_columns": null,
            "flex": null,
            "_model_name": "LayoutModel",
            "justify_items": null,
            "grid_row": null,
            "max_height": null,
            "align_content": null,
            "visibility": null,
            "align_self": null,
            "height": null,
            "min_height": null,
            "padding": null,
            "grid_auto_rows": null,
            "grid_gap": null,
            "max_width": null,
            "order": null,
            "_view_module_version": "1.2.0",
            "grid_template_areas": null,
            "object_position": null,
            "object_fit": null,
            "grid_auto_columns": null,
            "margin": null,
            "display": null,
            "left": null
          }
        },
        "0671a2b061f44274a8a5727ab2931e06": {
          "model_module": "@jupyter-widgets/controls",
          "model_name": "ProgressStyleModel",
          "state": {
            "_view_name": "StyleView",
            "_model_name": "ProgressStyleModel",
            "description_width": "",
            "_view_module": "@jupyter-widgets/base",
            "_model_module_version": "1.5.0",
            "_view_count": null,
            "_view_module_version": "1.2.0",
            "bar_color": null,
            "_model_module": "@jupyter-widgets/controls"
          }
        },
        "4bfbb1229c894c9e9b5ddde0387c8d17": {
          "model_module": "@jupyter-widgets/base",
          "model_name": "LayoutModel",
          "state": {
            "_view_name": "LayoutView",
            "grid_template_rows": null,
            "right": null,
            "justify_content": null,
            "_view_module": "@jupyter-widgets/base",
            "overflow": null,
            "_model_module_version": "1.2.0",
            "_view_count": null,
            "flex_flow": null,
            "width": null,
            "min_width": null,
            "border": null,
            "align_items": null,
            "bottom": null,
            "_model_module": "@jupyter-widgets/base",
            "top": null,
            "grid_column": null,
            "overflow_y": null,
            "overflow_x": null,
            "grid_auto_flow": null,
            "grid_area": null,
            "grid_template_columns": null,
            "flex": null,
            "_model_name": "LayoutModel",
            "justify_items": null,
            "grid_row": null,
            "max_height": null,
            "align_content": null,
            "visibility": null,
            "align_self": null,
            "height": null,
            "min_height": null,
            "padding": null,
            "grid_auto_rows": null,
            "grid_gap": null,
            "max_width": null,
            "order": null,
            "_view_module_version": "1.2.0",
            "grid_template_areas": null,
            "object_position": null,
            "object_fit": null,
            "grid_auto_columns": null,
            "margin": null,
            "display": null,
            "left": null
          }
        },
        "84ca7c64babe4761b131373304102511": {
          "model_module": "@jupyter-widgets/controls",
          "model_name": "VBoxModel",
          "state": {
            "_view_name": "VBoxView",
            "_dom_classes": [],
            "_model_name": "VBoxModel",
            "_view_module": "@jupyter-widgets/controls",
            "_model_module_version": "1.5.0",
            "_view_count": null,
            "_view_module_version": "1.5.0",
            "box_style": "",
            "layout": "IPY_MODEL_d213f97e189b43658f1b928184818f1f",
            "_model_module": "@jupyter-widgets/controls",
            "children": [
              "IPY_MODEL_6b12b93bd3724af98cbe14c022758c79",
              "IPY_MODEL_0385570527c246dc936f7cc2abf46f4c"
            ]
          }
        },
        "d213f97e189b43658f1b928184818f1f": {
          "model_module": "@jupyter-widgets/base",
          "model_name": "LayoutModel",
          "state": {
            "_view_name": "LayoutView",
            "grid_template_rows": null,
            "right": null,
            "justify_content": null,
            "_view_module": "@jupyter-widgets/base",
            "overflow": null,
            "_model_module_version": "1.2.0",
            "_view_count": null,
            "flex_flow": null,
            "width": null,
            "min_width": null,
            "border": null,
            "align_items": null,
            "bottom": null,
            "_model_module": "@jupyter-widgets/base",
            "top": null,
            "grid_column": null,
            "overflow_y": null,
            "overflow_x": null,
            "grid_auto_flow": null,
            "grid_area": null,
            "grid_template_columns": null,
            "flex": null,
            "_model_name": "LayoutModel",
            "justify_items": null,
            "grid_row": null,
            "max_height": null,
            "align_content": null,
            "visibility": null,
            "align_self": null,
            "height": null,
            "min_height": null,
            "padding": null,
            "grid_auto_rows": null,
            "grid_gap": null,
            "max_width": null,
            "order": null,
            "_view_module_version": "1.2.0",
            "grid_template_areas": null,
            "object_position": null,
            "object_fit": null,
            "grid_auto_columns": null,
            "margin": null,
            "display": null,
            "left": null
          }
        },
        "6b12b93bd3724af98cbe14c022758c79": {
          "model_module": "@jupyter-widgets/controls",
          "model_name": "LabelModel",
          "state": {
            "_view_name": "LabelView",
            "style": "IPY_MODEL_256210d2da6448e9830cd8c8f26487b7",
            "_dom_classes": [],
            "description": "",
            "_model_name": "LabelModel",
            "placeholder": "​",
            "_view_module": "@jupyter-widgets/controls",
            "_model_module_version": "1.5.0",
            "value": " 22.94MB of 22.94MB uploaded (0.00MB deduped)\r",
            "_view_count": null,
            "_view_module_version": "1.5.0",
            "description_tooltip": null,
            "_model_module": "@jupyter-widgets/controls",
            "layout": "IPY_MODEL_05857870682743f1a00fad69e2f37b2d"
          }
        },
        "0385570527c246dc936f7cc2abf46f4c": {
          "model_module": "@jupyter-widgets/controls",
          "model_name": "FloatProgressModel",
          "state": {
            "_view_name": "ProgressView",
            "style": "IPY_MODEL_236689f6fe0b4879843ed052f0978e3d",
            "_dom_classes": [],
            "description": "",
            "_model_name": "FloatProgressModel",
            "bar_style": "",
            "max": 1,
            "_view_module": "@jupyter-widgets/controls",
            "_model_module_version": "1.5.0",
            "value": 1,
            "_view_count": null,
            "_view_module_version": "1.5.0",
            "orientation": "horizontal",
            "min": 0,
            "description_tooltip": null,
            "_model_module": "@jupyter-widgets/controls",
            "layout": "IPY_MODEL_50cf5f1356014cf798765ae365f4cae9"
          }
        },
        "256210d2da6448e9830cd8c8f26487b7": {
          "model_module": "@jupyter-widgets/controls",
          "model_name": "DescriptionStyleModel",
          "state": {
            "_view_name": "StyleView",
            "_model_name": "DescriptionStyleModel",
            "description_width": "",
            "_view_module": "@jupyter-widgets/base",
            "_model_module_version": "1.5.0",
            "_view_count": null,
            "_view_module_version": "1.2.0",
            "_model_module": "@jupyter-widgets/controls"
          }
        },
        "05857870682743f1a00fad69e2f37b2d": {
          "model_module": "@jupyter-widgets/base",
          "model_name": "LayoutModel",
          "state": {
            "_view_name": "LayoutView",
            "grid_template_rows": null,
            "right": null,
            "justify_content": null,
            "_view_module": "@jupyter-widgets/base",
            "overflow": null,
            "_model_module_version": "1.2.0",
            "_view_count": null,
            "flex_flow": null,
            "width": null,
            "min_width": null,
            "border": null,
            "align_items": null,
            "bottom": null,
            "_model_module": "@jupyter-widgets/base",
            "top": null,
            "grid_column": null,
            "overflow_y": null,
            "overflow_x": null,
            "grid_auto_flow": null,
            "grid_area": null,
            "grid_template_columns": null,
            "flex": null,
            "_model_name": "LayoutModel",
            "justify_items": null,
            "grid_row": null,
            "max_height": null,
            "align_content": null,
            "visibility": null,
            "align_self": null,
            "height": null,
            "min_height": null,
            "padding": null,
            "grid_auto_rows": null,
            "grid_gap": null,
            "max_width": null,
            "order": null,
            "_view_module_version": "1.2.0",
            "grid_template_areas": null,
            "object_position": null,
            "object_fit": null,
            "grid_auto_columns": null,
            "margin": null,
            "display": null,
            "left": null
          }
        },
        "236689f6fe0b4879843ed052f0978e3d": {
          "model_module": "@jupyter-widgets/controls",
          "model_name": "ProgressStyleModel",
          "state": {
            "_view_name": "StyleView",
            "_model_name": "ProgressStyleModel",
            "description_width": "",
            "_view_module": "@jupyter-widgets/base",
            "_model_module_version": "1.5.0",
            "_view_count": null,
            "_view_module_version": "1.2.0",
            "bar_color": null,
            "_model_module": "@jupyter-widgets/controls"
          }
        },
        "50cf5f1356014cf798765ae365f4cae9": {
          "model_module": "@jupyter-widgets/base",
          "model_name": "LayoutModel",
          "state": {
            "_view_name": "LayoutView",
            "grid_template_rows": null,
            "right": null,
            "justify_content": null,
            "_view_module": "@jupyter-widgets/base",
            "overflow": null,
            "_model_module_version": "1.2.0",
            "_view_count": null,
            "flex_flow": null,
            "width": null,
            "min_width": null,
            "border": null,
            "align_items": null,
            "bottom": null,
            "_model_module": "@jupyter-widgets/base",
            "top": null,
            "grid_column": null,
            "overflow_y": null,
            "overflow_x": null,
            "grid_auto_flow": null,
            "grid_area": null,
            "grid_template_columns": null,
            "flex": null,
            "_model_name": "LayoutModel",
            "justify_items": null,
            "grid_row": null,
            "max_height": null,
            "align_content": null,
            "visibility": null,
            "align_self": null,
            "height": null,
            "min_height": null,
            "padding": null,
            "grid_auto_rows": null,
            "grid_gap": null,
            "max_width": null,
            "order": null,
            "_view_module_version": "1.2.0",
            "grid_template_areas": null,
            "object_position": null,
            "object_fit": null,
            "grid_auto_columns": null,
            "margin": null,
            "display": null,
            "left": null
          }
        },
        "016f99991df844cea426e5bd7d26e2d8": {
          "model_module": "@jupyter-widgets/controls",
          "model_name": "VBoxModel",
          "state": {
            "_view_name": "VBoxView",
            "_dom_classes": [],
            "_model_name": "VBoxModel",
            "_view_module": "@jupyter-widgets/controls",
            "_model_module_version": "1.5.0",
            "_view_count": null,
            "_view_module_version": "1.5.0",
            "box_style": "",
            "layout": "IPY_MODEL_2110ea00e3434bafa5e9bc6fe61f38c2",
            "_model_module": "@jupyter-widgets/controls",
            "children": [
              "IPY_MODEL_630bfca5f0334cdd92e42f98428ace26",
              "IPY_MODEL_ebab0acc0eeb45d0af93dcc176e8f023"
            ]
          }
        },
        "2110ea00e3434bafa5e9bc6fe61f38c2": {
          "model_module": "@jupyter-widgets/base",
          "model_name": "LayoutModel",
          "state": {
            "_view_name": "LayoutView",
            "grid_template_rows": null,
            "right": null,
            "justify_content": null,
            "_view_module": "@jupyter-widgets/base",
            "overflow": null,
            "_model_module_version": "1.2.0",
            "_view_count": null,
            "flex_flow": null,
            "width": null,
            "min_width": null,
            "border": null,
            "align_items": null,
            "bottom": null,
            "_model_module": "@jupyter-widgets/base",
            "top": null,
            "grid_column": null,
            "overflow_y": null,
            "overflow_x": null,
            "grid_auto_flow": null,
            "grid_area": null,
            "grid_template_columns": null,
            "flex": null,
            "_model_name": "LayoutModel",
            "justify_items": null,
            "grid_row": null,
            "max_height": null,
            "align_content": null,
            "visibility": null,
            "align_self": null,
            "height": null,
            "min_height": null,
            "padding": null,
            "grid_auto_rows": null,
            "grid_gap": null,
            "max_width": null,
            "order": null,
            "_view_module_version": "1.2.0",
            "grid_template_areas": null,
            "object_position": null,
            "object_fit": null,
            "grid_auto_columns": null,
            "margin": null,
            "display": null,
            "left": null
          }
        },
        "630bfca5f0334cdd92e42f98428ace26": {
          "model_module": "@jupyter-widgets/controls",
          "model_name": "LabelModel",
          "state": {
            "_view_name": "LabelView",
            "style": "IPY_MODEL_9daa5421a6044d1e8f25535006d459f5",
            "_dom_classes": [],
            "description": "",
            "_model_name": "LabelModel",
            "placeholder": "​",
            "_view_module": "@jupyter-widgets/controls",
            "_model_module_version": "1.5.0",
            "value": " 30.42MB of 30.42MB uploaded (0.00MB deduped)\r",
            "_view_count": null,
            "_view_module_version": "1.5.0",
            "description_tooltip": null,
            "_model_module": "@jupyter-widgets/controls",
            "layout": "IPY_MODEL_7ad2210f288644e39308da1dfe7254be"
          }
        },
        "ebab0acc0eeb45d0af93dcc176e8f023": {
          "model_module": "@jupyter-widgets/controls",
          "model_name": "FloatProgressModel",
          "state": {
            "_view_name": "ProgressView",
            "style": "IPY_MODEL_d12393f8a87b43baa10d9c6e50c8d74e",
            "_dom_classes": [],
            "description": "",
            "_model_name": "FloatProgressModel",
            "bar_style": "",
            "max": 1,
            "_view_module": "@jupyter-widgets/controls",
            "_model_module_version": "1.5.0",
            "value": 1,
            "_view_count": null,
            "_view_module_version": "1.5.0",
            "orientation": "horizontal",
            "min": 0,
            "description_tooltip": null,
            "_model_module": "@jupyter-widgets/controls",
            "layout": "IPY_MODEL_06cfd6768a5c44f7af9909df279fb5f3"
          }
        },
        "9daa5421a6044d1e8f25535006d459f5": {
          "model_module": "@jupyter-widgets/controls",
          "model_name": "DescriptionStyleModel",
          "state": {
            "_view_name": "StyleView",
            "_model_name": "DescriptionStyleModel",
            "description_width": "",
            "_view_module": "@jupyter-widgets/base",
            "_model_module_version": "1.5.0",
            "_view_count": null,
            "_view_module_version": "1.2.0",
            "_model_module": "@jupyter-widgets/controls"
          }
        },
        "7ad2210f288644e39308da1dfe7254be": {
          "model_module": "@jupyter-widgets/base",
          "model_name": "LayoutModel",
          "state": {
            "_view_name": "LayoutView",
            "grid_template_rows": null,
            "right": null,
            "justify_content": null,
            "_view_module": "@jupyter-widgets/base",
            "overflow": null,
            "_model_module_version": "1.2.0",
            "_view_count": null,
            "flex_flow": null,
            "width": null,
            "min_width": null,
            "border": null,
            "align_items": null,
            "bottom": null,
            "_model_module": "@jupyter-widgets/base",
            "top": null,
            "grid_column": null,
            "overflow_y": null,
            "overflow_x": null,
            "grid_auto_flow": null,
            "grid_area": null,
            "grid_template_columns": null,
            "flex": null,
            "_model_name": "LayoutModel",
            "justify_items": null,
            "grid_row": null,
            "max_height": null,
            "align_content": null,
            "visibility": null,
            "align_self": null,
            "height": null,
            "min_height": null,
            "padding": null,
            "grid_auto_rows": null,
            "grid_gap": null,
            "max_width": null,
            "order": null,
            "_view_module_version": "1.2.0",
            "grid_template_areas": null,
            "object_position": null,
            "object_fit": null,
            "grid_auto_columns": null,
            "margin": null,
            "display": null,
            "left": null
          }
        },
        "d12393f8a87b43baa10d9c6e50c8d74e": {
          "model_module": "@jupyter-widgets/controls",
          "model_name": "ProgressStyleModel",
          "state": {
            "_view_name": "StyleView",
            "_model_name": "ProgressStyleModel",
            "description_width": "",
            "_view_module": "@jupyter-widgets/base",
            "_model_module_version": "1.5.0",
            "_view_count": null,
            "_view_module_version": "1.2.0",
            "bar_color": null,
            "_model_module": "@jupyter-widgets/controls"
          }
        },
        "06cfd6768a5c44f7af9909df279fb5f3": {
          "model_module": "@jupyter-widgets/base",
          "model_name": "LayoutModel",
          "state": {
            "_view_name": "LayoutView",
            "grid_template_rows": null,
            "right": null,
            "justify_content": null,
            "_view_module": "@jupyter-widgets/base",
            "overflow": null,
            "_model_module_version": "1.2.0",
            "_view_count": null,
            "flex_flow": null,
            "width": null,
            "min_width": null,
            "border": null,
            "align_items": null,
            "bottom": null,
            "_model_module": "@jupyter-widgets/base",
            "top": null,
            "grid_column": null,
            "overflow_y": null,
            "overflow_x": null,
            "grid_auto_flow": null,
            "grid_area": null,
            "grid_template_columns": null,
            "flex": null,
            "_model_name": "LayoutModel",
            "justify_items": null,
            "grid_row": null,
            "max_height": null,
            "align_content": null,
            "visibility": null,
            "align_self": null,
            "height": null,
            "min_height": null,
            "padding": null,
            "grid_auto_rows": null,
            "grid_gap": null,
            "max_width": null,
            "order": null,
            "_view_module_version": "1.2.0",
            "grid_template_areas": null,
            "object_position": null,
            "object_fit": null,
            "grid_auto_columns": null,
            "margin": null,
            "display": null,
            "left": null
          }
        },
        "311187ff25c245a695c718907895d9ed": {
          "model_module": "@jupyter-widgets/controls",
          "model_name": "VBoxModel",
          "state": {
            "_view_name": "VBoxView",
            "_dom_classes": [],
            "_model_name": "VBoxModel",
            "_view_module": "@jupyter-widgets/controls",
            "_model_module_version": "1.5.0",
            "_view_count": null,
            "_view_module_version": "1.5.0",
            "box_style": "",
            "layout": "IPY_MODEL_18d395da224f4d9f92a1d0917eddc392",
            "_model_module": "@jupyter-widgets/controls",
            "children": [
              "IPY_MODEL_69a75f4b43354adc8f4cdc8c09d6dea5",
              "IPY_MODEL_5087d1ebefa54fec9e9c1b928af64d30"
            ]
          }
        },
        "18d395da224f4d9f92a1d0917eddc392": {
          "model_module": "@jupyter-widgets/base",
          "model_name": "LayoutModel",
          "state": {
            "_view_name": "LayoutView",
            "grid_template_rows": null,
            "right": null,
            "justify_content": null,
            "_view_module": "@jupyter-widgets/base",
            "overflow": null,
            "_model_module_version": "1.2.0",
            "_view_count": null,
            "flex_flow": null,
            "width": null,
            "min_width": null,
            "border": null,
            "align_items": null,
            "bottom": null,
            "_model_module": "@jupyter-widgets/base",
            "top": null,
            "grid_column": null,
            "overflow_y": null,
            "overflow_x": null,
            "grid_auto_flow": null,
            "grid_area": null,
            "grid_template_columns": null,
            "flex": null,
            "_model_name": "LayoutModel",
            "justify_items": null,
            "grid_row": null,
            "max_height": null,
            "align_content": null,
            "visibility": null,
            "align_self": null,
            "height": null,
            "min_height": null,
            "padding": null,
            "grid_auto_rows": null,
            "grid_gap": null,
            "max_width": null,
            "order": null,
            "_view_module_version": "1.2.0",
            "grid_template_areas": null,
            "object_position": null,
            "object_fit": null,
            "grid_auto_columns": null,
            "margin": null,
            "display": null,
            "left": null
          }
        },
        "69a75f4b43354adc8f4cdc8c09d6dea5": {
          "model_module": "@jupyter-widgets/controls",
          "model_name": "LabelModel",
          "state": {
            "_view_name": "LabelView",
            "style": "IPY_MODEL_c9f5964ca35f49fcb38a12c7dcd88c14",
            "_dom_classes": [],
            "description": "",
            "_model_name": "LabelModel",
            "placeholder": "​",
            "_view_module": "@jupyter-widgets/controls",
            "_model_module_version": "1.5.0",
            "value": " 9.46MB of 9.46MB uploaded (0.00MB deduped)\r",
            "_view_count": null,
            "_view_module_version": "1.5.0",
            "description_tooltip": null,
            "_model_module": "@jupyter-widgets/controls",
            "layout": "IPY_MODEL_1ca6e78132534c77b5f33faf1699197a"
          }
        },
        "5087d1ebefa54fec9e9c1b928af64d30": {
          "model_module": "@jupyter-widgets/controls",
          "model_name": "FloatProgressModel",
          "state": {
            "_view_name": "ProgressView",
            "style": "IPY_MODEL_b1d16f4d309646b99ec8615f2850077b",
            "_dom_classes": [],
            "description": "",
            "_model_name": "FloatProgressModel",
            "bar_style": "",
            "max": 1,
            "_view_module": "@jupyter-widgets/controls",
            "_model_module_version": "1.5.0",
            "value": 1,
            "_view_count": null,
            "_view_module_version": "1.5.0",
            "orientation": "horizontal",
            "min": 0,
            "description_tooltip": null,
            "_model_module": "@jupyter-widgets/controls",
            "layout": "IPY_MODEL_f8f47e5f227a456b95eee0ff7d52ea47"
          }
        },
        "c9f5964ca35f49fcb38a12c7dcd88c14": {
          "model_module": "@jupyter-widgets/controls",
          "model_name": "DescriptionStyleModel",
          "state": {
            "_view_name": "StyleView",
            "_model_name": "DescriptionStyleModel",
            "description_width": "",
            "_view_module": "@jupyter-widgets/base",
            "_model_module_version": "1.5.0",
            "_view_count": null,
            "_view_module_version": "1.2.0",
            "_model_module": "@jupyter-widgets/controls"
          }
        },
        "1ca6e78132534c77b5f33faf1699197a": {
          "model_module": "@jupyter-widgets/base",
          "model_name": "LayoutModel",
          "state": {
            "_view_name": "LayoutView",
            "grid_template_rows": null,
            "right": null,
            "justify_content": null,
            "_view_module": "@jupyter-widgets/base",
            "overflow": null,
            "_model_module_version": "1.2.0",
            "_view_count": null,
            "flex_flow": null,
            "width": null,
            "min_width": null,
            "border": null,
            "align_items": null,
            "bottom": null,
            "_model_module": "@jupyter-widgets/base",
            "top": null,
            "grid_column": null,
            "overflow_y": null,
            "overflow_x": null,
            "grid_auto_flow": null,
            "grid_area": null,
            "grid_template_columns": null,
            "flex": null,
            "_model_name": "LayoutModel",
            "justify_items": null,
            "grid_row": null,
            "max_height": null,
            "align_content": null,
            "visibility": null,
            "align_self": null,
            "height": null,
            "min_height": null,
            "padding": null,
            "grid_auto_rows": null,
            "grid_gap": null,
            "max_width": null,
            "order": null,
            "_view_module_version": "1.2.0",
            "grid_template_areas": null,
            "object_position": null,
            "object_fit": null,
            "grid_auto_columns": null,
            "margin": null,
            "display": null,
            "left": null
          }
        },
        "b1d16f4d309646b99ec8615f2850077b": {
          "model_module": "@jupyter-widgets/controls",
          "model_name": "ProgressStyleModel",
          "state": {
            "_view_name": "StyleView",
            "_model_name": "ProgressStyleModel",
            "description_width": "",
            "_view_module": "@jupyter-widgets/base",
            "_model_module_version": "1.5.0",
            "_view_count": null,
            "_view_module_version": "1.2.0",
            "bar_color": null,
            "_model_module": "@jupyter-widgets/controls"
          }
        },
        "f8f47e5f227a456b95eee0ff7d52ea47": {
          "model_module": "@jupyter-widgets/base",
          "model_name": "LayoutModel",
          "state": {
            "_view_name": "LayoutView",
            "grid_template_rows": null,
            "right": null,
            "justify_content": null,
            "_view_module": "@jupyter-widgets/base",
            "overflow": null,
            "_model_module_version": "1.2.0",
            "_view_count": null,
            "flex_flow": null,
            "width": null,
            "min_width": null,
            "border": null,
            "align_items": null,
            "bottom": null,
            "_model_module": "@jupyter-widgets/base",
            "top": null,
            "grid_column": null,
            "overflow_y": null,
            "overflow_x": null,
            "grid_auto_flow": null,
            "grid_area": null,
            "grid_template_columns": null,
            "flex": null,
            "_model_name": "LayoutModel",
            "justify_items": null,
            "grid_row": null,
            "max_height": null,
            "align_content": null,
            "visibility": null,
            "align_self": null,
            "height": null,
            "min_height": null,
            "padding": null,
            "grid_auto_rows": null,
            "grid_gap": null,
            "max_width": null,
            "order": null,
            "_view_module_version": "1.2.0",
            "grid_template_areas": null,
            "object_position": null,
            "object_fit": null,
            "grid_auto_columns": null,
            "margin": null,
            "display": null,
            "left": null
          }
        },
        "33ef4703635241dc9c342fae52a3d398": {
          "model_module": "@jupyter-widgets/controls",
          "model_name": "VBoxModel",
          "state": {
            "_view_name": "VBoxView",
            "_dom_classes": [],
            "_model_name": "VBoxModel",
            "_view_module": "@jupyter-widgets/controls",
            "_model_module_version": "1.5.0",
            "_view_count": null,
            "_view_module_version": "1.5.0",
            "box_style": "",
            "layout": "IPY_MODEL_9662c3faad954059a1f34ab1cc294072",
            "_model_module": "@jupyter-widgets/controls",
            "children": [
              "IPY_MODEL_33a7e665cd1c4961befecc1f294e5330",
              "IPY_MODEL_e9d96e17984c42fa965bf8e261cba83d"
            ]
          }
        },
        "9662c3faad954059a1f34ab1cc294072": {
          "model_module": "@jupyter-widgets/base",
          "model_name": "LayoutModel",
          "state": {
            "_view_name": "LayoutView",
            "grid_template_rows": null,
            "right": null,
            "justify_content": null,
            "_view_module": "@jupyter-widgets/base",
            "overflow": null,
            "_model_module_version": "1.2.0",
            "_view_count": null,
            "flex_flow": null,
            "width": null,
            "min_width": null,
            "border": null,
            "align_items": null,
            "bottom": null,
            "_model_module": "@jupyter-widgets/base",
            "top": null,
            "grid_column": null,
            "overflow_y": null,
            "overflow_x": null,
            "grid_auto_flow": null,
            "grid_area": null,
            "grid_template_columns": null,
            "flex": null,
            "_model_name": "LayoutModel",
            "justify_items": null,
            "grid_row": null,
            "max_height": null,
            "align_content": null,
            "visibility": null,
            "align_self": null,
            "height": null,
            "min_height": null,
            "padding": null,
            "grid_auto_rows": null,
            "grid_gap": null,
            "max_width": null,
            "order": null,
            "_view_module_version": "1.2.0",
            "grid_template_areas": null,
            "object_position": null,
            "object_fit": null,
            "grid_auto_columns": null,
            "margin": null,
            "display": null,
            "left": null
          }
        },
        "33a7e665cd1c4961befecc1f294e5330": {
          "model_module": "@jupyter-widgets/controls",
          "model_name": "LabelModel",
          "state": {
            "_view_name": "LabelView",
            "style": "IPY_MODEL_376b57e6a0ba445b84b20e82370126ec",
            "_dom_classes": [],
            "description": "",
            "_model_name": "LabelModel",
            "placeholder": "​",
            "_view_module": "@jupyter-widgets/controls",
            "_model_module_version": "1.5.0",
            "value": " 12.45MB of 12.45MB uploaded (0.00MB deduped)\r",
            "_view_count": null,
            "_view_module_version": "1.5.0",
            "description_tooltip": null,
            "_model_module": "@jupyter-widgets/controls",
            "layout": "IPY_MODEL_92968de84b004ff9b074c19c903f2338"
          }
        },
        "e9d96e17984c42fa965bf8e261cba83d": {
          "model_module": "@jupyter-widgets/controls",
          "model_name": "FloatProgressModel",
          "state": {
            "_view_name": "ProgressView",
            "style": "IPY_MODEL_4942904cfdac4e7687e499a517705aa9",
            "_dom_classes": [],
            "description": "",
            "_model_name": "FloatProgressModel",
            "bar_style": "",
            "max": 1,
            "_view_module": "@jupyter-widgets/controls",
            "_model_module_version": "1.5.0",
            "value": 1,
            "_view_count": null,
            "_view_module_version": "1.5.0",
            "orientation": "horizontal",
            "min": 0,
            "description_tooltip": null,
            "_model_module": "@jupyter-widgets/controls",
            "layout": "IPY_MODEL_d9b080acd1e8487bb2443316f7aea447"
          }
        },
        "376b57e6a0ba445b84b20e82370126ec": {
          "model_module": "@jupyter-widgets/controls",
          "model_name": "DescriptionStyleModel",
          "state": {
            "_view_name": "StyleView",
            "_model_name": "DescriptionStyleModel",
            "description_width": "",
            "_view_module": "@jupyter-widgets/base",
            "_model_module_version": "1.5.0",
            "_view_count": null,
            "_view_module_version": "1.2.0",
            "_model_module": "@jupyter-widgets/controls"
          }
        },
        "92968de84b004ff9b074c19c903f2338": {
          "model_module": "@jupyter-widgets/base",
          "model_name": "LayoutModel",
          "state": {
            "_view_name": "LayoutView",
            "grid_template_rows": null,
            "right": null,
            "justify_content": null,
            "_view_module": "@jupyter-widgets/base",
            "overflow": null,
            "_model_module_version": "1.2.0",
            "_view_count": null,
            "flex_flow": null,
            "width": null,
            "min_width": null,
            "border": null,
            "align_items": null,
            "bottom": null,
            "_model_module": "@jupyter-widgets/base",
            "top": null,
            "grid_column": null,
            "overflow_y": null,
            "overflow_x": null,
            "grid_auto_flow": null,
            "grid_area": null,
            "grid_template_columns": null,
            "flex": null,
            "_model_name": "LayoutModel",
            "justify_items": null,
            "grid_row": null,
            "max_height": null,
            "align_content": null,
            "visibility": null,
            "align_self": null,
            "height": null,
            "min_height": null,
            "padding": null,
            "grid_auto_rows": null,
            "grid_gap": null,
            "max_width": null,
            "order": null,
            "_view_module_version": "1.2.0",
            "grid_template_areas": null,
            "object_position": null,
            "object_fit": null,
            "grid_auto_columns": null,
            "margin": null,
            "display": null,
            "left": null
          }
        },
        "4942904cfdac4e7687e499a517705aa9": {
          "model_module": "@jupyter-widgets/controls",
          "model_name": "ProgressStyleModel",
          "state": {
            "_view_name": "StyleView",
            "_model_name": "ProgressStyleModel",
            "description_width": "",
            "_view_module": "@jupyter-widgets/base",
            "_model_module_version": "1.5.0",
            "_view_count": null,
            "_view_module_version": "1.2.0",
            "bar_color": null,
            "_model_module": "@jupyter-widgets/controls"
          }
        },
        "d9b080acd1e8487bb2443316f7aea447": {
          "model_module": "@jupyter-widgets/base",
          "model_name": "LayoutModel",
          "state": {
            "_view_name": "LayoutView",
            "grid_template_rows": null,
            "right": null,
            "justify_content": null,
            "_view_module": "@jupyter-widgets/base",
            "overflow": null,
            "_model_module_version": "1.2.0",
            "_view_count": null,
            "flex_flow": null,
            "width": null,
            "min_width": null,
            "border": null,
            "align_items": null,
            "bottom": null,
            "_model_module": "@jupyter-widgets/base",
            "top": null,
            "grid_column": null,
            "overflow_y": null,
            "overflow_x": null,
            "grid_auto_flow": null,
            "grid_area": null,
            "grid_template_columns": null,
            "flex": null,
            "_model_name": "LayoutModel",
            "justify_items": null,
            "grid_row": null,
            "max_height": null,
            "align_content": null,
            "visibility": null,
            "align_self": null,
            "height": null,
            "min_height": null,
            "padding": null,
            "grid_auto_rows": null,
            "grid_gap": null,
            "max_width": null,
            "order": null,
            "_view_module_version": "1.2.0",
            "grid_template_areas": null,
            "object_position": null,
            "object_fit": null,
            "grid_auto_columns": null,
            "margin": null,
            "display": null,
            "left": null
          }
        }
      }
    }
  },
  "cells": [
    {
      "cell_type": "markdown",
      "metadata": {
        "id": "view-in-github",
        "colab_type": "text"
      },
      "source": [
        "<a href=\"https://colab.research.google.com/github/Swathi1309/ED18B034_ME18B133_CS6910/blob/main/Assignment3/Assignment3.ipynb\" target=\"_parent\"><img src=\"https://colab.research.google.com/assets/colab-badge.svg\" alt=\"Open In Colab\"/></a>"
      ]
    },
    {
      "cell_type": "markdown",
      "metadata": {
        "id": "ERdcRt08YczS"
      },
      "source": [
        "# Import"
      ]
    },
    {
      "cell_type": "code",
      "metadata": {
        "id": "ppVny72Q-SPg"
      },
      "source": [
        "import numpy as np\n",
        "import tensorflow as tf\n",
        "from tensorflow import keras\n",
        "from keras import Model\n",
        "from keras.layers import SimpleRNN, LSTM, GRU, Dense, Dropout, TimeDistributed, Lambda, Activation, Reshape,\\\n",
        "Softmax, Multiply, AdditiveAttention, Concatenate, Add, RepeatVector\n",
        "import tarfile\n",
        "import random\n",
        "from keras.optimizers import RMSprop, Adam, SGD\n",
        "from keras.utils import to_categorical\n",
        "\n",
        "from math import log\n",
        "from numpy import array, argmax\n",
        "import sklearn\n",
        "\n",
        "import pprint"
      ],
      "execution_count": 1,
      "outputs": []
    },
    {
      "cell_type": "code",
      "metadata": {
        "id": "vV6TzDuChLd8",
        "colab": {
          "base_uri": "https://localhost:8080/",
          "height": 1000
        },
        "outputId": "e0d52afc-1b62-467d-d873-8b67a03b2e1a"
      },
      "source": [
        "!pip install wandb\n",
        "!wandb login\n",
        "import wandb\n",
        "from wandb.keras import WandbCallback\n",
        "wandb.init(project=\"assg3\", entity='cs6910_project')"
      ],
      "execution_count": 57,
      "outputs": [
        {
          "output_type": "stream",
          "text": [
            "Requirement already satisfied: wandb in /usr/local/lib/python3.7/dist-packages (0.10.30)\n",
            "Requirement already satisfied: requests<3,>=2.0.0 in /usr/local/lib/python3.7/dist-packages (from wandb) (2.23.0)\n",
            "Requirement already satisfied: configparser>=3.8.1 in /usr/local/lib/python3.7/dist-packages (from wandb) (5.0.2)\n",
            "Requirement already satisfied: python-dateutil>=2.6.1 in /usr/local/lib/python3.7/dist-packages (from wandb) (2.8.1)\n",
            "Requirement already satisfied: docker-pycreds>=0.4.0 in /usr/local/lib/python3.7/dist-packages (from wandb) (0.4.0)\n",
            "Requirement already satisfied: promise<3,>=2.0 in /usr/local/lib/python3.7/dist-packages (from wandb) (2.3)\n",
            "Requirement already satisfied: six>=1.13.0 in /usr/local/lib/python3.7/dist-packages (from wandb) (1.15.0)\n",
            "Requirement already satisfied: subprocess32>=3.5.3 in /usr/local/lib/python3.7/dist-packages (from wandb) (3.5.4)\n",
            "Requirement already satisfied: protobuf>=3.12.0 in /usr/local/lib/python3.7/dist-packages (from wandb) (3.12.4)\n",
            "Requirement already satisfied: GitPython>=1.0.0 in /usr/local/lib/python3.7/dist-packages (from wandb) (3.1.17)\n",
            "Requirement already satisfied: PyYAML in /usr/local/lib/python3.7/dist-packages (from wandb) (3.13)\n",
            "Requirement already satisfied: Click>=7.0 in /usr/local/lib/python3.7/dist-packages (from wandb) (8.0.0)\n",
            "Requirement already satisfied: pathtools in /usr/local/lib/python3.7/dist-packages (from wandb) (0.1.2)\n",
            "Requirement already satisfied: psutil>=5.0.0 in /usr/local/lib/python3.7/dist-packages (from wandb) (5.4.8)\n",
            "Requirement already satisfied: shortuuid>=0.5.0 in /usr/local/lib/python3.7/dist-packages (from wandb) (1.0.1)\n",
            "Requirement already satisfied: sentry-sdk>=0.4.0 in /usr/local/lib/python3.7/dist-packages (from wandb) (1.1.0)\n",
            "Requirement already satisfied: idna<3,>=2.5 in /usr/local/lib/python3.7/dist-packages (from requests<3,>=2.0.0->wandb) (2.10)\n",
            "Requirement already satisfied: chardet<4,>=3.0.2 in /usr/local/lib/python3.7/dist-packages (from requests<3,>=2.0.0->wandb) (3.0.4)\n",
            "Requirement already satisfied: urllib3!=1.25.0,!=1.25.1,<1.26,>=1.21.1 in /usr/local/lib/python3.7/dist-packages (from requests<3,>=2.0.0->wandb) (1.24.3)\n",
            "Requirement already satisfied: certifi>=2017.4.17 in /usr/local/lib/python3.7/dist-packages (from requests<3,>=2.0.0->wandb) (2020.12.5)\n",
            "Requirement already satisfied: setuptools in /usr/local/lib/python3.7/dist-packages (from protobuf>=3.12.0->wandb) (56.1.0)\n",
            "Requirement already satisfied: gitdb<5,>=4.0.1 in /usr/local/lib/python3.7/dist-packages (from GitPython>=1.0.0->wandb) (4.0.7)\n",
            "Requirement already satisfied: typing-extensions>=3.7.4.0; python_version < \"3.8\" in /usr/local/lib/python3.7/dist-packages (from GitPython>=1.0.0->wandb) (3.7.4.3)\n",
            "Requirement already satisfied: smmap<5,>=3.0.1 in /usr/local/lib/python3.7/dist-packages (from gitdb<5,>=4.0.1->GitPython>=1.0.0->wandb) (4.0.0)\n",
            "\u001b[34m\u001b[1mwandb\u001b[0m: Currently logged in as: \u001b[33mcs6910_project\u001b[0m (use `wandb login --relogin` to force relogin)\n"
          ],
          "name": "stdout"
        },
        {
          "output_type": "stream",
          "text": [
            "\u001b[34m\u001b[1mwandb\u001b[0m: Currently logged in as: \u001b[33mcs6910_project\u001b[0m (use `wandb login --relogin` to force relogin)\n"
          ],
          "name": "stderr"
        },
        {
          "output_type": "display_data",
          "data": {
            "text/html": [
              "\n",
              "                Tracking run with wandb version 0.10.30<br/>\n",
              "                Syncing run <strong style=\"color:#cdcd00\">wild-gorge-7</strong> to <a href=\"https://wandb.ai\" target=\"_blank\">Weights & Biases</a> <a href=\"https://docs.wandb.com/integrations/jupyter.html\" target=\"_blank\">(Documentation)</a>.<br/>\n",
              "                Project page: <a href=\"https://wandb.ai/cs6910_project/assg3\" target=\"_blank\">https://wandb.ai/cs6910_project/assg3</a><br/>\n",
              "                Run page: <a href=\"https://wandb.ai/cs6910_project/assg3/runs/3o1udcma\" target=\"_blank\">https://wandb.ai/cs6910_project/assg3/runs/3o1udcma</a><br/>\n",
              "                Run data is saved locally in <code>/content/wandb/run-20210521_064252-3o1udcma</code><br/><br/>\n",
              "            "
            ],
            "text/plain": [
              "<IPython.core.display.HTML object>"
            ]
          },
          "metadata": {
            "tags": []
          }
        },
        {
          "output_type": "execute_result",
          "data": {
            "text/plain": [
              "<wandb.sdk.wandb_run.Run at 0x7f52c0da3890>"
            ],
            "text/html": [
              "<h1>Run(3o1udcma)</h1><iframe src=\"https://wandb.ai/cs6910_project/assg3/runs/3o1udcma\" style=\"border:none;width:100%;height:400px\"></iframe>"
            ]
          },
          "metadata": {
            "tags": []
          },
          "execution_count": 57
        }
      ]
    },
    {
      "cell_type": "code",
      "metadata": {
        "id": "3d2LNP-C3PD6",
        "colab": {
          "base_uri": "https://localhost:8080/"
        },
        "outputId": "1574d18e-651f-4214-9d1f-caea095cd312"
      },
      "source": [
        "from google.colab import drive\n",
        "drive.mount('/content/drive')"
      ],
      "execution_count": 3,
      "outputs": [
        {
          "output_type": "stream",
          "text": [
            "Mounted at /content/drive\n"
          ],
          "name": "stdout"
        }
      ]
    },
    {
      "cell_type": "markdown",
      "metadata": {
        "id": "mEjUih-v4Ad7"
      },
      "source": [
        "# Examples"
      ]
    },
    {
      "cell_type": "markdown",
      "metadata": {
        "id": "fcMrqAD0GVTJ"
      },
      "source": [
        "File extraction"
      ]
    },
    {
      "cell_type": "code",
      "metadata": {
        "id": "CV1gW8TTyr7x"
      },
      "source": [
        "my_tar = tarfile.open('/content/drive/MyDrive/Dakshina dataset/dakshina_dataset_v1.0.tar')\n",
        "my_tar.extractall('/content/drive/MyDrive/Dakshina dataset') # specify which folder to extract to\n",
        "my_tar.close()"
      ],
      "execution_count": null,
      "outputs": []
    },
    {
      "cell_type": "markdown",
      "metadata": {
        "id": "2Pn0kolbGcbE"
      },
      "source": [
        "Examples"
      ]
    },
    {
      "cell_type": "code",
      "metadata": {
        "id": "IDYd7sMK4s8_"
      },
      "source": [
        "import csv\n",
        "hi_to_eng = open(\"/content/drive/MyDrive/Dakshina dataset/dakshina_dataset_v1.0/hi/lexicons/hi.translit.sampled.train.tsv\")\n",
        "read_tsv = csv.reader(hi_to_eng, delimiter=\"\\t\")\n",
        "i=0\n",
        "for row in read_tsv:\n",
        "  i +=1\n",
        "  print(row)\n",
        "  if i==30:\n",
        "    break\n",
        "hi_to_eng.close()"
      ],
      "execution_count": null,
      "outputs": []
    },
    {
      "cell_type": "markdown",
      "metadata": {
        "id": "hZPMhq4O4F78"
      },
      "source": [
        "# Loading datasets"
      ]
    },
    {
      "cell_type": "code",
      "metadata": {
        "id": "6DWRiV13NFdC"
      },
      "source": [
        "def load_data(data_path, data):\n",
        "  input_texts=[]\n",
        "  target_texts = []\n",
        "  global tk_input, tk_target, num_input_tokens, num_target_tokens\n",
        "  \n",
        "  with open(data_path, \"r\", encoding=\"utf-8\") as f:\n",
        "    lines = f.read().split(\"\\n\")\n",
        "  for line in lines[: (len(lines) - 1)]:\n",
        "    input_text, target_text, _ = line.split(\"\\t\")\n",
        "    # We use \"tab\" as the \"start sequence\" character for the targets, and \"\\n\" as \"end sequence\" character.\n",
        "    target_text = \"\\t\" + target_text + \"\\n\"\n",
        "    input_texts.append(input_text)\n",
        "    target_texts.append(target_text)\n",
        "  # random.seed(10)\n",
        "  # random.shuffle(input_texts)\n",
        "  # random.seed(10)\n",
        "  # random.shuffle(target_texts)\n",
        "     \n",
        "  if (data == \"train\"):\n",
        "    tk_input = keras.preprocessing.text.Tokenizer(num_words=None, char_level=True)\n",
        "    tk_input.fit_on_texts(input_texts)\n",
        "    enc_input = tk_input.texts_to_sequences(input_texts)\n",
        "    enc_input = tf.keras.preprocessing.sequence.pad_sequences(enc_input, padding='post')\n",
        "\n",
        "    tk_target = keras.preprocessing.text.Tokenizer(num_words=None, char_level=True)\n",
        "    tk_target.fit_on_texts(target_texts)\n",
        "    dec_target = tk_target.texts_to_sequences(target_texts)\n",
        "    dec_target = tf.keras.preprocessing.sequence.pad_sequences(dec_target, padding='post')\n",
        "\n",
        "    dec_input = np.zeros(dec_target.shape)\n",
        "    dec_input[:,:(dec_target.shape[1]-1)] = dec_target[:,1:]\n",
        "  \n",
        "  else:\n",
        "    enc_input = tk_input.texts_to_sequences(input_texts)\n",
        "    enc_input = tf.keras.preprocessing.sequence.pad_sequences(enc_input, padding='post', maxlen = max_input_length)\n",
        "\n",
        "    dec_target = tk_target.texts_to_sequences(target_texts)\n",
        "    dec_target = tf.keras.preprocessing.sequence.pad_sequences(dec_target, padding='post', maxlen = max_target_length)\n",
        "\n",
        "    dec_input = np.zeros(dec_target.shape)\n",
        "    dec_input[:,:(dec_target.shape[1]-1)] = dec_target[:,1:]\n",
        "  \n",
        "  return enc_input, dec_target, dec_input"
      ],
      "execution_count": 41,
      "outputs": []
    },
    {
      "cell_type": "code",
      "metadata": {
        "id": "5ap4sT1mhcnJ"
      },
      "source": [
        "# Number of samples to train on.\n",
        "# Path to the data txt file on disk.\n",
        "data_path_train = \"/content/drive/MyDrive/Dakshina dataset/dakshina_dataset_v1.0/hi/lexicons/hi.translit.sampled.train.tsv\"\n",
        "data_path_dev = '/content/drive/MyDrive/Dakshina dataset/dakshina_dataset_v1.0/hi/lexicons/hi.translit.sampled.dev.tsv'"
      ],
      "execution_count": 42,
      "outputs": []
    },
    {
      "cell_type": "code",
      "metadata": {
        "id": "4xJb4hbNNPO-"
      },
      "source": [
        "global enc_input_train, dec_input_train, dec_target_train, enc_input_dev, dec_input_dev, dec_target_dev\n",
        "global tk_input, tk_target\n",
        "global input_token_train, output_token_train, max_input_length, max_target_length\n",
        "global y_true_dev, y_true_train\n",
        "\n",
        "batch_size = 256\n",
        "\n",
        "enc_input_train, dec_input_train, dec_target_train = load_data(data_path_train,'train')\n",
        "\n",
        "max_input_length = enc_input_train.shape[1]\n",
        "max_target_length = dec_target_train.shape[1]\n",
        "\n",
        "num_input_tokens = len(tk_input.word_index)+1\n",
        "num_target_tokens = len(tk_target.word_index)+1\n",
        "\n",
        "enc_input_dev, dec_input_dev, dec_target_dev = load_data(data_path_dev,'dev')"
      ],
      "execution_count": 43,
      "outputs": []
    },
    {
      "cell_type": "markdown",
      "metadata": {
        "id": "XKsbiqPCB_Ua"
      },
      "source": [
        "One hot encoding of the target outputs"
      ]
    },
    {
      "cell_type": "code",
      "metadata": {
        "id": "e06zEFkwZGnZ"
      },
      "source": [
        "y_true_dev = np.zeros((dec_target_dev.shape[0],dec_target_dev.shape[1], num_target_tokens))\n",
        "for i in range(0,dec_target_dev.shape[0]):\n",
        "  y_true_dev[i] = to_categorical(dec_target_dev[i], num_classes = num_target_tokens)\n",
        "\n",
        "y_true_train = np.zeros((dec_target_train.shape[0],dec_target_train.shape[1], num_target_tokens))\n",
        "for i in range(0,dec_target_train.shape[0]):\n",
        "  y_true_train[i] = to_categorical(dec_target_train[i], num_classes = num_target_tokens)"
      ],
      "execution_count": 44,
      "outputs": []
    },
    {
      "cell_type": "markdown",
      "metadata": {
        "id": "5JFCpjQw8WuD"
      },
      "source": [
        "# Defining functions"
      ]
    },
    {
      "cell_type": "markdown",
      "metadata": {
        "id": "FBsU_wpbCkSH"
      },
      "source": [
        "Encoder"
      ]
    },
    {
      "cell_type": "code",
      "metadata": {
        "id": "NJHFjZGFxpCb"
      },
      "source": [
        "def encoder(enc_out,enc_block, latent_dim, enc_layers):\n",
        "  states = []\n",
        "  for i in range(0,enc_layers):\n",
        "    if enc_block =='LSTM':\n",
        "      enc_out ,h ,c = LSTM(latent_dim, return_state=True, return_sequences=True, name='encoder'+str(i))(enc_out)\n",
        "      s = [h,c]\n",
        "      states.append(s)\n",
        "    elif enc_block =='GRU':\n",
        "      enc_out ,s = GRU(latent_dim, return_state=True, return_sequences=True, name='encoder'+str(i))(enc_out)\n",
        "      states.append(s)\n",
        "    else:\n",
        "      enc_out ,s = SimpleRNN(latent_dim, return_state=True, return_sequences=True, name='encoder'+str(i))(enc_out)\n",
        "      states.append(s)\n",
        "    \n",
        "  return enc_out,states"
      ],
      "execution_count": 6,
      "outputs": []
    },
    {
      "cell_type": "markdown",
      "metadata": {
        "id": "LwXShc-kCldx"
      },
      "source": [
        "Decoder"
      ]
    },
    {
      "cell_type": "code",
      "metadata": {
        "id": "4tgqA46f6gtJ"
      },
      "source": [
        "def decoder(X_input_dec, hs_init, latent_dim, dec_block, dec_layers, dense_no, drop_no):\n",
        "  out_dec = X_input_dec\n",
        "  hs = hs_init\n",
        "  for i in range (0,dec_layers):\n",
        "    if dec_block == 'LSTM':\n",
        "      out_dec, h, s = LSTM(latent_dim, return_sequences=True, return_state=True, name='decoder'+str(i))(out_dec, initial_state = hs[i])\n",
        "    elif dec_block == 'GRU':\n",
        "      out_dec, _ = GRU(latent_dim, return_sequences=True, return_state=True, name='decoder'+str(i))(out_dec, initial_state = hs[i])\n",
        "    else:\n",
        "      out_dec, _ = SimpleRNN(latent_dim, return_sequences=True, return_state=True, name='decoder'+str(i))(out_dec, initial_state = hs[i])\n",
        "  \n",
        "  if dense_no != 0:\n",
        "    out_dec = TimeDistributed(Dense(dense_no, activation=\"relu\", name = 'output'), name = 'dense_hidden')(out_dec)\n",
        "    out_dec = Dropout(drop_no)(out_dec)\n",
        "  out_dec = TimeDistributed(Dense(num_target_tokens, activation=\"softmax\", name = 'output'), name = 'dense')(out_dec)\n",
        "  \n",
        "  return out_dec"
      ],
      "execution_count": 7,
      "outputs": []
    },
    {
      "cell_type": "markdown",
      "metadata": {
        "id": "GB6WZ52zCqRW"
      },
      "source": [
        "Bahnadau Attention"
      ]
    },
    {
      "cell_type": "code",
      "metadata": {
        "id": "D1BDb-AY_D9I"
      },
      "source": [
        "def b_attention(latent_dim):\n",
        "\n",
        "  query_in = keras.Input((latent_dim,))\n",
        "  values_in = keras.Input((max_input_length,latent_dim))\n",
        "  query = Reshape((1,latent_dim), name='query_reshape')(query_in)\n",
        "  score_unit2 = Dense(num_target_tokens, name='score_unitq')(query)\n",
        "  score_unit1 = Dense(num_target_tokens, name='score_unitv')(values_in)\n",
        "  score_unit12 = Add()([score_unit1, score_unit2])\n",
        "  score_unit12 = Activation('tanh')(score_unit12)\n",
        "  score = Dense(1)(score_unit12)\n",
        "  attention_weights = Softmax(axis=1)(score)\n",
        "  context_vector = Multiply()([attention_weights,values_in])\n",
        "  context_vector = Lambda(lambda x: tf.reduce_sum(x,axis=1))(context_vector)\n",
        "  context_vector = RepeatVector(max_target_length)(context_vector)\n",
        "\n",
        "  model = Model(inputs = [query_in,values_in], outputs = [context_vector, attention_weights], name='attention')\n",
        "  return model"
      ],
      "execution_count": 8,
      "outputs": []
    },
    {
      "cell_type": "code",
      "metadata": {
        "id": "BHi3CPzn4wu9"
      },
      "source": [
        "att_model = b_attention(256)\n",
        "keras.utils.plot_model(att_model,show_shapes=True, rankdir='TB')"
      ],
      "execution_count": null,
      "outputs": []
    },
    {
      "cell_type": "markdown",
      "metadata": {
        "id": "Ygx1U3yICuJk"
      },
      "source": [
        "Final RNN model for training"
      ]
    },
    {
      "cell_type": "code",
      "metadata": {
        "id": "YAWVP3PL8kdB"
      },
      "source": [
        "def RNN_model(embedding_no, enc_block, latent_dim, dec_block, dense_no, drop_no, enc_layers, dec_layers):\n",
        "  X_input_enc = keras.Input(shape=(max_input_length,))\n",
        "  X_input_dec = keras.Input(shape=(max_target_length,))\n",
        "  X_enc = tf.keras.layers.Embedding(num_input_tokens, embedding_no, name = 'embedding_enc')(X_input_enc)\n",
        "  X_dec = tf.keras.layers.Embedding(num_target_tokens, embedding_no, name = 'embedding_dec')(X_input_dec)\n",
        "  _,s_init = encoder(X_enc,enc_block, latent_dim, enc_layers)\n",
        "  out_dec = decoder(X_dec,s_init, latent_dim, dec_block, dec_layers, dense_no, drop_no)\n",
        "  model = Model(inputs = [X_input_enc,X_input_dec], outputs = out_dec, name = 'train_model')\n",
        "  return model"
      ],
      "execution_count": 23,
      "outputs": []
    },
    {
      "cell_type": "markdown",
      "metadata": {
        "id": "kCUymygPC1HU"
      },
      "source": [
        "Final RNN model with attention for training"
      ]
    },
    {
      "cell_type": "code",
      "metadata": {
        "id": "Y6s5BUk5Q9dU"
      },
      "source": [
        "def RNN_w_att(embedding_no, enc_block, latent_dim, dec_block, dense_no, drop_no, enc_layers, dec_layers):\n",
        "  X_input_enc = keras.Input(shape=(max_input_length,))\n",
        "  X_input_dec = keras.Input(shape=(max_target_length,))\n",
        "\n",
        "  X_enc = tf.keras.layers.Embedding(num_input_tokens, embedding_no, name = 'embedding_enc')(X_input_enc)\n",
        "  X_dec = tf.keras.layers.Embedding(num_target_tokens, embedding_no, name = 'embedding_dec')(X_input_dec)\n",
        "\n",
        "  values,s_init = encoder(X_enc,enc_block, latent_dim, enc_layers)\n",
        "  context_vector, weights = b_attention(latent_dim)([s_init[len(s_init)-1][0], values])\n",
        "  X_dec = Concatenate(name = 'concatenate')([context_vector,X_dec])\n",
        "\n",
        "  out_dec = decoder(X_dec,s_init, latent_dim, dec_block, dec_layers, dense_no, drop_no)\n",
        "  model = Model(inputs = [X_input_enc,X_input_dec], outputs = out_dec, name = 'train_model')\n",
        "\n",
        "  return model"
      ],
      "execution_count": 10,
      "outputs": []
    },
    {
      "cell_type": "code",
      "metadata": {
        "id": "RVWI_VT_5WnP"
      },
      "source": [
        "rnnmodel= RNN_w_att(128,'LSTM',256,'LSTM',0,0,1,1)\n",
        "keras.utils.plot_model(rnnmodel,show_shapes=True, rankdir='TB')"
      ],
      "execution_count": null,
      "outputs": []
    },
    {
      "cell_type": "markdown",
      "metadata": {
        "id": "0JuwWrzxDE93"
      },
      "source": [
        "Inference Encoder and Decoder"
      ]
    },
    {
      "cell_type": "code",
      "metadata": {
        "id": "oquP5kRhmm8H"
      },
      "source": [
        "def enc_inference(model,enc_layers,rnn_block):\n",
        "  X_enc = model.input[0]\n",
        "  X_in_enc = model.get_layer('embedding_enc')(X_enc)\n",
        "  enc_outputs = X_in_enc\n",
        "  states = []\n",
        "  if rnn_block == 'LSTM':\n",
        "    for i in range(0,enc_layers):\n",
        "      enc_outputs, h_enc, s_enc = model.get_layer('encoder'+str(i))(enc_outputs)\n",
        "      states.append([h_enc, s_enc])\n",
        "  else:\n",
        "    for i in range(0,enc_layers):\n",
        "      enc_outputs, s_enc = model.get_layer('encoder'+str(i))(enc_outputs)\n",
        "      states.append(s_enc)\n",
        "  \n",
        "  enc_model = keras.Model(inputs = X_enc, outputs = states)\n",
        "  return enc_model\n",
        "\n",
        "def dec_inference(model, latent_dim, dec_layers, rnn_block):\n",
        "  dec_inputs = model.input[1]\n",
        "  dec_outputs = model.get_layer('embedding_dec')(dec_inputs)\n",
        "  hs_inputs = []\n",
        "  if rnn_block == 'LSTM':\n",
        "    for i in range(0,dec_layers):\n",
        "      h = keras.Input(shape=(latent_dim,))\n",
        "      c = keras.Input(shape=(latent_dim,))\n",
        "      hs_inputs.append([h,c])\n",
        "    hs_outputs = []\n",
        "\n",
        "    for i in range(0,dec_layers):\n",
        "      dec_outputs, h_dec, s_dec = model.get_layer('decoder'+str(i))(dec_outputs, initial_state = hs_inputs[i])\n",
        "      hs_outputs.append([h_dec,s_dec])\n",
        "\n",
        "  else:\n",
        "    for i in range(0,dec_layers):\n",
        "      c = keras.Input(shape=(latent_dim,))\n",
        "      hs_inputs.append(c)\n",
        "    hs_outputs = []\n",
        "\n",
        "    for i in range(0,dec_layers):\n",
        "      dec_outputs, s_dec = model.get_layer('decoder'+str(i))(dec_outputs, initial_state = hs_inputs[i])\n",
        "      hs_outputs.append(s_dec)\n",
        "\n",
        "  dec_dense = model.get_layer('dense')\n",
        "  dec_outputs = dec_dense(dec_outputs)\n",
        "  dec_model = keras.Model(inputs = [dec_inputs] + hs_inputs, outputs = [dec_outputs] + hs_outputs)  \n",
        "  return dec_model"
      ],
      "execution_count": 27,
      "outputs": []
    },
    {
      "cell_type": "markdown",
      "metadata": {
        "id": "71YrvT6ODbjP"
      },
      "source": [
        "Greedy decoder function"
      ]
    },
    {
      "cell_type": "code",
      "metadata": {
        "id": "7xz4TBCM22Ef"
      },
      "source": [
        "def greedy_decoder(enc_inf, dec_inf, input_seq, rnn_block):\n",
        "  states = enc_inf.predict(input_seq)\n",
        "  target_seq = np.zeros((input_seq.shape[0],1))\n",
        "  target_seq[:,0] = tk_target.word_index[\"\\t\"]\n",
        "  pred = [[tk_target.word_index[\"\\t\"]] for _ in range (input_seq.shape[0])]\n",
        "  \n",
        "  if rnn_block == 'LSTM':\n",
        "    for i in range(max_target_length):\n",
        "      output_tokens, state_final = dec_inf.predict([target_seq] + states)\n",
        "      x = np.argmax(output_tokens, axis=-1)\n",
        "      target_seq = x\n",
        "      for j in range(input_seq.shape[0]):\n",
        "        pred[j].append(target_seq[j][0])\n",
        "      states = state_final\n",
        "\n",
        "  else:\n",
        "    for i in range(max_target_length):\n",
        "      output_tokens, c = dec_inf.predict([target_seq] + states)\n",
        "      x = np.argmax(output_tokens, axis=-1)\n",
        "      target_seq = x\n",
        "      for j in range(input_seq.shape[0]):\n",
        "        pred[j].append(target_seq[j][0])\n",
        "      states = c\n",
        "\n",
        "\n",
        "  return pred"
      ],
      "execution_count": 49,
      "outputs": []
    },
    {
      "cell_type": "markdown",
      "metadata": {
        "id": "o0zvZMYCDe4s"
      },
      "source": [
        "Beam Search Function and Decoder"
      ]
    },
    {
      "cell_type": "code",
      "metadata": {
        "id": "CkxA-7rBdZ14"
      },
      "source": [
        "def beam_search(enc_inf, dec_inf, input_seq, k):\n",
        "  states = enc_inf.predict(input_seq)\n",
        "  target_seq = np.zeros((3,1))\n",
        "  target_seq[:,0] = tk_target.word_index[\"\\t\"]\n",
        "  pred = [[[tk_target.word_index[\"\\t\"]], 0.0] for _ in range (3)]\n",
        "\n",
        "  for i in range(max_target_length):\n",
        "    all_candidates = list()\n",
        "    output_tokens, h, c = dec_inf.predict([target_seq] + states)\n",
        "    states = [h,c]\n",
        "    for j in range(len(pred)):\n",
        "      seq, score = pred[j]\n",
        "      for l in range(output_tokens.shape[-1]):\n",
        "        candidate = [seq + [l], score - log(output_tokens[j][0][l])]\n",
        "        all_candidates.append(candidate)\n",
        "      if i==0:\n",
        "        break\n",
        "    ordered = sorted(all_candidates, key=lambda tup:tup[1])\n",
        "    pred = ordered[:3]\n",
        "    for j in range (3):\n",
        "      target_seq[j] = pred[j][0][i+1]\n",
        "\n",
        "  final_pred = ordered[:1]\n",
        "  return (final_pred[0][0])"
      ],
      "execution_count": 13,
      "outputs": []
    },
    {
      "cell_type": "code",
      "metadata": {
        "id": "1zByAf11KG5y"
      },
      "source": [
        "def beam_search_decoder(enc_inf, dec_inf, input_seq, k):\n",
        "  pred = []\n",
        "  for i in range(input_seq.shape[0]):\n",
        "    input = input_seq[i:i+1,:]\n",
        "    input = np.concatenate((input,)*k, axis = 0)\n",
        "    pred.append(beam_search(enc_inf, dec_inf, input, k))\n",
        "    if i%100 == 0:\n",
        "      print((i/input_seq.shape[0])*100)\n",
        "  return pred"
      ],
      "execution_count": 14,
      "outputs": []
    },
    {
      "cell_type": "markdown",
      "metadata": {
        "id": "mQPs4ySnD1z_"
      },
      "source": [
        "Integer encoding to character mapping"
      ]
    },
    {
      "cell_type": "code",
      "metadata": {
        "id": "00iS3QSsHuwD"
      },
      "source": [
        "reverse_input_char_index = dict((i, char) for char, i in tk_input.word_index.items())\n",
        "reverse_target_char_index = dict((i, char) for char, i in tk_target.word_index.items())"
      ],
      "execution_count": 15,
      "outputs": []
    },
    {
      "cell_type": "markdown",
      "metadata": {
        "id": "RQ1YkgLoDopr"
      },
      "source": [
        "Encoding to Word conversion"
      ]
    },
    {
      "cell_type": "code",
      "metadata": {
        "id": "g2zgV0O2iPTo"
      },
      "source": [
        "def transliteration(inputs):\n",
        "  start = tk_target.word_index[\"\\t\"]\n",
        "  end = 0\n",
        "  words = []\n",
        "  for i in range(len(inputs)):\n",
        "    start_index = inputs[i].index(start)\n",
        "    end_index = inputs[i].index(end)\n",
        "    temp = inputs[i][start_index+1:end_index]\n",
        "    word = (list(map(reverse_target_char_index.__getitem__, temp)))\n",
        "    if (word[-1]==\"\\n\"):\n",
        "      # print (\"yayyy\")\n",
        "      word.pop(-1)\n",
        "    separator = ''\n",
        "    word_new = separator.join(word)\n",
        "    words.append(word_new)\n",
        "  return words"
      ],
      "execution_count": 16,
      "outputs": []
    },
    {
      "cell_type": "markdown",
      "metadata": {
        "id": "MJ39c241CeHM"
      },
      "source": [
        "Word Accuracy Metric"
      ]
    },
    {
      "cell_type": "code",
      "metadata": {
        "id": "jHGzLag7yzoc"
      },
      "source": [
        "def word_accuracy(true_words, pred_words):\n",
        "  count = len([i for i, j in zip(true_words, pred_words) if i==j])\n",
        "  return count/len(pred_words)"
      ],
      "execution_count": 17,
      "outputs": []
    },
    {
      "cell_type": "markdown",
      "metadata": {
        "id": "_WpWZK4G8dvA"
      },
      "source": [
        "# Rest of the code"
      ]
    },
    {
      "cell_type": "code",
      "metadata": {
        "id": "nddHQjK_zCJ1"
      },
      "source": [
        "model = RNN_model(256, 'LSTM', 512, 'LSTM', 0, 0, 1, 1)\n",
        "# keras.utils.plot_model(model,show_shapes=True, rankdir='TB')"
      ],
      "execution_count": 45,
      "outputs": []
    },
    {
      "cell_type": "code",
      "metadata": {
        "id": "8K0_aZnYxBPA",
        "colab": {
          "base_uri": "https://localhost:8080/"
        },
        "outputId": "40a77b04-eb72-42d2-8e4b-79e69f5394a2"
      },
      "source": [
        "model.compile(optimizer=Adam(1e-2), loss = 'categorical_crossentropy', metrics=['accuracy'])\n",
        "model.fit([enc_input_train,dec_input_train], y_true_train, \n",
        "          batch_size = 128,epochs=20, validation_data=([enc_input_dev,dec_input_dev], y_true_dev))"
      ],
      "execution_count": 46,
      "outputs": [
        {
          "output_type": "stream",
          "text": [
            "Epoch 1/20\n",
            "346/346 [==============================] - 11s 24ms/step - loss: 1.1197 - accuracy: 0.7071 - val_loss: 0.7652 - val_accuracy: 0.7680\n",
            "Epoch 2/20\n",
            "346/346 [==============================] - 8s 23ms/step - loss: 0.7338 - accuracy: 0.7745 - val_loss: 0.4672 - val_accuracy: 0.8524\n",
            "Epoch 3/20\n",
            "346/346 [==============================] - 8s 23ms/step - loss: 0.4013 - accuracy: 0.8746 - val_loss: 0.2551 - val_accuracy: 0.9220\n",
            "Epoch 4/20\n",
            "346/346 [==============================] - 8s 23ms/step - loss: 0.2313 - accuracy: 0.9281 - val_loss: 0.2127 - val_accuracy: 0.9347\n",
            "Epoch 5/20\n",
            "346/346 [==============================] - 8s 22ms/step - loss: 0.1844 - accuracy: 0.9414 - val_loss: 0.1970 - val_accuracy: 0.9389\n",
            "Epoch 6/20\n",
            "346/346 [==============================] - 8s 22ms/step - loss: 0.1631 - accuracy: 0.9472 - val_loss: 0.1878 - val_accuracy: 0.9412\n",
            "Epoch 7/20\n",
            "346/346 [==============================] - 8s 22ms/step - loss: 0.1484 - accuracy: 0.9514 - val_loss: 0.1861 - val_accuracy: 0.9423\n",
            "Epoch 8/20\n",
            "346/346 [==============================] - 8s 22ms/step - loss: 0.1409 - accuracy: 0.9529 - val_loss: 0.1832 - val_accuracy: 0.9436\n",
            "Epoch 9/20\n",
            "346/346 [==============================] - 8s 22ms/step - loss: 0.1342 - accuracy: 0.9550 - val_loss: 0.1861 - val_accuracy: 0.9428\n",
            "Epoch 10/20\n",
            "346/346 [==============================] - 8s 22ms/step - loss: 0.1276 - accuracy: 0.9567 - val_loss: 0.1823 - val_accuracy: 0.9442\n",
            "Epoch 11/20\n",
            "346/346 [==============================] - 8s 22ms/step - loss: 0.1280 - accuracy: 0.9562 - val_loss: 0.1892 - val_accuracy: 0.9427\n",
            "Epoch 12/20\n",
            "346/346 [==============================] - 8s 22ms/step - loss: 0.1269 - accuracy: 0.9565 - val_loss: 0.1865 - val_accuracy: 0.9431\n",
            "Epoch 13/20\n",
            "346/346 [==============================] - 8s 22ms/step - loss: 0.1259 - accuracy: 0.9569 - val_loss: 0.1910 - val_accuracy: 0.9425\n",
            "Epoch 14/20\n",
            "346/346 [==============================] - 8s 22ms/step - loss: 0.1239 - accuracy: 0.9572 - val_loss: 0.1898 - val_accuracy: 0.9432\n",
            "Epoch 15/20\n",
            "346/346 [==============================] - 8s 22ms/step - loss: 0.1217 - accuracy: 0.9578 - val_loss: 0.1894 - val_accuracy: 0.9432\n",
            "Epoch 16/20\n",
            "346/346 [==============================] - 8s 22ms/step - loss: 0.1217 - accuracy: 0.9577 - val_loss: 0.1883 - val_accuracy: 0.9439\n",
            "Epoch 17/20\n",
            "346/346 [==============================] - 8s 22ms/step - loss: 0.1203 - accuracy: 0.9581 - val_loss: 0.1916 - val_accuracy: 0.9419\n",
            "Epoch 18/20\n",
            "346/346 [==============================] - 8s 22ms/step - loss: 0.1207 - accuracy: 0.9579 - val_loss: 0.1946 - val_accuracy: 0.9412\n",
            "Epoch 19/20\n",
            "346/346 [==============================] - 8s 22ms/step - loss: 0.1211 - accuracy: 0.9580 - val_loss: 0.1982 - val_accuracy: 0.9401\n",
            "Epoch 20/20\n",
            "346/346 [==============================] - 8s 22ms/step - loss: 0.1226 - accuracy: 0.9574 - val_loss: 0.1954 - val_accuracy: 0.9419\n"
          ],
          "name": "stdout"
        },
        {
          "output_type": "execute_result",
          "data": {
            "text/plain": [
              "<tensorflow.python.keras.callbacks.History at 0x7f52c128ce90>"
            ]
          },
          "metadata": {
            "tags": []
          },
          "execution_count": 46
        }
      ]
    },
    {
      "cell_type": "code",
      "metadata": {
        "id": "Oq0DRwp1W7_f",
        "colab": {
          "base_uri": "https://localhost:8080/"
        },
        "outputId": "1adbb594-d6e2-4aea-9502-c276b93a31a3"
      },
      "source": [
        "sweep_config = {\n",
        "    'method': 'grid'\n",
        "    }\n",
        "\n",
        "parameters_dict = {\n",
        "    'embedding_no':{\n",
        "        'values': [256]\n",
        "      },\n",
        "    'rnn_block':{\n",
        "        'values': ['GRU','LSTM']\n",
        "      },\n",
        "    'no_of_layers': {\n",
        "        'values': [1]\n",
        "      },\n",
        "    'latent_dimension': {\n",
        "        'values': [512]\n",
        "      },\n",
        "    'hidden_layer': {\n",
        "        'values': [0]\n",
        "      },\n",
        "    'dropout': {\n",
        "        'values': [0]\n",
        "      },\n",
        "    'beam_search': {\n",
        "        'values': [False]\n",
        "      },\n",
        "    'epochs' : {\n",
        "        'values' : [20]\n",
        "      },\n",
        "    'optimizer' : {\n",
        "        'values' : ['adam']\n",
        "      },\n",
        "    'learning_rate' : {\n",
        "        'values' : [1e-2]\n",
        "      },\n",
        "    'attention' : {\n",
        "        'values' : [False]\n",
        "    }\n",
        "}\n",
        "\n",
        "sweep_config['parameters'] = parameters_dict\n",
        "pprint.pprint(sweep_config)\n",
        "\n",
        "def training_sweep(config=None):\n",
        "    with wandb.init(config=config):\n",
        "        config = wandb.config\n",
        "        if config.attention == True:\n",
        "          model = RNN_w_att(config.embedding_no, config.rnn_block, config.latent_dimension, config.rnn_block,\n",
        "                            config.hidden_layer, config.dropout, config.no_of_layers, config.no_of_layers)\n",
        "        else:\n",
        "          model = RNN_model(config.embedding_no, config.rnn_block, config.latent_dimension, config.rnn_block,\n",
        "                            config.hidden_layer, config.dropout, config.no_of_layers, config.no_of_layers)\n",
        "        \n",
        "        if config.optimizer == 'adam':\n",
        "          opt = Adam(config.learning_rate)\n",
        "        else:\n",
        "          opt = RMSprop(config.learning_rate)\n",
        "        model.compile(optimizer = opt, loss = 'categorical_crossentropy', metrics=['accuracy'])\n",
        "\n",
        "        model.fit([enc_input_train,dec_input_train], y_true_train, \n",
        "                            epochs=config.epochs,\n",
        "                            validation_data = ([enc_input_dev,dec_input_dev], y_true_dev),\n",
        "                            callbacks = [WandbCallback()]\n",
        "                            )\n",
        "\n",
        "        name = str(config.rnn_block) + '_' + str(config.no_of_layers) + '_' + str(config.embedding_no) + '_' + str(config.latent_dimension) + '_' + str(config.hidden_layer) + '_' + str(config.epochs)\n",
        "        location = '/content/drive/MyDrive/Transliteration/' + name\n",
        "        model.save(location)\n",
        "\n",
        "        enc_inf = enc_inference(model, config.no_of_layers, config.rnn_block)\n",
        "        dec_inf = dec_inference(model, config.latent_dimension, config.no_of_layers, config.rnn_block)\n",
        "\n",
        "        if config.beam_search:\n",
        "          predictions = beam_search_decoder(enc_inf, dec_inf, enc_input_dev, k)\n",
        "        else:\n",
        "          predictions = greedy_decoder(enc_inf, dec_inf, enc_input_dev, config.rnn_block)\n",
        "\n",
        "          # word_acc = word_accuracy(dec_target_dev,np.array(predictions))\n",
        "          # word_acc = sklearn.metrics.accuracy_score(dec_target_dev,np.array(predictions))\n",
        "          pred_words = transliteration(predictions)\n",
        "\n",
        "          true = list(list(dec_input_dev[i]) for i in range(dec_input_dev.shape[0]))\n",
        "          true_words = transliteration(list(true))\n",
        "          word_acc = word_accuracy(true_words, pred_words)\n",
        "          wandb.log({'word_level_accuracy': word_acc})"
      ],
      "execution_count": 58,
      "outputs": [
        {
          "output_type": "stream",
          "text": [
            "{'method': 'grid',\n",
            " 'parameters': {'attention': {'values': [False]},\n",
            "                'beam_search': {'values': [False]},\n",
            "                'dropout': {'values': [0]},\n",
            "                'embedding_no': {'values': [128, 256]},\n",
            "                'epochs': {'values': [20]},\n",
            "                'hidden_layer': {'values': [0]},\n",
            "                'latent_dimension': {'values': [256, 512]},\n",
            "                'learning_rate': {'values': [0.01]},\n",
            "                'no_of_layers': {'values': [1]},\n",
            "                'optimizer': {'values': ['adam']},\n",
            "                'rnn_block': {'values': ['GRU', 'LSTM']}}}\n"
          ],
          "name": "stdout"
        }
      ]
    },
    {
      "cell_type": "code",
      "metadata": {
        "id": "G1shGb7ZrJqH",
        "colab": {
          "base_uri": "https://localhost:8080/",
          "height": 1000,
          "referenced_widgets": [
            "edb91b71021a4d7f99e33b4af981ce4b",
            "bf4f10f8dae74a4c8c164fb83eea80c0",
            "e6da6f89e4764771bdab69b48a12af30",
            "51a825908b5c4faaad125deb7ae88803",
            "f088f47dc81c41c881b5ed5cb9c16956",
            "cb41aaf258074249a6eedc809cd9cf0a",
            "21f5a0d2a07e4ef490eb43bcfb2d8bb8",
            "2630e25e3414456882e33d2dcd2a9a91",
            "c19dbaa174794fca9ba80e27e8c194ed",
            "9ce77fd3b3234d5b98e490ed0938e96f",
            "fd35c94950f34975b766e2d6f7ad9641",
            "15e87f58e8e14f10a0e720b7ac98715e",
            "1f561f42a53c4e10a695c4494afbfcb3",
            "8c36e24fb8ba4658ba5235265b0a64c7",
            "0671a2b061f44274a8a5727ab2931e06",
            "4bfbb1229c894c9e9b5ddde0387c8d17",
            "84ca7c64babe4761b131373304102511",
            "d213f97e189b43658f1b928184818f1f",
            "6b12b93bd3724af98cbe14c022758c79",
            "0385570527c246dc936f7cc2abf46f4c",
            "256210d2da6448e9830cd8c8f26487b7",
            "05857870682743f1a00fad69e2f37b2d",
            "236689f6fe0b4879843ed052f0978e3d",
            "50cf5f1356014cf798765ae365f4cae9",
            "016f99991df844cea426e5bd7d26e2d8",
            "2110ea00e3434bafa5e9bc6fe61f38c2",
            "630bfca5f0334cdd92e42f98428ace26",
            "ebab0acc0eeb45d0af93dcc176e8f023",
            "9daa5421a6044d1e8f25535006d459f5",
            "7ad2210f288644e39308da1dfe7254be",
            "d12393f8a87b43baa10d9c6e50c8d74e",
            "06cfd6768a5c44f7af9909df279fb5f3",
            "311187ff25c245a695c718907895d9ed",
            "18d395da224f4d9f92a1d0917eddc392",
            "69a75f4b43354adc8f4cdc8c09d6dea5",
            "5087d1ebefa54fec9e9c1b928af64d30",
            "c9f5964ca35f49fcb38a12c7dcd88c14",
            "1ca6e78132534c77b5f33faf1699197a",
            "b1d16f4d309646b99ec8615f2850077b",
            "f8f47e5f227a456b95eee0ff7d52ea47",
            "33ef4703635241dc9c342fae52a3d398",
            "9662c3faad954059a1f34ab1cc294072",
            "33a7e665cd1c4961befecc1f294e5330",
            "e9d96e17984c42fa965bf8e261cba83d",
            "376b57e6a0ba445b84b20e82370126ec",
            "92968de84b004ff9b074c19c903f2338",
            "4942904cfdac4e7687e499a517705aa9",
            "d9b080acd1e8487bb2443316f7aea447"
          ]
        },
        "outputId": "e89dbf44-7d52-4179-9c40-d01a43bc65a0"
      },
      "source": [
        "sweep_id = wandb.sweep(sweep_config, project=\"assg3\")\n",
        "wandb.agent(sweep_id, training_sweep)"
      ],
      "execution_count": null,
      "outputs": [
        {
          "output_type": "stream",
          "text": [
            "\u001b[34m\u001b[1mwandb\u001b[0m: \u001b[33mWARNING\u001b[0m Calling wandb.login() after wandb.init() has no effect.\n",
            "\u001b[34m\u001b[1mwandb\u001b[0m: \u001b[33mWARNING\u001b[0m Calling wandb.login() after wandb.init() has no effect.\n"
          ],
          "name": "stderr"
        },
        {
          "output_type": "stream",
          "text": [
            "Create sweep with ID: f538hd0k\n",
            "Sweep URL: https://wandb.ai/cs6910_project/assg3/sweeps/f538hd0k\n"
          ],
          "name": "stdout"
        },
        {
          "output_type": "stream",
          "text": [
            "\u001b[34m\u001b[1mwandb\u001b[0m: Agent Starting Run: 796p5mz3 with config:\n",
            "\u001b[34m\u001b[1mwandb\u001b[0m: \tattention: False\n",
            "\u001b[34m\u001b[1mwandb\u001b[0m: \tbeam_search: False\n",
            "\u001b[34m\u001b[1mwandb\u001b[0m: \tdropout: 0\n",
            "\u001b[34m\u001b[1mwandb\u001b[0m: \tembedding_no: 128\n",
            "\u001b[34m\u001b[1mwandb\u001b[0m: \tepochs: 20\n",
            "\u001b[34m\u001b[1mwandb\u001b[0m: \thidden_layer: 0\n",
            "\u001b[34m\u001b[1mwandb\u001b[0m: \tlatent_dimension: 256\n",
            "\u001b[34m\u001b[1mwandb\u001b[0m: \tlearning_rate: 0.01\n",
            "\u001b[34m\u001b[1mwandb\u001b[0m: \tno_of_layers: 1\n",
            "\u001b[34m\u001b[1mwandb\u001b[0m: \toptimizer: adam\n",
            "\u001b[34m\u001b[1mwandb\u001b[0m: \trnn_block: GRU\n"
          ],
          "name": "stderr"
        },
        {
          "output_type": "display_data",
          "data": {
            "text/html": [
              "\n",
              "                Tracking run with wandb version 0.10.30<br/>\n",
              "                Syncing run <strong style=\"color:#cdcd00\">curious-sweep-1</strong> to <a href=\"https://wandb.ai\" target=\"_blank\">Weights & Biases</a> <a href=\"https://docs.wandb.com/integrations/jupyter.html\" target=\"_blank\">(Documentation)</a>.<br/>\n",
              "                Project page: <a href=\"https://wandb.ai/cs6910_project/assg3\" target=\"_blank\">https://wandb.ai/cs6910_project/assg3</a><br/>\n",
              "                Sweep page: <a href=\"https://wandb.ai/cs6910_project/assg3/sweeps/f538hd0k\" target=\"_blank\">https://wandb.ai/cs6910_project/assg3/sweeps/f538hd0k</a><br/>\n",
              "Run page: <a href=\"https://wandb.ai/cs6910_project/assg3/runs/796p5mz3\" target=\"_blank\">https://wandb.ai/cs6910_project/assg3/runs/796p5mz3</a><br/>\n",
              "                Run data is saved locally in <code>/content/wandb/run-20210521_064334-796p5mz3</code><br/><br/>\n",
              "            "
            ],
            "text/plain": [
              "<IPython.core.display.HTML object>"
            ]
          },
          "metadata": {
            "tags": []
          }
        },
        {
          "output_type": "stream",
          "text": [
            "Epoch 1/20\n",
            "1382/1382 [==============================] - 15s 9ms/step - loss: 0.9243 - accuracy: 0.7342 - val_loss: 0.7834 - val_accuracy: 0.7668\n",
            "Epoch 2/20\n",
            "1382/1382 [==============================] - 12s 8ms/step - loss: 0.7847 - accuracy: 0.7640 - val_loss: 0.7267 - val_accuracy: 0.7824\n",
            "Epoch 3/20\n",
            "1382/1382 [==============================] - 12s 8ms/step - loss: 0.7151 - accuracy: 0.7877 - val_loss: 0.6543 - val_accuracy: 0.8098\n",
            "Epoch 4/20\n",
            "1382/1382 [==============================] - 12s 8ms/step - loss: 0.6558 - accuracy: 0.8088 - val_loss: 0.6267 - val_accuracy: 0.8195\n",
            "Epoch 5/20\n",
            "1382/1382 [==============================] - 12s 8ms/step - loss: 0.6295 - accuracy: 0.8168 - val_loss: 0.6313 - val_accuracy: 0.8204\n",
            "Epoch 6/20\n",
            "1382/1382 [==============================] - 11s 8ms/step - loss: 0.6662 - accuracy: 0.8082 - val_loss: 0.6496 - val_accuracy: 0.8120\n",
            "Epoch 7/20\n",
            "1382/1382 [==============================] - 12s 8ms/step - loss: 0.6594 - accuracy: 0.8104 - val_loss: 0.6145 - val_accuracy: 0.8252\n",
            "Epoch 8/20\n",
            "1382/1382 [==============================] - 12s 8ms/step - loss: 0.6738 - accuracy: 0.8092 - val_loss: 0.6645 - val_accuracy: 0.8149\n",
            "Epoch 9/20\n",
            "1382/1382 [==============================] - 12s 9ms/step - loss: 0.7086 - accuracy: 0.7996 - val_loss: 0.6786 - val_accuracy: 0.8066\n",
            "Epoch 10/20\n",
            "1382/1382 [==============================] - 12s 8ms/step - loss: 0.7045 - accuracy: 0.7982 - val_loss: 0.6527 - val_accuracy: 0.8126\n",
            "Epoch 11/20\n",
            "1382/1382 [==============================] - 12s 8ms/step - loss: 0.6646 - accuracy: 0.8085 - val_loss: 0.6257 - val_accuracy: 0.8217\n",
            "Epoch 12/20\n",
            "1382/1382 [==============================] - 11s 8ms/step - loss: 0.6480 - accuracy: 0.8136 - val_loss: 0.6178 - val_accuracy: 0.8234\n",
            "Epoch 13/20\n",
            "1382/1382 [==============================] - 12s 8ms/step - loss: 0.6390 - accuracy: 0.8159 - val_loss: 0.6249 - val_accuracy: 0.8239\n",
            "Epoch 14/20\n",
            "1382/1382 [==============================] - 12s 8ms/step - loss: 0.6280 - accuracy: 0.8200 - val_loss: 0.6150 - val_accuracy: 0.8275\n",
            "Epoch 15/20\n",
            "1382/1382 [==============================] - 12s 8ms/step - loss: 0.6208 - accuracy: 0.8211 - val_loss: 0.5867 - val_accuracy: 0.8322\n",
            "Epoch 16/20\n",
            "1382/1382 [==============================] - 12s 8ms/step - loss: 0.5916 - accuracy: 0.8277 - val_loss: 0.5418 - val_accuracy: 0.8411\n",
            "Epoch 17/20\n",
            "1382/1382 [==============================] - 12s 8ms/step - loss: 0.5395 - accuracy: 0.8408 - val_loss: 0.4876 - val_accuracy: 0.8564\n",
            "Epoch 18/20\n",
            "1382/1382 [==============================] - 12s 8ms/step - loss: 0.4959 - accuracy: 0.8525 - val_loss: 0.4765 - val_accuracy: 0.8610\n",
            "Epoch 19/20\n",
            "1382/1382 [==============================] - 12s 9ms/step - loss: 0.4865 - accuracy: 0.8546 - val_loss: 0.4589 - val_accuracy: 0.8620\n",
            "Epoch 20/20\n",
            "1382/1382 [==============================] - 12s 9ms/step - loss: 0.4727 - accuracy: 0.8574 - val_loss: 0.4418 - val_accuracy: 0.8660\n"
          ],
          "name": "stdout"
        },
        {
          "output_type": "stream",
          "text": [
            "WARNING:absl:Found untraced functions such as gru_cell_layer_call_fn, gru_cell_layer_call_and_return_conditional_losses, gru_cell_1_layer_call_fn, gru_cell_1_layer_call_and_return_conditional_losses, gru_cell_layer_call_fn while saving (showing 5 of 10). These functions will not be directly callable after loading.\n",
            "WARNING:absl:Found untraced functions such as gru_cell_layer_call_fn, gru_cell_layer_call_and_return_conditional_losses, gru_cell_1_layer_call_fn, gru_cell_1_layer_call_and_return_conditional_losses, gru_cell_layer_call_fn while saving (showing 5 of 10). These functions will not be directly callable after loading.\n"
          ],
          "name": "stderr"
        },
        {
          "output_type": "stream",
          "text": [
            "INFO:tensorflow:Assets written to: /content/drive/MyDrive/Transliteration/GRU_1_128_256_0_20/assets\n"
          ],
          "name": "stdout"
        },
        {
          "output_type": "stream",
          "text": [
            "INFO:tensorflow:Assets written to: /content/drive/MyDrive/Transliteration/GRU_1_128_256_0_20/assets\n"
          ],
          "name": "stderr"
        },
        {
          "output_type": "display_data",
          "data": {
            "text/html": [
              "<br/>Waiting for W&B process to finish, PID 2734<br/>Program failed with code 1.  Press ctrl-c to abort syncing."
            ],
            "text/plain": [
              "<IPython.core.display.HTML object>"
            ]
          },
          "metadata": {
            "tags": []
          }
        },
        {
          "output_type": "display_data",
          "data": {
            "application/vnd.jupyter.widget-view+json": {
              "model_id": "edb91b71021a4d7f99e33b4af981ce4b",
              "version_minor": 0,
              "version_major": 2
            },
            "text/plain": [
              "VBox(children=(Label(value=' 7.06MB of 7.06MB uploaded (0.00MB deduped)\\r'), FloatProgress(value=1.0, max=1.0)…"
            ]
          },
          "metadata": {
            "tags": []
          }
        },
        {
          "output_type": "display_data",
          "data": {
            "text/html": [
              "Find user logs for this run at: <code>/content/wandb/run-20210521_064334-796p5mz3/logs/debug.log</code>"
            ],
            "text/plain": [
              "<IPython.core.display.HTML object>"
            ]
          },
          "metadata": {
            "tags": []
          }
        },
        {
          "output_type": "display_data",
          "data": {
            "text/html": [
              "Find internal logs for this run at: <code>/content/wandb/run-20210521_064334-796p5mz3/logs/debug-internal.log</code>"
            ],
            "text/plain": [
              "<IPython.core.display.HTML object>"
            ]
          },
          "metadata": {
            "tags": []
          }
        },
        {
          "output_type": "display_data",
          "data": {
            "text/html": [
              "<h3>Run summary:</h3><br/><style>\n",
              "    table.wandb td:nth-child(1) { padding: 0 10px; text-align: right }\n",
              "    </style><table class=\"wandb\">\n",
              "<tr><td>epoch</td><td>19</td></tr><tr><td>loss</td><td>0.46851</td></tr><tr><td>accuracy</td><td>0.85895</td></tr><tr><td>val_loss</td><td>0.4418</td></tr><tr><td>val_accuracy</td><td>0.86604</td></tr><tr><td>_runtime</td><td>239</td></tr><tr><td>_timestamp</td><td>1621579653</td></tr><tr><td>_step</td><td>19</td></tr><tr><td>best_val_loss</td><td>0.4418</td></tr><tr><td>best_epoch</td><td>19</td></tr></table>"
            ],
            "text/plain": [
              "<IPython.core.display.HTML object>"
            ]
          },
          "metadata": {
            "tags": []
          }
        },
        {
          "output_type": "display_data",
          "data": {
            "text/html": [
              "<h3>Run history:</h3><br/><style>\n",
              "    table.wandb td:nth-child(1) { padding: 0 10px; text-align: right }\n",
              "    </style><table class=\"wandb\">\n",
              "<tr><td>epoch</td><td>▁▁▂▂▂▃▃▄▄▄▅▅▅▆▆▇▇▇██</td></tr><tr><td>loss</td><td>█▆▅▄▄▅▄▅▆▅▅▄▄▄▄▃▂▁▁▁</td></tr><tr><td>accuracy</td><td>▁▂▄▅▅▅▅▅▄▄▅▅▅▆▆▆▇███</td></tr><tr><td>val_loss</td><td>█▇▅▅▅▅▅▆▆▅▅▅▅▅▄▃▂▂▁▁</td></tr><tr><td>val_accuracy</td><td>▁▂▄▅▅▄▅▄▄▄▅▅▅▅▆▆▇███</td></tr><tr><td>_runtime</td><td>▁▁▂▂▂▃▃▄▄▄▅▅▅▆▆▇▇▇██</td></tr><tr><td>_timestamp</td><td>▁▁▂▂▂▃▃▄▄▄▅▅▅▆▆▇▇▇██</td></tr><tr><td>_step</td><td>▁▁▂▂▂▃▃▄▄▄▅▅▅▆▆▇▇▇██</td></tr></table><br/>"
            ],
            "text/plain": [
              "<IPython.core.display.HTML object>"
            ]
          },
          "metadata": {
            "tags": []
          }
        },
        {
          "output_type": "display_data",
          "data": {
            "text/html": [
              "Synced 5 W&B file(s), 1 media file(s), 0 artifact file(s) and 1 other file(s)"
            ],
            "text/plain": [
              "<IPython.core.display.HTML object>"
            ]
          },
          "metadata": {
            "tags": []
          }
        },
        {
          "output_type": "display_data",
          "data": {
            "text/html": [
              "\n",
              "                    <br/>Synced <strong style=\"color:#cdcd00\">curious-sweep-1</strong>: <a href=\"https://wandb.ai/cs6910_project/assg3/runs/796p5mz3\" target=\"_blank\">https://wandb.ai/cs6910_project/assg3/runs/796p5mz3</a><br/>\n",
              "                "
            ],
            "text/plain": [
              "<IPython.core.display.HTML object>"
            ]
          },
          "metadata": {
            "tags": []
          }
        },
        {
          "output_type": "stream",
          "text": [
            "\u001b[34m\u001b[1mwandb\u001b[0m: \u001b[32m\u001b[41mERROR\u001b[0m Run 796p5mz3 errored: ValueError(\"in user code:\\n\\n    /usr/local/lib/python3.7/dist-packages/tensorflow/python/keras/engine/training.py:1478 predict_function  *\\n        return step_function(self, iterator)\\n    /usr/local/lib/python3.7/dist-packages/tensorflow/python/keras/engine/training.py:1468 step_function  **\\n        outputs = model.distribute_strategy.run(run_step, args=(data,))\\n    /usr/local/lib/python3.7/dist-packages/tensorflow/python/distribute/distribute_lib.py:1259 run\\n        return self._extended.call_for_each_replica(fn, args=args, kwargs=kwargs)\\n    /usr/local/lib/python3.7/dist-packages/tensorflow/python/distribute/distribute_lib.py:2730 call_for_each_replica\\n        return self._call_for_each_replica(fn, args, kwargs)\\n    /usr/local/lib/python3.7/dist-packages/tensorflow/python/distribute/distribute_lib.py:3417 _call_for_each_replica\\n        return fn(*args, **kwargs)\\n    /usr/local/lib/python3.7/dist-packages/tensorflow/python/keras/engine/training.py:1461 run_step  **\\n        outputs = model.predict_step(data)\\n    /usr/local/lib/python3.7/dist-packages/tensorflow/python/keras/engine/training.py:1434 predict_step\\n        return self(x, training=False)\\n    /usr/local/lib/python3.7/dist-packages/tensorflow/python/keras/engine/base_layer.py:998 __call__\\n        input_spec.assert_input_compatibility(self.input_spec, inputs, self.name)\\n    /usr/local/lib/python3.7/dist-packages/tensorflow/python/keras/engine/input_spec.py:207 assert_input_compatibility\\n        ' input tensors. Inputs received: ' + str(inputs))\\n\\n    ValueError: Layer model_1 expects 2 input(s), but it received 1 input tensors. Inputs received: [<tf.Tensor 'IteratorGetNext:0' shape=(None, 4358, 256) dtype=float32>]\\n\")\n",
            "\u001b[34m\u001b[1mwandb\u001b[0m: Agent Starting Run: 9m4z9j2k with config:\n",
            "\u001b[34m\u001b[1mwandb\u001b[0m: \tattention: False\n",
            "\u001b[34m\u001b[1mwandb\u001b[0m: \tbeam_search: False\n",
            "\u001b[34m\u001b[1mwandb\u001b[0m: \tdropout: 0\n",
            "\u001b[34m\u001b[1mwandb\u001b[0m: \tembedding_no: 128\n",
            "\u001b[34m\u001b[1mwandb\u001b[0m: \tepochs: 20\n",
            "\u001b[34m\u001b[1mwandb\u001b[0m: \thidden_layer: 0\n",
            "\u001b[34m\u001b[1mwandb\u001b[0m: \tlatent_dimension: 256\n",
            "\u001b[34m\u001b[1mwandb\u001b[0m: \tlearning_rate: 0.01\n",
            "\u001b[34m\u001b[1mwandb\u001b[0m: \tno_of_layers: 1\n",
            "\u001b[34m\u001b[1mwandb\u001b[0m: \toptimizer: adam\n",
            "\u001b[34m\u001b[1mwandb\u001b[0m: \trnn_block: LSTM\n"
          ],
          "name": "stderr"
        },
        {
          "output_type": "display_data",
          "data": {
            "text/html": [
              "\n",
              "                Tracking run with wandb version 0.10.30<br/>\n",
              "                Syncing run <strong style=\"color:#cdcd00\">vocal-sweep-2</strong> to <a href=\"https://wandb.ai\" target=\"_blank\">Weights & Biases</a> <a href=\"https://docs.wandb.com/integrations/jupyter.html\" target=\"_blank\">(Documentation)</a>.<br/>\n",
              "                Project page: <a href=\"https://wandb.ai/cs6910_project/assg3\" target=\"_blank\">https://wandb.ai/cs6910_project/assg3</a><br/>\n",
              "                Sweep page: <a href=\"https://wandb.ai/cs6910_project/assg3/sweeps/f538hd0k\" target=\"_blank\">https://wandb.ai/cs6910_project/assg3/sweeps/f538hd0k</a><br/>\n",
              "Run page: <a href=\"https://wandb.ai/cs6910_project/assg3/runs/9m4z9j2k\" target=\"_blank\">https://wandb.ai/cs6910_project/assg3/runs/9m4z9j2k</a><br/>\n",
              "                Run data is saved locally in <code>/content/wandb/run-20210521_064746-9m4z9j2k</code><br/><br/>\n",
              "            "
            ],
            "text/plain": [
              "<IPython.core.display.HTML object>"
            ]
          },
          "metadata": {
            "tags": []
          }
        },
        {
          "output_type": "stream",
          "text": [
            "Epoch 1/20\n",
            "1382/1382 [==============================] - 15s 9ms/step - loss: 0.8236 - accuracy: 0.7604 - val_loss: 0.3166 - val_accuracy: 0.9022\n",
            "Epoch 2/20\n",
            "1382/1382 [==============================] - 12s 9ms/step - loss: 0.3014 - accuracy: 0.9070 - val_loss: 0.2579 - val_accuracy: 0.9195\n",
            "Epoch 3/20\n",
            "1382/1382 [==============================] - 12s 9ms/step - loss: 0.2473 - accuracy: 0.9230 - val_loss: 0.2333 - val_accuracy: 0.9283\n",
            "Epoch 4/20\n",
            "1382/1382 [==============================] - 12s 9ms/step - loss: 0.2209 - accuracy: 0.9306 - val_loss: 0.2323 - val_accuracy: 0.9284\n",
            "Epoch 5/20\n",
            "1382/1382 [==============================] - 12s 9ms/step - loss: 0.2088 - accuracy: 0.9342 - val_loss: 0.2279 - val_accuracy: 0.9300\n",
            "Epoch 6/20\n",
            "1382/1382 [==============================] - 12s 9ms/step - loss: 0.2026 - accuracy: 0.9355 - val_loss: 0.2185 - val_accuracy: 0.9328\n",
            "Epoch 7/20\n",
            "1382/1382 [==============================] - 12s 9ms/step - loss: 0.1973 - accuracy: 0.9370 - val_loss: 0.2214 - val_accuracy: 0.9318\n",
            "Epoch 8/20\n",
            "1382/1382 [==============================] - 12s 9ms/step - loss: 0.1954 - accuracy: 0.9377 - val_loss: 0.2225 - val_accuracy: 0.9310\n",
            "Epoch 9/20\n",
            "1382/1382 [==============================] - 12s 9ms/step - loss: 0.1933 - accuracy: 0.9380 - val_loss: 0.2231 - val_accuracy: 0.9310\n",
            "Epoch 10/20\n",
            "1382/1382 [==============================] - 12s 9ms/step - loss: 0.1918 - accuracy: 0.9384 - val_loss: 0.2211 - val_accuracy: 0.9324\n",
            "Epoch 11/20\n",
            "1382/1382 [==============================] - 12s 9ms/step - loss: 0.1896 - accuracy: 0.9390 - val_loss: 0.2231 - val_accuracy: 0.9319\n",
            "Epoch 12/20\n",
            "1382/1382 [==============================] - 12s 9ms/step - loss: 0.1917 - accuracy: 0.9383 - val_loss: 0.2214 - val_accuracy: 0.9327\n",
            "Epoch 13/20\n",
            "1382/1382 [==============================] - 13s 9ms/step - loss: 0.1908 - accuracy: 0.9384 - val_loss: 0.2206 - val_accuracy: 0.9321\n",
            "Epoch 14/20\n",
            "1382/1382 [==============================] - 12s 9ms/step - loss: 0.1911 - accuracy: 0.9382 - val_loss: 0.2255 - val_accuracy: 0.9314\n",
            "Epoch 15/20\n",
            "1382/1382 [==============================] - 13s 9ms/step - loss: 0.1922 - accuracy: 0.9383 - val_loss: 0.2252 - val_accuracy: 0.9306\n",
            "Epoch 16/20\n",
            "1382/1382 [==============================] - 13s 9ms/step - loss: 0.1917 - accuracy: 0.9383 - val_loss: 0.2292 - val_accuracy: 0.9307\n",
            "Epoch 17/20\n",
            "1382/1382 [==============================] - 12s 9ms/step - loss: 0.1914 - accuracy: 0.9381 - val_loss: 0.2364 - val_accuracy: 0.9278\n",
            "Epoch 18/20\n",
            "1382/1382 [==============================] - 13s 9ms/step - loss: 0.1963 - accuracy: 0.9365 - val_loss: 0.2312 - val_accuracy: 0.9301\n",
            "Epoch 19/20\n",
            "1382/1382 [==============================] - 12s 9ms/step - loss: 0.1937 - accuracy: 0.9374 - val_loss: 0.2309 - val_accuracy: 0.9293\n",
            "Epoch 20/20\n",
            "1382/1382 [==============================] - 12s 9ms/step - loss: 0.1944 - accuracy: 0.9369 - val_loss: 0.2322 - val_accuracy: 0.9291\n"
          ],
          "name": "stdout"
        },
        {
          "output_type": "stream",
          "text": [
            "WARNING:absl:Found untraced functions such as lstm_cell_layer_call_fn, lstm_cell_layer_call_and_return_conditional_losses, lstm_cell_1_layer_call_fn, lstm_cell_1_layer_call_and_return_conditional_losses, lstm_cell_layer_call_fn while saving (showing 5 of 10). These functions will not be directly callable after loading.\n",
            "WARNING:absl:Found untraced functions such as lstm_cell_layer_call_fn, lstm_cell_layer_call_and_return_conditional_losses, lstm_cell_1_layer_call_fn, lstm_cell_1_layer_call_and_return_conditional_losses, lstm_cell_layer_call_fn while saving (showing 5 of 10). These functions will not be directly callable after loading.\n"
          ],
          "name": "stderr"
        },
        {
          "output_type": "stream",
          "text": [
            "INFO:tensorflow:Assets written to: /content/drive/MyDrive/Transliteration/LSTM_1_128_256_0_20/assets\n"
          ],
          "name": "stdout"
        },
        {
          "output_type": "stream",
          "text": [
            "INFO:tensorflow:Assets written to: /content/drive/MyDrive/Transliteration/LSTM_1_128_256_0_20/assets\n"
          ],
          "name": "stderr"
        },
        {
          "output_type": "stream",
          "text": [
            "WARNING:tensorflow:Model was constructed with shape (None, 22) for input KerasTensor(type_spec=TensorSpec(shape=(None, 22), dtype=tf.float32, name='input_2'), name='input_2', description=\"created by layer 'input_2'\"), but it was called on an input with incompatible shape (None, 1).\n"
          ],
          "name": "stdout"
        },
        {
          "output_type": "stream",
          "text": [
            "WARNING:tensorflow:Model was constructed with shape (None, 22) for input KerasTensor(type_spec=TensorSpec(shape=(None, 22), dtype=tf.float32, name='input_2'), name='input_2', description=\"created by layer 'input_2'\"), but it was called on an input with incompatible shape (None, 1).\n"
          ],
          "name": "stderr"
        },
        {
          "output_type": "stream",
          "text": [
            "WARNING:tensorflow:Model was constructed with shape (None, 22) for input KerasTensor(type_spec=TensorSpec(shape=(None, 22), dtype=tf.float32, name='input_2'), name='input_2', description=\"created by layer 'input_2'\"), but it was called on an input with incompatible shape (None, 1).\n"
          ],
          "name": "stdout"
        },
        {
          "output_type": "stream",
          "text": [
            "WARNING:tensorflow:Model was constructed with shape (None, 22) for input KerasTensor(type_spec=TensorSpec(shape=(None, 22), dtype=tf.float32, name='input_2'), name='input_2', description=\"created by layer 'input_2'\"), but it was called on an input with incompatible shape (None, 1).\n"
          ],
          "name": "stderr"
        },
        {
          "output_type": "display_data",
          "data": {
            "text/html": [
              "<br/>Waiting for W&B process to finish, PID 2847<br/>Program ended successfully."
            ],
            "text/plain": [
              "<IPython.core.display.HTML object>"
            ]
          },
          "metadata": {
            "tags": []
          }
        },
        {
          "output_type": "display_data",
          "data": {
            "application/vnd.jupyter.widget-view+json": {
              "model_id": "c19dbaa174794fca9ba80e27e8c194ed",
              "version_minor": 0,
              "version_major": 2
            },
            "text/plain": [
              "VBox(children=(Label(value=' 9.30MB of 9.30MB uploaded (0.00MB deduped)\\r'), FloatProgress(value=1.0, max=1.0)…"
            ]
          },
          "metadata": {
            "tags": []
          }
        },
        {
          "output_type": "display_data",
          "data": {
            "text/html": [
              "Find user logs for this run at: <code>/content/wandb/run-20210521_064746-9m4z9j2k/logs/debug.log</code>"
            ],
            "text/plain": [
              "<IPython.core.display.HTML object>"
            ]
          },
          "metadata": {
            "tags": []
          }
        },
        {
          "output_type": "display_data",
          "data": {
            "text/html": [
              "Find internal logs for this run at: <code>/content/wandb/run-20210521_064746-9m4z9j2k/logs/debug-internal.log</code>"
            ],
            "text/plain": [
              "<IPython.core.display.HTML object>"
            ]
          },
          "metadata": {
            "tags": []
          }
        },
        {
          "output_type": "display_data",
          "data": {
            "text/html": [
              "<h3>Run summary:</h3><br/><style>\n",
              "    table.wandb td:nth-child(1) { padding: 0 10px; text-align: right }\n",
              "    </style><table class=\"wandb\">\n",
              "<tr><td>epoch</td><td>19</td></tr><tr><td>loss</td><td>0.19988</td></tr><tr><td>accuracy</td><td>0.93571</td></tr><tr><td>val_loss</td><td>0.2322</td></tr><tr><td>val_accuracy</td><td>0.92912</td></tr><tr><td>_runtime</td><td>269</td></tr><tr><td>_timestamp</td><td>1621579935</td></tr><tr><td>_step</td><td>20</td></tr><tr><td>best_val_loss</td><td>0.21854</td></tr><tr><td>best_epoch</td><td>5</td></tr><tr><td>word_level_accuracy</td><td>0.24162</td></tr></table>"
            ],
            "text/plain": [
              "<IPython.core.display.HTML object>"
            ]
          },
          "metadata": {
            "tags": []
          }
        },
        {
          "output_type": "display_data",
          "data": {
            "text/html": [
              "<h3>Run history:</h3><br/><style>\n",
              "    table.wandb td:nth-child(1) { padding: 0 10px; text-align: right }\n",
              "    </style><table class=\"wandb\">\n",
              "<tr><td>epoch</td><td>▁▁▂▂▂▃▃▄▄▄▅▅▅▆▆▇▇▇██</td></tr><tr><td>loss</td><td>█▃▂▂▁▁▁▁▁▁▁▁▁▁▁▁▁▁▁▁</td></tr><tr><td>accuracy</td><td>▁▆▇█████████████████</td></tr><tr><td>val_loss</td><td>█▄▂▂▂▁▁▁▁▁▁▁▁▁▁▂▂▂▂▂</td></tr><tr><td>val_accuracy</td><td>▁▅▇▇▇█████████▇█▇▇▇▇</td></tr><tr><td>_runtime</td><td>▁▁▂▂▂▃▃▃▄▄▄▅▅▅▆▆▆▇▇▇█</td></tr><tr><td>_timestamp</td><td>▁▁▂▂▂▃▃▃▄▄▄▅▅▅▆▆▆▇▇▇█</td></tr><tr><td>_step</td><td>▁▁▂▂▂▃▃▃▄▄▅▅▅▆▆▆▇▇▇██</td></tr><tr><td>word_level_accuracy</td><td>▁</td></tr></table><br/>"
            ],
            "text/plain": [
              "<IPython.core.display.HTML object>"
            ]
          },
          "metadata": {
            "tags": []
          }
        },
        {
          "output_type": "display_data",
          "data": {
            "text/html": [
              "Synced 5 W&B file(s), 1 media file(s), 0 artifact file(s) and 1 other file(s)"
            ],
            "text/plain": [
              "<IPython.core.display.HTML object>"
            ]
          },
          "metadata": {
            "tags": []
          }
        },
        {
          "output_type": "display_data",
          "data": {
            "text/html": [
              "\n",
              "                    <br/>Synced <strong style=\"color:#cdcd00\">vocal-sweep-2</strong>: <a href=\"https://wandb.ai/cs6910_project/assg3/runs/9m4z9j2k\" target=\"_blank\">https://wandb.ai/cs6910_project/assg3/runs/9m4z9j2k</a><br/>\n",
              "                "
            ],
            "text/plain": [
              "<IPython.core.display.HTML object>"
            ]
          },
          "metadata": {
            "tags": []
          }
        },
        {
          "output_type": "stream",
          "text": [
            "\u001b[34m\u001b[1mwandb\u001b[0m: Agent Starting Run: 19a3tmdh with config:\n",
            "\u001b[34m\u001b[1mwandb\u001b[0m: \tattention: False\n",
            "\u001b[34m\u001b[1mwandb\u001b[0m: \tbeam_search: False\n",
            "\u001b[34m\u001b[1mwandb\u001b[0m: \tdropout: 0\n",
            "\u001b[34m\u001b[1mwandb\u001b[0m: \tembedding_no: 128\n",
            "\u001b[34m\u001b[1mwandb\u001b[0m: \tepochs: 20\n",
            "\u001b[34m\u001b[1mwandb\u001b[0m: \thidden_layer: 0\n",
            "\u001b[34m\u001b[1mwandb\u001b[0m: \tlatent_dimension: 512\n",
            "\u001b[34m\u001b[1mwandb\u001b[0m: \tlearning_rate: 0.01\n",
            "\u001b[34m\u001b[1mwandb\u001b[0m: \tno_of_layers: 1\n",
            "\u001b[34m\u001b[1mwandb\u001b[0m: \toptimizer: adam\n",
            "\u001b[34m\u001b[1mwandb\u001b[0m: \trnn_block: GRU\n"
          ],
          "name": "stderr"
        },
        {
          "output_type": "display_data",
          "data": {
            "text/html": [
              "\n",
              "                Tracking run with wandb version 0.10.30<br/>\n",
              "                Syncing run <strong style=\"color:#cdcd00\">vague-sweep-3</strong> to <a href=\"https://wandb.ai\" target=\"_blank\">Weights & Biases</a> <a href=\"https://docs.wandb.com/integrations/jupyter.html\" target=\"_blank\">(Documentation)</a>.<br/>\n",
              "                Project page: <a href=\"https://wandb.ai/cs6910_project/assg3\" target=\"_blank\">https://wandb.ai/cs6910_project/assg3</a><br/>\n",
              "                Sweep page: <a href=\"https://wandb.ai/cs6910_project/assg3/sweeps/f538hd0k\" target=\"_blank\">https://wandb.ai/cs6910_project/assg3/sweeps/f538hd0k</a><br/>\n",
              "Run page: <a href=\"https://wandb.ai/cs6910_project/assg3/runs/19a3tmdh\" target=\"_blank\">https://wandb.ai/cs6910_project/assg3/runs/19a3tmdh</a><br/>\n",
              "                Run data is saved locally in <code>/content/wandb/run-20210521_065219-19a3tmdh</code><br/><br/>\n",
              "            "
            ],
            "text/plain": [
              "<IPython.core.display.HTML object>"
            ]
          },
          "metadata": {
            "tags": []
          }
        },
        {
          "output_type": "stream",
          "text": [
            "Epoch 1/20\n",
            "1382/1382 [==============================] - 18s 11ms/step - loss: 0.8856 - accuracy: 0.7681 - val_loss: 0.3987 - val_accuracy: 0.8808\n",
            "Epoch 2/20\n",
            "1382/1382 [==============================] - 14s 10ms/step - loss: 0.3915 - accuracy: 0.8824 - val_loss: 0.3588 - val_accuracy: 0.8947\n",
            "Epoch 3/20\n",
            "1382/1382 [==============================] - 14s 10ms/step - loss: 0.3682 - accuracy: 0.8906 - val_loss: 0.4149 - val_accuracy: 0.8770\n",
            "Epoch 4/20\n",
            "1382/1382 [==============================] - 14s 10ms/step - loss: 0.4346 - accuracy: 0.8727 - val_loss: 0.4394 - val_accuracy: 0.8739\n",
            "Epoch 5/20\n",
            "1382/1382 [==============================] - 14s 10ms/step - loss: 0.5071 - accuracy: 0.8553 - val_loss: 0.5152 - val_accuracy: 0.8536\n",
            "Epoch 6/20\n",
            "1382/1382 [==============================] - 14s 10ms/step - loss: 0.5419 - accuracy: 0.8418 - val_loss: 0.4622 - val_accuracy: 0.8633\n",
            "Epoch 7/20\n",
            "1382/1382 [==============================] - 14s 10ms/step - loss: 0.4761 - accuracy: 0.8584 - val_loss: 0.4518 - val_accuracy: 0.8656\n",
            "Epoch 8/20\n",
            "1382/1382 [==============================] - 14s 10ms/step - loss: 0.4563 - accuracy: 0.8633 - val_loss: 0.4417 - val_accuracy: 0.8723\n",
            "Epoch 9/20\n",
            "1382/1382 [==============================] - 14s 10ms/step - loss: 0.4654 - accuracy: 0.8618 - val_loss: 0.4475 - val_accuracy: 0.8684\n",
            "Epoch 10/20\n",
            "1382/1382 [==============================] - 14s 10ms/step - loss: 0.4654 - accuracy: 0.8619 - val_loss: 0.4558 - val_accuracy: 0.8692\n",
            "Epoch 11/20\n",
            "1382/1382 [==============================] - 14s 10ms/step - loss: 0.4470 - accuracy: 0.8664 - val_loss: 0.4194 - val_accuracy: 0.8782\n",
            "Epoch 12/20\n",
            "1382/1382 [==============================] - 14s 10ms/step - loss: 0.4347 - accuracy: 0.8705 - val_loss: 0.4087 - val_accuracy: 0.8811\n",
            "Epoch 13/20\n",
            "1382/1382 [==============================] - 14s 10ms/step - loss: 0.4276 - accuracy: 0.8731 - val_loss: 0.4397 - val_accuracy: 0.8721\n",
            "Epoch 14/20\n",
            "1382/1382 [==============================] - 14s 10ms/step - loss: 0.4295 - accuracy: 0.8736 - val_loss: 0.4424 - val_accuracy: 0.8736\n",
            "Epoch 15/20\n",
            "1382/1382 [==============================] - 14s 10ms/step - loss: 0.4308 - accuracy: 0.8733 - val_loss: 0.4187 - val_accuracy: 0.8779\n",
            "Epoch 16/20\n",
            "1382/1382 [==============================] - 14s 10ms/step - loss: 0.4215 - accuracy: 0.8754 - val_loss: 0.4294 - val_accuracy: 0.8797\n",
            "Epoch 17/20\n",
            "1382/1382 [==============================] - 14s 10ms/step - loss: 0.4355 - accuracy: 0.8730 - val_loss: 0.4124 - val_accuracy: 0.8820\n",
            "Epoch 18/20\n",
            "1382/1382 [==============================] - 14s 10ms/step - loss: 0.4393 - accuracy: 0.8705 - val_loss: 0.4216 - val_accuracy: 0.8773\n",
            "Epoch 19/20\n",
            "1382/1382 [==============================] - 14s 10ms/step - loss: 0.4285 - accuracy: 0.8733 - val_loss: 0.4193 - val_accuracy: 0.8801\n",
            "Epoch 20/20\n",
            "1382/1382 [==============================] - 14s 10ms/step - loss: 0.4457 - accuracy: 0.8698 - val_loss: 0.4439 - val_accuracy: 0.8744\n"
          ],
          "name": "stdout"
        },
        {
          "output_type": "stream",
          "text": [
            "WARNING:absl:Found untraced functions such as gru_cell_layer_call_fn, gru_cell_layer_call_and_return_conditional_losses, gru_cell_1_layer_call_fn, gru_cell_1_layer_call_and_return_conditional_losses, gru_cell_layer_call_fn while saving (showing 5 of 10). These functions will not be directly callable after loading.\n",
            "WARNING:absl:Found untraced functions such as gru_cell_layer_call_fn, gru_cell_layer_call_and_return_conditional_losses, gru_cell_1_layer_call_fn, gru_cell_1_layer_call_and_return_conditional_losses, gru_cell_layer_call_fn while saving (showing 5 of 10). These functions will not be directly callable after loading.\n"
          ],
          "name": "stderr"
        },
        {
          "output_type": "stream",
          "text": [
            "INFO:tensorflow:Assets written to: /content/drive/MyDrive/Transliteration/GRU_1_128_512_0_20/assets\n"
          ],
          "name": "stdout"
        },
        {
          "output_type": "stream",
          "text": [
            "INFO:tensorflow:Assets written to: /content/drive/MyDrive/Transliteration/GRU_1_128_512_0_20/assets\n"
          ],
          "name": "stderr"
        },
        {
          "output_type": "display_data",
          "data": {
            "text/html": [
              "<br/>Waiting for W&B process to finish, PID 3038<br/>Program failed with code 1.  Press ctrl-c to abort syncing."
            ],
            "text/plain": [
              "<IPython.core.display.HTML object>"
            ]
          },
          "metadata": {
            "tags": []
          }
        },
        {
          "output_type": "display_data",
          "data": {
            "application/vnd.jupyter.widget-view+json": {
              "model_id": "84ca7c64babe4761b131373304102511",
              "version_minor": 0,
              "version_major": 2
            },
            "text/plain": [
              "VBox(children=(Label(value=' 22.93MB of 22.93MB uploaded (0.00MB deduped)\\r'), FloatProgress(value=1.0, max=1.…"
            ]
          },
          "metadata": {
            "tags": []
          }
        },
        {
          "output_type": "display_data",
          "data": {
            "text/html": [
              "Find user logs for this run at: <code>/content/wandb/run-20210521_065219-19a3tmdh/logs/debug.log</code>"
            ],
            "text/plain": [
              "<IPython.core.display.HTML object>"
            ]
          },
          "metadata": {
            "tags": []
          }
        },
        {
          "output_type": "display_data",
          "data": {
            "text/html": [
              "Find internal logs for this run at: <code>/content/wandb/run-20210521_065219-19a3tmdh/logs/debug-internal.log</code>"
            ],
            "text/plain": [
              "<IPython.core.display.HTML object>"
            ]
          },
          "metadata": {
            "tags": []
          }
        },
        {
          "output_type": "display_data",
          "data": {
            "text/html": [
              "<h3>Run summary:</h3><br/><style>\n",
              "    table.wandb td:nth-child(1) { padding: 0 10px; text-align: right }\n",
              "    </style><table class=\"wandb\">\n",
              "<tr><td>epoch</td><td>19</td></tr><tr><td>loss</td><td>0.44516</td></tr><tr><td>accuracy</td><td>0.87004</td></tr><tr><td>val_loss</td><td>0.44394</td></tr><tr><td>val_accuracy</td><td>0.87444</td></tr><tr><td>_runtime</td><td>288</td></tr><tr><td>_timestamp</td><td>1621580227</td></tr><tr><td>_step</td><td>19</td></tr><tr><td>best_val_loss</td><td>0.35884</td></tr><tr><td>best_epoch</td><td>1</td></tr></table>"
            ],
            "text/plain": [
              "<IPython.core.display.HTML object>"
            ]
          },
          "metadata": {
            "tags": []
          }
        },
        {
          "output_type": "display_data",
          "data": {
            "text/html": [
              "<h3>Run history:</h3><br/><style>\n",
              "    table.wandb td:nth-child(1) { padding: 0 10px; text-align: right }\n",
              "    </style><table class=\"wandb\">\n",
              "<tr><td>epoch</td><td>▁▁▂▂▂▃▃▄▄▄▅▅▅▆▆▇▇▇██</td></tr><tr><td>loss</td><td>█▁▁▃▆▅▄▃▃▃▃▂▂▂▂▂▃▃▂▃</td></tr><tr><td>accuracy</td><td>▁██▆▄▄▅▆▅▆▆▆▇▇▇▇▆▆▇▆</td></tr><tr><td>val_loss</td><td>▃▁▄▅█▆▅▅▅▅▄▃▅▅▄▄▃▄▄▅</td></tr><tr><td>val_accuracy</td><td>▆█▅▄▁▃▃▄▄▄▅▆▄▄▅▅▆▅▆▅</td></tr><tr><td>_runtime</td><td>▁▁▂▂▂▃▃▄▄▄▅▅▅▆▆▇▇▇██</td></tr><tr><td>_timestamp</td><td>▁▁▂▂▂▃▃▄▄▄▅▅▅▆▆▇▇▇██</td></tr><tr><td>_step</td><td>▁▁▂▂▂▃▃▄▄▄▅▅▅▆▆▇▇▇██</td></tr></table><br/>"
            ],
            "text/plain": [
              "<IPython.core.display.HTML object>"
            ]
          },
          "metadata": {
            "tags": []
          }
        },
        {
          "output_type": "display_data",
          "data": {
            "text/html": [
              "Synced 5 W&B file(s), 1 media file(s), 0 artifact file(s) and 1 other file(s)"
            ],
            "text/plain": [
              "<IPython.core.display.HTML object>"
            ]
          },
          "metadata": {
            "tags": []
          }
        },
        {
          "output_type": "display_data",
          "data": {
            "text/html": [
              "\n",
              "                    <br/>Synced <strong style=\"color:#cdcd00\">vague-sweep-3</strong>: <a href=\"https://wandb.ai/cs6910_project/assg3/runs/19a3tmdh\" target=\"_blank\">https://wandb.ai/cs6910_project/assg3/runs/19a3tmdh</a><br/>\n",
              "                "
            ],
            "text/plain": [
              "<IPython.core.display.HTML object>"
            ]
          },
          "metadata": {
            "tags": []
          }
        },
        {
          "output_type": "stream",
          "text": [
            "\u001b[34m\u001b[1mwandb\u001b[0m: \u001b[32m\u001b[41mERROR\u001b[0m Run 19a3tmdh errored: ValueError(\"in user code:\\n\\n    /usr/local/lib/python3.7/dist-packages/tensorflow/python/keras/engine/training.py:1478 predict_function  *\\n        return step_function(self, iterator)\\n    /usr/local/lib/python3.7/dist-packages/tensorflow/python/keras/engine/training.py:1468 step_function  **\\n        outputs = model.distribute_strategy.run(run_step, args=(data,))\\n    /usr/local/lib/python3.7/dist-packages/tensorflow/python/distribute/distribute_lib.py:1259 run\\n        return self._extended.call_for_each_replica(fn, args=args, kwargs=kwargs)\\n    /usr/local/lib/python3.7/dist-packages/tensorflow/python/distribute/distribute_lib.py:2730 call_for_each_replica\\n        return self._call_for_each_replica(fn, args, kwargs)\\n    /usr/local/lib/python3.7/dist-packages/tensorflow/python/distribute/distribute_lib.py:3417 _call_for_each_replica\\n        return fn(*args, **kwargs)\\n    /usr/local/lib/python3.7/dist-packages/tensorflow/python/keras/engine/training.py:1461 run_step  **\\n        outputs = model.predict_step(data)\\n    /usr/local/lib/python3.7/dist-packages/tensorflow/python/keras/engine/training.py:1434 predict_step\\n        return self(x, training=False)\\n    /usr/local/lib/python3.7/dist-packages/tensorflow/python/keras/engine/base_layer.py:998 __call__\\n        input_spec.assert_input_compatibility(self.input_spec, inputs, self.name)\\n    /usr/local/lib/python3.7/dist-packages/tensorflow/python/keras/engine/input_spec.py:207 assert_input_compatibility\\n        ' input tensors. Inputs received: ' + str(inputs))\\n\\n    ValueError: Layer model_1 expects 2 input(s), but it received 1 input tensors. Inputs received: [<tf.Tensor 'IteratorGetNext:0' shape=(None, 4358, 512) dtype=float32>]\\n\")\n",
            "\u001b[34m\u001b[1mwandb\u001b[0m: Agent Starting Run: pmj9pzov with config:\n",
            "\u001b[34m\u001b[1mwandb\u001b[0m: \tattention: False\n",
            "\u001b[34m\u001b[1mwandb\u001b[0m: \tbeam_search: False\n",
            "\u001b[34m\u001b[1mwandb\u001b[0m: \tdropout: 0\n",
            "\u001b[34m\u001b[1mwandb\u001b[0m: \tembedding_no: 128\n",
            "\u001b[34m\u001b[1mwandb\u001b[0m: \tepochs: 20\n",
            "\u001b[34m\u001b[1mwandb\u001b[0m: \thidden_layer: 0\n",
            "\u001b[34m\u001b[1mwandb\u001b[0m: \tlatent_dimension: 512\n",
            "\u001b[34m\u001b[1mwandb\u001b[0m: \tlearning_rate: 0.01\n",
            "\u001b[34m\u001b[1mwandb\u001b[0m: \tno_of_layers: 1\n",
            "\u001b[34m\u001b[1mwandb\u001b[0m: \toptimizer: adam\n",
            "\u001b[34m\u001b[1mwandb\u001b[0m: \trnn_block: LSTM\n"
          ],
          "name": "stderr"
        },
        {
          "output_type": "display_data",
          "data": {
            "text/html": [
              "\n",
              "                Tracking run with wandb version 0.10.30<br/>\n",
              "                Syncing run <strong style=\"color:#cdcd00\">happy-sweep-4</strong> to <a href=\"https://wandb.ai\" target=\"_blank\">Weights & Biases</a> <a href=\"https://docs.wandb.com/integrations/jupyter.html\" target=\"_blank\">(Documentation)</a>.<br/>\n",
              "                Project page: <a href=\"https://wandb.ai/cs6910_project/assg3\" target=\"_blank\">https://wandb.ai/cs6910_project/assg3</a><br/>\n",
              "                Sweep page: <a href=\"https://wandb.ai/cs6910_project/assg3/sweeps/f538hd0k\" target=\"_blank\">https://wandb.ai/cs6910_project/assg3/sweeps/f538hd0k</a><br/>\n",
              "Run page: <a href=\"https://wandb.ai/cs6910_project/assg3/runs/pmj9pzov\" target=\"_blank\">https://wandb.ai/cs6910_project/assg3/runs/pmj9pzov</a><br/>\n",
              "                Run data is saved locally in <code>/content/wandb/run-20210521_065720-pmj9pzov</code><br/><br/>\n",
              "            "
            ],
            "text/plain": [
              "<IPython.core.display.HTML object>"
            ]
          },
          "metadata": {
            "tags": []
          }
        },
        {
          "output_type": "stream",
          "text": [
            "Epoch 1/20\n",
            "1382/1382 [==============================] - 19s 12ms/step - loss: 0.9147 - accuracy: 0.7391 - val_loss: 0.6169 - val_accuracy: 0.8105\n",
            "Epoch 2/20\n",
            "1382/1382 [==============================] - 16s 11ms/step - loss: 0.5664 - accuracy: 0.8257 - val_loss: 0.3918 - val_accuracy: 0.8803\n",
            "Epoch 3/20\n",
            "1382/1382 [==============================] - 16s 11ms/step - loss: 0.3487 - accuracy: 0.8925 - val_loss: 0.2893 - val_accuracy: 0.9116\n",
            "Epoch 4/20\n",
            "1382/1382 [==============================] - 16s 11ms/step - loss: 0.2624 - accuracy: 0.9182 - val_loss: 0.2503 - val_accuracy: 0.9241\n",
            "Epoch 5/20\n",
            "1382/1382 [==============================] - 16s 11ms/step - loss: 0.2242 - accuracy: 0.9300 - val_loss: 0.2379 - val_accuracy: 0.9271\n",
            "Epoch 6/20\n",
            "1382/1382 [==============================] - 16s 11ms/step - loss: 0.2031 - accuracy: 0.9358 - val_loss: 0.2306 - val_accuracy: 0.9290\n",
            "Epoch 7/20\n",
            "1382/1382 [==============================] - 16s 11ms/step - loss: 0.1909 - accuracy: 0.9393 - val_loss: 0.2320 - val_accuracy: 0.9299\n",
            "Epoch 8/20\n",
            "1382/1382 [==============================] - 16s 11ms/step - loss: 0.1852 - accuracy: 0.9413 - val_loss: 0.2265 - val_accuracy: 0.9318\n",
            "Epoch 9/20\n",
            "1382/1382 [==============================] - 16s 11ms/step - loss: 0.1813 - accuracy: 0.9420 - val_loss: 0.2273 - val_accuracy: 0.9317\n",
            "Epoch 10/20\n",
            "1382/1382 [==============================] - 16s 11ms/step - loss: 0.1793 - accuracy: 0.9422 - val_loss: 0.2309 - val_accuracy: 0.9311\n",
            "Epoch 11/20\n",
            "1382/1382 [==============================] - 16s 11ms/step - loss: 0.1786 - accuracy: 0.9426 - val_loss: 0.2293 - val_accuracy: 0.9310\n",
            "Epoch 12/20\n",
            "1382/1382 [==============================] - 16s 11ms/step - loss: 0.1756 - accuracy: 0.9432 - val_loss: 0.2310 - val_accuracy: 0.9306\n",
            "Epoch 13/20\n",
            "1382/1382 [==============================] - 16s 11ms/step - loss: 0.1719 - accuracy: 0.9445 - val_loss: 0.2342 - val_accuracy: 0.9293\n",
            "Epoch 14/20\n",
            "1382/1382 [==============================] - 16s 11ms/step - loss: 0.1739 - accuracy: 0.9435 - val_loss: 0.2307 - val_accuracy: 0.9307\n",
            "Epoch 15/20\n",
            "1382/1382 [==============================] - 16s 11ms/step - loss: 0.1712 - accuracy: 0.9447 - val_loss: 0.2308 - val_accuracy: 0.9311\n",
            "Epoch 16/20\n",
            "1382/1382 [==============================] - 16s 11ms/step - loss: 0.2382 - accuracy: 0.9253 - val_loss: 0.2392 - val_accuracy: 0.9288\n",
            "Epoch 17/20\n",
            "1382/1382 [==============================] - 16s 11ms/step - loss: 0.1785 - accuracy: 0.9423 - val_loss: 0.2358 - val_accuracy: 0.9303\n",
            "Epoch 18/20\n",
            "1382/1382 [==============================] - 16s 11ms/step - loss: 0.1711 - accuracy: 0.9444 - val_loss: 0.2401 - val_accuracy: 0.9290\n",
            "Epoch 19/20\n",
            "1382/1382 [==============================] - 16s 11ms/step - loss: 0.1719 - accuracy: 0.9441 - val_loss: 0.2361 - val_accuracy: 0.9297\n",
            "Epoch 20/20\n",
            "1382/1382 [==============================] - 16s 11ms/step - loss: 0.1711 - accuracy: 0.9443 - val_loss: 0.2412 - val_accuracy: 0.9286\n"
          ],
          "name": "stdout"
        },
        {
          "output_type": "stream",
          "text": [
            "WARNING:absl:Found untraced functions such as lstm_cell_layer_call_fn, lstm_cell_layer_call_and_return_conditional_losses, lstm_cell_1_layer_call_fn, lstm_cell_1_layer_call_and_return_conditional_losses, lstm_cell_layer_call_fn while saving (showing 5 of 10). These functions will not be directly callable after loading.\n",
            "WARNING:absl:Found untraced functions such as lstm_cell_layer_call_fn, lstm_cell_layer_call_and_return_conditional_losses, lstm_cell_1_layer_call_fn, lstm_cell_1_layer_call_and_return_conditional_losses, lstm_cell_layer_call_fn while saving (showing 5 of 10). These functions will not be directly callable after loading.\n"
          ],
          "name": "stderr"
        },
        {
          "output_type": "stream",
          "text": [
            "INFO:tensorflow:Assets written to: /content/drive/MyDrive/Transliteration/LSTM_1_128_512_0_20/assets\n"
          ],
          "name": "stdout"
        },
        {
          "output_type": "stream",
          "text": [
            "INFO:tensorflow:Assets written to: /content/drive/MyDrive/Transliteration/LSTM_1_128_512_0_20/assets\n"
          ],
          "name": "stderr"
        },
        {
          "output_type": "stream",
          "text": [
            "WARNING:tensorflow:Model was constructed with shape (None, 22) for input KerasTensor(type_spec=TensorSpec(shape=(None, 22), dtype=tf.float32, name='input_2'), name='input_2', description=\"created by layer 'input_2'\"), but it was called on an input with incompatible shape (None, 1).\n"
          ],
          "name": "stdout"
        },
        {
          "output_type": "stream",
          "text": [
            "WARNING:tensorflow:Model was constructed with shape (None, 22) for input KerasTensor(type_spec=TensorSpec(shape=(None, 22), dtype=tf.float32, name='input_2'), name='input_2', description=\"created by layer 'input_2'\"), but it was called on an input with incompatible shape (None, 1).\n"
          ],
          "name": "stderr"
        },
        {
          "output_type": "stream",
          "text": [
            "WARNING:tensorflow:Model was constructed with shape (None, 22) for input KerasTensor(type_spec=TensorSpec(shape=(None, 22), dtype=tf.float32, name='input_2'), name='input_2', description=\"created by layer 'input_2'\"), but it was called on an input with incompatible shape (None, 1).\n"
          ],
          "name": "stdout"
        },
        {
          "output_type": "stream",
          "text": [
            "WARNING:tensorflow:Model was constructed with shape (None, 22) for input KerasTensor(type_spec=TensorSpec(shape=(None, 22), dtype=tf.float32, name='input_2'), name='input_2', description=\"created by layer 'input_2'\"), but it was called on an input with incompatible shape (None, 1).\n"
          ],
          "name": "stderr"
        },
        {
          "output_type": "display_data",
          "data": {
            "text/html": [
              "<br/>Waiting for W&B process to finish, PID 3181<br/>Program ended successfully."
            ],
            "text/plain": [
              "<IPython.core.display.HTML object>"
            ]
          },
          "metadata": {
            "tags": []
          }
        },
        {
          "output_type": "display_data",
          "data": {
            "application/vnd.jupyter.widget-view+json": {
              "model_id": "016f99991df844cea426e5bd7d26e2d8",
              "version_minor": 0,
              "version_major": 2
            },
            "text/plain": [
              "VBox(children=(Label(value=' 30.41MB of 30.41MB uploaded (0.00MB deduped)\\r'), FloatProgress(value=1.0, max=1.…"
            ]
          },
          "metadata": {
            "tags": []
          }
        },
        {
          "output_type": "display_data",
          "data": {
            "text/html": [
              "Find user logs for this run at: <code>/content/wandb/run-20210521_065720-pmj9pzov/logs/debug.log</code>"
            ],
            "text/plain": [
              "<IPython.core.display.HTML object>"
            ]
          },
          "metadata": {
            "tags": []
          }
        },
        {
          "output_type": "display_data",
          "data": {
            "text/html": [
              "Find internal logs for this run at: <code>/content/wandb/run-20210521_065720-pmj9pzov/logs/debug-internal.log</code>"
            ],
            "text/plain": [
              "<IPython.core.display.HTML object>"
            ]
          },
          "metadata": {
            "tags": []
          }
        },
        {
          "output_type": "display_data",
          "data": {
            "text/html": [
              "<h3>Run summary:</h3><br/><style>\n",
              "    table.wandb td:nth-child(1) { padding: 0 10px; text-align: right }\n",
              "    </style><table class=\"wandb\">\n",
              "<tr><td>epoch</td><td>19</td></tr><tr><td>loss</td><td>0.1758</td></tr><tr><td>accuracy</td><td>0.94292</td></tr><tr><td>val_loss</td><td>0.24124</td></tr><tr><td>val_accuracy</td><td>0.92857</td></tr><tr><td>_runtime</td><td>340</td></tr><tr><td>_timestamp</td><td>1621580580</td></tr><tr><td>_step</td><td>20</td></tr><tr><td>best_val_loss</td><td>0.22651</td></tr><tr><td>best_epoch</td><td>7</td></tr><tr><td>word_level_accuracy</td><td>0.24185</td></tr></table>"
            ],
            "text/plain": [
              "<IPython.core.display.HTML object>"
            ]
          },
          "metadata": {
            "tags": []
          }
        },
        {
          "output_type": "display_data",
          "data": {
            "text/html": [
              "<h3>Run history:</h3><br/><style>\n",
              "    table.wandb td:nth-child(1) { padding: 0 10px; text-align: right }\n",
              "    </style><table class=\"wandb\">\n",
              "<tr><td>epoch</td><td>▁▁▂▂▂▃▃▄▄▄▅▅▅▆▆▇▇▇██</td></tr><tr><td>loss</td><td>█▅▃▂▂▁▁▁▁▁▁▁▁▁▁▂▁▁▁▁</td></tr><tr><td>accuracy</td><td>▁▄▆▇▇███████████████</td></tr><tr><td>val_loss</td><td>█▄▂▁▁▁▁▁▁▁▁▁▁▁▁▁▁▁▁▁</td></tr><tr><td>val_accuracy</td><td>▁▅▇█████████████████</td></tr><tr><td>_runtime</td><td>▁▁▂▂▂▃▃▃▄▄▄▅▅▆▆▆▇▇▇██</td></tr><tr><td>_timestamp</td><td>▁▁▂▂▂▃▃▃▄▄▄▅▅▆▆▆▇▇▇██</td></tr><tr><td>_step</td><td>▁▁▂▂▂▃▃▃▄▄▅▅▅▆▆▆▇▇▇██</td></tr><tr><td>word_level_accuracy</td><td>▁</td></tr></table><br/>"
            ],
            "text/plain": [
              "<IPython.core.display.HTML object>"
            ]
          },
          "metadata": {
            "tags": []
          }
        },
        {
          "output_type": "display_data",
          "data": {
            "text/html": [
              "Synced 5 W&B file(s), 1 media file(s), 0 artifact file(s) and 1 other file(s)"
            ],
            "text/plain": [
              "<IPython.core.display.HTML object>"
            ]
          },
          "metadata": {
            "tags": []
          }
        },
        {
          "output_type": "display_data",
          "data": {
            "text/html": [
              "\n",
              "                    <br/>Synced <strong style=\"color:#cdcd00\">happy-sweep-4</strong>: <a href=\"https://wandb.ai/cs6910_project/assg3/runs/pmj9pzov\" target=\"_blank\">https://wandb.ai/cs6910_project/assg3/runs/pmj9pzov</a><br/>\n",
              "                "
            ],
            "text/plain": [
              "<IPython.core.display.HTML object>"
            ]
          },
          "metadata": {
            "tags": []
          }
        },
        {
          "output_type": "stream",
          "text": [
            "\u001b[34m\u001b[1mwandb\u001b[0m: Agent Starting Run: l9j9tbzv with config:\n",
            "\u001b[34m\u001b[1mwandb\u001b[0m: \tattention: False\n",
            "\u001b[34m\u001b[1mwandb\u001b[0m: \tbeam_search: False\n",
            "\u001b[34m\u001b[1mwandb\u001b[0m: \tdropout: 0\n",
            "\u001b[34m\u001b[1mwandb\u001b[0m: \tembedding_no: 256\n",
            "\u001b[34m\u001b[1mwandb\u001b[0m: \tepochs: 20\n",
            "\u001b[34m\u001b[1mwandb\u001b[0m: \thidden_layer: 0\n",
            "\u001b[34m\u001b[1mwandb\u001b[0m: \tlatent_dimension: 256\n",
            "\u001b[34m\u001b[1mwandb\u001b[0m: \tlearning_rate: 0.01\n",
            "\u001b[34m\u001b[1mwandb\u001b[0m: \tno_of_layers: 1\n",
            "\u001b[34m\u001b[1mwandb\u001b[0m: \toptimizer: adam\n",
            "\u001b[34m\u001b[1mwandb\u001b[0m: \trnn_block: GRU\n"
          ],
          "name": "stderr"
        },
        {
          "output_type": "display_data",
          "data": {
            "text/html": [
              "\n",
              "                Tracking run with wandb version 0.10.30<br/>\n",
              "                Syncing run <strong style=\"color:#cdcd00\">faithful-sweep-5</strong> to <a href=\"https://wandb.ai\" target=\"_blank\">Weights & Biases</a> <a href=\"https://docs.wandb.com/integrations/jupyter.html\" target=\"_blank\">(Documentation)</a>.<br/>\n",
              "                Project page: <a href=\"https://wandb.ai/cs6910_project/assg3\" target=\"_blank\">https://wandb.ai/cs6910_project/assg3</a><br/>\n",
              "                Sweep page: <a href=\"https://wandb.ai/cs6910_project/assg3/sweeps/f538hd0k\" target=\"_blank\">https://wandb.ai/cs6910_project/assg3/sweeps/f538hd0k</a><br/>\n",
              "Run page: <a href=\"https://wandb.ai/cs6910_project/assg3/runs/l9j9tbzv\" target=\"_blank\">https://wandb.ai/cs6910_project/assg3/runs/l9j9tbzv</a><br/>\n",
              "                Run data is saved locally in <code>/content/wandb/run-20210521_070305-l9j9tbzv</code><br/><br/>\n",
              "            "
            ],
            "text/plain": [
              "<IPython.core.display.HTML object>"
            ]
          },
          "metadata": {
            "tags": []
          }
        },
        {
          "output_type": "stream",
          "text": [
            "Epoch 1/20\n",
            "1382/1382 [==============================] - 16s 10ms/step - loss: 0.6163 - accuracy: 0.8249 - val_loss: 0.2833 - val_accuracy: 0.9151\n",
            "Epoch 2/20\n",
            "1382/1382 [==============================] - 13s 9ms/step - loss: 0.2969 - accuracy: 0.9086 - val_loss: 0.3046 - val_accuracy: 0.9092\n",
            "Epoch 3/20\n",
            "1382/1382 [==============================] - 13s 9ms/step - loss: 0.3175 - accuracy: 0.9031 - val_loss: 0.3604 - val_accuracy: 0.8903\n",
            "Epoch 4/20\n",
            "1382/1382 [==============================] - 13s 9ms/step - loss: 0.3934 - accuracy: 0.8803 - val_loss: 0.3613 - val_accuracy: 0.8934\n",
            "Epoch 5/20\n",
            "1382/1382 [==============================] - 13s 9ms/step - loss: 0.3724 - accuracy: 0.8866 - val_loss: 0.3528 - val_accuracy: 0.8942\n",
            "Epoch 6/20\n",
            "1382/1382 [==============================] - 13s 9ms/step - loss: 0.3667 - accuracy: 0.8880 - val_loss: 0.3573 - val_accuracy: 0.8920\n",
            "Epoch 7/20\n",
            "1382/1382 [==============================] - 13s 9ms/step - loss: 0.3777 - accuracy: 0.8855 - val_loss: 0.3634 - val_accuracy: 0.8916\n",
            "Epoch 8/20\n",
            "1382/1382 [==============================] - 12s 9ms/step - loss: 0.3709 - accuracy: 0.8867 - val_loss: 0.3607 - val_accuracy: 0.8920\n",
            "Epoch 9/20\n",
            "1382/1382 [==============================] - 12s 9ms/step - loss: 0.3797 - accuracy: 0.8847 - val_loss: 0.3485 - val_accuracy: 0.8943\n",
            "Epoch 10/20\n",
            "1382/1382 [==============================] - 12s 9ms/step - loss: 0.3638 - accuracy: 0.8894 - val_loss: 0.3354 - val_accuracy: 0.8992\n",
            "Epoch 11/20\n",
            "1382/1382 [==============================] - 12s 9ms/step - loss: 0.3604 - accuracy: 0.8900 - val_loss: 0.3477 - val_accuracy: 0.8959\n",
            "Epoch 12/20\n",
            "1382/1382 [==============================] - 12s 9ms/step - loss: 0.3584 - accuracy: 0.8909 - val_loss: 0.3419 - val_accuracy: 0.8961\n",
            "Epoch 13/20\n",
            "1382/1382 [==============================] - 12s 9ms/step - loss: 0.3529 - accuracy: 0.8928 - val_loss: 0.3614 - val_accuracy: 0.8905\n",
            "Epoch 14/20\n",
            "1382/1382 [==============================] - 12s 9ms/step - loss: 0.3657 - accuracy: 0.8887 - val_loss: 0.3424 - val_accuracy: 0.8988\n",
            "Epoch 15/20\n",
            "1382/1382 [==============================] - 12s 9ms/step - loss: 0.3534 - accuracy: 0.8920 - val_loss: 0.3484 - val_accuracy: 0.8941\n",
            "Epoch 16/20\n",
            "1382/1382 [==============================] - 12s 9ms/step - loss: 0.3565 - accuracy: 0.8904 - val_loss: 0.3447 - val_accuracy: 0.8948\n",
            "Epoch 17/20\n",
            "1382/1382 [==============================] - 12s 9ms/step - loss: 0.3559 - accuracy: 0.8911 - val_loss: 0.3452 - val_accuracy: 0.8952\n",
            "Epoch 18/20\n",
            "1382/1382 [==============================] - 12s 9ms/step - loss: 0.3573 - accuracy: 0.8906 - val_loss: 0.3489 - val_accuracy: 0.8957\n",
            "Epoch 19/20\n",
            "1382/1382 [==============================] - 12s 9ms/step - loss: 0.3552 - accuracy: 0.8914 - val_loss: 0.3542 - val_accuracy: 0.8928\n",
            "Epoch 20/20\n",
            "1382/1382 [==============================] - 12s 9ms/step - loss: 0.3568 - accuracy: 0.8912 - val_loss: 0.3345 - val_accuracy: 0.8979\n"
          ],
          "name": "stdout"
        },
        {
          "output_type": "stream",
          "text": [
            "WARNING:absl:Found untraced functions such as gru_cell_layer_call_fn, gru_cell_layer_call_and_return_conditional_losses, gru_cell_1_layer_call_fn, gru_cell_1_layer_call_and_return_conditional_losses, gru_cell_layer_call_fn while saving (showing 5 of 10). These functions will not be directly callable after loading.\n",
            "WARNING:absl:Found untraced functions such as gru_cell_layer_call_fn, gru_cell_layer_call_and_return_conditional_losses, gru_cell_1_layer_call_fn, gru_cell_1_layer_call_and_return_conditional_losses, gru_cell_layer_call_fn while saving (showing 5 of 10). These functions will not be directly callable after loading.\n"
          ],
          "name": "stderr"
        },
        {
          "output_type": "stream",
          "text": [
            "INFO:tensorflow:Assets written to: /content/drive/MyDrive/Transliteration/GRU_1_256_256_0_20/assets\n"
          ],
          "name": "stdout"
        },
        {
          "output_type": "stream",
          "text": [
            "INFO:tensorflow:Assets written to: /content/drive/MyDrive/Transliteration/GRU_1_256_256_0_20/assets\n"
          ],
          "name": "stderr"
        },
        {
          "output_type": "display_data",
          "data": {
            "text/html": [
              "<br/>Waiting for W&B process to finish, PID 3370<br/>Program failed with code 1.  Press ctrl-c to abort syncing."
            ],
            "text/plain": [
              "<IPython.core.display.HTML object>"
            ]
          },
          "metadata": {
            "tags": []
          }
        },
        {
          "output_type": "display_data",
          "data": {
            "application/vnd.jupyter.widget-view+json": {
              "model_id": "311187ff25c245a695c718907895d9ed",
              "version_minor": 0,
              "version_major": 2
            },
            "text/plain": [
              "VBox(children=(Label(value=' 9.45MB of 9.45MB uploaded (0.00MB deduped)\\r'), FloatProgress(value=1.0, max=1.0)…"
            ]
          },
          "metadata": {
            "tags": []
          }
        },
        {
          "output_type": "display_data",
          "data": {
            "text/html": [
              "Find user logs for this run at: <code>/content/wandb/run-20210521_070305-l9j9tbzv/logs/debug.log</code>"
            ],
            "text/plain": [
              "<IPython.core.display.HTML object>"
            ]
          },
          "metadata": {
            "tags": []
          }
        },
        {
          "output_type": "display_data",
          "data": {
            "text/html": [
              "Find internal logs for this run at: <code>/content/wandb/run-20210521_070305-l9j9tbzv/logs/debug-internal.log</code>"
            ],
            "text/plain": [
              "<IPython.core.display.HTML object>"
            ]
          },
          "metadata": {
            "tags": []
          }
        },
        {
          "output_type": "display_data",
          "data": {
            "text/html": [
              "<h3>Run summary:</h3><br/><style>\n",
              "    table.wandb td:nth-child(1) { padding: 0 10px; text-align: right }\n",
              "    </style><table class=\"wandb\">\n",
              "<tr><td>epoch</td><td>19</td></tr><tr><td>loss</td><td>0.35429</td></tr><tr><td>accuracy</td><td>0.8917</td></tr><tr><td>val_loss</td><td>0.33454</td></tr><tr><td>val_accuracy</td><td>0.89794</td></tr><tr><td>_runtime</td><td>256</td></tr><tr><td>_timestamp</td><td>1621580841</td></tr><tr><td>_step</td><td>19</td></tr><tr><td>best_val_loss</td><td>0.28333</td></tr><tr><td>best_epoch</td><td>0</td></tr></table>"
            ],
            "text/plain": [
              "<IPython.core.display.HTML object>"
            ]
          },
          "metadata": {
            "tags": []
          }
        },
        {
          "output_type": "display_data",
          "data": {
            "text/html": [
              "<h3>Run history:</h3><br/><style>\n",
              "    table.wandb td:nth-child(1) { padding: 0 10px; text-align: right }\n",
              "    </style><table class=\"wandb\">\n",
              "<tr><td>epoch</td><td>▁▁▂▂▂▃▃▄▄▄▅▅▅▆▆▇▇▇██</td></tr><tr><td>loss</td><td>█▁▃▇▅▅▆▆▅▅▅▄▄▅▄▄▄▄▄▄</td></tr><tr><td>accuracy</td><td>▁█▆▂▄▄▃▃▃▄▄▅▅▄▅▄▄▄▅▅</td></tr><tr><td>val_loss</td><td>▁▃██▇▇██▇▆▇▆█▆▇▆▆▇▇▅</td></tr><tr><td>val_accuracy</td><td>█▆▁▂▂▁▁▁▂▄▃▃▁▃▂▂▂▃▂▃</td></tr><tr><td>_runtime</td><td>▁▁▂▂▃▃▃▄▄▄▅▅▅▆▆▇▇▇██</td></tr><tr><td>_timestamp</td><td>▁▁▂▂▃▃▃▄▄▄▅▅▅▆▆▇▇▇██</td></tr><tr><td>_step</td><td>▁▁▂▂▂▃▃▄▄▄▅▅▅▆▆▇▇▇██</td></tr></table><br/>"
            ],
            "text/plain": [
              "<IPython.core.display.HTML object>"
            ]
          },
          "metadata": {
            "tags": []
          }
        },
        {
          "output_type": "display_data",
          "data": {
            "text/html": [
              "Synced 5 W&B file(s), 1 media file(s), 0 artifact file(s) and 1 other file(s)"
            ],
            "text/plain": [
              "<IPython.core.display.HTML object>"
            ]
          },
          "metadata": {
            "tags": []
          }
        },
        {
          "output_type": "display_data",
          "data": {
            "text/html": [
              "\n",
              "                    <br/>Synced <strong style=\"color:#cdcd00\">faithful-sweep-5</strong>: <a href=\"https://wandb.ai/cs6910_project/assg3/runs/l9j9tbzv\" target=\"_blank\">https://wandb.ai/cs6910_project/assg3/runs/l9j9tbzv</a><br/>\n",
              "                "
            ],
            "text/plain": [
              "<IPython.core.display.HTML object>"
            ]
          },
          "metadata": {
            "tags": []
          }
        },
        {
          "output_type": "stream",
          "text": [
            "\u001b[34m\u001b[1mwandb\u001b[0m: \u001b[32m\u001b[41mERROR\u001b[0m Run l9j9tbzv errored: ValueError(\"in user code:\\n\\n    /usr/local/lib/python3.7/dist-packages/tensorflow/python/keras/engine/training.py:1478 predict_function  *\\n        return step_function(self, iterator)\\n    /usr/local/lib/python3.7/dist-packages/tensorflow/python/keras/engine/training.py:1468 step_function  **\\n        outputs = model.distribute_strategy.run(run_step, args=(data,))\\n    /usr/local/lib/python3.7/dist-packages/tensorflow/python/distribute/distribute_lib.py:1259 run\\n        return self._extended.call_for_each_replica(fn, args=args, kwargs=kwargs)\\n    /usr/local/lib/python3.7/dist-packages/tensorflow/python/distribute/distribute_lib.py:2730 call_for_each_replica\\n        return self._call_for_each_replica(fn, args, kwargs)\\n    /usr/local/lib/python3.7/dist-packages/tensorflow/python/distribute/distribute_lib.py:3417 _call_for_each_replica\\n        return fn(*args, **kwargs)\\n    /usr/local/lib/python3.7/dist-packages/tensorflow/python/keras/engine/training.py:1461 run_step  **\\n        outputs = model.predict_step(data)\\n    /usr/local/lib/python3.7/dist-packages/tensorflow/python/keras/engine/training.py:1434 predict_step\\n        return self(x, training=False)\\n    /usr/local/lib/python3.7/dist-packages/tensorflow/python/keras/engine/base_layer.py:998 __call__\\n        input_spec.assert_input_compatibility(self.input_spec, inputs, self.name)\\n    /usr/local/lib/python3.7/dist-packages/tensorflow/python/keras/engine/input_spec.py:207 assert_input_compatibility\\n        ' input tensors. Inputs received: ' + str(inputs))\\n\\n    ValueError: Layer model_1 expects 2 input(s), but it received 1 input tensors. Inputs received: [<tf.Tensor 'IteratorGetNext:0' shape=(None, 4358, 256) dtype=float32>]\\n\")\n",
            "\u001b[34m\u001b[1mwandb\u001b[0m: Agent Starting Run: u01fwnbk with config:\n",
            "\u001b[34m\u001b[1mwandb\u001b[0m: \tattention: False\n",
            "\u001b[34m\u001b[1mwandb\u001b[0m: \tbeam_search: False\n",
            "\u001b[34m\u001b[1mwandb\u001b[0m: \tdropout: 0\n",
            "\u001b[34m\u001b[1mwandb\u001b[0m: \tembedding_no: 256\n",
            "\u001b[34m\u001b[1mwandb\u001b[0m: \tepochs: 20\n",
            "\u001b[34m\u001b[1mwandb\u001b[0m: \thidden_layer: 0\n",
            "\u001b[34m\u001b[1mwandb\u001b[0m: \tlatent_dimension: 256\n",
            "\u001b[34m\u001b[1mwandb\u001b[0m: \tlearning_rate: 0.01\n",
            "\u001b[34m\u001b[1mwandb\u001b[0m: \tno_of_layers: 1\n",
            "\u001b[34m\u001b[1mwandb\u001b[0m: \toptimizer: adam\n",
            "\u001b[34m\u001b[1mwandb\u001b[0m: \trnn_block: LSTM\n"
          ],
          "name": "stderr"
        },
        {
          "output_type": "display_data",
          "data": {
            "text/html": [
              "\n",
              "                Tracking run with wandb version 0.10.30<br/>\n",
              "                Syncing run <strong style=\"color:#cdcd00\">solar-sweep-6</strong> to <a href=\"https://wandb.ai\" target=\"_blank\">Weights & Biases</a> <a href=\"https://docs.wandb.com/integrations/jupyter.html\" target=\"_blank\">(Documentation)</a>.<br/>\n",
              "                Project page: <a href=\"https://wandb.ai/cs6910_project/assg3\" target=\"_blank\">https://wandb.ai/cs6910_project/assg3</a><br/>\n",
              "                Sweep page: <a href=\"https://wandb.ai/cs6910_project/assg3/sweeps/f538hd0k\" target=\"_blank\">https://wandb.ai/cs6910_project/assg3/sweeps/f538hd0k</a><br/>\n",
              "Run page: <a href=\"https://wandb.ai/cs6910_project/assg3/runs/u01fwnbk\" target=\"_blank\">https://wandb.ai/cs6910_project/assg3/runs/u01fwnbk</a><br/>\n",
              "                Run data is saved locally in <code>/content/wandb/run-20210521_070736-u01fwnbk</code><br/><br/>\n",
              "            "
            ],
            "text/plain": [
              "<IPython.core.display.HTML object>"
            ]
          },
          "metadata": {
            "tags": []
          }
        },
        {
          "output_type": "stream",
          "text": [
            "Epoch 1/20\n",
            "1382/1382 [==============================] - 16s 10ms/step - loss: 0.8480 - accuracy: 0.7509 - val_loss: 0.3771 - val_accuracy: 0.8811\n",
            "Epoch 2/20\n",
            "1382/1382 [==============================] - 13s 10ms/step - loss: 0.3516 - accuracy: 0.8905 - val_loss: 0.2842 - val_accuracy: 0.9117\n",
            "Epoch 3/20\n",
            "1382/1382 [==============================] - 13s 9ms/step - loss: 0.2781 - accuracy: 0.9130 - val_loss: 0.2588 - val_accuracy: 0.9202\n",
            "Epoch 4/20\n",
            "1382/1382 [==============================] - 13s 9ms/step - loss: 0.2544 - accuracy: 0.9198 - val_loss: 0.2603 - val_accuracy: 0.9206\n",
            "Epoch 5/20\n",
            "1382/1382 [==============================] - 13s 9ms/step - loss: 0.2435 - accuracy: 0.9228 - val_loss: 0.2495 - val_accuracy: 0.9218\n",
            "Epoch 6/20\n",
            "1382/1382 [==============================] - 13s 9ms/step - loss: 0.2348 - accuracy: 0.9256 - val_loss: 0.2454 - val_accuracy: 0.9237\n",
            "Epoch 7/20\n",
            "1382/1382 [==============================] - 13s 9ms/step - loss: 0.2295 - accuracy: 0.9274 - val_loss: 0.2430 - val_accuracy: 0.9249\n",
            "Epoch 8/20\n",
            "1382/1382 [==============================] - 13s 9ms/step - loss: 0.2236 - accuracy: 0.9292 - val_loss: 0.2459 - val_accuracy: 0.9251\n",
            "Epoch 9/20\n",
            "1382/1382 [==============================] - 13s 9ms/step - loss: 0.2229 - accuracy: 0.9291 - val_loss: 0.2429 - val_accuracy: 0.9247\n",
            "Epoch 10/20\n",
            "1382/1382 [==============================] - 13s 9ms/step - loss: 0.2209 - accuracy: 0.9298 - val_loss: 0.2414 - val_accuracy: 0.9270\n",
            "Epoch 11/20\n",
            "1382/1382 [==============================] - 13s 9ms/step - loss: 0.2191 - accuracy: 0.9300 - val_loss: 0.2602 - val_accuracy: 0.9199\n",
            "Epoch 12/20\n",
            "1382/1382 [==============================] - 13s 9ms/step - loss: 0.2326 - accuracy: 0.9262 - val_loss: 0.2453 - val_accuracy: 0.9235\n",
            "Epoch 13/20\n",
            "1382/1382 [==============================] - 13s 9ms/step - loss: 0.2236 - accuracy: 0.9290 - val_loss: 0.2421 - val_accuracy: 0.9247\n",
            "Epoch 14/20\n",
            "1382/1382 [==============================] - 13s 9ms/step - loss: 0.2225 - accuracy: 0.9288 - val_loss: 0.2499 - val_accuracy: 0.9233\n",
            "Epoch 15/20\n",
            "1382/1382 [==============================] - 13s 9ms/step - loss: 0.2256 - accuracy: 0.9278 - val_loss: 0.2520 - val_accuracy: 0.9225\n",
            "Epoch 16/20\n",
            "1382/1382 [==============================] - 13s 9ms/step - loss: 0.2255 - accuracy: 0.9283 - val_loss: 0.2505 - val_accuracy: 0.9230\n",
            "Epoch 17/20\n",
            "1382/1382 [==============================] - 13s 9ms/step - loss: 0.2206 - accuracy: 0.9295 - val_loss: 0.2528 - val_accuracy: 0.9224\n",
            "Epoch 18/20\n",
            "1382/1382 [==============================] - 13s 9ms/step - loss: 0.2261 - accuracy: 0.9276 - val_loss: 0.2500 - val_accuracy: 0.9213\n",
            "Epoch 19/20\n",
            "1382/1382 [==============================] - 13s 9ms/step - loss: 0.2289 - accuracy: 0.9270 - val_loss: 0.2559 - val_accuracy: 0.9210\n",
            "Epoch 20/20\n",
            "1382/1382 [==============================] - 13s 9ms/step - loss: 0.2274 - accuracy: 0.9274 - val_loss: 0.2536 - val_accuracy: 0.9230\n"
          ],
          "name": "stdout"
        },
        {
          "output_type": "stream",
          "text": [
            "WARNING:absl:Found untraced functions such as lstm_cell_layer_call_fn, lstm_cell_layer_call_and_return_conditional_losses, lstm_cell_1_layer_call_fn, lstm_cell_1_layer_call_and_return_conditional_losses, lstm_cell_layer_call_fn while saving (showing 5 of 10). These functions will not be directly callable after loading.\n",
            "WARNING:absl:Found untraced functions such as lstm_cell_layer_call_fn, lstm_cell_layer_call_and_return_conditional_losses, lstm_cell_1_layer_call_fn, lstm_cell_1_layer_call_and_return_conditional_losses, lstm_cell_layer_call_fn while saving (showing 5 of 10). These functions will not be directly callable after loading.\n"
          ],
          "name": "stderr"
        },
        {
          "output_type": "stream",
          "text": [
            "INFO:tensorflow:Assets written to: /content/drive/MyDrive/Transliteration/LSTM_1_256_256_0_20/assets\n"
          ],
          "name": "stdout"
        },
        {
          "output_type": "stream",
          "text": [
            "INFO:tensorflow:Assets written to: /content/drive/MyDrive/Transliteration/LSTM_1_256_256_0_20/assets\n"
          ],
          "name": "stderr"
        },
        {
          "output_type": "stream",
          "text": [
            "WARNING:tensorflow:Model was constructed with shape (None, 22) for input KerasTensor(type_spec=TensorSpec(shape=(None, 22), dtype=tf.float32, name='input_2'), name='input_2', description=\"created by layer 'input_2'\"), but it was called on an input with incompatible shape (None, 1).\n"
          ],
          "name": "stdout"
        },
        {
          "output_type": "stream",
          "text": [
            "WARNING:tensorflow:Model was constructed with shape (None, 22) for input KerasTensor(type_spec=TensorSpec(shape=(None, 22), dtype=tf.float32, name='input_2'), name='input_2', description=\"created by layer 'input_2'\"), but it was called on an input with incompatible shape (None, 1).\n"
          ],
          "name": "stderr"
        },
        {
          "output_type": "stream",
          "text": [
            "WARNING:tensorflow:Model was constructed with shape (None, 22) for input KerasTensor(type_spec=TensorSpec(shape=(None, 22), dtype=tf.float32, name='input_2'), name='input_2', description=\"created by layer 'input_2'\"), but it was called on an input with incompatible shape (None, 1).\n"
          ],
          "name": "stdout"
        },
        {
          "output_type": "stream",
          "text": [
            "WARNING:tensorflow:Model was constructed with shape (None, 22) for input KerasTensor(type_spec=TensorSpec(shape=(None, 22), dtype=tf.float32, name='input_2'), name='input_2', description=\"created by layer 'input_2'\"), but it was called on an input with incompatible shape (None, 1).\n"
          ],
          "name": "stderr"
        },
        {
          "output_type": "display_data",
          "data": {
            "text/html": [
              "<br/>Waiting for W&B process to finish, PID 3484<br/>Program ended successfully."
            ],
            "text/plain": [
              "<IPython.core.display.HTML object>"
            ]
          },
          "metadata": {
            "tags": []
          }
        },
        {
          "output_type": "display_data",
          "data": {
            "application/vnd.jupyter.widget-view+json": {
              "model_id": "33ef4703635241dc9c342fae52a3d398",
              "version_minor": 0,
              "version_major": 2
            },
            "text/plain": [
              "VBox(children=(Label(value=' 12.44MB of 12.44MB uploaded (0.00MB deduped)\\r'), FloatProgress(value=1.0, max=1.…"
            ]
          },
          "metadata": {
            "tags": []
          }
        },
        {
          "output_type": "display_data",
          "data": {
            "text/html": [
              "Find user logs for this run at: <code>/content/wandb/run-20210521_070736-u01fwnbk/logs/debug.log</code>"
            ],
            "text/plain": [
              "<IPython.core.display.HTML object>"
            ]
          },
          "metadata": {
            "tags": []
          }
        },
        {
          "output_type": "display_data",
          "data": {
            "text/html": [
              "Find internal logs for this run at: <code>/content/wandb/run-20210521_070736-u01fwnbk/logs/debug-internal.log</code>"
            ],
            "text/plain": [
              "<IPython.core.display.HTML object>"
            ]
          },
          "metadata": {
            "tags": []
          }
        },
        {
          "output_type": "display_data",
          "data": {
            "text/html": [
              "<h3>Run summary:</h3><br/><style>\n",
              "    table.wandb td:nth-child(1) { padding: 0 10px; text-align: right }\n",
              "    </style><table class=\"wandb\">\n",
              "<tr><td>epoch</td><td>19</td></tr><tr><td>loss</td><td>0.22928</td></tr><tr><td>accuracy</td><td>0.92702</td></tr><tr><td>val_loss</td><td>0.25358</td></tr><tr><td>val_accuracy</td><td>0.92295</td></tr><tr><td>_runtime</td><td>281</td></tr><tr><td>_timestamp</td><td>1621581137</td></tr><tr><td>_step</td><td>20</td></tr><tr><td>best_val_loss</td><td>0.24139</td></tr><tr><td>best_epoch</td><td>9</td></tr><tr><td>word_level_accuracy</td><td>0.2196</td></tr></table>"
            ],
            "text/plain": [
              "<IPython.core.display.HTML object>"
            ]
          },
          "metadata": {
            "tags": []
          }
        },
        {
          "output_type": "display_data",
          "data": {
            "text/html": [
              "<h3>Run history:</h3><br/><style>\n",
              "    table.wandb td:nth-child(1) { padding: 0 10px; text-align: right }\n",
              "    </style><table class=\"wandb\">\n",
              "<tr><td>epoch</td><td>▁▁▂▂▂▃▃▄▄▄▅▅▅▆▆▇▇▇██</td></tr><tr><td>loss</td><td>█▃▂▂▁▁▁▁▁▁▁▁▁▁▁▁▁▁▁▁</td></tr><tr><td>accuracy</td><td>▁▆▇▇████████████████</td></tr><tr><td>val_loss</td><td>█▃▂▂▁▁▁▁▁▁▂▁▁▁▂▁▂▁▂▂</td></tr><tr><td>val_accuracy</td><td>▁▆▇▇▇█████▇▇█▇▇▇▇▇▇▇</td></tr><tr><td>_runtime</td><td>▁▁▂▂▂▃▃▃▄▄▄▅▅▅▆▆▇▇▇██</td></tr><tr><td>_timestamp</td><td>▁▁▂▂▂▃▃▃▄▄▄▅▅▅▆▆▇▇▇██</td></tr><tr><td>_step</td><td>▁▁▂▂▂▃▃▃▄▄▅▅▅▆▆▆▇▇▇██</td></tr><tr><td>word_level_accuracy</td><td>▁</td></tr></table><br/>"
            ],
            "text/plain": [
              "<IPython.core.display.HTML object>"
            ]
          },
          "metadata": {
            "tags": []
          }
        },
        {
          "output_type": "display_data",
          "data": {
            "text/html": [
              "Synced 5 W&B file(s), 1 media file(s), 0 artifact file(s) and 1 other file(s)"
            ],
            "text/plain": [
              "<IPython.core.display.HTML object>"
            ]
          },
          "metadata": {
            "tags": []
          }
        },
        {
          "output_type": "display_data",
          "data": {
            "text/html": [
              "\n",
              "                    <br/>Synced <strong style=\"color:#cdcd00\">solar-sweep-6</strong>: <a href=\"https://wandb.ai/cs6910_project/assg3/runs/u01fwnbk\" target=\"_blank\">https://wandb.ai/cs6910_project/assg3/runs/u01fwnbk</a><br/>\n",
              "                "
            ],
            "text/plain": [
              "<IPython.core.display.HTML object>"
            ]
          },
          "metadata": {
            "tags": []
          }
        },
        {
          "output_type": "stream",
          "text": [
            "\u001b[34m\u001b[1mwandb\u001b[0m: Agent Starting Run: a4vyoyg8 with config:\n",
            "\u001b[34m\u001b[1mwandb\u001b[0m: \tattention: False\n",
            "\u001b[34m\u001b[1mwandb\u001b[0m: \tbeam_search: False\n",
            "\u001b[34m\u001b[1mwandb\u001b[0m: \tdropout: 0\n",
            "\u001b[34m\u001b[1mwandb\u001b[0m: \tembedding_no: 256\n",
            "\u001b[34m\u001b[1mwandb\u001b[0m: \tepochs: 20\n",
            "\u001b[34m\u001b[1mwandb\u001b[0m: \thidden_layer: 0\n",
            "\u001b[34m\u001b[1mwandb\u001b[0m: \tlatent_dimension: 512\n",
            "\u001b[34m\u001b[1mwandb\u001b[0m: \tlearning_rate: 0.01\n",
            "\u001b[34m\u001b[1mwandb\u001b[0m: \tno_of_layers: 1\n",
            "\u001b[34m\u001b[1mwandb\u001b[0m: \toptimizer: adam\n",
            "\u001b[34m\u001b[1mwandb\u001b[0m: \trnn_block: GRU\n"
          ],
          "name": "stderr"
        },
        {
          "output_type": "display_data",
          "data": {
            "text/html": [
              "\n",
              "                Tracking run with wandb version 0.10.30<br/>\n",
              "                Syncing run <strong style=\"color:#cdcd00\">divine-sweep-7</strong> to <a href=\"https://wandb.ai\" target=\"_blank\">Weights & Biases</a> <a href=\"https://docs.wandb.com/integrations/jupyter.html\" target=\"_blank\">(Documentation)</a>.<br/>\n",
              "                Project page: <a href=\"https://wandb.ai/cs6910_project/assg3\" target=\"_blank\">https://wandb.ai/cs6910_project/assg3</a><br/>\n",
              "                Sweep page: <a href=\"https://wandb.ai/cs6910_project/assg3/sweeps/f538hd0k\" target=\"_blank\">https://wandb.ai/cs6910_project/assg3/sweeps/f538hd0k</a><br/>\n",
              "Run page: <a href=\"https://wandb.ai/cs6910_project/assg3/runs/a4vyoyg8\" target=\"_blank\">https://wandb.ai/cs6910_project/assg3/runs/a4vyoyg8</a><br/>\n",
              "                Run data is saved locally in <code>/content/wandb/run-20210521_071222-a4vyoyg8</code><br/><br/>\n",
              "            "
            ],
            "text/plain": [
              "<IPython.core.display.HTML object>"
            ]
          },
          "metadata": {
            "tags": []
          }
        },
        {
          "output_type": "stream",
          "text": [
            "Epoch 1/20\n",
            "1382/1382 [==============================] - 20s 12ms/step - loss: 0.8351 - accuracy: 0.7768 - val_loss: 0.4259 - val_accuracy: 0.8697\n",
            "Epoch 2/20\n",
            "1382/1382 [==============================] - 15s 11ms/step - loss: 0.4276 - accuracy: 0.8697 - val_loss: 0.3841 - val_accuracy: 0.8841\n",
            "Epoch 3/20\n",
            "1382/1382 [==============================] - 15s 11ms/step - loss: 0.4123 - accuracy: 0.8758 - val_loss: 0.4202 - val_accuracy: 0.8773\n",
            "Epoch 4/20\n",
            "1382/1382 [==============================] - 15s 11ms/step - loss: 0.4411 - accuracy: 0.8700 - val_loss: 0.4735 - val_accuracy: 0.8629\n",
            "Epoch 5/20\n",
            "1382/1382 [==============================] - 15s 11ms/step - loss: 0.4743 - accuracy: 0.8610 - val_loss: 0.4178 - val_accuracy: 0.8779\n",
            "Epoch 6/20\n",
            "1382/1382 [==============================] - 15s 11ms/step - loss: 0.4387 - accuracy: 0.8701 - val_loss: 0.4266 - val_accuracy: 0.8738\n",
            "Epoch 7/20\n",
            "1382/1382 [==============================] - 15s 11ms/step - loss: 0.4315 - accuracy: 0.8718 - val_loss: 0.4204 - val_accuracy: 0.8769\n",
            "Epoch 8/20\n",
            "1382/1382 [==============================] - 15s 11ms/step - loss: 0.4418 - accuracy: 0.8703 - val_loss: 0.4185 - val_accuracy: 0.8765\n",
            "Epoch 9/20\n",
            "1382/1382 [==============================] - 15s 11ms/step - loss: 0.4423 - accuracy: 0.8703 - val_loss: 0.4288 - val_accuracy: 0.8750\n",
            "Epoch 10/20\n",
            "1382/1382 [==============================] - 15s 11ms/step - loss: 0.4428 - accuracy: 0.8692 - val_loss: 0.4380 - val_accuracy: 0.8733\n",
            "Epoch 11/20\n",
            "1382/1382 [==============================] - 15s 11ms/step - loss: 0.4364 - accuracy: 0.8717 - val_loss: 0.4129 - val_accuracy: 0.8812\n",
            "Epoch 12/20\n",
            "1382/1382 [==============================] - 15s 11ms/step - loss: 0.4351 - accuracy: 0.8709 - val_loss: 0.4057 - val_accuracy: 0.8804\n",
            "Epoch 13/20\n",
            "1382/1382 [==============================] - 15s 11ms/step - loss: 0.4218 - accuracy: 0.8750 - val_loss: 0.4303 - val_accuracy: 0.8781\n",
            "Epoch 14/20\n",
            "1382/1382 [==============================] - 15s 11ms/step - loss: 0.4214 - accuracy: 0.8754 - val_loss: 0.4001 - val_accuracy: 0.8843\n",
            "Epoch 15/20\n",
            "1382/1382 [==============================] - 15s 11ms/step - loss: 0.4246 - accuracy: 0.8747 - val_loss: 0.4177 - val_accuracy: 0.8795\n",
            "Epoch 16/20\n",
            "1382/1382 [==============================] - 15s 11ms/step - loss: 0.4274 - accuracy: 0.8742 - val_loss: 0.4188 - val_accuracy: 0.8787\n",
            "Epoch 17/20\n",
            "1382/1382 [==============================] - 15s 11ms/step - loss: 0.4313 - accuracy: 0.8730 - val_loss: 0.4072 - val_accuracy: 0.8822\n",
            "Epoch 18/20\n",
            "1382/1382 [==============================] - 15s 11ms/step - loss: 0.4284 - accuracy: 0.8735 - val_loss: 0.4434 - val_accuracy: 0.8746\n",
            "Epoch 19/20\n",
            "1382/1382 [==============================] - 15s 11ms/step - loss: 0.4213 - accuracy: 0.8752 - val_loss: 0.4170 - val_accuracy: 0.8823\n",
            "Epoch 20/20\n",
            " 657/1382 [=============>................] - ETA: 7s - loss: 0.4191 - accuracy: 0.8757"
          ],
          "name": "stdout"
        }
      ]
    },
    {
      "cell_type": "code",
      "metadata": {
        "id": "f-TXM2HpA2HO",
        "colab": {
          "base_uri": "https://localhost:8080/"
        },
        "outputId": "704ef009-95c8-4275-b332-024cf1a1f3d0"
      },
      "source": [
        "\n",
        "# enc_inf = enc_inference(model, 1, \"LSTM\")\n",
        "# dec_inf = dec_inference(model, 512, 1, 'LSTM')\n",
        "\n",
        "predictions = greedy_decoder(enc_inf, dec_inf, enc_input_dev, 'LSTM')\n",
        "\n",
        "pred_words = transliteration(predictions)\n",
        "\n",
        "true = list(list(dec_input_dev[i]) for i in range(dec_input_dev.shape[0]))\n",
        "true_words = transliteration(list(true))\n",
        "word_acc = word_accuracy(true_words, pred_words)"
      ],
      "execution_count": 52,
      "outputs": [
        {
          "output_type": "stream",
          "text": [
            "WARNING:tensorflow:Model was constructed with shape (None, 22) for input KerasTensor(type_spec=TensorSpec(shape=(None, 22), dtype=tf.float32, name='input_14'), name='input_14', description=\"created by layer 'input_14'\"), but it was called on an input with incompatible shape (None, 1).\n"
          ],
          "name": "stdout"
        }
      ]
    },
    {
      "cell_type": "code",
      "metadata": {
        "id": "PB9UTuIDpx32"
      },
      "source": [
        ""
      ],
      "execution_count": null,
      "outputs": []
    }
  ]
}