{
  "nbformat": 4,
  "nbformat_minor": 0,
  "metadata": {
    "colab": {
      "name": "Assignment1.ipynb",
      "provenance": [],
      "include_colab_link": true
    },
    "kernelspec": {
      "name": "python3",
      "display_name": "Python 3"
    }
  },
  "cells": [
    {
      "cell_type": "markdown",
      "metadata": {
        "id": "view-in-github",
        "colab_type": "text"
      },
      "source": [
        "<a href=\"https://colab.research.google.com/github/Swathi1309/ED18B034_ME18B133_Assignment1/blob/main/Assignment1.ipynb\" target=\"_parent\"><img src=\"https://colab.research.google.com/assets/colab-badge.svg\" alt=\"Open In Colab\"/></a>"
      ]
    },
    {
      "cell_type": "code",
      "metadata": {
        "id": "Gpn2gtJcHhV7"
      },
      "source": [
        "!pip install wandb\n",
        "!wandb login"
      ],
      "execution_count": null,
      "outputs": []
    },
    {
      "cell_type": "code",
      "metadata": {
        "id": "wXg4HOMu8wJD"
      },
      "source": [
        "import keras\n",
        "from keras.datasets import fashion_mnist\n",
        "from PIL import Image\n",
        "import wandb\n",
        "import numpy as np\n",
        "import pandas as pd\n",
        "import matplotlib.pyplot as plt\n",
        "import random\n",
        "from tensorflow.keras import initializers\n",
        "import tensorflow as tf\n",
        "\n",
        "#wandb.init(project=\"assignment-1\", entity=\"swathi\")\n",
        "classes = ['T-shirt/top','Trouser','Pullover','Dress','Coat','Sandal','Shirt','Sneaker','Bag','Ankle boot']"
      ],
      "execution_count": 4,
      "outputs": []
    },
    {
      "cell_type": "code",
      "metadata": {
        "id": "0OflOIHBH7zF"
      },
      "source": [
        "def load_data():\n",
        "  (x_train,y_train),(x_test,y_test) = fashion_mnist.load_data()\n",
        "  X_train = np.transpose((np.array(x_train[:54000],dtype=int).reshape([54000,784]))/255)\n",
        "  Y_train = np.transpose((np.array(y_train[:54000],dtype=int).reshape([54000,1])))\n",
        "  X_validation = np.transpose((np.array(x_train[54000:],dtype=int).reshape([6000,784]))/255)\n",
        "  Y_validation = np.transpose(np.array(y_train[54000:],dtype=int).reshape([6000,1]))\n",
        "  X_test = np.transpose((np.array(x_test,dtype=int).reshape([10000,784]))/255)\n",
        "  Y_test = np.transpose(np.array(y_test,dtype=int).reshape([10000,1]))\n",
        "  return X_train, Y_train, X_validation, Y_validation, X_test, Y_test"
      ],
      "execution_count": 5,
      "outputs": []
    },
    {
      "cell_type": "code",
      "metadata": {
        "id": "WxTCqTQhJr53"
      },
      "source": [
        "def log_images():\n",
        "  images = []\n",
        "  labels = []\n",
        "  for i in range(len(X_train)):\n",
        "    if len(labels)==len(classes):\n",
        "      break\n",
        "    j = random.randint(0,53999)\n",
        "    if classes[Y_train[0,j]] not in labels:\n",
        "      images.append(X_train[:,j].reshape([28,28]))\n",
        "      labels.append(classes[Y_train[0,j]])\n",
        "  wandb.log({\"Examples\": [wandb.Image(img, caption=caption) for img,caption in zip(images,labels)]})"
      ],
      "execution_count": 6,
      "outputs": []
    },
    {
      "cell_type": "markdown",
      "metadata": {
        "id": "gT6homXx3him"
      },
      "source": [
        "Loading data"
      ]
    },
    {
      "cell_type": "code",
      "metadata": {
        "id": "TiL_Gr183hFI"
      },
      "source": [
        "X_train, Y_train, X_validation, Y_validation, X_test, Y_test = load_data()"
      ],
      "execution_count": null,
      "outputs": []
    },
    {
      "cell_type": "markdown",
      "metadata": {
        "id": "HwJFFq1kUPqQ"
      },
      "source": [
        "Defining basic parameters"
      ]
    },
    {
      "cell_type": "code",
      "metadata": {
        "id": "qMaOIUmf2Eq3"
      },
      "source": [
        "N= [0,64,32,16,10]  #Insert the number of neurons in each layer\r\n",
        "N[0]=X_train.shape[0]\r\n",
        "l = len(N) - 1"
      ],
      "execution_count": 9,
      "outputs": []
    },
    {
      "cell_type": "markdown",
      "metadata": {
        "id": "4vBflv512qTz"
      },
      "source": [
        "Weights initialising"
      ]
    },
    {
      "cell_type": "code",
      "metadata": {
        "id": "3s-bO1Ma4Njm"
      },
      "source": [
        "def initialize_weights_random(N, weight_factor):\r\n",
        "  np.random.seed(0)\r\n",
        "  W = []\r\n",
        "  b = []\r\n",
        "  W.append(0)\r\n",
        "  b.append(0)\r\n",
        "  for i in range(1,l+1):\r\n",
        "    W.append((np.random.randn(N[i],N[i-1]))*weight_factor)\r\n",
        "    b.append(np.zeros((N[i],1)))\r\n",
        "\r\n",
        "  return W,b "
      ],
      "execution_count": 10,
      "outputs": []
    },
    {
      "cell_type": "code",
      "metadata": {
        "id": "VE_-R6rVSDWv"
      },
      "source": [
        "def initialize_weights_xavier(N, weight_factor):\n",
        "  initializer = tf.keras.initializers.GlorotNormal()\n",
        "  W = []\n",
        "  b = []\n",
        "  W.append(0)\n",
        "  b.append(0)\n",
        "  for i in range(1,l+1):\n",
        "    values = initializer(shape=(N[i],N[i-1]))\n",
        "    W.append(np.array(values)*weight_factor)\n",
        "    b.append(np.zeros((N[i],1)))\n",
        "    del values\n",
        "  return W,b "
      ],
      "execution_count": 11,
      "outputs": []
    },
    {
      "cell_type": "code",
      "metadata": {
        "id": "QyFdTzjcVmTW"
      },
      "source": [
        "def initialize_weights(N,init, weight_factor):\r\n",
        "  if init=='random':\r\n",
        "    return initialize_weights_random(N, weight_factor)\r\n",
        "\r\n",
        "  if init=='xavier':\r\n",
        "    return initialize_weights_xavier(N, weight_factor)"
      ],
      "execution_count": 12,
      "outputs": []
    },
    {
      "cell_type": "code",
      "metadata": {
        "id": "Vdm7xIKwGeCr"
      },
      "source": [
        "def one_hot(X,y):\r\n",
        "  one_hot_y=np.zeros((10,X.shape[1]))\r\n",
        "  for i in range(X.shape[1]):\r\n",
        "    one_hot_y[y[0,i],i] = 1\r\n",
        "  \r\n",
        "  return one_hot_y"
      ],
      "execution_count": 13,
      "outputs": []
    },
    {
      "cell_type": "markdown",
      "metadata": {
        "id": "jV6U6or95zmJ"
      },
      "source": [
        "Softmax"
      ]
    },
    {
      "cell_type": "code",
      "metadata": {
        "id": "AyqPByXy5zCH"
      },
      "source": [
        "def softmax(a):\r\n",
        "  return np.exp(a)/sum(np.exp(a))"
      ],
      "execution_count": 14,
      "outputs": []
    },
    {
      "cell_type": "markdown",
      "metadata": {
        "id": "I5yGR0372cUy"
      },
      "source": [
        "Sigmoid"
      ]
    },
    {
      "cell_type": "code",
      "metadata": {
        "id": "uPwCKGgb2bdu"
      },
      "source": [
        "def sigmoid(a):\r\n",
        "  return 1/(1+np.exp(-a))"
      ],
      "execution_count": 15,
      "outputs": []
    },
    {
      "cell_type": "markdown",
      "metadata": {
        "id": "92u-imWt2hxs"
      },
      "source": [
        "Sigmoid derivative"
      ]
    },
    {
      "cell_type": "code",
      "metadata": {
        "id": "p5uTPF1i2lMY"
      },
      "source": [
        "def dSigmoid(a):\r\n",
        "  return sigmoid(a)*(1-sigmoid(a))"
      ],
      "execution_count": 16,
      "outputs": []
    },
    {
      "cell_type": "markdown",
      "metadata": {
        "id": "ljbJC-tjexls"
      },
      "source": [
        "Tanh activation function"
      ]
    },
    {
      "cell_type": "code",
      "metadata": {
        "id": "2nJ5ldi6eOW6"
      },
      "source": [
        "def tanh(a):\n",
        "  return np.tanh(a)"
      ],
      "execution_count": 17,
      "outputs": []
    },
    {
      "cell_type": "markdown",
      "metadata": {
        "id": "FAyW5FdFe-PP"
      },
      "source": [
        "Derivative of the tanh function"
      ]
    },
    {
      "cell_type": "code",
      "metadata": {
        "id": "qo27BqYhedGS"
      },
      "source": [
        "def dTanh(a):\n",
        "  return 1- np.square(tanh(a))"
      ],
      "execution_count": 18,
      "outputs": []
    },
    {
      "cell_type": "markdown",
      "metadata": {
        "id": "Xfivy4c8fNs5"
      },
      "source": [
        "ReLU"
      ]
    },
    {
      "cell_type": "code",
      "metadata": {
        "id": "MPoY_El9fPCf"
      },
      "source": [
        "def ReLU(a):\n",
        "  return np.maximum(0,a)"
      ],
      "execution_count": 19,
      "outputs": []
    },
    {
      "cell_type": "markdown",
      "metadata": {
        "id": "7lB5ja8xfVr1"
      },
      "source": [
        "Derivative of ReLU"
      ]
    },
    {
      "cell_type": "code",
      "metadata": {
        "id": "ZwpeEX6HfYFo"
      },
      "source": [
        "def dReLU(a):\n",
        "  a[a>=0]=1\n",
        "  a[a<0]=0\n",
        "  return a"
      ],
      "execution_count": 20,
      "outputs": []
    },
    {
      "cell_type": "code",
      "metadata": {
        "id": "folHXmvsWJL3"
      },
      "source": [
        "def activation(a,act):\r\n",
        "  if act=='sigmoid':\r\n",
        "    return sigmoid(a)\r\n",
        "  if act=='tanh':\r\n",
        "    return tanh(a)\r\n",
        "  if act=='relu':\r\n",
        "    return ReLU(a)\r\n",
        "\r\n",
        "def dActivation(a,act):\r\n",
        "  if act=='sigmoid':\r\n",
        "    return dSigmoid(a)\r\n",
        "  if act=='tanh':\r\n",
        "    return dTanh(a)\r\n",
        "  if act=='relu':\r\n",
        "    return dReLU(a)"
      ],
      "execution_count": 21,
      "outputs": []
    },
    {
      "cell_type": "markdown",
      "metadata": {
        "id": "8TbfCt8Ug7rx"
      },
      "source": [
        "Cross Entropy"
      ]
    },
    {
      "cell_type": "code",
      "metadata": {
        "id": "MLnSSsh8I6B9"
      },
      "source": [
        "def cross_entropy_loss(y_hat,Y, W, alpha):\n",
        "  loss = 0\n",
        "  for i in range(Y.shape[1]):\n",
        "    loss -= np.log(y_hat[Y[0,i],i])\n",
        "  norm = 0\n",
        "  for i in range(1, len(W)):\n",
        "    norm +=np.linalg.norm((W[i]))\n",
        "  loss = loss +norm\n",
        "  loss = loss/Y.shape[1]\n",
        "  return loss"
      ],
      "execution_count": 55,
      "outputs": []
    },
    {
      "cell_type": "code",
      "metadata": {
        "id": "ROKLiFBSAZ7J"
      },
      "source": [
        "def d_cross_entropy_loss(y_hat, X, y):\r\n",
        "  return (y_hat - one_hot(X,y))"
      ],
      "execution_count": 67,
      "outputs": []
    },
    {
      "cell_type": "code",
      "metadata": {
        "id": "h189INVAAa-e"
      },
      "source": [
        "def l2_loss(y_hat,Y,W,alpha):\r\n",
        "  loss=(np.linalg.norm(y_hat-Y))\r\n",
        "  norm = 0\r\n",
        "  for i in range(1, len(W)):\r\n",
        "    norm +=np.linalg.norm((W[i]))\r\n",
        "  loss = loss +norm\r\n",
        "  loss = loss/Y.shape[1]\r\n",
        "  return loss"
      ],
      "execution_count": 57,
      "outputs": []
    },
    {
      "cell_type": "code",
      "metadata": {
        "id": "c0cd9pixGAV9"
      },
      "source": [
        "def d_l2_loss(y_hat,X, Y):\r\n",
        "  return np.multiply((y_hat - one_hot(X,y)),np.multiply(y_hat,(1-y_hat)))"
      ],
      "execution_count": 66,
      "outputs": []
    },
    {
      "cell_type": "code",
      "metadata": {
        "id": "BCJGHfS5YqLF"
      },
      "source": [
        "def Loss(y_hat, y, W, alpha, choose_loss='crossentropy'):\n",
        "  if choose_loss == 'crossentropy':\n",
        "    return cross_entropy_loss(y_hat,y,W, alpha)\n",
        "  if choose_loss =='l2':\n",
        "    return l2_loss(y_hat,y,W, alpha)\n",
        "\n",
        "def dLoss(y_hat,X, y, choose_loss='crossentropy'):\n",
        "  if choose_loss == 'crossentropy':\n",
        "    return d_cross_entropy_loss(y_hat, X, y)\n",
        "  if choose_loss =='l2':\n",
        "    return d_l2_loss(y_hat, X, y)"
      ],
      "execution_count": 70,
      "outputs": []
    },
    {
      "cell_type": "code",
      "metadata": {
        "id": "eA4p3cVMHxRG"
      },
      "source": [
        "def accuracy(y_hat,Y):\r\n",
        "  return ((y_hat == Y).sum()/Y.shape[1])"
      ],
      "execution_count": 26,
      "outputs": []
    },
    {
      "cell_type": "markdown",
      "metadata": {
        "id": "jCvIgxjM2ljg"
      },
      "source": [
        "Feed forward network"
      ]
    },
    {
      "cell_type": "code",
      "metadata": {
        "id": "08Sm_UhH2o7h"
      },
      "source": [
        "def feedforward(X_input, W, b, N, l, act):\r\n",
        "  a=[]\r\n",
        "  a.append(np.array([0]))\r\n",
        "  h=[]\r\n",
        "  h.append(X_input)\r\n",
        "  for i in range(1,l):\r\n",
        "    a_new=b[i]+np.matmul(W[i],h[i-1])\r\n",
        "    h_new=activation(a_new,act)\r\n",
        "    a.append(a_new)\r\n",
        "    h.append(h_new)\r\n",
        "\r\n",
        "  a_new=b[l]+np.matmul(W[l],h[l-1])\r\n",
        "  y_hat=softmax(a_new)\r\n",
        "  a.append(a_new)\r\n",
        "\r\n",
        "  return a,h,y_hat"
      ],
      "execution_count": 27,
      "outputs": []
    },
    {
      "cell_type": "markdown",
      "metadata": {
        "id": "sGT3LrJS2v6E"
      },
      "source": [
        "Backpropogation"
      ]
    },
    {
      "cell_type": "code",
      "metadata": {
        "id": "SOCuH5gQ2zU6"
      },
      "source": [
        "def backprop(X, y,y_hat,W,a,h,act,alpha):\r\n",
        "  grad_W=[]\r\n",
        "  grad_b=[]\r\n",
        "  grad_a=[]\r\n",
        "  grad_h=[]\r\n",
        "  \r\n",
        "  da = dLoss(y_hat, X, y)\r\n",
        "  grad_a.append(da)\r\n",
        "\r\n",
        "  for i in reversed(range(1,l+1)):\r\n",
        "    dw = (np.matmul(da,np.transpose(h[i-1])) + alpha*W[i])/(X.shape[1])\r\n",
        "    db = np.sum(da, axis=1, keepdims=True)/(X.shape[1])\r\n",
        "    dh_prev = np.matmul(np.transpose(W[i]),da)\r\n",
        "    da_prev = dh_prev*dActivation(a[i-1],act)\r\n",
        "\r\n",
        "    grad_W.append(dw)\r\n",
        "    grad_b.append(db)\r\n",
        "    da=da_prev\r\n",
        "\r\n",
        "  grad_W.append(0)\r\n",
        "  grad_b.append(0)\r\n",
        "  grad_W.reverse()\r\n",
        "  grad_b.reverse() \r\n",
        "\r\n",
        "  return grad_W,grad_b\r\n"
      ],
      "execution_count": 64,
      "outputs": []
    },
    {
      "cell_type": "code",
      "metadata": {
        "id": "knn_0ktNfnhi"
      },
      "source": [
        "def loss_and_accuracy(W, b, X, Y, act, alpha):\n",
        "  y_hat = feedforward(X, W, b, N, l, act)[2]\n",
        "  y_predict = np.argmax(y_hat,axis=0).reshape([1,X.shape[1]])\n",
        "  loss=Loss(y_hat, Y, W, alpha)\n",
        "  acc=accuracy(y_predict,Y)\n",
        "  return loss,acc"
      ],
      "execution_count": 96,
      "outputs": []
    },
    {
      "cell_type": "markdown",
      "metadata": {
        "id": "vELX4H752zuc"
      },
      "source": [
        "Gradient Descent"
      ]
    },
    {
      "cell_type": "code",
      "metadata": {
        "id": "hiKhOpkeI9sx"
      },
      "source": [
        "def gradient_descent(epochs, learn_rate, batch_size, act, init, N, alpha, weight_factor):\n",
        "  W, b = initialize_weights(N,init,weight_factor)\n",
        "  n=(np.ceil(X_train.shape[1]/batch_size)).astype(int)\n",
        "  for i in range(epochs):\n",
        "    for j in range(n):\n",
        "      X=X_train[:,(j*batch_size):((j+1)*batch_size)]\n",
        "      Y=Y_train[:,(j*batch_size):((j+1)*batch_size)]\n",
        "      a, h, y_hat = feedforward(X, W, b, N, l,act)\n",
        "      grad_W, grad_b = backprop(X, Y, y_hat, W, a, h, act, alpha)\n",
        "      W_new =[]\n",
        "      W_new.append(0)\n",
        "      b_new =[]\n",
        "      b_new.append(0)\n",
        "      for k in range(1,l+1):\n",
        "        W_new.append(W[k] - (learn_rate*grad_W[k] - learn_rate*alpha*W[k]))\n",
        "        b_new.append(b[k] - (learn_rate*grad_b[k]))\n",
        "      W = W_new\n",
        "      b = b_new\n",
        "    loss, acc = loss_and_accuracy(W, b, X_train, Y_train, act,alpha)\n",
        "    val_loss, val_acc = loss_and_accuracy(W, b, X_validation, Y_validation, act,alpha)\n",
        "    wandb.log({\"loss\": loss, \"val_loss\": val_loss, \"accuracy\": acc, \"val_accuracy\": val_acc, \"epoch\": i})\n",
        "  return W, b"
      ],
      "execution_count": 98,
      "outputs": []
    },
    {
      "cell_type": "code",
      "metadata": {
        "id": "VfHHrO_8zA7m"
      },
      "source": [
        "W, b = gradient_descent(10,0.1,32,'relu','random',N, 0.0005,10**-2)"
      ],
      "execution_count": null,
      "outputs": []
    },
    {
      "cell_type": "markdown",
      "metadata": {
        "id": "ijzvwjoxYrbD"
      },
      "source": [
        "Momentum based gradient descent"
      ]
    },
    {
      "cell_type": "code",
      "metadata": {
        "id": "RwyYIiC-Yu6A"
      },
      "source": [
        "def mom_grad_descent(epochs, learn_rate, gamma, batch_size, act, init, N, alpha, weight_factor):\n",
        "  W, b = initialize_weights(N,init,weight_factor)\n",
        "  update_prev_w = []\n",
        "  update_prev_w.append(0)\n",
        "  update_prev_b = []\n",
        "  update_prev_b.append(0)\n",
        "  n=(np.ceil(X_train.shape[1]/batch_size)).astype(int)\n",
        "  for i in range(1,l+1):\n",
        "    update_prev_w.append(np.zeros(W[i].shape))\n",
        "    update_prev_b.append(np.zeros(b[i].shape))\n",
        "  for i in range(epochs):\n",
        "    for j in range(n):\n",
        "      X=X_train[:,(j*batch_size):((j+1)*batch_size)]\n",
        "      Y=Y_train[:,(j*batch_size):((j+1)*batch_size)]\n",
        "      update_w = []\n",
        "      update_w.append(0)\n",
        "      update_b = []\n",
        "      update_b.append(0)\n",
        "      a, h, y_hat = feedforward(X, W, b, N, l, act)\n",
        "      grad_W, grad_b = backprop(X, Y, y_hat, W, a, h, act, alpha)\n",
        "      W_new =[]\n",
        "      W_new.append(0)\n",
        "      b_new =[]\n",
        "      b_new.append(0)\n",
        "      \n",
        "      for k in range(1,l+1):\n",
        "        update_w.append(np.zeros(W[k].shape))\n",
        "        update_b.append(np.zeros(b[k].shape))\n",
        "        update_w[k] = gamma*update_prev_w[k] + learn_rate*grad_W[k] + learn_rate*alpha*W[k]\n",
        "        update_b[k] = gamma*update_prev_b[k] + learn_rate*grad_b[k]\n",
        "        W_new.append((W[k] - update_w[k]/batch_size))\n",
        "        b_new.append((b[k] - update_b[k]/batch_size))\n",
        "        update_prev_w[k]=update_w[k]\n",
        "        update_prev_b[k]=update_b[k]\n",
        "      del update_w\n",
        "      del update_b\n",
        "      W = W_new\n",
        "      b = b_new\n",
        "    loss, acc = loss_and_accuracy(W, b, X_train, Y_train, act,alpha)\n",
        "    val_loss, val_acc = loss_and_accuracy(W, b, X_validation, Y_validation, act,alpha)\n",
        "    wandb.log({\"loss\": loss, \"val_loss\": val_loss, \"accuracy\": acc, \"val_accuracy\": val_acc, \"epoch\": i})\n",
        "  return W, b"
      ],
      "execution_count": 99,
      "outputs": []
    },
    {
      "cell_type": "code",
      "metadata": {
        "id": "fXJR8BTh7EkN"
      },
      "source": [
        "W, b = mom_grad_descent(10,0.1,0.9,32,'sigmoid','random', N, 0.0005, 1)"
      ],
      "execution_count": null,
      "outputs": []
    },
    {
      "cell_type": "markdown",
      "metadata": {
        "id": "GlvrMGJk9x-y"
      },
      "source": [
        "Nesterov accelerated gradient descent"
      ]
    },
    {
      "cell_type": "code",
      "metadata": {
        "id": "XP_DI7lC4Dfm"
      },
      "source": [
        "def nesterov_grad_descent(epochs, learn_rate, gamma, batch_size, act, init, N, alpha, weight_factor):\n",
        "  W, b = initialize_weights(N,init, weight_factor)\n",
        "  update_prev_w = []\n",
        "  update_prev_w.append(0)\n",
        "  update_prev_b = []\n",
        "  update_prev_b.append(0)\n",
        "  n=(np.ceil(X_train.shape[1]/batch_size)).astype(int)\n",
        "  for i in range(1,l+1):\n",
        "    update_prev_w.append(np.zeros(W[i].shape))\n",
        "    update_prev_b.append(np.zeros(b[i].shape))\n",
        "  for i in range(epochs):\n",
        "    for j in range(n):\n",
        "      X=X_train[:,(j*batch_size):((j+1)*batch_size)]\n",
        "      Y=Y_train[:,(j*batch_size):((j+1)*batch_size)]\n",
        "      update_w = []\n",
        "      update_w.append(0)\n",
        "      update_b = []\n",
        "      update_b.append(0)\n",
        "      a, h, y_hat = feedforward(X, W, b, N, l, act)\n",
        "      W_new =[]\n",
        "      W_new.append(0)\n",
        "      b_new =[]\n",
        "      b_new.append(0)\n",
        "      for k in range(1,l+1):\n",
        "        update_w.append(np.zeros(W[k].shape))\n",
        "        update_b.append(np.zeros(b[k].shape))\n",
        "        update_w[k] = gamma*update_prev_w[k]\n",
        "        update_b[k] = gamma*update_prev_b[k]\n",
        "        W_new.append((W[k] - update_w[k]/batch_size))\n",
        "        b_new.append((b[k] - update_b[k]/batch_size))\n",
        "      W = W_new\n",
        "      b = b_new\n",
        "      grad_W, grad_b = backprop(X, Y, y_hat, W, a, h, act, alpha)\n",
        "      for k in range(1,l+1):\n",
        "        update_w[k] = gamma*update_prev_w[k] + learn_rate*grad_W[k] + learn_rate*alpha*W[k]\n",
        "        update_b[k] = gamma*update_prev_b[k] + learn_rate*grad_b[k]\n",
        "        W_new[k] = (W[k] - update_w[k]/batch_size)\n",
        "        b_new[k] = (b[k] - update_b[k]/batch_size)\n",
        "        update_prev_w[k]=update_w[k]\n",
        "        update_prev_b[k]=update_b[k]\n",
        "      del update_w\n",
        "      del update_b\n",
        "      W = W_new\n",
        "      b = b_new\n",
        "    loss, acc = loss_and_accuracy(W, b, X_train, Y_train, act,alpha)\n",
        "    val_loss, val_acc = loss_and_accuracy(W, b, X_validation, Y_validation, act,alpha)\n",
        "    wandb.log({\"loss\": loss, \"val_loss\": val_loss, \"accuracy\": acc, \"val_accuracy\": val_acc, \"epoch\": i})\n",
        "  return W, b"
      ],
      "execution_count": 100,
      "outputs": []
    },
    {
      "cell_type": "code",
      "metadata": {
        "id": "FPXcS31y1XXA"
      },
      "source": [
        "W, b = nesterov_grad_descent(10,0.1,0.9,32,'sigmoid','random',N, 0.0005, 1)"
      ],
      "execution_count": null,
      "outputs": []
    },
    {
      "cell_type": "markdown",
      "metadata": {
        "id": "EEEwMl0J-PQY"
      },
      "source": [
        "RMS Prop"
      ]
    },
    {
      "cell_type": "code",
      "metadata": {
        "id": "MWDkLuJc92sH"
      },
      "source": [
        "def rms_prop(epochs, learn_rate, beta, epsilon, batch_size, act, init, N, alpha, weight_factor):\n",
        "  W, b = initialize_weights(N,init, weight_factor)\n",
        "  update_prev_w = []\n",
        "  update_prev_w.append(0)\n",
        "  update_prev_b = []\n",
        "  update_prev_b.append(0)\n",
        "  n=(np.ceil(X_train.shape[1]/batch_size)).astype(int)\n",
        "  for i in range(1,l+1):\n",
        "    update_prev_w.append(np.zeros(W[i].shape))\n",
        "    update_prev_b.append(np.zeros(b[i].shape))\n",
        "  for i in range(epochs):\n",
        "    for j in range(n):\n",
        "      X=X_train[:,(j*batch_size):((j+1)*batch_size)]\n",
        "      Y=Y_train[:,(j*batch_size):((j+1)*batch_size)]\n",
        "      update_w = []\n",
        "      update_w.append(0)\n",
        "      update_b = []\n",
        "      update_b.append(0)\n",
        "      a, h, y_hat = feedforward(X, W, b, N, l, act)\n",
        "      grad_W, grad_b = backprop(X, Y, y_hat, W, a, h, act, alpha)\n",
        "      W_new =[]\n",
        "      W_new.append(0)\n",
        "      b_new =[]\n",
        "      b_new.append(0)\n",
        "      for k in range(1,l+1):\n",
        "        update_w.append(np.zeros(W[k].shape))\n",
        "        update_b.append(np.zeros(b[k].shape))\n",
        "        update_w[k] = beta*update_prev_w[k] + (1-beta)*np.square(grad_W[k])\n",
        "        update_b[k] = beta*update_prev_b[k] + (1-beta)*np.square(grad_b[k])\n",
        "        W_new.append((W[k] - (learn_rate*np.divide(grad_W[k],(np.sqrt(update_w[k]+epsilon)))) - learn_rate*alpha*W[k]))\n",
        "        b_new.append((b[k] - (learn_rate*np.divide(grad_b[k],(np.sqrt(update_b[k]+epsilon))))))\n",
        "        update_prev_w[k]=update_w[k]\n",
        "        update_prev_b[k]=update_b[k]\n",
        "      del update_w\n",
        "      del update_b\n",
        "      W = W_new\n",
        "      b = b_new\n",
        "    loss, acc = loss_and_accuracy(W, b, X_train, Y_train, act,alpha)\n",
        "    val_loss, val_acc = loss_and_accuracy(W, b, X_validation, Y_validation, act,alpha)\n",
        "    wandb.log({\"loss\": loss, \"val_loss\": val_loss, \"accuracy\": acc, \"val_accuracy\": val_acc, \"epoch\": i})\n",
        "  return W, b"
      ],
      "execution_count": 101,
      "outputs": []
    },
    {
      "cell_type": "code",
      "metadata": {
        "id": "mPfXUV3T2aun"
      },
      "source": [
        "W, b = rms_prop(10,0.001,0.9,10**-8,16,'tanh','random',N, 0.005, 1)"
      ],
      "execution_count": null,
      "outputs": []
    },
    {
      "cell_type": "code",
      "metadata": {
        "id": "CBNrBL8-MabD"
      },
      "source": [
        "def adam(epochs, learn_rate, beta1, beta2, epsilon, batch_size, act, init, N, alpha, weight_factor):\n",
        "  W, b = initialize_weights(N,init, weight_factor)\n",
        "  m_prev_w = []\n",
        "  m_prev_w.append(0)\n",
        "  m_prev_b = []\n",
        "  m_prev_b.append(0)\n",
        "  v_prev_w = []\n",
        "  v_prev_w.append(0)\n",
        "  v_prev_b = []\n",
        "  v_prev_b.append(0)\n",
        "  n=(np.ceil(X_train.shape[1]/batch_size)).astype(int)\n",
        "  for i in range(1,l+1):\n",
        "    m_prev_w.append(np.zeros(W[i].shape))\n",
        "    m_prev_b.append(np.zeros(b[i].shape))\n",
        "    v_prev_w.append(np.zeros(W[i].shape))\n",
        "    v_prev_b.append(np.zeros(b[i].shape))\n",
        "  for i in range(epochs):\n",
        "    for j in range(n):\n",
        "      X=X_train[:,(j*batch_size):((j+1)*batch_size)]\n",
        "      Y=Y_train[:,(j*batch_size):((j+1)*batch_size)]\n",
        "      m_w = []\n",
        "      m_w.append(0)\n",
        "      v_w = []\n",
        "      v_w.append(0)\n",
        "      m_b = []\n",
        "      m_b.append(0)\n",
        "      v_b = []\n",
        "      v_b.append(0)\n",
        "      a, h, y_hat = feedforward(X, W, b, N, l, act)\n",
        "      grad_W, grad_b = backprop(X, Y, y_hat, W, a, h, act, alpha)\n",
        "      W_new =[]\n",
        "      W_new.append(0)\n",
        "      b_new =[]\n",
        "      b_new.append(0)\n",
        "      for k in range(1,l+1):\n",
        "        m_w.append(np.zeros(W[k].shape))\n",
        "        v_w.append(np.zeros(W[k].shape))\n",
        "        m_b.append(np.zeros(b[k].shape))\n",
        "        v_b.append(np.zeros(b[k].shape))\n",
        "        t = i*n + j+1\n",
        "        m_w[k] = (beta1*m_prev_w[k] + (1-beta1)*grad_W[k])/(1-np.power(beta1,t))\n",
        "        v_w[k] = (beta2*v_prev_w[k] + (1-beta2)*np.square(grad_W[k]))/(1-np.power(beta2,t))\n",
        "        m_b[k] = (beta1*m_prev_b[k] + (1-beta1)*grad_b[k])/(1-np.power(beta1,t))\n",
        "        v_b[k] = (beta2*v_prev_b[k] + (1-beta2)*np.square(grad_b[k]))/(1-np.power(beta2,t))\n",
        "        W_new.append((W[k] - (learn_rate*np.divide(m_w[k],(np.sqrt(v_w[k]+epsilon)))) - learn_rate*alpha*W[k]))\n",
        "        b_new.append((b[k] - (learn_rate*np.divide(m_b[k],(np.sqrt(v_b[k]+epsilon))))))\n",
        "        m_prev_w[k] = m_w[k]\n",
        "        v_prev_w[k] = v_w[k]\n",
        "        m_prev_b[k] = m_b[k]\n",
        "        v_prev_b[k] = v_b[k]\n",
        "      del m_w\n",
        "      del v_w\n",
        "      del m_b\n",
        "      del v_b\n",
        "      W = W_new\n",
        "      b = b_new\n",
        "    loss, acc = loss_and_accuracy(W, b, X_train, Y_train, act,alpha)\n",
        "    val_loss, val_acc = loss_and_accuracy(W, b, X_validation, Y_validation, act,alpha)\n",
        "    wandb.log({\"loss\": loss, \"val_loss\": val_loss, \"accuracy\": acc, \"val_accuracy\": val_acc, \"epoch\": i})\n",
        "  return W, b"
      ],
      "execution_count": 102,
      "outputs": []
    },
    {
      "cell_type": "code",
      "metadata": {
        "id": "Vk9sjVxrG3NO"
      },
      "source": [
        "W, b = adam(10,0.01,0.9,0.99, 10**-8,32,'sigmoid','random',N, 0.005, 1)"
      ],
      "execution_count": null,
      "outputs": []
    },
    {
      "cell_type": "code",
      "metadata": {
        "id": "6qtdZi4cD40f"
      },
      "source": [
        "def nadam(epochs, learn_rate, beta1, beta2, epsilon, batch_size, act, init, N, alpha, weight_factor):\n",
        "  W, b = initialize_weights(N,init, weight_factor)\n",
        "  m_prev_w = []\n",
        "  m_prev_w.append(0)\n",
        "  m_prev_b = []\n",
        "  m_prev_b.append(0)\n",
        "  v_prev_w = []\n",
        "  v_prev_w.append(0)\n",
        "  v_prev_b = []\n",
        "  v_prev_b.append(0)\n",
        "  n=(np.ceil(X_train.shape[1]/batch_size)).astype(int)\n",
        "  for i in range(1,l+1):\n",
        "    m_prev_w.append(np.zeros(W[i].shape))\n",
        "    m_prev_b.append(np.zeros(b[i].shape))\n",
        "    v_prev_w.append(np.zeros(W[i].shape))\n",
        "    v_prev_b.append(np.zeros(b[i].shape))\n",
        "  for i in range(epochs):\n",
        "    for j in range(n):\n",
        "      X=X_train[:,(j*batch_size):((j+1)*batch_size)]\n",
        "      Y=Y_train[:,(j*batch_size):((j+1)*batch_size)]\n",
        "      m_w = []\n",
        "      m_w.append(0)\n",
        "      v_w = []\n",
        "      v_w.append(0)\n",
        "      m_b = []\n",
        "      m_b.append(0)\n",
        "      v_b = []\n",
        "      v_b.append(0)\n",
        "      a, h, y_hat = feedforward(X, W, b, N, l, act)\n",
        "      W_new =[]\n",
        "      W_new.append(0)\n",
        "      b_new =[]\n",
        "      b_new.append(0)\n",
        "      for k in range(1,l+1):\n",
        "        m_w.append(np.zeros(W[k].shape))\n",
        "        v_w.append(np.zeros(W[k].shape))\n",
        "        m_b.append(np.zeros(b[k].shape))\n",
        "        v_b.append(np.zeros(b[k].shape))\n",
        "        t = i*n + j+1\n",
        "        m_w[k] = (beta1*m_prev_w[k])/(1-np.power(beta1,t))\n",
        "        v_w[k] = (beta2*v_prev_w[k])/(1-np.power(beta2,t))\n",
        "        m_b[k] = (beta1*m_prev_b[k])/(1-np.power(beta1,t))\n",
        "        v_b[k] = (beta2*v_prev_b[k])/(1-np.power(beta2,t))\n",
        "        W_new.append((W[k] - (learn_rate*np.divide(m_w[k],(np.sqrt(v_w[k]+epsilon))))))\n",
        "        b_new.append((b[k] - (learn_rate*np.divide(m_b[k],(np.sqrt(v_b[k]+epsilon))))))\n",
        "      W = W_new\n",
        "      b = b_new\n",
        "      grad_W, grad_b = backprop(X, Y, y_hat, W, a, h, act, alpha)\n",
        "      for k in range(1,l+1):\n",
        "        m_w[k] = (beta1*m_prev_w[k] + (1-beta1)*grad_W[k])/(1-np.power(beta1,t))\n",
        "        v_w[k] = (beta2*v_prev_w[k] + (1-beta2)*np.square(grad_W[k]))/(1-np.power(beta2,t))\n",
        "        m_b[k] = (beta1*m_prev_b[k] + (1-beta1)*grad_b[k])/(1-np.power(beta1,t))\n",
        "        v_b[k] = (beta2*v_prev_b[k] + (1-beta2)*np.square(grad_b[k]))/(1-np.power(beta2,t))\n",
        "        W_new[k] = W[k] - (learn_rate*np.divide(m_w[k],(np.sqrt(v_w[k]+epsilon)))) - learn_rate*alpha*W[k]\n",
        "        b_new[k] = b[k] - (learn_rate*np.divide(m_b[k],(np.sqrt(v_b[k]+epsilon))))\n",
        "        m_prev_w[k] = m_w[k]\n",
        "        v_prev_w[k] = v_w[k]\n",
        "        m_prev_b[k] = m_b[k]\n",
        "        v_prev_b[k] = v_b[k]\n",
        "      del m_w\n",
        "      del v_w\n",
        "      del m_b\n",
        "      del v_b\n",
        "      W = W_new\n",
        "      b = b_new\n",
        "    loss, acc = loss_and_accuracy(W, b, X_train, Y_train, act,alpha)\n",
        "    val_loss, val_acc = loss_and_accuracy(W, b, X_validation, Y_validation, act,alpha)\n",
        "    wandb.log({\"loss\": loss, \"val_loss\": val_loss, \"accuracy\": acc, \"val_accuracy\": val_acc, \"epoch\": i})\n",
        "  return W, b"
      ],
      "execution_count": 103,
      "outputs": []
    },
    {
      "cell_type": "code",
      "metadata": {
        "id": "UwB5dq5dNz9A"
      },
      "source": [
        "W, b = nadam(10, 0.1,0.9,0.99,10**-8,32,'sigmoid','random',N, 0.005, 1)"
      ],
      "execution_count": null,
      "outputs": []
    },
    {
      "cell_type": "code",
      "metadata": {
        "id": "ismRltbN4qZI"
      },
      "source": [
        "sweep_config = {\r\n",
        "    'method': 'grid'\r\n",
        "    }"
      ],
      "execution_count": null,
      "outputs": []
    },
    {
      "cell_type": "code",
      "metadata": {
        "id": "Q6AiOlvAjAPH"
      },
      "source": [
        "parameters_dict = {\r\n",
        "    # 'l': {\r\n",
        "    #     'values': [3, 4, 5]\r\n",
        "    #   },\r\n",
        "    # 'size of each layer': {\r\n",
        "    #     'values': [32, 64, 128]\r\n",
        "    #   },\r\n",
        "    'alpha': {\r\n",
        "        'values': [0, 0.0005, 0.5]\r\n",
        "      },\r\n",
        "    'learn_rate': {\r\n",
        "        'values': [1e-3,1e-4]\r\n",
        "      },\r\n",
        "    'epochs': {\r\n",
        "        'values': [5,10]\r\n",
        "      },\r\n",
        "    'batch_size': {\r\n",
        "        'values': [16,32,64]\r\n",
        "      },\r\n",
        "    'init': {\r\n",
        "        'values': ['random', 'xavier']\r\n",
        "      },\r\n",
        "    'optimizer': {\r\n",
        "        'values': ['sgd', 'mom', 'nest', 'rms', 'adam', 'nadam']\r\n",
        "      },\r\n",
        "    'act': {\r\n",
        "          'values': ['sigmoid', 'tanh', 'ReLU']\r\n",
        "      }\r\n",
        "    }\r\n",
        "\r\n",
        "sweep_config['parameters'] = parameters_dict"
      ],
      "execution_count": null,
      "outputs": []
    },
    {
      "cell_type": "code",
      "metadata": {
        "id": "UkGk8qkEpCMW"
      },
      "source": [
        "import pprint\r\n",
        "\r\n",
        "pprint.pprint(sweep_config)"
      ],
      "execution_count": null,
      "outputs": []
    },
    {
      "cell_type": "code",
      "metadata": {
        "id": "zmT81TCgpL7Q"
      },
      "source": [
        "sweep_id = wandb.sweep(sweep_config, project=\"CS6910-assg1\")"
      ],
      "execution_count": null,
      "outputs": []
    },
    {
      "cell_type": "code",
      "metadata": {
        "id": "BcMfn5Swpkzv"
      },
      "source": [
        "wandb.agent(sweep_id, train)"
      ],
      "execution_count": null,
      "outputs": []
    },
    {
      "cell_type": "code",
      "metadata": {
        "id": "xYCjEtwereDl"
      },
      "source": [
        "def training_sweep(config=None):\r\n",
        "  \r\n",
        "  # Initialize a new wandb run\r\n",
        "    with wandb.init(config=config):\r\n",
        "        # If called by wandb.agent, as below,\r\n",
        "        # this config will be set by Sweep Controller\r\n",
        "        config = wandb.config\r\n",
        "        if config.optimizer == 'sgd':\r\n",
        "          gradient_descent(config.epochs, config.learn_rate, config.batch_size, config.act, config.init, N, config.weight_factor)\r\n",
        "        if config.optimizer == 'mom':\r\n",
        "          mom_grad_descent(config.epochs, config.learn_rate, gamma=0.9, config.batch_size, config.act, config.init, N, config.weight_factor)\r\n",
        "        if config.optimizer == 'nest':\r\n",
        "          nesterov_grad_descent(config.epochs, config.learn_rate, gamma=0.9, config.batch_size, config.act, config.init, N, config.weight_factor)\r\n",
        "        if config.optimizer == 'rms':\r\n",
        "          rms_prop(config.epochs, config.learn_rate, beta=0.9, epsilon=10**-8,config.batch_size, config.act, config.init, N, config.weight_factor)\r\n",
        "        if config.optimizer == 'adam':\r\n",
        "          adam(config.epochs, config.learn_rate, beta1=0.9, beta2=0.99, epsilon=10**-8,config.batch_size, config.act, config.init, N, config.weight_factor)\r\n",
        "        if config.optimizer == 'nadam':\r\n",
        "          nadam(config.epochs, config.learn_rate, beta1=0.9, beta2=0.99, epsilon=10**-8,config.batch_size, config.act, config.init, N, config.weight_factor)\r\n",
        "\r\n",
        "        #wandb.log({\"loss\": avg_loss, \"epoch\": epoch})"
      ],
      "execution_count": null,
      "outputs": []
    }
  ]
}