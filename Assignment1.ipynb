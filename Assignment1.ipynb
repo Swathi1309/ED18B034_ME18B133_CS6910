{
  "nbformat": 4,
  "nbformat_minor": 0,
  "metadata": {
    "colab": {
      "name": "Assignment1.ipynb",
      "provenance": [],
      "include_colab_link": true
    },
    "kernelspec": {
      "name": "python3",
      "display_name": "Python 3"
    }
  },
  "cells": [
    {
      "cell_type": "markdown",
      "metadata": {
        "id": "view-in-github",
        "colab_type": "text"
      },
      "source": [
        "<a href=\"https://colab.research.google.com/github/Swathi1309/ED18B034_ME18B133_Assignment1/blob/main/Assignment1.ipynb\" target=\"_parent\"><img src=\"https://colab.research.google.com/assets/colab-badge.svg\" alt=\"Open In Colab\"/></a>"
      ]
    },
    {
      "cell_type": "code",
      "metadata": {
        "id": "Gpn2gtJcHhV7"
      },
      "source": [
        "!pip install wandb\n",
        "!wandb login"
      ],
      "execution_count": null,
      "outputs": []
    },
    {
      "cell_type": "code",
      "metadata": {
        "id": "wXg4HOMu8wJD"
      },
      "source": [
        "import keras\n",
        "from keras.datasets import fashion_mnist\n",
        "from PIL import Image\n",
        "#import wandb\n",
        "import numpy as np\n",
        "import pandas as pd\n",
        "import matplotlib.pyplot as plt\n",
        "import random\n",
        "from tensorflow.keras import initializers\n",
        "import tensorflow as tf\n",
        "\n",
        "#wandb.init(project=\"assignment-1\", entity=\"swathi\")\n",
        "#classes = ['T-shirt/top','Trouser','Pullover','Dress','Coat','Sandal','Shirt','Sneaker','Bag','Ankle boot']"
      ],
      "execution_count": 23,
      "outputs": []
    },
    {
      "cell_type": "code",
      "metadata": {
        "id": "0OflOIHBH7zF"
      },
      "source": [
        "def load_data():\n",
        "  (x_train,y_train),(x_test,y_test) = fashion_mnist.load_data()\n",
        "  X_train = np.transpose((np.array(x_train[:54000],dtype=int).reshape([54000,784]))/255)\n",
        "  Y_train = np.transpose((np.array(y_train[:54000],dtype=int).reshape([54000,1])))\n",
        "  X_validation = np.transpose((np.array(x_train[54000:],dtype=int).reshape([6000,784]))/255)\n",
        "  Y_validation = np.transpose(np.array(y_train[54000:],dtype=int).reshape([6000,1]))\n",
        "  X_test = np.transpose((np.array(x_test,dtype=int).reshape([10000,784]))/255)\n",
        "  Y_test = np.transpose(np.array(y_test,dtype=int).reshape([10000,1]))\n",
        "  return X_train, Y_train, X_validation, Y_validation, X_test, Y_test"
      ],
      "execution_count": null,
      "outputs": []
    },
    {
      "cell_type": "code",
      "metadata": {
        "id": "WxTCqTQhJr53"
      },
      "source": [
        "def log_images():\n",
        "  images = []\n",
        "  labels = []\n",
        "  for i in range(len(X_train)):\n",
        "    if len(labels)==len(classes):\n",
        "      break\n",
        "    j = random.randint(0,53999)\n",
        "    if classes[Y_train[0,j]] not in labels:\n",
        "      images.append(X_train[:,j].reshape([28,28]))\n",
        "      labels.append(classes[Y_train[0,j]])\n",
        "  wandb.log({\"Examples\": [wandb.Image(img, caption=caption) for img,caption in zip(images,labels)]})"
      ],
      "execution_count": null,
      "outputs": []
    },
    {
      "cell_type": "markdown",
      "metadata": {
        "id": "gT6homXx3him"
      },
      "source": [
        "Loading data"
      ]
    },
    {
      "cell_type": "code",
      "metadata": {
        "id": "TiL_Gr183hFI",
        "colab": {
          "base_uri": "https://localhost:8080/"
        },
        "outputId": "7d440e16-9993-4789-e747-54668352e519"
      },
      "source": [
        "X_train, Y_train, X_validation, Y_validation, X_test, Y_test = load_data()"
      ],
      "execution_count": null,
      "outputs": [
        {
          "output_type": "stream",
          "text": [
            "Downloading data from https://storage.googleapis.com/tensorflow/tf-keras-datasets/train-labels-idx1-ubyte.gz\n",
            "32768/29515 [=================================] - 0s 0us/step\n",
            "Downloading data from https://storage.googleapis.com/tensorflow/tf-keras-datasets/train-images-idx3-ubyte.gz\n",
            "26427392/26421880 [==============================] - 0s 0us/step\n",
            "Downloading data from https://storage.googleapis.com/tensorflow/tf-keras-datasets/t10k-labels-idx1-ubyte.gz\n",
            "8192/5148 [===============================================] - 0s 0us/step\n",
            "Downloading data from https://storage.googleapis.com/tensorflow/tf-keras-datasets/t10k-images-idx3-ubyte.gz\n",
            "4423680/4422102 [==============================] - 0s 0us/step\n"
          ],
          "name": "stdout"
        }
      ]
    },
    {
      "cell_type": "code",
      "metadata": {
        "id": "ogWSbd-2IHe7"
      },
      "source": [
        "log_images()"
      ],
      "execution_count": null,
      "outputs": []
    },
    {
      "cell_type": "markdown",
      "metadata": {
        "id": "HwJFFq1kUPqQ"
      },
      "source": [
        "Defining basic parameters"
      ]
    },
    {
      "cell_type": "code",
      "metadata": {
        "id": "qMaOIUmf2Eq3"
      },
      "source": [
        "N= [0,64,32,16,10]  #Insert the number of neurons in each layer\r\n",
        "N[0]=X_train.shape[0]\r\n",
        "l = len(N) - 1"
      ],
      "execution_count": null,
      "outputs": []
    },
    {
      "cell_type": "markdown",
      "metadata": {
        "id": "4vBflv512qTz"
      },
      "source": [
        "Weights initialising"
      ]
    },
    {
      "cell_type": "code",
      "metadata": {
        "id": "3s-bO1Ma4Njm"
      },
      "source": [
        "def initialize_weights_random(N):\r\n",
        "  np.random.seed(1)\r\n",
        "  W = []\r\n",
        "  b = []\r\n",
        "  W.append(0)\r\n",
        "  b.append(0)\r\n",
        "  for i in range(1,l+1):\r\n",
        "    W.append((np.random.randn(N[i],N[i-1])))\r\n",
        "    b.append(np.zeros((N[i],1)))\r\n",
        "\r\n",
        "  return W,b "
      ],
      "execution_count": 24,
      "outputs": []
    },
    {
      "cell_type": "code",
      "metadata": {
        "id": "VE_-R6rVSDWv"
      },
      "source": [
        "def initialize_weights_xavier(N):\n",
        "  initializer = tf.keras.initializers.GlorotNormal()\n",
        "  W = []\n",
        "  b = []\n",
        "  W.append(0)\n",
        "  b.append(0)\n",
        "  for i in range(1,l+1):\n",
        "    values = initializer(shape=(N[i],N[i-1]))\n",
        "    W.append(np.array(values))\n",
        "    b.append(np.zeros((N[i],1)))\n",
        "    del values\n",
        "  return W,b "
      ],
      "execution_count": 25,
      "outputs": []
    },
    {
      "cell_type": "code",
      "metadata": {
        "id": "Vdm7xIKwGeCr"
      },
      "source": [
        "def one_hot(X,y):\r\n",
        "  one_hot_y=np.zeros((10,X.shape[1]))\r\n",
        "  for i in range(X.shape[1]):\r\n",
        "    one_hot_y[y[0,i],i] = 1\r\n",
        "  \r\n",
        "  return one_hot_y"
      ],
      "execution_count": null,
      "outputs": []
    },
    {
      "cell_type": "markdown",
      "metadata": {
        "id": "jV6U6or95zmJ"
      },
      "source": [
        "Softmax"
      ]
    },
    {
      "cell_type": "code",
      "metadata": {
        "id": "AyqPByXy5zCH"
      },
      "source": [
        "def softmax(a):\r\n",
        "  return np.exp(a)/sum(np.exp(a))"
      ],
      "execution_count": null,
      "outputs": []
    },
    {
      "cell_type": "markdown",
      "metadata": {
        "id": "I5yGR0372cUy"
      },
      "source": [
        "Sigmoid"
      ]
    },
    {
      "cell_type": "code",
      "metadata": {
        "id": "uPwCKGgb2bdu"
      },
      "source": [
        "def sigmoid(a):\r\n",
        "  return 1/(1+np.exp(-a))"
      ],
      "execution_count": null,
      "outputs": []
    },
    {
      "cell_type": "markdown",
      "metadata": {
        "id": "92u-imWt2hxs"
      },
      "source": [
        "Sigmoid derivative"
      ]
    },
    {
      "cell_type": "code",
      "metadata": {
        "id": "p5uTPF1i2lMY"
      },
      "source": [
        "def dSigmoid(a):\r\n",
        "  return sigmoid(a)*(1-sigmoid(a))"
      ],
      "execution_count": null,
      "outputs": []
    },
    {
      "cell_type": "markdown",
      "metadata": {
        "id": "ljbJC-tjexls"
      },
      "source": [
        "Tanh activation function"
      ]
    },
    {
      "cell_type": "code",
      "metadata": {
        "id": "2nJ5ldi6eOW6"
      },
      "source": [
        "def tanh(a):\n",
        "  return np.tanh(a)"
      ],
      "execution_count": 26,
      "outputs": []
    },
    {
      "cell_type": "markdown",
      "metadata": {
        "id": "FAyW5FdFe-PP"
      },
      "source": [
        "Derivative of the tanh function"
      ]
    },
    {
      "cell_type": "code",
      "metadata": {
        "id": "qo27BqYhedGS"
      },
      "source": [
        "def dTanh(a):\n",
        "  return 1- np.square(tanh(a))"
      ],
      "execution_count": 28,
      "outputs": []
    },
    {
      "cell_type": "markdown",
      "metadata": {
        "id": "Xfivy4c8fNs5"
      },
      "source": [
        "ReLU"
      ]
    },
    {
      "cell_type": "code",
      "metadata": {
        "id": "MPoY_El9fPCf"
      },
      "source": [
        "def ReLU(a):\n",
        "  return np.max(0,a)"
      ],
      "execution_count": null,
      "outputs": []
    },
    {
      "cell_type": "markdown",
      "metadata": {
        "id": "7lB5ja8xfVr1"
      },
      "source": [
        "Derivative of ReLU"
      ]
    },
    {
      "cell_type": "code",
      "metadata": {
        "id": "ZwpeEX6HfYFo"
      },
      "source": [
        "def dReLU(a):\n",
        "  a[a>=0] = 1\n",
        "  a[a<0] = 0\n",
        "  return a"
      ],
      "execution_count": 37,
      "outputs": []
    },
    {
      "cell_type": "markdown",
      "metadata": {
        "id": "8TbfCt8Ug7rx"
      },
      "source": [
        "Cross Entropy"
      ]
    },
    {
      "cell_type": "code",
      "metadata": {
        "id": "MLnSSsh8I6B9"
      },
      "source": [
        "def calculate_loss(y_hat,Y):\n",
        "  loss = 0\n",
        "  for i in range(Y.shape[1]):\n",
        "    loss -= np.log(y_hat[Y[0,i],i])\n",
        "  print (loss)"
      ],
      "execution_count": null,
      "outputs": []
    },
    {
      "cell_type": "markdown",
      "metadata": {
        "id": "jCvIgxjM2ljg"
      },
      "source": [
        "Feed forward network"
      ]
    },
    {
      "cell_type": "code",
      "metadata": {
        "id": "08Sm_UhH2o7h"
      },
      "source": [
        "def feedforward(X_input, W, b, N, l):\r\n",
        "  a=[]\r\n",
        "  a.append(0)\r\n",
        "  h=[]\r\n",
        "  h.append(X_input)\r\n",
        "  for i in range(1,l):\r\n",
        "    a_new=b[i]+np.matmul(W[i],h[i-1])\r\n",
        "    h_new=sigmoid(a_new)\r\n",
        "    a.append(a_new)\r\n",
        "    h.append(h_new)\r\n",
        "\r\n",
        "  a_new=b[l]+np.matmul(W[l],h[l-1])\r\n",
        "  y_hat=softmax(a_new)\r\n",
        "  a.append(a_new)\r\n",
        "\r\n",
        "  return a,h,y_hat"
      ],
      "execution_count": null,
      "outputs": []
    },
    {
      "cell_type": "markdown",
      "metadata": {
        "id": "sGT3LrJS2v6E"
      },
      "source": [
        "Backpropogation"
      ]
    },
    {
      "cell_type": "code",
      "metadata": {
        "id": "SOCuH5gQ2zU6"
      },
      "source": [
        "def backrop(X,y,y_hat,W,a,h):\r\n",
        "  grad_W=[]\r\n",
        "  grad_b=[]\r\n",
        "  grad_a=[]\r\n",
        "  grad_h=[]\r\n",
        "  \r\n",
        "  da = y_hat - one_hot(X,y)\r\n",
        "  grad_a.append(da)\r\n",
        "\r\n",
        "  for i in reversed(range(1,l+1)):\r\n",
        "    dw = np.matmul(da,np.transpose(h[i-1]))\r\n",
        "    db = np.sum(da, axis=1, keepdims=True)\r\n",
        "    dh_prev = np.matmul(np.transpose(W[i]),da)\r\n",
        "    da_prev = dh_prev*dSigmoid(a[i-1])\r\n",
        "    \r\n",
        "    grad_W.append(dw)\r\n",
        "    grad_b.append(db)\r\n",
        "    grad_a.append(da_prev)\r\n",
        "    grad_h.append(dh_prev)\r\n",
        "    da=da_prev\r\n",
        "\r\n",
        "  grad_W.append(0)\r\n",
        "  grad_b.append(0)\r\n",
        "  grad_W.reverse()\r\n",
        "  grad_b.reverse()\r\n",
        "  grad_a.reverse()\r\n",
        "  grad_h.reverse()\r\n",
        "  \r\n",
        "\r\n",
        "  return grad_W,grad_b,grad_a,grad_h\r\n"
      ],
      "execution_count": null,
      "outputs": []
    },
    {
      "cell_type": "markdown",
      "metadata": {
        "id": "vELX4H752zuc"
      },
      "source": [
        "Gradient Descent"
      ]
    },
    {
      "cell_type": "code",
      "metadata": {
        "id": "hiKhOpkeI9sx"
      },
      "source": [
        "def gradient_descent(epochs, learn_rate):\n",
        "  W, b = initialize_weights(N)\n",
        "  for i in range(epochs):\n",
        "    a, h, y_hat = feedforward(X_train, W, b, N, l)\n",
        "    calculate_loss(y_hat, Y_train)\n",
        "    grad_W, grad_b = backrop(Y_train, y_hat, W, a, h)[0:2]\n",
        "    W_new =[]\n",
        "    W_new.append(0)\n",
        "    b_new =[]\n",
        "    b_new.append(0)\n",
        "    m=X_train.shape[1]\n",
        "    for j in range(1,l+1):\n",
        "      W_new.append(W[j] - (learn_rate*grad_W[j])/m)\n",
        "      b_new.append(b[j] - (learn_rate*grad_b[j])/m)\n",
        "    W = W_new\n",
        "    b = b_new\n",
        "  return W, b"
      ],
      "execution_count": null,
      "outputs": []
    },
    {
      "cell_type": "markdown",
      "metadata": {
        "id": "ijzvwjoxYrbD"
      },
      "source": [
        "Momentum based gradient descent"
      ]
    },
    {
      "cell_type": "code",
      "metadata": {
        "id": "RwyYIiC-Yu6A"
      },
      "source": [
        "def mom_grad_descent(epochs, learn_rate, gamma, batch_size):\n",
        "  W, b = initialize_weights(N)\n",
        "  update_prev_w = []\n",
        "  update_prev_w.append(0)\n",
        "  update_prev_b = []\n",
        "  update_prev_b.append(0)\n",
        "  n=(np.floor(X_train.shape[1]/batch_size)+1).astype(int)\n",
        "  for i in range(1,l+1):\n",
        "    update_prev_w.append(np.zeros(W[i].shape))\n",
        "    update_prev_b.append(np.zeros(b[i].shape))\n",
        "  for i in range(epochs):\n",
        "    for j in range(n):\n",
        "      X=X_train[:,(j*batch_size):((j+1)*batch_size)]\n",
        "      Y=Y_train[:,(j*batch_size):((j+1)*batch_size)]\n",
        "      update_w = []\n",
        "      update_w.append(0)\n",
        "      update_b = []\n",
        "      update_b.append(0)\n",
        "      a, h, y_hat = feedforward(X, W, b, N, l)\n",
        "      if j==n-1:\n",
        "        calculate_loss(y_hat, Y)\n",
        "      grad_W, grad_b = backrop(X, Y, y_hat, W, a, h)[0:2]\n",
        "      W_new =[]\n",
        "      W_new.append(0)\n",
        "      b_new =[]\n",
        "      b_new.append(0)\n",
        "      \n",
        "      for j in range(1,l+1):\n",
        "        update_w.append(np.zeros(W[j].shape))\n",
        "        update_b.append(np.zeros(b[j].shape))\n",
        "        update_w[j] = gamma*update_prev_w[j] + learn_rate*grad_W[j]\n",
        "        update_b[j] = gamma*update_prev_b[j] + learn_rate*grad_b[j]\n",
        "        W_new.append((W[j] - update_w[j]/batch_size))\n",
        "        b_new.append((b[j] - update_b[j]/batch_size))\n",
        "        update_prev_w[j]=update_w[j]\n",
        "        update_prev_b[j]=update_b[j]\n",
        "      del update_w\n",
        "      del update_b\n",
        "      W = W_new\n",
        "      b = b_new\n",
        "    \n",
        "  return W, b"
      ],
      "execution_count": null,
      "outputs": []
    },
    {
      "cell_type": "markdown",
      "metadata": {
        "id": "GlvrMGJk9x-y"
      },
      "source": [
        "Nesterov accelerated gradient descent"
      ]
    },
    {
      "cell_type": "code",
      "metadata": {
        "id": "XP_DI7lC4Dfm"
      },
      "source": [
        "def nesterov_grad_descent(epochs, learn_rate, gamma, batch_size):\n",
        "  W, b = initialize_weights(N)\n",
        "  update_prev_w = []\n",
        "  update_prev_w.append(0)\n",
        "  update_prev_b = []\n",
        "  update_prev_b.append(0)\n",
        "  n=(np.floor(X_train.shape[1]/batch_size)+1).astype(int)\n",
        "  for i in range(1,l+1):\n",
        "    update_prev_w.append(np.zeros(W[i].shape))\n",
        "    update_prev_b.append(np.zeros(b[i].shape))\n",
        "  for i in range(epochs):\n",
        "    for j in range(n):\n",
        "      X=X_train[:,(j*batch_size):((j+1)*batch_size)]\n",
        "      Y=Y_train[:,(j*batch_size):((j+1)*batch_size)]\n",
        "      update_w = []\n",
        "      update_w.append(0)\n",
        "      update_b = []\n",
        "      update_b.append(0)\n",
        "      a, h, y_hat = feedforward(X, W, b, N, l)\n",
        "      if j==n-1:\n",
        "        calculate_loss(y_hat, Y)\n",
        "      W_new =[]\n",
        "      W_new.append(0)\n",
        "      b_new =[]\n",
        "      b_new.append(0)\n",
        "      for j in range(1,l+1):\n",
        "        update_w.append(np.zeros(W[j].shape))\n",
        "        update_b.append(np.zeros(b[j].shape))\n",
        "        update_w[j] = gamma*update_prev_w[j]\n",
        "        update_b[j] = gamma*update_prev_b[j]\n",
        "        W_new.append((W[j] - update_w[j]/batch_size))\n",
        "        b_new.append((b[j] - update_b[j]/batch_size))\n",
        "      W = W_new\n",
        "      b = b_new\n",
        "      grad_W, grad_b = backrop(X, Y, y_hat, W, a, h)[0:2]\n",
        "      for j in range(1,l+1):\n",
        "        update_w[j] = gamma*update_prev_w[j] + learn_rate*grad_W[j]\n",
        "        update_b[j] = gamma*update_prev_b[j] + learn_rate*grad_b[j]\n",
        "        W_new.append((W[j] - update_w[j]/batch_size))\n",
        "        b_new.append((b[j] - update_b[j]/batch_size))\n",
        "        update_prev_w[j]=update_w[j]\n",
        "        update_prev_b[j]=update_b[j]\n",
        "      del update_w\n",
        "      del update_b\n",
        "      W = W_new\n",
        "      b = b_new\n",
        "  return W, b"
      ],
      "execution_count": null,
      "outputs": []
    },
    {
      "cell_type": "markdown",
      "metadata": {
        "id": "EEEwMl0J-PQY"
      },
      "source": [
        "RMS Prop"
      ]
    },
    {
      "cell_type": "code",
      "metadata": {
        "id": "MWDkLuJc92sH"
      },
      "source": [
        "def rms_prop(epochs, learn_rate, beta, epsilon, batch_size):\n",
        "  W, b = initialize_weights(N)\n",
        "  update_prev_w = []\n",
        "  update_prev_w.append(0)\n",
        "  update_prev_b = []\n",
        "  update_prev_b.append(0)\n",
        "  n=(np.floor(X_train.shape[1]/batch_size)+1).astype(int)\n",
        "  for i in range(1,l+1):\n",
        "    update_prev_w.append(np.zeros(W[i].shape))\n",
        "    update_prev_b.append(np.zeros(b[i].shape))\n",
        "  for i in range(epochs):\n",
        "    for j in range(n):\n",
        "      X=X_train[:,(j*batch_size):((j+1)*batch_size)]\n",
        "      Y=Y_train[:,(j*batch_size):((j+1)*batch_size)]\n",
        "      update_w = []\n",
        "      update_w.append(0)\n",
        "      update_b = []\n",
        "      update_b.append(0)\n",
        "      a, h, y_hat = feedforward(X, W, b, N, l)\n",
        "      if j==n-1:\n",
        "        calculate_loss(y_hat, Y)\n",
        "      grad_W, grad_b = backrop(X, Y, y_hat, W, a, h)[0:2]\n",
        "      W_new =[]\n",
        "      W_new.append(0)\n",
        "      b_new =[]\n",
        "      b_new.append(0)\n",
        "      for j in range(1,l+1):\n",
        "        update_w.append(np.zeros(W[j].shape))\n",
        "        update_b.append(np.zeros(b[j].shape))\n",
        "        update_w[j] = beta*update_prev_w[j] + (1-beta)*np.square(grad_W[j])\n",
        "        update_b[j] = beta*update_prev_b[j] + (1-beta)*np.square(grad_b[j])\n",
        "        W_new.append((W[j] - (learn_rate*np.divide(grad_W[j],(np.sqrt(update_w[j]+epsilon))))))\n",
        "        b_new.append((b[j] - (learn_rate*np.divide(grad_b[j],(np.sqrt(update_b[j]+epsilon))))))\n",
        "        update_prev_w[j]=update_w[j]\n",
        "        update_prev_b[j]=update_b[j]\n",
        "      del update_w\n",
        "      del update_b\n",
        "      W = W_new\n",
        "      b = b_new\n",
        "  return W, b"
      ],
      "execution_count": null,
      "outputs": []
    },
    {
      "cell_type": "code",
      "metadata": {
        "id": "CBNrBL8-MabD"
      },
      "source": [
        "def adam(epochs, learn_rate, beta1, beta2, epsilon, batch_size):\n",
        "  W, b = initialize_weights(N)\n",
        "  m_prev_w = []\n",
        "  m_prev_w.append(0)\n",
        "  m_prev_b = []\n",
        "  m_prev_b.append(0)\n",
        "  v_prev_w = []\n",
        "  v_prev_w.append(0)\n",
        "  v_prev_b = []\n",
        "  v_prev_b.append(0)\n",
        "  n=(np.floor(X_train.shape[1]/batch_size)+1).astype(int)\n",
        "  for i in range(1,l+1):\n",
        "    m_prev_w.append(np.zeros(W[i].shape))\n",
        "    m_prev_b.append(np.zeros(b[i].shape))\n",
        "    v_prev_w.append(np.zeros(W[i].shape))\n",
        "    v_prev_b.append(np.zeros(b[i].shape))\n",
        "  for i in range(epochs):\n",
        "    for j in range(n):\n",
        "      X=X_train[:,(j*batch_size):((j+1)*batch_size)]\n",
        "      Y=Y_train[:,(j*batch_size):((j+1)*batch_size)]\n",
        "      m_w = []\n",
        "      m_w.append(0)\n",
        "      v_w = []\n",
        "      v_w.append(0)\n",
        "      m_b = []\n",
        "      m_b.append(0)\n",
        "      v_b = []\n",
        "      v_b.append(0)\n",
        "      a, h, y_hat = feedforward(X, W, b, N, l)\n",
        "      if j==n-1:\n",
        "        calculate_loss(y_hat, Y)\n",
        "      grad_W, grad_b = backrop(X, Y, y_hat, W, a, h)[0:2]\n",
        "      W_new =[]\n",
        "      W_new.append(0)\n",
        "      b_new =[]\n",
        "      b_new.append(0)\n",
        "      for j in range(1,l+1):\n",
        "        m_w.append(np.zeros(W[j].shape))\n",
        "        v_w.append(np.zeros(W[j].shape))\n",
        "        m_b.append(np.zeros(b[j].shape))\n",
        "        v_b.append(np.zeros(b[j].shape))\n",
        "        m_w[j] = (beta1*m_prev_w[j] + (1-beta1)*grad_W[j])/(1-(beta1**(i+1)))\n",
        "        v_w[j] = (beta2*v_prev_w[j] + (1-beta2)*np.square(grad_W[j]))/(1-(beta2**(i+1)))\n",
        "        m_b[j] = (beta1*m_prev_b[j] + (1-beta1)*grad_b[j])/(1-beta1**(i+1))\n",
        "        v_b[j] = (beta2*v_prev_b[j] + (1-beta2)*np.square(grad_b[j]))/(1-beta2**(i+1))\n",
        "        W_new.append((W[j] - (learn_rate*np.divide(m_w[j],(np.sqrt(v_w[j]+epsilon))))))\n",
        "        b_new.append((b[j] - (learn_rate*np.divide(m_b[j],(np.sqrt(v_b[j]+epsilon))))))\n",
        "        m_prev_w[j] = m_w[j]\n",
        "        v_prev_w[j] = v_w[j]\n",
        "        m_prev_b[j] = m_b[j]\n",
        "        v_prev_b[j] = v_b[j]\n",
        "      del m_w\n",
        "      del v_w\n",
        "      del m_b\n",
        "      del v_b\n",
        "      W = W_new\n",
        "      b = b_new\n",
        "\n",
        "  return W, b"
      ],
      "execution_count": null,
      "outputs": []
    },
    {
      "cell_type": "code",
      "metadata": {
        "id": "6qtdZi4cD40f"
      },
      "source": [
        "def nadam(epochs, learn_rate, beta1, beta2, epsilon, batch_size):\n",
        "  W, b = initialize_weights(N)\n",
        "  m_prev_w = []\n",
        "  m_prev_w.append(0)\n",
        "  m_prev_b = []\n",
        "  m_prev_b.append(0)\n",
        "  v_prev_w = []\n",
        "  v_prev_w.append(0)\n",
        "  v_prev_b = []\n",
        "  v_prev_b.append(0)\n",
        "  n=(np.floor(X_train.shape[1]/batch_size)+1).astype(int)\n",
        "  for i in range(1,l+1):\n",
        "    m_prev_w.append(np.zeros(W[i].shape))\n",
        "    m_prev_b.append(np.zeros(b[i].shape))\n",
        "    v_prev_w.append(np.zeros(W[i].shape))\n",
        "    v_prev_b.append(np.zeros(b[i].shape))\n",
        "  for i in range(epochs):\n",
        "    for j in range(n):\n",
        "      X=X_train[:,(j*batch_size):((j+1)*batch_size)]\n",
        "      Y=Y_train[:,(j*batch_size):((j+1)*batch_size)]\n",
        "      m_w = []\n",
        "      m_w.append(0)\n",
        "      v_w = []\n",
        "      v_w.append(0)\n",
        "      m_b = []\n",
        "      m_b.append(0)\n",
        "      v_b = []\n",
        "      v_b.append(0)\n",
        "      a, h, y_hat = feedforward(X, W, b, N, l)\n",
        "      if j==n-1:\n",
        "        calculate_loss(y_hat, Y)\n",
        "      #grad_W, grad_b = backrop(Y_train, y_hat, W, a, h)[0:2]\n",
        "      W_new =[]\n",
        "      W_new.append(0)\n",
        "      b_new =[]\n",
        "      b_new.append(0)\n",
        "      for j in range(1,l+1):\n",
        "        m_w.append(np.zeros(W[j].shape))\n",
        "        v_w.append(np.zeros(W[j].shape))\n",
        "        m_b.append(np.zeros(b[j].shape))\n",
        "        v_b.append(np.zeros(b[j].shape))\n",
        "        m_w[j] = (beta1*m_prev_w[j])/(1-(beta1**(i+1))) #+ (1-beta1)*grad_W[j])/(1-(beta1**(i+1)))\n",
        "        v_w[j] = (beta2*v_prev_w[j])/(1-(beta2**(i+1))) #+ (1-beta2)*np.square(grad_W[j]))/(1-(beta2**(i+1)))\n",
        "        m_b[j] = (beta1*m_prev_b[j])/(1-beta1**(i+1)) #+ (1-beta1)*grad_b[j])/(1-beta1**(i+1))\n",
        "        v_b[j] = (beta2*v_prev_b[j])/(1-beta2**(i+1)) #+ (1-beta2)*np.square(grad_b[j]))/(1-beta2**(i+1))\n",
        "        W_new.append((W[j] - (learn_rate*np.divide(m_w[j],(np.sqrt(v_w[j]+epsilon))))))\n",
        "        b_new.append((b[j] - (learn_rate*np.divide(m_b[j],(np.sqrt(v_b[j]+epsilon))))))\n",
        "      W = W_new\n",
        "      b = b_new\n",
        "      grad_W, grad_b = backrop(X, Y, y_hat, W, a, h)[0:2]\n",
        "      for i in range(1,l+1):\n",
        "        m_w[j] = (beta1*m_prev_w[j] + (1-beta1)*grad_W[j])/(1-(beta1**(i+1)))\n",
        "        v_w[j] = (beta2*v_prev_w[j] + (1-beta2)*np.square(grad_W[j]))/(1-(beta2**(i+1)))\n",
        "        m_b[j] = (beta1*m_prev_b[j] + (1-beta1)*grad_b[j])/(1-beta1**(i+1))\n",
        "        v_b[j] = (beta2*v_prev_b[j] + (1-beta2)*np.square(grad_b[j]))/(1-beta2**(i+1))\n",
        "        W_new.append((W[j] - (learn_rate*np.divide(m_w[j],(np.sqrt(v_w[j]+epsilon))))/batch_size))\n",
        "        b_new.append((b[j] - (learn_rate*np.divide(m_b[j],(np.sqrt(v_b[j]+epsilon))))/batch_size))\n",
        "        m_prev_w[j] = m_w[j]\n",
        "        v_prev_w[j] = v_w[j]\n",
        "        m_prev_b[j] = m_b[j]\n",
        "        v_prev_b[j] = v_b[j]\n",
        "      del m_w\n",
        "      del v_w\n",
        "      del m_b\n",
        "      del v_b\n",
        "      W = W_new\n",
        "      b = b_new\n",
        "  return W, b"
      ],
      "execution_count": null,
      "outputs": []
    },
    {
      "cell_type": "code",
      "metadata": {
        "colab": {
          "base_uri": "https://localhost:8080/"
        },
        "id": "TQWgLfV0YS4X",
        "outputId": "c999530c-9cc9-4207-f25b-fde360bf5270"
      },
      "source": [
        "W,b = gradient_descent(10,0.001)"
      ],
      "execution_count": null,
      "outputs": [
        {
          "output_type": "stream",
          "text": [
            "237097.25797024355\n",
            "236504.65984101634\n",
            "235915.35319173572\n",
            "235329.34641918368\n",
            "234746.64739842658\n",
            "234167.26348595432\n",
            "233591.20152293865\n",
            "233018.46783869923\n",
            "232449.06825427685\n",
            "231883.00808620665\n"
          ],
          "name": "stdout"
        }
      ]
    },
    {
      "cell_type": "code",
      "metadata": {
        "colab": {
          "base_uri": "https://localhost:8080/"
        },
        "id": "fXJR8BTh7EkN",
        "outputId": "d453f97a-9dc2-49a3-a715-c8b6fc9a8148"
      },
      "source": [
        "W, b = mom_grad_descent(10,0.001,0.9,1028)"
      ],
      "execution_count": null,
      "outputs": [
        {
          "output_type": "stream",
          "text": [
            "1591.003757238515\n",
            "1437.2883283874114\n",
            "1340.7955404202792\n",
            "1274.262849572417\n",
            "1226.1546136322152\n",
            "1191.0590813095644\n",
            "1165.4458154193908\n",
            "1146.5924056220617\n",
            "1132.3378381178159\n",
            "1121.041779231583\n"
          ],
          "name": "stdout"
        }
      ]
    },
    {
      "cell_type": "code",
      "metadata": {
        "colab": {
          "base_uri": "https://localhost:8080/"
        },
        "id": "EWEpvqvK6fmB",
        "outputId": "32460faa-4471-45ab-fdf6-2a7c9e445d99"
      },
      "source": [
        "W, b = nesterov_grad_descent(10, 0.001,0.9,1024)"
      ],
      "execution_count": null,
      "outputs": [
        {
          "output_type": "stream",
          "text": [
            "2256.143703729159\n",
            "2047.4780847643306\n",
            "1911.0641613991295\n",
            "1814.9768384497925\n",
            "1743.8156035174752\n",
            "1690.3848345853462\n",
            "1650.2513357999287\n",
            "1620.0728617417656\n",
            "1597.1403145157337\n",
            "1579.266565016062\n"
          ],
          "name": "stdout"
        }
      ]
    },
    {
      "cell_type": "code",
      "metadata": {
        "colab": {
          "base_uri": "https://localhost:8080/"
        },
        "id": "QMmjyz8jBZlz",
        "outputId": "ed37da77-ac28-4726-ccd3-82c2cbbba795"
      },
      "source": [
        "W, b = rms_prop(10,0.001,0.9,10**-8,1024)"
      ],
      "execution_count": null,
      "outputs": [
        {
          "output_type": "stream",
          "text": [
            "1671.6019855798725\n",
            "1231.4366593315428\n",
            "1015.2485584375622\n",
            "859.9068117956413\n",
            "740.8125277565654\n",
            "657.5912693502308\n",
            "596.9946637685817\n",
            "550.580250834062\n",
            "514.5406406266586\n",
            "487.6731097154154\n"
          ],
          "name": "stdout"
        }
      ]
    },
    {
      "cell_type": "code",
      "metadata": {
        "colab": {
          "base_uri": "https://localhost:8080/"
        },
        "id": "Vk9sjVxrG3NO",
        "outputId": "f7042b41-f636-46f2-f333-d2196fd876c2"
      },
      "source": [
        "W, b = adam(10,0.001,0.9,0.99, 10**-8,256)"
      ],
      "execution_count": null,
      "outputs": [
        {
          "output_type": "stream",
          "text": [
            "/usr/local/lib/python3.7/dist-packages/ipykernel_launcher.py:43: RuntimeWarning: overflow encountered in true_divide\n",
            "/usr/local/lib/python3.7/dist-packages/ipykernel_launcher.py:45: RuntimeWarning: overflow encountered in true_divide\n"
          ],
          "name": "stderr"
        },
        {
          "output_type": "stream",
          "text": [
            "815.5103722592486\n"
          ],
          "name": "stdout"
        },
        {
          "output_type": "stream",
          "text": [
            "/usr/local/lib/python3.7/dist-packages/ipykernel_launcher.py:42: RuntimeWarning: overflow encountered in true_divide\n",
            "/usr/local/lib/python3.7/dist-packages/ipykernel_launcher.py:44: RuntimeWarning: overflow encountered in true_divide\n",
            "/usr/local/lib/python3.7/dist-packages/ipykernel_launcher.py:46: RuntimeWarning: invalid value encountered in true_divide\n",
            "/usr/local/lib/python3.7/dist-packages/ipykernel_launcher.py:47: RuntimeWarning: invalid value encountered in true_divide\n"
          ],
          "name": "stderr"
        },
        {
          "output_type": "stream",
          "text": [
            "nan\n",
            "nan\n",
            "nan\n",
            "nan\n",
            "nan\n",
            "nan\n",
            "nan\n",
            "nan\n",
            "nan\n"
          ],
          "name": "stdout"
        }
      ]
    },
    {
      "cell_type": "code",
      "metadata": {
        "colab": {
          "base_uri": "https://localhost:8080/"
        },
        "id": "UwB5dq5dNz9A",
        "outputId": "38e3ed98-d271-4449-efec-7a1133775b6e"
      },
      "source": [
        "W, b = nadam(10, 0.001,0.9,0.99,10**-8,128)"
      ],
      "execution_count": null,
      "outputs": [
        {
          "output_type": "stream",
          "text": [
            "/usr/local/lib/python3.7/dist-packages/ipykernel_launcher.py:53: RuntimeWarning: overflow encountered in true_divide\n",
            "/usr/local/lib/python3.7/dist-packages/ipykernel_launcher.py:55: RuntimeWarning: overflow encountered in true_divide\n",
            "/usr/local/lib/python3.7/dist-packages/ipykernel_launcher.py:43: RuntimeWarning: overflow encountered in true_divide\n",
            "/usr/local/lib/python3.7/dist-packages/ipykernel_launcher.py:45: RuntimeWarning: overflow encountered in true_divide\n",
            "/usr/local/lib/python3.7/dist-packages/ipykernel_launcher.py:52: RuntimeWarning: overflow encountered in true_divide\n",
            "/usr/local/lib/python3.7/dist-packages/ipykernel_launcher.py:54: RuntimeWarning: overflow encountered in true_divide\n",
            "/usr/local/lib/python3.7/dist-packages/ipykernel_launcher.py:56: RuntimeWarning: invalid value encountered in true_divide\n",
            "/usr/local/lib/python3.7/dist-packages/ipykernel_launcher.py:57: RuntimeWarning: invalid value encountered in true_divide\n",
            "/usr/local/lib/python3.7/dist-packages/ipykernel_launcher.py:42: RuntimeWarning: overflow encountered in true_divide\n",
            "/usr/local/lib/python3.7/dist-packages/ipykernel_launcher.py:46: RuntimeWarning: invalid value encountered in true_divide\n",
            "/usr/local/lib/python3.7/dist-packages/ipykernel_launcher.py:47: RuntimeWarning: invalid value encountered in true_divide\n"
          ],
          "name": "stderr"
        },
        {
          "output_type": "stream",
          "text": [
            "nan\n",
            "nan\n",
            "nan\n",
            "nan\n",
            "nan\n",
            "nan\n",
            "nan\n",
            "nan\n",
            "nan\n",
            "nan\n"
          ],
          "name": "stdout"
        }
      ]
    },
    {
      "cell_type": "code",
      "metadata": {
        "id": "uoPbeu1v22YS"
      },
      "source": [
        "def grad_descent(W,b,grad_W,grad_b,learn_rate=0.001):\r\n",
        "  W_new=[]\r\n",
        "  W_new.append(0)\r\n",
        "  b_new=[]\r\n",
        "  b_new.append(0)\r\n",
        "  m=X_train.shape[1]\r\n",
        "  for i in range(1,l+1):\r\n",
        "    #print(W[i].shape,grad_W[i].shape,b[i].shape,grad_b[i].shape)\r\n",
        "    W_new.append(W[i] - (learn_rate*grad_W[i])/m)\r\n",
        "    b_new.append(b[i] - (learn_rate*grad_b[i])/m)\r\n",
        "  return W_new,b_new\r\n"
      ],
      "execution_count": null,
      "outputs": []
    },
    {
      "cell_type": "markdown",
      "metadata": {
        "id": "CIxTyHzm22zY"
      },
      "source": [
        "Training"
      ]
    },
    {
      "cell_type": "code",
      "metadata": {
        "id": "rKVlEjb425bX"
      },
      "source": [
        "def training(N,l,epochs,batch_size,learn_rate,X_input,y):\r\n",
        "  W , b = initialize_weights(N)\r\n",
        "  n=(np.floor(X_input.shape[1]/batch_size)+1).astype(int)\r\n",
        "  for j in range(epochs):\r\n",
        "    for j in range(n):\r\n",
        "      X=X_input[:,[j*batch_size,(j+1)*batch_size]]\r\n",
        "      y=y[:,[j*batch_size,(j+1)*batch_size]]\r\n",
        "      a , h , y_hat = feedforward(X, W, b, N, l) \r\n",
        "      grad_W , grad_b = backrop(y,y_hat,W,a,h)[0:2]\r\n",
        "      W , b = grad_descent(W,b,grad_W,grad_b,learn_rate)\r\n",
        "    \r\n",
        "    calculate_loss(y_hat,y)\r\n",
        "  \r\n",
        "  return W,b\r\n"
      ],
      "execution_count": null,
      "outputs": []
    },
    {
      "cell_type": "code",
      "metadata": {
        "id": "Cd46S3v6QCFc"
      },
      "source": [
        "def predict(W,b,X_test,N,l):\r\n",
        "  y_hat = feedforward(X_test, W, b, N, l)[2]\r\n",
        "  y_class = np.argmax(y_hat,axis=0).reshape([1,X_test.shape[1]])\r\n",
        "\r\n",
        "  return y_class"
      ],
      "execution_count": null,
      "outputs": []
    },
    {
      "cell_type": "code",
      "metadata": {
        "colab": {
          "base_uri": "https://localhost:8080/"
        },
        "id": "d6IcGjcqs99K",
        "outputId": "7a70e11d-6ff2-4a27-9414-68938edbd612"
      },
      "source": [
        "Y_predict = predict(W_new,b_new,X_train,N,l)\r\n",
        "print (Y_predict[0,0:4])\r\n",
        "print (Y_test[0,0:4])\r\n",
        "#sklearn.metrics.accuracy_score(Y_test, Y_predict)"
      ],
      "execution_count": null,
      "outputs": [
        {
          "output_type": "stream",
          "text": [
            "[6 6 7 7]\n",
            "[9 2 1 1]\n"
          ],
          "name": "stdout"
        }
      ]
    },
    {
      "cell_type": "code",
      "metadata": {
        "id": "ismRltbN4qZI"
      },
      "source": [
        "sweep_config = {\r\n",
        "    'method': 'random'\r\n",
        "    }"
      ],
      "execution_count": null,
      "outputs": []
    },
    {
      "cell_type": "code",
      "metadata": {
        "id": "Q6AiOlvAjAPH"
      },
      "source": [
        "parameters_dict = {\r\n",
        "    'l': {\r\n",
        "        'values': [3, 4, 5]\r\n",
        "      },\r\n",
        "    'size of each layer': {\r\n",
        "        'values': [32, 64, 128]\r\n",
        "      },\r\n",
        "    'weight decay': {\r\n",
        "        'values': [0, 0.0005, 0.5]\r\n",
        "      },\r\n",
        "    'learn_rate': {\r\n",
        "        'values': [1e-3,1e-4]\r\n",
        "      },\r\n",
        "    'epochs': {\r\n",
        "        'values': [5,10]\r\n",
        "      },\r\n",
        "    'batch_size': {\r\n",
        "        'values': [16,32,64]\r\n",
        "      },\r\n",
        "    'weights_initialization': {\r\n",
        "        'values': ['random', 'Xavier']\r\n",
        "      },\r\n",
        "    'optimizer': {\r\n",
        "        'values': ['sgd', 'mom', 'nest', 'rms', 'adam', 'nadam']\r\n",
        "      },\r\n",
        "    'act_func': {\r\n",
        "          'values': ['sigmoid', 'tanh', 'ReLU']\r\n",
        "      }\r\n",
        "    }\r\n",
        "\r\n",
        "sweep_config['parameters'] = parameters_dict"
      ],
      "execution_count": null,
      "outputs": []
    },
    {
      "cell_type": "code",
      "metadata": {
        "id": "UkGk8qkEpCMW"
      },
      "source": [
        "import pprint\r\n",
        "\r\n",
        "pprint.pprint(sweep_config)"
      ],
      "execution_count": null,
      "outputs": []
    },
    {
      "cell_type": "code",
      "metadata": {
        "id": "zmT81TCgpL7Q"
      },
      "source": [
        "sweep_id = wandb.sweep(sweep_config, project=\"pytorch-sweeps-demo\")"
      ],
      "execution_count": null,
      "outputs": []
    },
    {
      "cell_type": "code",
      "metadata": {
        "id": "BcMfn5Swpkzv"
      },
      "source": [
        "wandb.agent(sweep_id, train, count=5)"
      ],
      "execution_count": null,
      "outputs": []
    },
    {
      "cell_type": "code",
      "metadata": {
        "id": "xYCjEtwereDl"
      },
      "source": [
        "def training_sweep(N,l,X_input,y,config=None):\r\n",
        "  \r\n",
        "  # Initialize a new wandb run\r\n",
        "    with wandb.init(config=config):\r\n",
        "        # If called by wandb.agent, as below,\r\n",
        "        # this config will be set by Sweep Controller\r\n",
        "        config = wandb.config\r\n",
        "\r\n",
        "        training(N,l,config.epochs,config.batch_size,config.learn_rate,X_input,y)\r\n",
        "            wandb.log({\"loss\": avg_loss, \"epoch\": epoch})"
      ],
      "execution_count": null,
      "outputs": []
    },
    {
      "cell_type": "code",
      "metadata": {
        "id": "0xsXfU2NRWK6"
      },
      "source": [
        ""
      ],
      "execution_count": 3,
      "outputs": []
    }
  ]
}