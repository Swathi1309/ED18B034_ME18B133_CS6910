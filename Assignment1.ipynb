{
  "nbformat": 4,
  "nbformat_minor": 0,
  "metadata": {
    "colab": {
      "name": "Assignment1.ipynb",
      "provenance": [],
      "include_colab_link": true
    },
    "kernelspec": {
      "name": "python3",
      "display_name": "Python 3"
    }
  },
  "cells": [
    {
      "cell_type": "markdown",
      "metadata": {
        "id": "view-in-github",
        "colab_type": "text"
      },
      "source": [
        "<a href=\"https://colab.research.google.com/github/Swathi1309/ED18B034_ME18B133_Assignment1/blob/main/Assignment1.ipynb\" target=\"_parent\"><img src=\"https://colab.research.google.com/assets/colab-badge.svg\" alt=\"Open In Colab\"/></a>"
      ]
    },
    {
      "cell_type": "code",
      "metadata": {
        "id": "Gpn2gtJcHhV7"
      },
      "source": [
        "!pip install wandb\n",
        "!wandb login"
      ],
      "execution_count": null,
      "outputs": []
    },
    {
      "cell_type": "code",
      "metadata": {
        "id": "wXg4HOMu8wJD",
        "colab": {
          "base_uri": "https://localhost:8080/",
          "height": 136
        },
        "outputId": "45d3f119-3352-4a79-e90a-efddf82e5475"
      },
      "source": [
        "import keras\n",
        "from keras.datasets import fashion_mnist\n",
        "from PIL import Image\n",
        "import wandb\n",
        "import numpy as np\n",
        "import pandas as pd\n",
        "import matplotlib.pyplot as plt\n",
        "import random\n",
        "\n",
        "wandb.init(project=\"assignment-1\", entity=\"swathi\")\n",
        "classes = ['T-shirt/top','Trouser','Pullover','Dress','Coat','Sandal','Shirt','Sneaker','Bag','Ankle boot']"
      ],
      "execution_count": 2,
      "outputs": [
        {
          "output_type": "stream",
          "text": [
            "\u001b[34m\u001b[1mwandb\u001b[0m: Currently logged in as: \u001b[33mswathi\u001b[0m (use `wandb login --relogin` to force relogin)\n"
          ],
          "name": "stderr"
        },
        {
          "output_type": "display_data",
          "data": {
            "text/html": [
              "\n",
              "                Tracking run with wandb version 0.10.21<br/>\n",
              "                Syncing run <strong style=\"color:#cdcd00\">lilac-firefly-34</strong> to <a href=\"https://wandb.ai\" target=\"_blank\">Weights & Biases</a> <a href=\"https://docs.wandb.com/integrations/jupyter.html\" target=\"_blank\">(Documentation)</a>.<br/>\n",
              "                Project page: <a href=\"https://wandb.ai/swathi/assignment-1\" target=\"_blank\">https://wandb.ai/swathi/assignment-1</a><br/>\n",
              "                Run page: <a href=\"https://wandb.ai/swathi/assignment-1/runs/1s76vqg0\" target=\"_blank\">https://wandb.ai/swathi/assignment-1/runs/1s76vqg0</a><br/>\n",
              "                Run data is saved locally in <code>/content/wandb/run-20210309_035254-1s76vqg0</code><br/><br/>\n",
              "            "
            ],
            "text/plain": [
              "<IPython.core.display.HTML object>"
            ]
          },
          "metadata": {
            "tags": []
          }
        }
      ]
    },
    {
      "cell_type": "code",
      "metadata": {
        "id": "cOUoJ_iG22la"
      },
      "source": [
        "def load_images():\n",
        "  (x_train,y_train),(x_test,y_test) = fashion_mnist.load_data()\n",
        "  X_train_img = x_train[:54000]\n",
        "  X_validation_img = x_train[54000:]\n",
        "  X_test_img = x_test\n",
        "  return X_train_img, X_validation_img, X_test_img"
      ],
      "execution_count": 3,
      "outputs": []
    },
    {
      "cell_type": "code",
      "metadata": {
        "id": "0OflOIHBH7zF"
      },
      "source": [
        "def load_data():\n",
        "  (x_train,y_train),(x_test,y_test) = fashion_mnist.load_data()\n",
        "  X_train = np.transpose((np.array(x_train[:54000],dtype=int).reshape([54000,784]))/4)\n",
        "  Y_train = (np.array(y_train[:54000],dtype=int).reshape([54000,1]))\n",
        "  X_validation = np.transpose((np.array(x_train[54000:],dtype=int).reshape([6000,784]))/4)\n",
        "  Y_validation = np.array(y_train[54000:],dtype=int).reshape([6000,1])\n",
        "  X_test = np.transpose((np.array(x_test,dtype=int).reshape([10000,784]))/4)\n",
        "  Y_test = np.array(y_test,dtype=int).reshape([10000,1])\n",
        "  return X_train, Y_train, X_validation, Y_validation, X_test, Y_test"
      ],
      "execution_count": 4,
      "outputs": []
    },
    {
      "cell_type": "code",
      "metadata": {
        "id": "WxTCqTQhJr53"
      },
      "source": [
        "def log_images():\n",
        "  images = []\n",
        "  labels = []\n",
        "  for i in range(len(X_train_img)):\n",
        "    if len(labels)==len(classes):\n",
        "      break\n",
        "    j = random.randint(0,53999)\n",
        "    if classes[Y_train[j][0]] not in labels:\n",
        "      images.append(X_train_img[j])\n",
        "      labels.append(classes[Y_train[j][0]])\n",
        "  wandb.log({\"Examples\": [wandb.Image(img, caption=caption) for img,caption in zip(images,labels)]})"
      ],
      "execution_count": 17,
      "outputs": []
    },
    {
      "cell_type": "markdown",
      "metadata": {
        "id": "gT6homXx3him"
      },
      "source": [
        "Loading data"
      ]
    },
    {
      "cell_type": "code",
      "metadata": {
        "id": "TiL_Gr183hFI"
      },
      "source": [
        "X_train, Y_train, X_validation, Y_validation, X_test, Y_test = load_data()\n",
        "X_input = X_train\n",
        "X_train_img, X_validation_img, X_test_img = load_images()"
      ],
      "execution_count": 22,
      "outputs": []
    },
    {
      "cell_type": "code",
      "metadata": {
        "id": "ogWSbd-2IHe7"
      },
      "source": [
        "log_images()"
      ],
      "execution_count": 20,
      "outputs": []
    },
    {
      "cell_type": "markdown",
      "metadata": {
        "id": "HwJFFq1kUPqQ"
      },
      "source": [
        "Defining basic parameters"
      ]
    },
    {
      "cell_type": "code",
      "metadata": {
        "id": "qMaOIUmf2Eq3"
      },
      "source": [
        "N= [0,3,10]  #Insert the number of neurons in each layer\r\n",
        "N[0]=X_input.shape[0]\r\n",
        "l = len(N) - 1\r\n",
        "np.random.seed(0)"
      ],
      "execution_count": 23,
      "outputs": []
    },
    {
      "cell_type": "markdown",
      "metadata": {
        "id": "4vBflv512qTz"
      },
      "source": [
        "Weights initialising"
      ]
    },
    {
      "cell_type": "code",
      "metadata": {
        "id": "3s-bO1Ma4Njm"
      },
      "source": [
        "def initialize_weights(N):\r\n",
        "  W = []\r\n",
        "  b = []\r\n",
        "  W.append(0)\r\n",
        "  b.append(0)\r\n",
        "  for i in range(1,l+1):\r\n",
        "    W.append(np.random.randn(N[i],N[i-1]))\r\n",
        "    b.append(np.random.randn(N[i],1))\r\n",
        "\r\n",
        "  return W,b\r\n",
        "  "
      ],
      "execution_count": 24,
      "outputs": []
    },
    {
      "cell_type": "code",
      "metadata": {
        "id": "Vdm7xIKwGeCr"
      },
      "source": [
        "def one_hot(y):\r\n",
        "  one_hot_y=np.zeros((10,X_input.shape[1]))\r\n",
        "  for i in range(N[1]):\r\n",
        "    one_hot_y[y[:,i],i] = 1\r\n",
        "  \r\n",
        "  return one_hot_y"
      ],
      "execution_count": 26,
      "outputs": []
    },
    {
      "cell_type": "markdown",
      "metadata": {
        "id": "jV6U6or95zmJ"
      },
      "source": [
        "Softmax"
      ]
    },
    {
      "cell_type": "code",
      "metadata": {
        "id": "AyqPByXy5zCH"
      },
      "source": [
        "def softmax(a):\r\n",
        "  return np.exp(a)/sum(np.exp(a))"
      ],
      "execution_count": 25,
      "outputs": []
    },
    {
      "cell_type": "markdown",
      "metadata": {
        "id": "I5yGR0372cUy"
      },
      "source": [
        "Sigmoid"
      ]
    },
    {
      "cell_type": "code",
      "metadata": {
        "id": "uPwCKGgb2bdu"
      },
      "source": [
        "def sigmoid(a):\r\n",
        "\r\n",
        "  return 1/(1+np.exp(-a))\r\n"
      ],
      "execution_count": 27,
      "outputs": []
    },
    {
      "cell_type": "markdown",
      "metadata": {
        "id": "92u-imWt2hxs"
      },
      "source": [
        "Sigmoid derivative"
      ]
    },
    {
      "cell_type": "code",
      "metadata": {
        "id": "p5uTPF1i2lMY"
      },
      "source": [
        "def dSigmoid(a):\r\n",
        "\r\n",
        "  return sigmoid(a)*(1-sigmoid(a))"
      ],
      "execution_count": 28,
      "outputs": []
    },
    {
      "cell_type": "markdown",
      "metadata": {
        "id": "jCvIgxjM2ljg"
      },
      "source": [
        "Feed forward network"
      ]
    },
    {
      "cell_type": "code",
      "metadata": {
        "id": "08Sm_UhH2o7h"
      },
      "source": [
        "def feedforward(X_input, W, b, N, l):\r\n",
        "  a=[]\r\n",
        "  a.append(0)\r\n",
        "  h=[]\r\n",
        "  h.append(X_input)\r\n",
        "  for i in range(1,l):\r\n",
        "    # print(i)\r\n",
        "    a_new=b[i]+np.matmul(W[i],h[i-1])\r\n",
        "    h_new=sigmoid(a_new)\r\n",
        "    a.append(a_new)\r\n",
        "    h.append(h_new)\r\n",
        "\r\n",
        "  a_new=b[l]+np.matmul(W[l],h[l-1])\r\n",
        "  y_hat=softmax(a_new)\r\n",
        "  a.append(a_new)\r\n",
        "\r\n",
        "  return a,h,y_hat"
      ],
      "execution_count": 29,
      "outputs": []
    },
    {
      "cell_type": "markdown",
      "metadata": {
        "id": "sGT3LrJS2v6E"
      },
      "source": [
        "Backpropogation"
      ]
    },
    {
      "cell_type": "code",
      "metadata": {
        "id": "SOCuH5gQ2zU6"
      },
      "source": [
        "def backrop(y,y_hat,W,a,h):\r\n",
        "  grad_W=[]\r\n",
        "  grad_b=[]\r\n",
        "  grad_a=[]\r\n",
        "  grad_h=[]\r\n",
        "  \r\n",
        "  da = y_hat - one_hot(y)\r\n",
        "  grad_a.append(da)\r\n",
        "\r\n",
        "  for i in reversed(range(1,l+1)):\r\n",
        "    dw = np.matmul(da,np.transpose(h[i-1]))\r\n",
        "    db = da\r\n",
        "    dh_prev = np.matmul(np.transpose(W[i]),da)\r\n",
        "    da_prev = dh_prev*dSigmoid(a[i-1])\r\n",
        "    \r\n",
        "    grad_W.append(dw)\r\n",
        "    grad_b.append(db)\r\n",
        "    grad_a.append(da_prev)\r\n",
        "    grad_h.append(dh_prev)\r\n",
        "    da=da_prev\r\n",
        "\r\n",
        "  grad_W.append(0)\r\n",
        "  grad_b.append(0)\r\n",
        "  grad_W.reverse()\r\n",
        "  grad_b.reverse()\r\n",
        "  grad_a.reverse()\r\n",
        "  grad_h.reverse()\r\n",
        "  \r\n",
        "\r\n",
        "  return grad_W,grad_b,grad_a,grad_h\r\n"
      ],
      "execution_count": 30,
      "outputs": []
    },
    {
      "cell_type": "markdown",
      "metadata": {
        "id": "vELX4H752zuc"
      },
      "source": [
        "Gradient Descent"
      ]
    },
    {
      "cell_type": "code",
      "metadata": {
        "id": "uoPbeu1v22YS"
      },
      "source": [
        "def grad_descent(W,b,grad_W,grad_b):\r\n",
        "  W_new=[]\r\n",
        "  W_new.append(0)\r\n",
        "  b_new=[]\r\n",
        "  b_new.append(0)\r\n",
        "  for i in range(1,l+1):\r\n",
        "    W_new.append(W[i] - grad_W[i])\r\n",
        "    b_new.append(b[i] - grad_b[i])\r\n",
        "  \r\n",
        "  return W_new,b_new\r\n"
      ],
      "execution_count": 31,
      "outputs": []
    },
    {
      "cell_type": "markdown",
      "metadata": {
        "id": "CIxTyHzm22zY"
      },
      "source": [
        "Training"
      ]
    },
    {
      "cell_type": "code",
      "metadata": {
        "id": "rKVlEjb425bX"
      },
      "source": [
        "def training(N,l,epochs,X_input,y):\r\n",
        "  \r\n",
        "  W , b = initialize_weights(N)\r\n",
        "  for j in range(epochs):\r\n",
        "    a , h , y_hat = feedforward(X_input, W, b, N, l)  \r\n",
        "    grad_W , grad_b = backrop(y,y_hat,W,a,h)[0:2]\r\n",
        "    # print(len(W),len(b),len(grad_W),len(grad_b))\r\n",
        "    W , b = grad_descent(W,b,grad_W,grad_b)\r\n",
        "\r\n",
        "  return W,b\r\n"
      ],
      "execution_count": 32,
      "outputs": []
    },
    {
      "cell_type": "code",
      "metadata": {
        "id": "Cd46S3v6QCFc"
      },
      "source": [
        "def predict(W,b,X_test,N,l):\r\n",
        "  y_hat = feedforward(X_test, W, b, N, l)[2]\r\n",
        "  y_class = np.argmax(y_hat,axis=0)\r\n",
        "\r\n",
        "  return y_class"
      ],
      "execution_count": 33,
      "outputs": []
    },
    {
      "cell_type": "code",
      "metadata": {
        "id": "MLnSSsh8I6B9"
      },
      "source": [
        "def calculate_loss(y_hat,Y):\n",
        "  loss = 0\n",
        "  for i in range(Y.shape[1]):\n",
        "    loss += -math.log10(y_hat[Y[0][i]][i])\n",
        "  print (loss)"
      ],
      "execution_count": 34,
      "outputs": []
    },
    {
      "cell_type": "code",
      "metadata": {
        "id": "hiKhOpkeI9sx"
      },
      "source": [
        "def gradient_descent(epochs, learn_rate):\n",
        "  W, b = initialize_weights()\n",
        "  a, h, y_hat = feed_forward(W,b)\n",
        "  print (y_hat)\n",
        "  calculate_loss(y_hat, Y)\n",
        "  W_new = W\n",
        "  b_new = b\n",
        "  for i in range(epochs):\n",
        "    a, h, y_hat = feed_forward(W,b)\n",
        "    grad_W, grad_b, grad_h, grad_a = backrop(Y, y_hat, W, a, h)\n",
        "    for j in range(1,L+1):\n",
        "      W_new[j] = W[j] - grad_W[j]\n",
        "      b_new[j] = b[j] - grad_b[j]\n",
        "    W = W_new\n",
        "    b = b_new\n",
        "  a, h, y_hat = feed_forward(W,b)\n",
        "  calculate_loss(y_hat, Y)\n",
        "  print (y_hat)"
      ],
      "execution_count": 35,
      "outputs": []
    },
    {
      "cell_type": "code",
      "metadata": {
        "id": "LEoCmwyOHH89"
      },
      "source": [
        "w_new,b_new= training(N,l,3,X_input,Y_train)"
      ],
      "execution_count": null,
      "outputs": []
    },
    {
      "cell_type": "code",
      "metadata": {
        "id": "LmYKe0QAMZrJ"
      },
      "source": [
        ""
      ],
      "execution_count": null,
      "outputs": []
    }
  ]
}