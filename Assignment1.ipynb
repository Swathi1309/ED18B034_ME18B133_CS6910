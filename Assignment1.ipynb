{
  "nbformat": 4,
  "nbformat_minor": 0,
  "metadata": {
    "colab": {
      "name": "Assignment1.ipynb",
      "provenance": [],
      "include_colab_link": true
    },
    "kernelspec": {
      "name": "python3",
      "display_name": "Python 3"
    }
  },
  "cells": [
    {
      "cell_type": "markdown",
      "metadata": {
        "id": "view-in-github",
        "colab_type": "text"
      },
      "source": [
        "<a href=\"https://colab.research.google.com/github/Swathi1309/ED18B034_ME18B133_Assignment1/blob/main/Assignment1.ipynb\" target=\"_parent\"><img src=\"https://colab.research.google.com/assets/colab-badge.svg\" alt=\"Open In Colab\"/></a>"
      ]
    },
    {
      "cell_type": "code",
      "metadata": {
        "id": "Gpn2gtJcHhV7"
      },
      "source": [
        "!pip install wandb\n",
        "!wandb login"
      ],
      "execution_count": null,
      "outputs": []
    },
    {
      "cell_type": "code",
      "metadata": {
        "id": "wXg4HOMu8wJD"
      },
      "source": [
        "import keras\n",
        "from keras.datasets import fashion_mnist\n",
        "from PIL import Image\n",
        "import wandb\n",
        "import numpy as np\n",
        "import pandas as pd\n",
        "import matplotlib.pyplot as plt\n",
        "import random\n",
        "\n",
        "wandb.init(project=\"assignment-1\", entity=\"swathi\")\n",
        "classes = ['T-shirt/top','Trouser','Pullover','Dress','Coat','Sandal','Shirt','Sneaker','Bag','Ankle boot']"
      ],
      "execution_count": null,
      "outputs": []
    },
    {
      "cell_type": "code",
      "metadata": {
        "id": "cOUoJ_iG22la"
      },
      "source": [
        "def load_images():\n",
        "  (x_train,y_train),(x_test,y_test) = fashion_mnist.load_data()\n",
        "  X_train_img = x_train[:54000]\n",
        "  X_validation_img = x_train[54000:]\n",
        "  X_test_img = x_test\n",
        "  return X_train_img, X_validation_img, X_test_img"
      ],
      "execution_count": 3,
      "outputs": []
    },
    {
      "cell_type": "code",
      "metadata": {
        "id": "0OflOIHBH7zF"
      },
      "source": [
        "def load_data():\n",
        "  (x_train,y_train),(x_test,y_test) = fashion_mnist.load_data()\n",
        "  X_train = np.transpose((np.array(x_train[:54000],dtype=int).reshape([54000,784]))/4)\n",
        "  Y_train = (np.array(y_train[:54000],dtype=int).reshape([54000,1]))\n",
        "  X_validation = np.transpose((np.array(x_train[54000:],dtype=int).reshape([6000,784]))/4)\n",
        "  Y_validation = np.array(y_train[54000:],dtype=int).reshape([6000,1])\n",
        "  X_test = np.transpose((np.array(x_test,dtype=int).reshape([10000,784]))/4)\n",
        "  Y_test = np.array(y_test,dtype=int).reshape([10000,1])\n",
        "  return X_train, Y_train, X_validation, Y_validation, X_test, Y_test"
      ],
      "execution_count": 61,
      "outputs": []
    },
    {
      "cell_type": "code",
      "metadata": {
        "id": "WxTCqTQhJr53"
      },
      "source": [
        "def log_images():\n",
        "  images = []\n",
        "  labels = []\n",
        "  for i in range(len(X_train)):\n",
        "    if len(labels)==len(classes):\n",
        "      break\n",
        "    j = random.randint(0,53999)\n",
        "    if classes[Y_train[j]] not in labels:\n",
        "      images.append(X_train_img[j])\n",
        "      labels.append(classes[Y_train[j]])\n",
        "  wandb.log({\"Examples\": [wandb.Image(img, caption=caption) for img,caption in zip(images,labels)]})"
      ],
      "execution_count": 39,
      "outputs": []
    },
    {
      "cell_type": "markdown",
      "metadata": {
        "id": "gT6homXx3him"
      },
      "source": [
        "Loading data"
      ]
    },
    {
      "cell_type": "code",
      "metadata": {
        "id": "TiL_Gr183hFI"
      },
      "source": [
        "X_train, Y_train, X_validation, Y_validation, X_test, Y_test = load_data()\n",
        "X_train_img, X_validation_img, X_test_img = load_images()"
      ],
      "execution_count": 53,
      "outputs": []
    },
    {
      "cell_type": "code",
      "metadata": {
        "id": "ogWSbd-2IHe7"
      },
      "source": [
        "log_images()"
      ],
      "execution_count": 8,
      "outputs": []
    },
    {
      "cell_type": "markdown",
      "metadata": {
        "id": "4vBflv512qTz"
      },
      "source": [
        "Weights initialising"
      ]
    },
    {
      "cell_type": "code",
      "metadata": {
        "id": "qMaOIUmf2Eq3"
      },
      "source": [
        "L = 5 #Total number of layers = input, output + hidden\r\n",
        "N = np.zeros(L, dtype = int) # Number of neurons in each layer\r\n",
        "N[0] = X_train.shape[1] #Number of parameters\r\n",
        "N[1] = 32\r\n",
        "N[2] = 32\r\n",
        "N[3] = 32\r\n",
        "N[4] = 10\r\n",
        "W = []\r\n",
        "grad_W=[]\r\n",
        "b = []\r\n",
        "grad_b=[]\r\n",
        "a=[]\r\n",
        "grad_a=[]\r\n",
        "a.append(0)\r\n",
        "h=[]\r\n",
        "grad_h=[]\r\n",
        "h.append(X_train)\r\n",
        "np.random.seed(0)"
      ],
      "execution_count": 62,
      "outputs": []
    },
    {
      "cell_type": "code",
      "metadata": {
        "id": "3s-bO1Ma4Njm"
      },
      "source": [
        "def initialize_weights(N):\r\n",
        "  W.append(0)\r\n",
        "  b.append(0)\r\n",
        "  for i in range(1,L+1):\r\n",
        "    W.append(np.random.randn(N[i],N[i-1]))\r\n",
        "    b.append(np.random.randn(N[1],1))\r\n",
        "  return W,b "
      ],
      "execution_count": 63,
      "outputs": []
    },
    {
      "cell_type": "code",
      "metadata": {
        "id": "Vdm7xIKwGeCr"
      },
      "source": [
        "def one_hot(y):\r\n",
        "  one_hot_y=[]\r\n",
        "  for i in range(N[0]):\r\n",
        "    one_hot=np.zeros((10,1))\r\n",
        "    one_hot[y[i]-1] = 1\r\n",
        "    one_hot_y.append(one_hot)\r\n",
        "  \r\n",
        "  return one_hot_y"
      ],
      "execution_count": 64,
      "outputs": []
    },
    {
      "cell_type": "markdown",
      "metadata": {
        "id": "jV6U6or95zmJ"
      },
      "source": [
        "Softmax"
      ]
    },
    {
      "cell_type": "code",
      "metadata": {
        "id": "AyqPByXy5zCH"
      },
      "source": [
        "def softmax(a):\r\n",
        "  return np.exp(a)/sum(np.exp(a))"
      ],
      "execution_count": 13,
      "outputs": []
    },
    {
      "cell_type": "markdown",
      "metadata": {
        "id": "I5yGR0372cUy"
      },
      "source": [
        "Sigmoid"
      ]
    },
    {
      "cell_type": "code",
      "metadata": {
        "id": "uPwCKGgb2bdu"
      },
      "source": [
        "def sigmoid(a):\r\n",
        "\r\n",
        "  return 1/(1+np.exp(-a))\r\n"
      ],
      "execution_count": 14,
      "outputs": []
    },
    {
      "cell_type": "markdown",
      "metadata": {
        "id": "92u-imWt2hxs"
      },
      "source": [
        "Sigmoid derivative"
      ]
    },
    {
      "cell_type": "code",
      "metadata": {
        "id": "p5uTPF1i2lMY"
      },
      "source": [
        "def dSigmoid(a):\r\n",
        "\r\n",
        "  return sigmoid(a)*(1-sigmoid(a))"
      ],
      "execution_count": 15,
      "outputs": []
    },
    {
      "cell_type": "markdown",
      "metadata": {
        "id": "jCvIgxjM2ljg"
      },
      "source": [
        "Feed forward network"
      ]
    },
    {
      "cell_type": "code",
      "metadata": {
        "id": "08Sm_UhH2o7h"
      },
      "source": [
        "def feedforward(X_input, W, b, N, l):\r\n",
        "  h_prev=X_input\r\n",
        "  for i in range(1,l) :\r\n",
        "    a_new=b[i]+np.matmul(W[i],h_prev)\r\n",
        "    h=sigmoid(a_new)\r\n",
        "    a.append(a_new)\r\n",
        "    h.append(h)\r\n",
        "    h_prev=h\r\n",
        "\r\n",
        "  a_new=b[l]+np.matmul(W[l],h_prev)\r\n",
        "  y_hat=softmax(a_new)\r\n",
        "  a.append(a_new)\r\n",
        "\r\n",
        "  return a,h,y_hat"
      ],
      "execution_count": 58,
      "outputs": []
    },
    {
      "cell_type": "markdown",
      "metadata": {
        "id": "sGT3LrJS2v6E"
      },
      "source": [
        "Backpropogation"
      ]
    },
    {
      "cell_type": "code",
      "metadata": {
        "id": "SOCuH5gQ2zU6"
      },
      "source": [
        "def backrop(y,y_hat,W,a,h):\r\n",
        "  da = y_hat - one_hot(y)\r\n",
        "  grad_a.append(da)\r\n",
        "\r\n",
        "  for i in reversed(range(1,L+1)):\r\n",
        "    dw = np.matmul(da,np.transpose(h[i-1]))\r\n",
        "    db = da\r\n",
        "    dh_prev = np.matmul(np.transpose(W[i]),da)\r\n",
        "    da_prev = dh_prev*dSigmoid(a[i-1])\r\n",
        "    \r\n",
        "    grad_W.append(dw)\r\n",
        "    grad_b.append(db)\r\n",
        "    grad_a.append(da_prev)\r\n",
        "    grad_h.append(dh_prev)\r\n",
        "\r\n",
        "  return grad_W,grad_b,grad_a,grad_h\r\n"
      ],
      "execution_count": 35,
      "outputs": []
    },
    {
      "cell_type": "markdown",
      "metadata": {
        "id": "vELX4H752zuc"
      },
      "source": [
        "Gradient Descent"
      ]
    },
    {
      "cell_type": "code",
      "metadata": {
        "id": "uoPbeu1v22YS"
      },
      "source": [
        "def grad_descent(N,l,X_input,y,opt):\r\n",
        "  if opt == 'sgd' :\r\n",
        "    W = W - grad_W\r\n",
        "    b = b - grad_b"
      ],
      "execution_count": 20,
      "outputs": []
    },
    {
      "cell_type": "markdown",
      "metadata": {
        "id": "CIxTyHzm22zY"
      },
      "source": [
        "Training"
      ]
    },
    {
      "cell_type": "code",
      "metadata": {
        "id": "rKVlEjb425bX"
      },
      "source": [
        "def training(N,l,opt,epochs,X_input,y):\r\n",
        "  \r\n",
        "  W , b = initialize_weights(N)\r\n",
        "  for i in range(epochs):\r\n",
        "    a , h , y_hat = feedforward(X_input, W, b, N, l)  \r\n",
        "    grad_W , grad_b , _ , _ = backrop(y,y_hat,W,a,h)\r\n",
        "    W , b = grad_descent(N,l,X_train,opt)\r\n",
        "\r\n",
        "  return W,b\r\n"
      ],
      "execution_count": 25,
      "outputs": []
    },
    {
      "cell_type": "code",
      "metadata": {
        "id": "Cd46S3v6QCFc"
      },
      "source": [
        "def predict(W,b,X_test,N,l):\r\n",
        "  _, _, y_hat = feedforward(X_test, W, b, N, l)\r\n",
        "  y_class = np.argmax(y_hat,axis=0)\r\n",
        "\r\n",
        "  return y_class"
      ],
      "execution_count": 24,
      "outputs": []
    },
    {
      "cell_type": "code",
      "metadata": {
        "id": "WRiA_3j39UyB"
      },
      "source": [
        "feedforward (X_train, W, b, N, L)"
      ],
      "execution_count": null,
      "outputs": []
    }
  ]
}