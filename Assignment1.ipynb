{
  "nbformat": 4,
  "nbformat_minor": 0,
  "metadata": {
    "colab": {
      "name": "Assignment1.ipynb",
      "provenance": [],
      "include_colab_link": true
    },
    "kernelspec": {
      "name": "python3",
      "display_name": "Python 3"
    }
  },
  "cells": [
    {
      "cell_type": "markdown",
      "metadata": {
        "id": "view-in-github",
        "colab_type": "text"
      },
      "source": [
        "<a href=\"https://colab.research.google.com/github/Swathi1309/ED18B034_ME18B133_Assignment1/blob/main/Assignment1.ipynb\" target=\"_parent\"><img src=\"https://colab.research.google.com/assets/colab-badge.svg\" alt=\"Open In Colab\"/></a>"
      ]
    },
    {
      "cell_type": "markdown",
      "metadata": {
        "id": "64VYzbkmDaGe"
      },
      "source": [
        "## **Image Classification using MLP**\r\n",
        "\r\n",
        "\r\n",
        "\r\n",
        "\r\n",
        "\r\n",
        "\r\n",
        "\r\n",
        "\r\n",
        "\r\n",
        "\r\n"
      ]
    },
    {
      "cell_type": "markdown",
      "metadata": {
        "id": "2i5dHbgMD4k0"
      },
      "source": [
        "# Install and Initialization of packages\r\n",
        "\r\n"
      ]
    },
    {
      "cell_type": "code",
      "metadata": {
        "id": "Gpn2gtJcHhV7"
      },
      "source": [
        "!pip install wandb\n",
        "!wandb login"
      ],
      "execution_count": null,
      "outputs": []
    },
    {
      "cell_type": "code",
      "metadata": {
        "id": "wXg4HOMu8wJD"
      },
      "source": [
        "import numpy as np\n",
        "from numpy import expand_dims\n",
        "\n",
        "import keras\n",
        "from keras.datasets import fashion_mnist\n",
        "from keras.datasets import mnist\n",
        "from keras.preprocessing.image import load_img\n",
        "from keras.preprocessing.image import img_to_array\n",
        "from keras.preprocessing.image import ImageDataGenerator\n",
        "\n",
        "import tensorflow as tf\n",
        "from tensorflow.keras import initializers\n",
        "\n",
        "import random\n",
        "import pprint\n",
        "import wandb\n",
        "from PIL import Image\n",
        "\n",
        "wandb.init(project=\"CS6910-assg1\", entity=\"swathi\")\n",
        "classes = ['T-shirt/top','Trouser','Pullover','Dress','Coat','Sandal','Shirt','Sneaker','Bag','Ankle boot']"
      ],
      "execution_count": null,
      "outputs": []
    },
    {
      "cell_type": "markdown",
      "metadata": {
        "id": "QjECEHcxEJ-1"
      },
      "source": [
        "# Loading dataset and example images"
      ]
    },
    {
      "cell_type": "code",
      "metadata": {
        "id": "MhlZgT6Xoj2G"
      },
      "source": [
        "def augmentation(x, y, frac_hor, frac_vert, frac_flip):\n",
        "  \n",
        "  # Horizontal shift\n",
        "  num = int(frac_hor*x.shape[0])\n",
        "  rand_num_hor = np.random.randint(x.shape[0]-1,size =(num))\n",
        "  random = np.array(x[rand_num_hor])\n",
        "  rand = random.reshape((num, 28, 28, 1))\n",
        "  datagen = ImageDataGenerator(width_shift_range=[-1,1])\n",
        "  it = datagen.flow(rand, batch_size=num)\n",
        "  batch = it.next()\n",
        "  x_new = np.append(x,batch.reshape([num,28,28]), axis=0)\n",
        "  \n",
        "  # Vertical shift\n",
        "  num = int(frac_vert*x.shape[0])\n",
        "  rand_num_vert = np.random.randint(x.shape[0]-1,size =(num))\n",
        "  random = np.array(x[rand_num_vert])\n",
        "  rand = random.reshape((num, 28, 28, 1))\n",
        "  datagen = ImageDataGenerator(width_shift_range=[-1,1])\n",
        "  it = datagen.flow(rand, batch_size=num)\n",
        "  batch = it.next()\n",
        "  x_new = np.append(x_new,batch.reshape([num,28,28]), axis=0)\n",
        "  \n",
        "  # Flip\n",
        "  num = int(frac_flip*x.shape[0])\n",
        "  rand_num_flip = np.random.randint(x.shape[0]-1,size =(num))\n",
        "  random = np.array(x[rand_num_flip])\n",
        "  rand = random.reshape((num, 28, 28, 1))\n",
        "  datagen = ImageDataGenerator(width_shift_range=[-1,1])\n",
        "  it = datagen.flow(rand, batch_size=num)\n",
        "  batch = it.next()\n",
        "  x_new = np.append(x_new, batch.reshape([num,28,28]), axis=0)\n",
        "  y_new = np.append(y, y[rand_num_hor])\n",
        "  y_new = np.append(y_new, y[rand_num_vert])\n",
        "  y_new = np.append(y_new, y[rand_num_flip])\n",
        "  return x_new,y_new"
      ],
      "execution_count": 63,
      "outputs": []
    },
    {
      "cell_type": "code",
      "metadata": {
        "id": "0OflOIHBH7zF"
      },
      "source": [
        "def load_data(dataset = 'fashion_mnist'):\n",
        "  if dataset == 'fashion_mnist':\n",
        "    (x_train,y_train),(x_test,y_test) = fashion_mnist.load_data()\n",
        "  if dataset =='mnist':\n",
        "    (x_train, y_train),(x_test,y_test) = mnist.load_data()\n",
        "  num_train = int(0.9*x_train.shape[0])\n",
        "  num_val = int(0.1*x_train.shape[0])\n",
        "  num_test = x_test.shape[0]\n",
        "  x_train_temp = x_train[:num_train]\n",
        "  y_train_temp = y_train[:num_train]\n",
        "  x_train_new , y_train_new = augmentation(x_train_temp,y_train_temp,0.2,0.2,0.2)\n",
        "  features = x_train.shape[1]*x_train.shape[2]\n",
        "  X_train = np.transpose((np.array(x_train_new,dtype=int).reshape([x_train_new.shape[0],features]))/255)\n",
        "  Y_train = np.transpose((np.array(y_train_new,dtype=int).reshape([x_train_new.shape[0],1])))\n",
        "  X_validation = np.transpose((np.array(x_train[num_train:],dtype=int).reshape([num_val,features]))/255)\n",
        "  Y_validation = np.transpose(np.array(y_train[num_train:],dtype=int).reshape([num_val,1]))\n",
        "  X_test = np.transpose((np.array(x_test,dtype=int).reshape([num_test,features]))/255)\n",
        "  Y_test = np.transpose(np.array(y_test,dtype=int).reshape([num_test,1]))\n",
        "  return X_train, Y_train, X_validation, Y_validation, X_test, Y_test"
      ],
      "execution_count": 69,
      "outputs": []
    },
    {
      "cell_type": "code",
      "metadata": {
        "id": "WxTCqTQhJr53"
      },
      "source": [
        "def log_images():\n",
        "  images = []\n",
        "  labels = []\n",
        "  for i in range(len(X_train)):\n",
        "    if len(labels)==len(classes):\n",
        "      break\n",
        "    j = random.randint(0,X_train.shape[1]-1)\n",
        "    if classes[Y_train[0,j]] not in labels:\n",
        "      images.append(X_train[:,j].reshape([np.sqrt(X_train.shape[0]),np.sqrt(X_train.shape[0])]))\n",
        "      labels.append(classes[Y_train[0,j]])\n",
        "  wandb.log({\"Examples\": [wandb.Image(img, caption=caption) for img,caption in zip(images,labels)]})"
      ],
      "execution_count": 47,
      "outputs": []
    },
    {
      "cell_type": "markdown",
      "metadata": {
        "id": "HwJFFq1kUPqQ"
      },
      "source": [
        "# Parameters initializing, activation, loss functions"
      ]
    },
    {
      "cell_type": "markdown",
      "metadata": {
        "id": "4vBflv512qTz"
      },
      "source": [
        "Weights initialising"
      ]
    },
    {
      "cell_type": "code",
      "metadata": {
        "id": "3s-bO1Ma4Njm"
      },
      "source": [
        "# Random initialization\r\n",
        "def initialize_weights_random(N, weight_factor):\r\n",
        "  np.random.seed(0)\r\n",
        "  W = []\r\n",
        "  b = []\r\n",
        "  W.append(0)\r\n",
        "  b.append(0)\r\n",
        "  for i in range(1,l+1):\r\n",
        "    W.append((np.random.randn(N[i],N[i-1]))*weight_factor)\r\n",
        "    b.append(np.zeros((N[i],1)))\r\n",
        "  return W,b \r\n",
        "\r\n",
        "# Xavier initialization \r\n",
        "def initialize_weights_xavier(N, weight_factor):\r\n",
        "  initializer = tf.keras.initializers.GlorotNormal()\r\n",
        "  W = []\r\n",
        "  b = []\r\n",
        "  W.append(0)\r\n",
        "  b.append(0)\r\n",
        "  for i in range(1,l+1):\r\n",
        "    values = initializer(shape=(N[i],N[i-1]))\r\n",
        "    W.append(np.array(values)*weight_factor)\r\n",
        "    b.append(np.zeros((N[i],1)))\r\n",
        "    del values\r\n",
        "  return W,b \r\n",
        "\r\n",
        "# Choosing initialization function\r\n",
        "def initialize_weights(N,init, act):\r\n",
        "  if act =='relu':\r\n",
        "    weight_factor = 10**-2\r\n",
        "  else:\r\n",
        "    weight_factor = 1\r\n",
        "  if init=='random':\r\n",
        "    return initialize_weights_random(N, weight_factor)\r\n",
        "  if init=='xavier':\r\n",
        "    return initialize_weights_xavier(N, weight_factor)"
      ],
      "execution_count": null,
      "outputs": []
    },
    {
      "cell_type": "markdown",
      "metadata": {
        "id": "eomtnEWqE2CP"
      },
      "source": [
        "One hot encoding"
      ]
    },
    {
      "cell_type": "code",
      "metadata": {
        "id": "Vdm7xIKwGeCr"
      },
      "source": [
        "def one_hot(X,y):\r\n",
        "  one_hot_y=np.zeros((10,X.shape[1]))\r\n",
        "  for i in range(X.shape[1]):\r\n",
        "    one_hot_y[y[0,i],i] = 1\r\n",
        "  \r\n",
        "  return one_hot_y"
      ],
      "execution_count": null,
      "outputs": []
    },
    {
      "cell_type": "markdown",
      "metadata": {
        "id": "jV6U6or95zmJ"
      },
      "source": [
        "Activation functions"
      ]
    },
    {
      "cell_type": "code",
      "metadata": {
        "id": "AyqPByXy5zCH"
      },
      "source": [
        "# Softmax\r\n",
        "def softmax(a):\r\n",
        "  return np.exp(a)/sum(np.exp(a))\r\n",
        "\r\n",
        "# Sigmoid \r\n",
        "def sigmoid(a):\r\n",
        "  return 1/(1+np.exp(-a))\r\n",
        "\r\n",
        "# Sigmoid derivative\r\n",
        "def dSigmoid(a):\r\n",
        "  return sigmoid(a)*(1-sigmoid(a))\r\n",
        "\r\n",
        "# Tanh\r\n",
        "def tanh(a):\r\n",
        "  return np.tanh(a)\r\n",
        "\r\n",
        "# Tanh derivative\r\n",
        "def dTanh(a):\r\n",
        "  return 1- np.square(tanh(a))\r\n",
        "\r\n",
        "# ReLU\r\n",
        "def ReLU(a):\r\n",
        "  return np.maximum(0,a)\r\n",
        "\r\n",
        "# ReLU derivative\r\n",
        "def dReLU(a):\r\n",
        "  a[a>=0]=1\r\n",
        "  a[a<0]=0\r\n",
        "  return a\r\n",
        "\r\n",
        "# Choosing activation function\r\n",
        "def activation(a,act):\r\n",
        "  if act=='sigmoid':\r\n",
        "    return sigmoid(a)\r\n",
        "  if act=='tanh':\r\n",
        "    return tanh(a)\r\n",
        "  if act=='relu':\r\n",
        "    return ReLU(a)\r\n",
        "\r\n",
        "# Choosing derivative of activation function\r\n",
        "def dActivation(a,act):\r\n",
        "  if act=='sigmoid':\r\n",
        "    return dSigmoid(a)\r\n",
        "  if act=='tanh':\r\n",
        "    return dTanh(a)\r\n",
        "  if act=='relu':\r\n",
        "    return dReLU(a)"
      ],
      "execution_count": null,
      "outputs": []
    },
    {
      "cell_type": "markdown",
      "metadata": {
        "id": "8TbfCt8Ug7rx"
      },
      "source": [
        "Loss functions with L2 regularization, accuracy function"
      ]
    },
    {
      "cell_type": "code",
      "metadata": {
        "id": "MLnSSsh8I6B9"
      },
      "source": [
        "# Cross entropy loss\n",
        "def cross_entropy_loss(y_hat,Y, W, alpha):\n",
        "  loss = 0\n",
        "  for i in range(Y.shape[1]):\n",
        "    loss -= np.log(y_hat[Y[0,i],i])\n",
        "  norm = 0\n",
        "  for i in range(1, len(W)):\n",
        "    norm +=np.linalg.norm((W[i]))\n",
        "  loss = loss +norm\n",
        "  loss = loss/Y.shape[1]\n",
        "  return loss\n",
        "\n",
        "# Cross entropy loss derivative\n",
        "def d_cross_entropy_loss(y_hat, X, y):\n",
        "  return (y_hat - one_hot(X,y))\n",
        "\n",
        "# Mean squared loss\n",
        "def l2_loss(y_hat,Y,W,alpha):\n",
        "  loss=(np.linalg.norm(y_hat-Y))/2\n",
        "  norm = 0\n",
        "  for i in range(1, len(W)):\n",
        "    norm +=np.linalg.norm((W[i]))\n",
        "  loss = loss +norm\n",
        "  loss = loss/Y.shape[1]\n",
        "  return loss\n",
        "\n",
        "# Mean squared loss derivative\n",
        "def d_l2_loss(y_hat,X, Y):\n",
        "  return np.multiply((y_hat - one_hot(X,y)),np.multiply(y_hat,(1-y_hat)))\n",
        "\n",
        "# Choosing loss function\n",
        "def Loss(y_hat, y, W, alpha, choose_loss='crossentropy'):\n",
        "  if choose_loss == 'crossentropy':\n",
        "    return cross_entropy_loss(y_hat,y,W, alpha)\n",
        "  if choose_loss =='l2':\n",
        "    return l2_loss(y_hat,y,W, alpha)\n",
        "\n",
        "# Choosing derivative of loss function\n",
        "def dLoss(y_hat,X, y, choose_loss='crossentropy'):\n",
        "  if choose_loss == 'crossentropy':\n",
        "    return d_cross_entropy_loss(y_hat, X, y)\n",
        "  if choose_loss =='l2':\n",
        "    return d_l2_loss(y_hat, X, y)"
      ],
      "execution_count": null,
      "outputs": []
    },
    {
      "cell_type": "markdown",
      "metadata": {
        "id": "SLqVByK6TG8L"
      },
      "source": [
        "Calculating accuracy and loss"
      ]
    },
    {
      "cell_type": "code",
      "metadata": {
        "id": "eA4p3cVMHxRG"
      },
      "source": [
        "def accuracy(y_hat,Y):\n",
        "  return ((y_hat == Y).sum()/Y.shape[1])\n",
        " \n",
        "def loss_and_accuracy(W, b, X, Y, act, alpha):\n",
        "  y_hat = feedforward(X, W, b, N, l, act)[2]\n",
        "  y_predict = np.argmax(y_hat,axis=0).reshape([1,X.shape[1]])\n",
        "  loss = Loss(y_hat, Y, W, alpha)                             # For L2 loss, add 'l2' as an argument in the end\n",
        "  acc = accuracy(y_predict,Y)\n",
        "  return loss,acc"
      ],
      "execution_count": null,
      "outputs": []
    },
    {
      "cell_type": "markdown",
      "metadata": {
        "id": "jCvIgxjM2ljg"
      },
      "source": [
        "# Feedforward and Backpropagation"
      ]
    },
    {
      "cell_type": "markdown",
      "metadata": {
        "id": "5W_aeOFAThz5"
      },
      "source": [
        "Feedforward"
      ]
    },
    {
      "cell_type": "code",
      "metadata": {
        "id": "08Sm_UhH2o7h"
      },
      "source": [
        "def feedforward(X_input, W, b, N, l, act):\r\n",
        "  a=[]\r\n",
        "  a.append(np.array([0]))\r\n",
        "  h=[]\r\n",
        "  h.append(X_input)\r\n",
        "  for i in range(1,l):\r\n",
        "    a_new=b[i]+np.matmul(W[i],h[i-1])\r\n",
        "    h_new=activation(a_new,act)\r\n",
        "    a.append(a_new)\r\n",
        "    h.append(h_new)\r\n",
        "\r\n",
        "  a_new=b[l]+np.matmul(W[l],h[l-1])\r\n",
        "  y_hat=softmax(a_new)\r\n",
        "  a.append(a_new)\r\n",
        "\r\n",
        "  return a,h,y_hat"
      ],
      "execution_count": null,
      "outputs": []
    },
    {
      "cell_type": "markdown",
      "metadata": {
        "id": "sGT3LrJS2v6E"
      },
      "source": [
        "Backpropogation"
      ]
    },
    {
      "cell_type": "code",
      "metadata": {
        "id": "SOCuH5gQ2zU6"
      },
      "source": [
        "def backprop(X, y,y_hat,W,a,h,act,alpha):\r\n",
        "  grad_W=[]\r\n",
        "  grad_b=[]\r\n",
        "  grad_a=[]\r\n",
        "  grad_h=[]\r\n",
        "  \r\n",
        "  da = dLoss(y_hat, X, y) # For L2 loss, add 'l2' as an argument in the end\r\n",
        "  grad_a.append(da)\r\n",
        "\r\n",
        "  for i in reversed(range(1,l+1)):\r\n",
        "    dw = (np.matmul(da,np.transpose(h[i-1])) + alpha*W[i])/(X.shape[1])\r\n",
        "    db = np.sum(da, axis=1, keepdims=True)/(X.shape[1])\r\n",
        "    dh_prev = np.matmul(np.transpose(W[i]),da)\r\n",
        "    da_prev = dh_prev*dActivation(a[i-1],act)\r\n",
        "\r\n",
        "    grad_W.append(dw)\r\n",
        "    grad_b.append(db)\r\n",
        "    da=da_prev\r\n",
        "\r\n",
        "  grad_W.append(0)\r\n",
        "  grad_b.append(0)\r\n",
        "  grad_W.reverse()\r\n",
        "  grad_b.reverse() \r\n",
        "\r\n",
        "  return grad_W,grad_b\r\n"
      ],
      "execution_count": null,
      "outputs": []
    },
    {
      "cell_type": "markdown",
      "metadata": {
        "id": "htgflJDQTlIW"
      },
      "source": [
        "# Optimizers"
      ]
    },
    {
      "cell_type": "code",
      "metadata": {
        "id": "hiKhOpkeI9sx"
      },
      "source": [
        "# SGD\n",
        "def gradient_descent(epochs, learn_rate, batch_size, act, init, N, alpha):\n",
        "  W, b = initialize_weights(N,init, act)\n",
        "  n=(np.ceil(X_train.shape[1]/batch_size)).astype(int)\n",
        "  for i in range(epochs):\n",
        "    for j in range(n):\n",
        "      X=X_train[:,(j*batch_size):((j+1)*batch_size)]\n",
        "      Y=Y_train[:,(j*batch_size):((j+1)*batch_size)]\n",
        "      a, h, y_hat = feedforward(X, W, b, N, l,act)\n",
        "      grad_W, grad_b = backprop(X, Y, y_hat, W, a, h, act, alpha)\n",
        "      W_new =[]\n",
        "      W_new.append(0)\n",
        "      b_new =[]\n",
        "      b_new.append(0)\n",
        "      for k in range(1,l+1):\n",
        "        W_new.append(W[k] - (learn_rate*grad_W[k] - learn_rate*alpha*W[k]))\n",
        "        b_new.append(b[k] - (learn_rate*grad_b[k]))\n",
        "      W = W_new\n",
        "      b = b_new\n",
        "    loss, acc = loss_and_accuracy(W, b, X_train, Y_train, act,alpha)\n",
        "    val_loss, val_acc = loss_and_accuracy(W, b, X_validation, Y_validation, act,alpha)\n",
        "    wandb.log({\"loss\": loss, \"val_loss\": val_loss, \"accuracy\": acc, \"val_accuracy\": val_acc, \"epoch\": i})\n",
        "  return W, b\n",
        "\n",
        "\n",
        "# Momentum based gradient descent\n",
        "def mom_grad_descent(epochs, learn_rate, gamma, batch_size, act, init, N, alpha):\n",
        "  W, b = initialize_weights(N,init, act)\n",
        "  update_prev_w = []\n",
        "  update_prev_w.append(0)\n",
        "  update_prev_b = []\n",
        "  update_prev_b.append(0)\n",
        "  n=(np.ceil(X_train.shape[1]/batch_size)).astype(int)\n",
        "  for i in range(1,l+1):\n",
        "    update_prev_w.append(np.zeros(W[i].shape))\n",
        "    update_prev_b.append(np.zeros(b[i].shape))\n",
        "  for i in range(epochs):\n",
        "    for j in range(n):\n",
        "      X=X_train[:,(j*batch_size):((j+1)*batch_size)]\n",
        "      Y=Y_train[:,(j*batch_size):((j+1)*batch_size)]\n",
        "      update_w = []\n",
        "      update_w.append(0)\n",
        "      update_b = []\n",
        "      update_b.append(0)\n",
        "      a, h, y_hat = feedforward(X, W, b, N, l, act)\n",
        "      grad_W, grad_b = backprop(X, Y, y_hat, W, a, h, act, alpha)\n",
        "      W_new =[]\n",
        "      W_new.append(0)\n",
        "      b_new =[]\n",
        "      b_new.append(0)\n",
        "      \n",
        "      for k in range(1,l+1):\n",
        "        update_w.append(np.zeros(W[k].shape))\n",
        "        update_b.append(np.zeros(b[k].shape))\n",
        "        update_w[k] = gamma*update_prev_w[k] + learn_rate*grad_W[k] + learn_rate*alpha*W[k]\n",
        "        update_b[k] = gamma*update_prev_b[k] + learn_rate*grad_b[k]\n",
        "        W_new.append((W[k] - update_w[k]/batch_size))\n",
        "        b_new.append((b[k] - update_b[k]/batch_size))\n",
        "        update_prev_w[k]=update_w[k]\n",
        "        update_prev_b[k]=update_b[k]\n",
        "      del update_w\n",
        "      del update_b\n",
        "      W = W_new\n",
        "      b = b_new\n",
        "    loss, acc = loss_and_accuracy(W, b, X_train, Y_train, act,alpha)\n",
        "    val_loss, val_acc = loss_and_accuracy(W, b, X_validation, Y_validation, act,alpha)\n",
        "    wandb.log({\"loss\": loss, \"val_loss\": val_loss, \"accuracy\": acc, \"val_accuracy\": val_acc, \"epoch\": i})\n",
        "  return W, b\n",
        "\n",
        "\n",
        "# Nesterov accelerated gradient descent\n",
        "def nesterov_grad_descent(epochs, learn_rate, gamma, batch_size, act, init, N, alpha):\n",
        "  W, b = initialize_weights(N,init, act)\n",
        "  update_prev_w = []\n",
        "  update_prev_w.append(0)\n",
        "  update_prev_b = []\n",
        "  update_prev_b.append(0)\n",
        "  n=(np.ceil(X_train.shape[1]/batch_size)).astype(int)\n",
        "  for i in range(1,l+1):\n",
        "    update_prev_w.append(np.zeros(W[i].shape))\n",
        "    update_prev_b.append(np.zeros(b[i].shape))\n",
        "  for i in range(epochs):\n",
        "    for j in range(n):\n",
        "      X=X_train[:,(j*batch_size):((j+1)*batch_size)]\n",
        "      Y=Y_train[:,(j*batch_size):((j+1)*batch_size)]\n",
        "      update_w = []\n",
        "      update_w.append(0)\n",
        "      update_b = []\n",
        "      update_b.append(0)\n",
        "      a, h, y_hat = feedforward(X, W, b, N, l, act)\n",
        "      W_new =[]\n",
        "      W_new.append(0)\n",
        "      b_new =[]\n",
        "      b_new.append(0)\n",
        "      for k in range(1,l+1):\n",
        "        update_w.append(np.zeros(W[k].shape))\n",
        "        update_b.append(np.zeros(b[k].shape))\n",
        "        update_w[k] = gamma*update_prev_w[k]\n",
        "        update_b[k] = gamma*update_prev_b[k]\n",
        "        W_new.append((W[k] - update_w[k]/batch_size))\n",
        "        b_new.append((b[k] - update_b[k]/batch_size))\n",
        "      W = W_new\n",
        "      b = b_new\n",
        "      grad_W, grad_b = backprop(X, Y, y_hat, W, a, h, act, alpha)\n",
        "      for k in range(1,l+1):\n",
        "        update_w[k] = gamma*update_prev_w[k] + learn_rate*grad_W[k] + learn_rate*alpha*W[k]\n",
        "        update_b[k] = gamma*update_prev_b[k] + learn_rate*grad_b[k]\n",
        "        W_new[k] = (W[k] - update_w[k]/batch_size)\n",
        "        b_new[k] = (b[k] - update_b[k]/batch_size)\n",
        "        update_prev_w[k]=update_w[k]\n",
        "        update_prev_b[k]=update_b[k]\n",
        "      del update_w\n",
        "      del update_b\n",
        "      W = W_new\n",
        "      b = b_new\n",
        "    loss, acc = loss_and_accuracy(W, b, X_train, Y_train, act,alpha)\n",
        "    val_loss, val_acc = loss_and_accuracy(W, b, X_validation, Y_validation, act,alpha)\n",
        "    wandb.log({\"loss\": loss, \"val_loss\": val_loss, \"accuracy\": acc, \"val_accuracy\": val_acc, \"epoch\": i})\n",
        "  return W, b\n",
        "\n",
        "\n",
        "# RMS prop\n",
        "def rms_prop(epochs, learn_rate, beta, epsilon, batch_size, act, init, N, alpha):\n",
        "  W, b = initialize_weights(N,init, act)\n",
        "  update_prev_w = []\n",
        "  update_prev_w.append(0)\n",
        "  update_prev_b = []\n",
        "  update_prev_b.append(0)\n",
        "  n=(np.ceil(X_train.shape[1]/batch_size)).astype(int)\n",
        "  for i in range(1,l+1):\n",
        "    update_prev_w.append(np.zeros(W[i].shape))\n",
        "    update_prev_b.append(np.zeros(b[i].shape))\n",
        "  for i in range(epochs):\n",
        "    for j in range(n):\n",
        "      X=X_train[:,(j*batch_size):((j+1)*batch_size)]\n",
        "      Y=Y_train[:,(j*batch_size):((j+1)*batch_size)]\n",
        "      update_w = []\n",
        "      update_w.append(0)\n",
        "      update_b = []\n",
        "      update_b.append(0)\n",
        "      a, h, y_hat = feedforward(X, W, b, N, l, act)\n",
        "      grad_W, grad_b = backprop(X, Y, y_hat, W, a, h, act, alpha)\n",
        "      W_new =[]\n",
        "      W_new.append(0)\n",
        "      b_new =[]\n",
        "      b_new.append(0)\n",
        "      for k in range(1,l+1):\n",
        "        update_w.append(np.zeros(W[k].shape))\n",
        "        update_b.append(np.zeros(b[k].shape))\n",
        "        update_w[k] = beta*update_prev_w[k] + (1-beta)*np.square(grad_W[k])\n",
        "        update_b[k] = beta*update_prev_b[k] + (1-beta)*np.square(grad_b[k])\n",
        "        W_new.append((W[k] - (learn_rate*np.divide(grad_W[k],(np.sqrt(update_w[k]+epsilon)))) - learn_rate*alpha*W[k]))\n",
        "        b_new.append((b[k] - (learn_rate*np.divide(grad_b[k],(np.sqrt(update_b[k]+epsilon))))))\n",
        "        update_prev_w[k]=update_w[k]\n",
        "        update_prev_b[k]=update_b[k]\n",
        "      del update_w\n",
        "      del update_b\n",
        "      W = W_new\n",
        "      b = b_new\n",
        "    loss, acc = loss_and_accuracy(W, b, X_train, Y_train, act,alpha)\n",
        "    val_loss, val_acc = loss_and_accuracy(W, b, X_validation, Y_validation, act,alpha)\n",
        "    wandb.log({\"loss\": loss, \"val_loss\": val_loss, \"accuracy\": acc, \"val_accuracy\": val_acc, \"epoch\": i})\n",
        "  return W, b\n",
        "\n",
        "\n",
        "# Adam\n",
        "def adam(epochs, learn_rate, beta1, beta2, epsilon, batch_size, act, init, N, alpha):\n",
        "  W, b = initialize_weights(N,init, act)\n",
        "  m_prev_w = []\n",
        "  m_prev_w.append(0)\n",
        "  m_prev_b = []\n",
        "  m_prev_b.append(0)\n",
        "  v_prev_w = []\n",
        "  v_prev_w.append(0)\n",
        "  v_prev_b = []\n",
        "  v_prev_b.append(0)\n",
        "  n=(np.ceil(X_train.shape[1]/batch_size)).astype(int)\n",
        "  for i in range(1,l+1):\n",
        "    m_prev_w.append(np.zeros(W[i].shape))\n",
        "    m_prev_b.append(np.zeros(b[i].shape))\n",
        "    v_prev_w.append(np.zeros(W[i].shape))\n",
        "    v_prev_b.append(np.zeros(b[i].shape))\n",
        "  for i in range(epochs):\n",
        "    for j in range(n):\n",
        "      X=X_train[:,(j*batch_size):((j+1)*batch_size)]\n",
        "      Y=Y_train[:,(j*batch_size):((j+1)*batch_size)]\n",
        "      m_w = []\n",
        "      m_w.append(0)\n",
        "      v_w = []\n",
        "      v_w.append(0)\n",
        "      m_b = []\n",
        "      m_b.append(0)\n",
        "      v_b = []\n",
        "      v_b.append(0)\n",
        "      a, h, y_hat = feedforward(X, W, b, N, l, act)\n",
        "      grad_W, grad_b = backprop(X, Y, y_hat, W, a, h, act, alpha)\n",
        "      W_new =[]\n",
        "      W_new.append(0)\n",
        "      b_new =[]\n",
        "      b_new.append(0)\n",
        "      for k in range(1,l+1):\n",
        "        m_w.append(np.zeros(W[k].shape))\n",
        "        v_w.append(np.zeros(W[k].shape))\n",
        "        m_b.append(np.zeros(b[k].shape))\n",
        "        v_b.append(np.zeros(b[k].shape))\n",
        "        t = i*n + j+1\n",
        "        m_w[k] = (beta1*m_prev_w[k] + (1-beta1)*grad_W[k])/(1-np.power(beta1,t))\n",
        "        v_w[k] = (beta2*v_prev_w[k] + (1-beta2)*np.square(grad_W[k]))/(1-np.power(beta2,t))\n",
        "        m_b[k] = (beta1*m_prev_b[k] + (1-beta1)*grad_b[k])/(1-np.power(beta1,t))\n",
        "        v_b[k] = (beta2*v_prev_b[k] + (1-beta2)*np.square(grad_b[k]))/(1-np.power(beta2,t))\n",
        "        W_new.append((W[k] - (learn_rate*np.divide(m_w[k],(np.sqrt(v_w[k]+epsilon)))) - learn_rate*alpha*W[k]))\n",
        "        b_new.append((b[k] - (learn_rate*np.divide(m_b[k],(np.sqrt(v_b[k]+epsilon))))))\n",
        "        m_prev_w[k] = m_w[k]\n",
        "        v_prev_w[k] = v_w[k]\n",
        "        m_prev_b[k] = m_b[k]\n",
        "        v_prev_b[k] = v_b[k]\n",
        "      del m_w\n",
        "      del v_w\n",
        "      del m_b\n",
        "      del v_b\n",
        "      W = W_new\n",
        "      b = b_new\n",
        "    loss, acc = loss_and_accuracy(W, b, X_train, Y_train, act,alpha)\n",
        "    val_loss, val_acc = loss_and_accuracy(W, b, X_validation, Y_validation, act,alpha)\n",
        "    wandb.log({\"loss\": loss, \"val_loss\": val_loss, \"accuracy\": acc, \"val_accuracy\": val_acc, \"epoch\": i})\n",
        "  return W, b\n",
        "\n",
        "\n",
        "# Nadam\n",
        "def nadam(epochs, learn_rate, beta1, beta2, epsilon, batch_size, act, init, N, alpha):\n",
        "  W, b = initialize_weights(N,init, act)\n",
        "  m_prev_w = []\n",
        "  m_prev_w.append(0)\n",
        "  m_prev_b = []\n",
        "  m_prev_b.append(0)\n",
        "  v_prev_w = []\n",
        "  v_prev_w.append(0)\n",
        "  v_prev_b = []\n",
        "  v_prev_b.append(0)\n",
        "  n=(np.ceil(X_train.shape[1]/batch_size)).astype(int)\n",
        "  for i in range(1,l+1):\n",
        "    m_prev_w.append(np.zeros(W[i].shape))\n",
        "    m_prev_b.append(np.zeros(b[i].shape))\n",
        "    v_prev_w.append(np.zeros(W[i].shape))\n",
        "    v_prev_b.append(np.zeros(b[i].shape))\n",
        "  for i in range(epochs):\n",
        "    for j in range(n):\n",
        "      X=X_train[:,(j*batch_size):((j+1)*batch_size)]\n",
        "      Y=Y_train[:,(j*batch_size):((j+1)*batch_size)]\n",
        "      m_w = []\n",
        "      m_w.append(0)\n",
        "      v_w = []\n",
        "      v_w.append(0)\n",
        "      m_b = []\n",
        "      m_b.append(0)\n",
        "      v_b = []\n",
        "      v_b.append(0)\n",
        "      a, h, y_hat = feedforward(X, W, b, N, l, act)\n",
        "      W_new =[]\n",
        "      W_new.append(0)\n",
        "      b_new =[]\n",
        "      b_new.append(0)\n",
        "      for k in range(1,l+1):\n",
        "        m_w.append(np.zeros(W[k].shape))\n",
        "        v_w.append(np.zeros(W[k].shape))\n",
        "        m_b.append(np.zeros(b[k].shape))\n",
        "        v_b.append(np.zeros(b[k].shape))\n",
        "        t = i*n + j+1\n",
        "        m_w[k] = (beta1*m_prev_w[k])/(1-np.power(beta1,t))\n",
        "        v_w[k] = (beta2*v_prev_w[k])/(1-np.power(beta2,t))\n",
        "        m_b[k] = (beta1*m_prev_b[k])/(1-np.power(beta1,t))\n",
        "        v_b[k] = (beta2*v_prev_b[k])/(1-np.power(beta2,t))\n",
        "        W_new.append((W[k] - (learn_rate*np.divide(m_w[k],(np.sqrt(v_w[k]+epsilon))))))\n",
        "        b_new.append((b[k] - (learn_rate*np.divide(m_b[k],(np.sqrt(v_b[k]+epsilon))))))\n",
        "      W = W_new\n",
        "      b = b_new\n",
        "      grad_W, grad_b = backprop(X, Y, y_hat, W, a, h, act, alpha)\n",
        "      for k in range(1,l+1):\n",
        "        m_w[k] = (beta1*m_prev_w[k] + (1-beta1)*grad_W[k])/(1-np.power(beta1,t))\n",
        "        v_w[k] = (beta2*v_prev_w[k] + (1-beta2)*np.square(grad_W[k]))/(1-np.power(beta2,t))\n",
        "        m_b[k] = (beta1*m_prev_b[k] + (1-beta1)*grad_b[k])/(1-np.power(beta1,t))\n",
        "        v_b[k] = (beta2*v_prev_b[k] + (1-beta2)*np.square(grad_b[k]))/(1-np.power(beta2,t))\n",
        "        W_new[k] = W[k] - (learn_rate*np.divide(m_w[k],(np.sqrt(v_w[k]+epsilon)))) - learn_rate*alpha*W[k]\n",
        "        b_new[k] = b[k] - (learn_rate*np.divide(m_b[k],(np.sqrt(v_b[k]+epsilon))))\n",
        "        m_prev_w[k] = m_w[k]\n",
        "        v_prev_w[k] = v_w[k]\n",
        "        m_prev_b[k] = m_b[k]\n",
        "        v_prev_b[k] = v_b[k]\n",
        "      del m_w\n",
        "      del v_w\n",
        "      del m_b\n",
        "      del v_b\n",
        "      W = W_new\n",
        "      b = b_new\n",
        "    loss, acc = loss_and_accuracy(W, b, X_train, Y_train, act,alpha)\n",
        "    val_loss, val_acc = loss_and_accuracy(W, b, X_validation, Y_validation, act,alpha)\n",
        "    wandb.log({\"loss\": loss, \"val_loss\": val_loss, \"accuracy\": acc, \"val_accuracy\": val_acc, \"epoch\": i})\n",
        "  return W, b"
      ],
      "execution_count": null,
      "outputs": []
    },
    {
      "cell_type": "markdown",
      "metadata": {
        "id": "D6rdmXlRUpP_"
      },
      "source": [
        "# Commands for execution"
      ]
    },
    {
      "cell_type": "markdown",
      "metadata": {
        "id": "6uAgc5MxVAPX"
      },
      "source": [
        "Loading dataset"
      ]
    },
    {
      "cell_type": "code",
      "metadata": {
        "id": "TiL_Gr183hFI"
      },
      "source": [
        "X_train, Y_train, X_validation, Y_validation, X_test, Y_test = load_data()"
      ],
      "execution_count": 70,
      "outputs": []
    },
    {
      "cell_type": "markdown",
      "metadata": {
        "id": "a2I22GuZVJIv"
      },
      "source": [
        "**Question 1**\n",
        "\n",
        "Logging random images from each class to wandb"
      ]
    },
    {
      "cell_type": "code",
      "metadata": {
        "id": "0D8JZ96EEYmZ"
      },
      "source": [
        "log_images()"
      ],
      "execution_count": null,
      "outputs": []
    },
    {
      "cell_type": "markdown",
      "metadata": {
        "id": "meW5awAWVSrK"
      },
      "source": [
        "**Question 2**\n",
        "\n",
        "Run a random image from the train dataset through the feedforward neural network"
      ]
    },
    {
      "cell_type": "code",
      "metadata": {
        "id": "LVG3QcaQVupi"
      },
      "source": [
        "N_example = [X_train.shape[0],64,32,16,len(classes)]                            # Structure of the neural network\n",
        "l_example = len(N_example) - 1                                                  # Number of layers\n",
        "W, b = initialize_weights (N_example,'random','sigmoid')\n",
        "num = np.random.randint(0, X_train.shape[1]-1)                                  # Random image number for which the feedforward output will be printed\n",
        "_,_,y_hat = feedforward(X_train[:, num], W, b, N_example, l_example, 'sigmoid') # Probability of classes as output\n",
        "print (y_hat)"
      ],
      "execution_count": null,
      "outputs": []
    },
    {
      "cell_type": "markdown",
      "metadata": {
        "id": "1x_YRuZUb9zF"
      },
      "source": [
        "**Question 4**\n",
        "\n",
        "Setting up hyperparameter sweeps using wandb"
      ]
    },
    {
      "cell_type": "code",
      "metadata": {
        "id": "ismRltbN4qZI"
      },
      "source": [
        "sweep_config = {\r\n",
        "    'method': 'grid'\r\n",
        "    }\r\n",
        "\r\n",
        "\r\n",
        "### To run each sweep mentioned in the report, uncomment only the corresponding dictionary\r\n",
        "\r\n",
        "# Parameters for first sweep\r\n",
        "parameters_dict = {\r\n",
        "    'networks':{\r\n",
        "        'values': [0]\r\n",
        "      },\r\n",
        "    'alpha': {\r\n",
        "        'values': [0.0005]\r\n",
        "      },\r\n",
        "    'learn_rate': {\r\n",
        "        'values': [1e-1,1e-2]\r\n",
        "      },\r\n",
        "    'epochs': {\r\n",
        "        'values': [10]\r\n",
        "      },\r\n",
        "    'batch_size': {\r\n",
        "        'values': [32]\r\n",
        "      },\r\n",
        "    'init': {\r\n",
        "        'values': ['random', 'xavier']\r\n",
        "      },\r\n",
        "    'optimizer': {\r\n",
        "        'values': ['sgd', 'mom', 'nest', 'rms', 'adam', 'nadam']\r\n",
        "      },\r\n",
        "    'act': {\r\n",
        "          'values': ['sigmoid','tanh','relu']\r\n",
        "      }\r\n",
        "}\r\n",
        "\r\n",
        "# Parameters for second sweep\r\n",
        "# parameters_dict = {\r\n",
        "#     'networks':{\r\n",
        "#         'values': [1,2]\r\n",
        "#       },\r\n",
        "#     'alpha': {\r\n",
        "#         'values': [0.0005]\r\n",
        "#       },\r\n",
        "#     'learn_rate': {\r\n",
        "#         'values': [1e-1]\r\n",
        "#       },\r\n",
        "#     'epochs': {\r\n",
        "#         'values': [10]\r\n",
        "#       },\r\n",
        "#     'batch_size': {\r\n",
        "#         'values': [32]\r\n",
        "#       },\r\n",
        "#     'init': {\r\n",
        "#         'values': ['xavier']\r\n",
        "#       },\r\n",
        "#     'optimizer': {\r\n",
        "#         'values': ['mom', 'nest']\r\n",
        "#       },\r\n",
        "#     'act': {\r\n",
        "#           'values': ['tanh']\r\n",
        "#       }\r\n",
        "# }\r\n",
        "\r\n",
        "# Parameters for third sweep\r\n",
        "# parameters_dict = {\r\n",
        "#     'networks':{\r\n",
        "#         'values': [0,1,2,3,4,5,6,7,8]\r\n",
        "#       },\r\n",
        "#     'alpha': {\r\n",
        "#         'values': [0.0005]\r\n",
        "#       },\r\n",
        "#     'learn_rate': {\r\n",
        "#         'values': [1e-1]\r\n",
        "#       },\r\n",
        "#     'epochs': {\r\n",
        "#         'values': [10]\r\n",
        "#       },\r\n",
        "#     'batch_size': {\r\n",
        "#         'values': [32]\r\n",
        "#       },\r\n",
        "#     'init': {\r\n",
        "#         'values': ['xavier']\r\n",
        "#       },\r\n",
        "#     'optimizer': {\r\n",
        "#         'values': ['mom', 'nest']\r\n",
        "#       },\r\n",
        "#     'act': {\r\n",
        "#           'values': ['tanh']\r\n",
        "#       }\r\n",
        "# }\r\n",
        "\r\n",
        "# Parameters for fourth sweep\r\n",
        "# parameters_dict = {\r\n",
        "#     'networks':{\r\n",
        "#         'values': [1,2,3,6]\r\n",
        "#       },\r\n",
        "#     'alpha': {\r\n",
        "#         'values': [0.0005, 0.05]\r\n",
        "#       },\r\n",
        "#     'learn_rate': {\r\n",
        "#         'values': [1e-1]\r\n",
        "#       },\r\n",
        "#     'epochs': {\r\n",
        "#         'values': [7,10]\r\n",
        "#       },\r\n",
        "#     'batch_size': {\r\n",
        "#         'values': [16,32]\r\n",
        "#       },\r\n",
        "#     'init': {\r\n",
        "#         'values': ['xavier']\r\n",
        "#       },\r\n",
        "#     'optimizer': {\r\n",
        "#         'values': ['mom', 'nest']\r\n",
        "#       },\r\n",
        "#     'act': {\r\n",
        "#           'values': ['tanh']\r\n",
        "#       }\r\n",
        "# }\r\n",
        "\r\n",
        "# Parameters for fifth sweep\r\n",
        "# parameters_dict = {\r\n",
        "#     'networks':{\r\n",
        "#         'values': [3,6]\r\n",
        "#       },\r\n",
        "#     'alpha': {\r\n",
        "#         'values': [0.0005]\r\n",
        "#       },\r\n",
        "#     'learn_rate': {\r\n",
        "#         'values': [1e-1,1e-2]\r\n",
        "#       },\r\n",
        "#     'epochs': {\r\n",
        "#         'values': [15]\r\n",
        "#       },\r\n",
        "#     'batch_size': {\r\n",
        "#         'values': [64,32]\r\n",
        "#       },\r\n",
        "#     'init': {\r\n",
        "#         'values': ['xavier']\r\n",
        "#       },\r\n",
        "#     'optimizer': {\r\n",
        "#         'values': ['mom', 'nest','adam']\r\n",
        "#       },\r\n",
        "#     'act': {\r\n",
        "#           'values': ['tanh']\r\n",
        "#       }\r\n",
        "# }\r\n",
        "\r\n",
        "sweep_config['parameters'] = parameters_dict\r\n",
        "pprint.pprint(sweep_config)\r\n",
        "\r\n",
        "def training_sweep(config=None):\r\n",
        "    with wandb.init(config=config):\r\n",
        "        config = wandb.config\r\n",
        "        network = [[X_train.shape[0],64,32,16,len(classes)],\r\n",
        "                   [X_train.shape[0],32,32,32,len(classes)],\r\n",
        "                   [X_train.shape[0],64,64,64,len(classes)],\r\n",
        "                   [X_train.shape[0],128,64,32,16,len(classes)],\r\n",
        "                   [X_train.shape[0],32,32,32,32,len(classes)],\r\n",
        "                   [X_train.shape[0],64,64,64,64,len(classes)],\r\n",
        "                   [X_train.shape[0],256,128,64,32,16,len(classes)],\r\n",
        "                   [X_train.shape[0],32,32,32,32,32,len(classes)],\r\n",
        "                   [X_train.shape[0],64,64,64,64,64,len(classes)]]\r\n",
        "        global N\r\n",
        "        N = network[config.networks]\r\n",
        "        global l\r\n",
        "        l = len(N)-1\r\n",
        "        wandb.log({\"Structure\": N})\r\n",
        "        if config.optimizer == 'sgd':\r\n",
        "          gradient_descent(config.epochs, config.learn_rate, config.batch_size, config.act, config.init, N, config.alpha)\r\n",
        "        if config.optimizer == 'mom':\r\n",
        "          mom_grad_descent(config.epochs, config.learn_rate, 0.9, config.batch_size, config.act, config.init, N, config.alpha)\r\n",
        "        if config.optimizer == 'nest':\r\n",
        "          nesterov_grad_descent(config.epochs, config.learn_rate, 0.9, config.batch_size, config.act, config.init, N, config.alpha)\r\n",
        "        if config.optimizer == 'rms':\r\n",
        "          rms_prop(config.epochs, config.learn_rate, 0.9, 10**-8,config.batch_size, config.act, config.init, N, config.alpha)\r\n",
        "        if config.optimizer == 'adam':\r\n",
        "          adam(config.epochs, config.learn_rate, 0.9, 0.99, 10**-8,config.batch_size, config.act, config.init, N, config.alpha)\r\n",
        "        if config.optimizer == 'nadam':\r\n",
        "          nadam(config.epochs, config.learn_rate, 0.9, 0.99, 10**-8,config.batch_size, config.act, config.init, N, config.alpha)"
      ],
      "execution_count": null,
      "outputs": []
    },
    {
      "cell_type": "markdown",
      "metadata": {
        "id": "i7d4H6SczW0E"
      },
      "source": [
        "Running the hyperparameter sweep"
      ]
    },
    {
      "cell_type": "code",
      "metadata": {
        "id": "zmT81TCgpL7Q"
      },
      "source": [
        "sweep_id = wandb.sweep(sweep_config, project=\"CS6910-assg1\")\n",
        "wandb.agent(sweep_id, training_sweep)"
      ],
      "execution_count": null,
      "outputs": []
    },
    {
      "cell_type": "markdown",
      "metadata": {
        "id": "AVuSZS3O0dzu"
      },
      "source": [
        "**Question 7**\n",
        "\n",
        "Plotting the confusion matrix on wandb"
      ]
    },
    {
      "cell_type": "code",
      "metadata": {
        "id": "Uqig7ERO0j-R"
      },
      "source": [
        "y_hat = feedforward(X_test, W, b, N, l, act)[2]\n",
        "y_predict = np.argmax(y_hat,axis=0).reshape([1,X.shape[1]])\n",
        "wandb.log({\"conf_mat\" : wandb.plot.confusion_matrix(probs=None, y_true=Y_true, preds=y_predict,class_names=classes})"
      ],
      "execution_count": null,
      "outputs": []
    },
    {
      "cell_type": "markdown",
      "metadata": {
        "id": "9_B_zmDl0tn6"
      },
      "source": [
        "**Question 8**\n",
        "\n",
        "Squared error loss for the best model\n",
        "\n",
        "(Modify arguments passed to the *Loss* and *dLoss* functions in the *backprop* and *loss_and_accuracy* functions)"
      ]
    },
    {
      "cell_type": "code",
      "metadata": {
        "id": "YF_iDuq20zsA"
      },
      "source": [
        "# Parameters for the best model\n",
        "parameters_dict = {\n",
        "    'networks':{\n",
        "        'values': [3,6]\n",
        "      },\n",
        "    'alpha': {\n",
        "        'values': [0.0005]\n",
        "      },\n",
        "    'learn_rate': {\n",
        "        'values': [1e-1,1e-2]\n",
        "      },\n",
        "    'epochs': {\n",
        "        'values': [15]\n",
        "      },\n",
        "    'batch_size': {\n",
        "        'values': [64,32]\n",
        "      },\n",
        "    'init': {\n",
        "        'values': ['xavier']\n",
        "      },\n",
        "    'optimizer': {\n",
        "        'values': ['mom', 'nest','adam']\n",
        "      },\n",
        "    'act': {\n",
        "          'values': ['tanh']\n",
        "      }\n",
        "}\n",
        "sweep_config['parameters'] = parameters_dict\n",
        "sweep_id = wandb.sweep(sweep_config, project=\"CS6910-assg1\")\n",
        "wandb.agent(sweep_id, training_sweep)"
      ],
      "execution_count": null,
      "outputs": []
    },
    {
      "cell_type": "markdown",
      "metadata": {
        "id": "1EertFBi_rGc"
      },
      "source": [
        "**Question 10**\n",
        "\n",
        "Loading and running three hyperparameter models for the MNIST dataset"
      ]
    },
    {
      "cell_type": "code",
      "metadata": {
        "id": "SkTPVE_2A265"
      },
      "source": [
        "X_train_mnist, Y_train_mnist, X_validation_mnist, Y_validation_mnist, X_test_mnist, Y_test_mnist = load_data('mnist')\n",
        "\n",
        "# Parameters for the mnist dataset\n",
        "parameters_dict = {\n",
        "    'networks':{\n",
        "        'values': [3,6]\n",
        "      },\n",
        "    'alpha': {\n",
        "        'values': [0.0005]\n",
        "      },\n",
        "    'learn_rate': {\n",
        "        'values': [1e-1,1e-2]\n",
        "      },\n",
        "    'epochs': {\n",
        "        'values': [15]\n",
        "      },\n",
        "    'batch_size': {\n",
        "        'values': [64,32]\n",
        "      },\n",
        "    'init': {\n",
        "        'values': ['xavier']\n",
        "      },\n",
        "    'optimizer': {\n",
        "        'values': ['mom', 'nest','adam']\n",
        "      },\n",
        "    'act': {\n",
        "          'values': ['tanh']\n",
        "      }\n",
        "}\n",
        "sweep_config['parameters'] = parameters_dict\n",
        "sweep_id = wandb.sweep(sweep_config, project=\"CS6910-assg1\")\n",
        "wandb.agent(sweep_id, training_sweep)"
      ],
      "execution_count": null,
      "outputs": []
    }
  ]
}